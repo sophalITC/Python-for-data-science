{
 "cells": [
  {
   "cell_type": "markdown",
   "metadata": {},
   "source": [
    "### 1. Importing Libraries "
   ]
  },
  {
   "cell_type": "code",
   "execution_count": 1,
   "metadata": {},
   "outputs": [],
   "source": [
    "# 'os' module provides functions for interacting with the operating system \n",
    "import os\n",
    "\n",
    "# 'Numpy' is used for mathematical operations on large, multi-dimensional arrays and matrices\n",
    "import numpy as np\n",
    "\n",
    "# 'Pandas' is used for data manipulation and analysis\n",
    "import pandas as pd\n",
    "\n",
    "# 'Matplotlib' is a data visualization library for 2D and 3D plots, built on numpy\n",
    "from matplotlib import pyplot as plt\n",
    "%matplotlib inline\n",
    "\n",
    "# 'Seaborn' is based on matplotlib; used for plotting statistical graphics\n",
    "import seaborn as sns\n",
    "\n",
    "# to suppress warnings\n",
    "import warnings\n",
    "warnings.filterwarnings(\"ignore\") "
   ]
  },
  {
   "cell_type": "markdown",
   "metadata": {},
   "source": [
    "### 2. Importing and Exploration of the dataset"
   ]
  },
  {
   "cell_type": "code",
   "execution_count": 2,
   "metadata": {},
   "outputs": [],
   "source": [
    "# loading the data and setting the unique client_id as the index::\n",
    "\n",
    "df = pd.read_csv('loans.csv', index_col = 'client_id')"
   ]
  },
  {
   "cell_type": "code",
   "execution_count": 3,
   "metadata": {
    "scrolled": true
   },
   "outputs": [
    {
     "data": {
      "text/html": [
       "<div>\n",
       "<style scoped>\n",
       "    .dataframe tbody tr th:only-of-type {\n",
       "        vertical-align: middle;\n",
       "    }\n",
       "\n",
       "    .dataframe tbody tr th {\n",
       "        vertical-align: top;\n",
       "    }\n",
       "\n",
       "    .dataframe thead th {\n",
       "        text-align: right;\n",
       "    }\n",
       "</style>\n",
       "<table border=\"1\" class=\"dataframe\">\n",
       "  <thead>\n",
       "    <tr style=\"text-align: right;\">\n",
       "      <th></th>\n",
       "      <th>loan_type</th>\n",
       "      <th>loan_amount</th>\n",
       "      <th>repaid</th>\n",
       "      <th>loan_id</th>\n",
       "      <th>loan_start</th>\n",
       "      <th>loan_end</th>\n",
       "      <th>rate</th>\n",
       "    </tr>\n",
       "    <tr>\n",
       "      <th>client_id</th>\n",
       "      <th></th>\n",
       "      <th></th>\n",
       "      <th></th>\n",
       "      <th></th>\n",
       "      <th></th>\n",
       "      <th></th>\n",
       "      <th></th>\n",
       "    </tr>\n",
       "  </thead>\n",
       "  <tbody>\n",
       "    <tr>\n",
       "      <th>46109</th>\n",
       "      <td>home</td>\n",
       "      <td>13672</td>\n",
       "      <td>0</td>\n",
       "      <td>10243</td>\n",
       "      <td>2002-04-16</td>\n",
       "      <td>2003-12-20</td>\n",
       "      <td>2.15</td>\n",
       "    </tr>\n",
       "    <tr>\n",
       "      <th>46109</th>\n",
       "      <td>credit</td>\n",
       "      <td>9794</td>\n",
       "      <td>0</td>\n",
       "      <td>10984</td>\n",
       "      <td>2003-10-21</td>\n",
       "      <td>2005-07-17</td>\n",
       "      <td>1.25</td>\n",
       "    </tr>\n",
       "    <tr>\n",
       "      <th>46109</th>\n",
       "      <td>home</td>\n",
       "      <td>12734</td>\n",
       "      <td>1</td>\n",
       "      <td>10990</td>\n",
       "      <td>2006-02-01</td>\n",
       "      <td>2007-07-05</td>\n",
       "      <td>0.68</td>\n",
       "    </tr>\n",
       "    <tr>\n",
       "      <th>46109</th>\n",
       "      <td>cash</td>\n",
       "      <td>12518</td>\n",
       "      <td>1</td>\n",
       "      <td>10596</td>\n",
       "      <td>2010-12-08</td>\n",
       "      <td>2013-05-05</td>\n",
       "      <td>1.24</td>\n",
       "    </tr>\n",
       "    <tr>\n",
       "      <th>46109</th>\n",
       "      <td>credit</td>\n",
       "      <td>14049</td>\n",
       "      <td>1</td>\n",
       "      <td>11415</td>\n",
       "      <td>2010-07-07</td>\n",
       "      <td>2012-05-21</td>\n",
       "      <td>3.13</td>\n",
       "    </tr>\n",
       "  </tbody>\n",
       "</table>\n",
       "</div>"
      ],
      "text/plain": [
       "          loan_type  loan_amount  repaid  loan_id  loan_start    loan_end  \\\n",
       "client_id                                                                   \n",
       "46109          home        13672       0    10243  2002-04-16  2003-12-20   \n",
       "46109        credit         9794       0    10984  2003-10-21  2005-07-17   \n",
       "46109          home        12734       1    10990  2006-02-01  2007-07-05   \n",
       "46109          cash        12518       1    10596  2010-12-08  2013-05-05   \n",
       "46109        credit        14049       1    11415  2010-07-07  2012-05-21   \n",
       "\n",
       "           rate  \n",
       "client_id        \n",
       "46109      2.15  \n",
       "46109      1.25  \n",
       "46109      0.68  \n",
       "46109      1.24  \n",
       "46109      3.13  "
      ]
     },
     "execution_count": 3,
     "metadata": {},
     "output_type": "execute_result"
    }
   ],
   "source": [
    "# # showing the first 5 rows of the dataset:\n",
    "df.head()"
   ]
  },
  {
   "cell_type": "code",
   "execution_count": 4,
   "metadata": {},
   "outputs": [
    {
     "data": {
      "text/plain": [
       "(443, 7)"
      ]
     },
     "execution_count": 4,
     "metadata": {},
     "output_type": "execute_result"
    }
   ],
   "source": [
    "# To check the Dimensions of the dataset:\n",
    "df.shape"
   ]
  },
  {
   "cell_type": "code",
   "execution_count": 5,
   "metadata": {},
   "outputs": [
    {
     "name": "stdout",
     "output_type": "stream",
     "text": [
      "<class 'pandas.core.frame.DataFrame'>\n",
      "Int64Index: 443 entries, 46109 to 26945\n",
      "Data columns (total 7 columns):\n",
      " #   Column       Non-Null Count  Dtype  \n",
      "---  ------       --------------  -----  \n",
      " 0   loan_type    443 non-null    object \n",
      " 1   loan_amount  443 non-null    int64  \n",
      " 2   repaid       443 non-null    int64  \n",
      " 3   loan_id      443 non-null    int64  \n",
      " 4   loan_start   443 non-null    object \n",
      " 5   loan_end     443 non-null    object \n",
      " 6   rate         443 non-null    float64\n",
      "dtypes: float64(1), int64(3), object(3)\n",
      "memory usage: 27.7+ KB\n"
     ]
    }
   ],
   "source": [
    "# Checking the info of the data:\n",
    "df.info()"
   ]
  },
  {
   "cell_type": "markdown",
   "metadata": {},
   "source": [
    "### 3. Checking the datatypes of the columns"
   ]
  },
  {
   "cell_type": "code",
   "execution_count": 6,
   "metadata": {},
   "outputs": [
    {
     "data": {
      "text/plain": [
       "loan_type       object\n",
       "loan_amount      int64\n",
       "repaid           int64\n",
       "loan_id          int64\n",
       "loan_start      object\n",
       "loan_end        object\n",
       "rate           float64\n",
       "dtype: object"
      ]
     },
     "execution_count": 6,
     "metadata": {},
     "output_type": "execute_result"
    }
   ],
   "source": [
    "df.dtypes"
   ]
  },
  {
   "cell_type": "markdown",
   "metadata": {},
   "source": [
    "### 4. Converting the data types of columns\n",
    "\n",
    "    - loan_id to object\n",
    "    - repaid to category dtype\n",
    "    - loan_start and loan_end to date type"
   ]
  },
  {
   "cell_type": "code",
   "execution_count": 7,
   "metadata": {},
   "outputs": [],
   "source": [
    "# loan_id:\n",
    "\n",
    "df['loan_id'] = df['loan_id'].astype('object')\n",
    "\n",
    "# repaid:\n",
    "\n",
    "df['repaid'] = df['repaid'].astype('category')"
   ]
  },
  {
   "cell_type": "code",
   "execution_count": 8,
   "metadata": {},
   "outputs": [],
   "source": [
    "# loan_start:\n",
    "\n",
    "df['loan_start'] = pd.to_datetime(df['loan_start'], format = '%Y-%m-%d')\n",
    "\n",
    "\n",
    "# loan_end:\n",
    "\n",
    "df['loan_end'] = pd.to_datetime(df['loan_end'], format = '%Y-%m-%d')"
   ]
  },
  {
   "cell_type": "markdown",
   "metadata": {},
   "source": [
    "#### Checking the datatypes again:"
   ]
  },
  {
   "cell_type": "code",
   "execution_count": 9,
   "metadata": {},
   "outputs": [
    {
     "data": {
      "text/plain": [
       "loan_type              object\n",
       "loan_amount             int64\n",
       "repaid               category\n",
       "loan_id                object\n",
       "loan_start     datetime64[ns]\n",
       "loan_end       datetime64[ns]\n",
       "rate                  float64\n",
       "dtype: object"
      ]
     },
     "execution_count": 9,
     "metadata": {},
     "output_type": "execute_result"
    }
   ],
   "source": [
    "df.dtypes"
   ]
  },
  {
   "cell_type": "markdown",
   "metadata": {},
   "source": [
    "### 5. Summary Statistics of the data"
   ]
  },
  {
   "cell_type": "code",
   "execution_count": 10,
   "metadata": {},
   "outputs": [
    {
     "data": {
      "text/html": [
       "<div>\n",
       "<style scoped>\n",
       "    .dataframe tbody tr th:only-of-type {\n",
       "        vertical-align: middle;\n",
       "    }\n",
       "\n",
       "    .dataframe tbody tr th {\n",
       "        vertical-align: top;\n",
       "    }\n",
       "\n",
       "    .dataframe thead th {\n",
       "        text-align: right;\n",
       "    }\n",
       "</style>\n",
       "<table border=\"1\" class=\"dataframe\">\n",
       "  <thead>\n",
       "    <tr style=\"text-align: right;\">\n",
       "      <th></th>\n",
       "      <th>loan_amount</th>\n",
       "      <th>rate</th>\n",
       "    </tr>\n",
       "  </thead>\n",
       "  <tbody>\n",
       "    <tr>\n",
       "      <th>count</th>\n",
       "      <td>443.000000</td>\n",
       "      <td>443.000000</td>\n",
       "    </tr>\n",
       "    <tr>\n",
       "      <th>mean</th>\n",
       "      <td>7982.311512</td>\n",
       "      <td>3.217156</td>\n",
       "    </tr>\n",
       "    <tr>\n",
       "      <th>std</th>\n",
       "      <td>4172.891992</td>\n",
       "      <td>2.397168</td>\n",
       "    </tr>\n",
       "    <tr>\n",
       "      <th>min</th>\n",
       "      <td>559.000000</td>\n",
       "      <td>0.010000</td>\n",
       "    </tr>\n",
       "    <tr>\n",
       "      <th>25%</th>\n",
       "      <td>4232.500000</td>\n",
       "      <td>1.220000</td>\n",
       "    </tr>\n",
       "    <tr>\n",
       "      <th>50%</th>\n",
       "      <td>8320.000000</td>\n",
       "      <td>2.780000</td>\n",
       "    </tr>\n",
       "    <tr>\n",
       "      <th>75%</th>\n",
       "      <td>11739.000000</td>\n",
       "      <td>4.750000</td>\n",
       "    </tr>\n",
       "    <tr>\n",
       "      <th>max</th>\n",
       "      <td>14971.000000</td>\n",
       "      <td>12.620000</td>\n",
       "    </tr>\n",
       "  </tbody>\n",
       "</table>\n",
       "</div>"
      ],
      "text/plain": [
       "        loan_amount        rate\n",
       "count    443.000000  443.000000\n",
       "mean    7982.311512    3.217156\n",
       "std     4172.891992    2.397168\n",
       "min      559.000000    0.010000\n",
       "25%     4232.500000    1.220000\n",
       "50%     8320.000000    2.780000\n",
       "75%    11739.000000    4.750000\n",
       "max    14971.000000   12.620000"
      ]
     },
     "execution_count": 10,
     "metadata": {},
     "output_type": "execute_result"
    }
   ],
   "source": [
    "# Summary Statistics for Numerical data:\n",
    "df.describe()"
   ]
  },
  {
   "cell_type": "code",
   "execution_count": 11,
   "metadata": {},
   "outputs": [
    {
     "data": {
      "text/html": [
       "<div>\n",
       "<style scoped>\n",
       "    .dataframe tbody tr th:only-of-type {\n",
       "        vertical-align: middle;\n",
       "    }\n",
       "\n",
       "    .dataframe tbody tr th {\n",
       "        vertical-align: top;\n",
       "    }\n",
       "\n",
       "    .dataframe thead th {\n",
       "        text-align: right;\n",
       "    }\n",
       "</style>\n",
       "<table border=\"1\" class=\"dataframe\">\n",
       "  <thead>\n",
       "    <tr style=\"text-align: right;\">\n",
       "      <th></th>\n",
       "      <th>loan_type</th>\n",
       "      <th>repaid</th>\n",
       "      <th>loan_id</th>\n",
       "      <th>loan_start</th>\n",
       "      <th>loan_end</th>\n",
       "    </tr>\n",
       "  </thead>\n",
       "  <tbody>\n",
       "    <tr>\n",
       "      <th>count</th>\n",
       "      <td>443</td>\n",
       "      <td>443.0</td>\n",
       "      <td>443.0</td>\n",
       "      <td>443</td>\n",
       "      <td>443</td>\n",
       "    </tr>\n",
       "    <tr>\n",
       "      <th>unique</th>\n",
       "      <td>4</td>\n",
       "      <td>2.0</td>\n",
       "      <td>443.0</td>\n",
       "      <td>430</td>\n",
       "      <td>428</td>\n",
       "    </tr>\n",
       "    <tr>\n",
       "      <th>top</th>\n",
       "      <td>home</td>\n",
       "      <td>1.0</td>\n",
       "      <td>10239.0</td>\n",
       "      <td>2006-01-19 00:00:00</td>\n",
       "      <td>2004-05-16 00:00:00</td>\n",
       "    </tr>\n",
       "    <tr>\n",
       "      <th>freq</th>\n",
       "      <td>121</td>\n",
       "      <td>237.0</td>\n",
       "      <td>1.0</td>\n",
       "      <td>2</td>\n",
       "      <td>2</td>\n",
       "    </tr>\n",
       "    <tr>\n",
       "      <th>first</th>\n",
       "      <td>NaN</td>\n",
       "      <td>NaN</td>\n",
       "      <td>NaN</td>\n",
       "      <td>2000-01-26 00:00:00</td>\n",
       "      <td>2001-08-02 00:00:00</td>\n",
       "    </tr>\n",
       "    <tr>\n",
       "      <th>last</th>\n",
       "      <td>NaN</td>\n",
       "      <td>NaN</td>\n",
       "      <td>NaN</td>\n",
       "      <td>2014-11-11 00:00:00</td>\n",
       "      <td>2017-05-07 00:00:00</td>\n",
       "    </tr>\n",
       "  </tbody>\n",
       "</table>\n",
       "</div>"
      ],
      "text/plain": [
       "       loan_type  repaid  loan_id           loan_start             loan_end\n",
       "count        443   443.0    443.0                  443                  443\n",
       "unique         4     2.0    443.0                  430                  428\n",
       "top         home     1.0  10239.0  2006-01-19 00:00:00  2004-05-16 00:00:00\n",
       "freq         121   237.0      1.0                    2                    2\n",
       "first        NaN     NaN      NaN  2000-01-26 00:00:00  2001-08-02 00:00:00\n",
       "last         NaN     NaN      NaN  2014-11-11 00:00:00  2017-05-07 00:00:00"
      ]
     },
     "execution_count": 11,
     "metadata": {},
     "output_type": "execute_result"
    }
   ],
   "source": [
    "# Summary Statistics for Categorical data:\n",
    "df.describe(exclude=[np.number])"
   ]
  },
  {
   "cell_type": "markdown",
   "metadata": {},
   "source": [
    "### 6. Missing Values"
   ]
  },
  {
   "cell_type": "code",
   "execution_count": 12,
   "metadata": {},
   "outputs": [
    {
     "data": {
      "text/plain": [
       "loan_type      0\n",
       "loan_amount    0\n",
       "repaid         0\n",
       "loan_id        0\n",
       "loan_start     0\n",
       "loan_end       0\n",
       "rate           0\n",
       "dtype: int64"
      ]
     },
     "execution_count": 12,
     "metadata": {},
     "output_type": "execute_result"
    }
   ],
   "source": [
    "# use isnull().sum() to check for missing values \n",
    "df.isnull().sum() "
   ]
  },
  {
   "cell_type": "markdown",
   "metadata": {},
   "source": [
    "There are no missing values in the data. \n",
    "\n",
    "Sk-learn library has an in-built function called Iterative Imputer to impute the missing values. Its sklearn domcumentation: https://scikit-learn.org/stable/modules/generated/sklearn.impute.IterativeImputer.html"
   ]
  },
  {
   "cell_type": "markdown",
   "metadata": {},
   "source": [
    "----------------"
   ]
  },
  {
   "cell_type": "markdown",
   "metadata": {},
   "source": [
    "### 7. Outliers Treatment\n",
    "\n",
    "To check for the presence of outliers, we plot Boxplot."
   ]
  },
  {
   "cell_type": "code",
   "execution_count": 13,
   "metadata": {},
   "outputs": [
    {
     "data": {
      "image/png": "[encoded data removed]",
      "text/plain": [
       "<Figure size 432x288 with 1 Axes>"
      ]
     },
     "metadata": {
      "needs_background": "light"
     },
     "output_type": "display_data"
    }
   ],
   "source": [
    "# For loan_amount \n",
    "df['loan_amount'].plot(kind='box')\n",
    "plt.show()"
   ]
  },
  {
   "cell_type": "code",
   "execution_count": 14,
   "metadata": {},
   "outputs": [
    {
     "data": {
      "image/png": "[encoded data removed]",
      "text/plain": [
       "<Figure size 432x288 with 1 Axes>"
      ]
     },
     "metadata": {
      "needs_background": "light"
     },
     "output_type": "display_data"
    }
   ],
   "source": [
    "# For rate \n",
    "df['rate'].plot(kind='box')\n",
    "plt.show()"
   ]
  },
  {
   "cell_type": "markdown",
   "metadata": {},
   "source": [
    "We can see that there are no outliers in the loan_amount column and some outliers are present in the rate column. To treat for outliers can either cap the values or transform the data. Shall demonstrate both the approaches here. "
   ]
  },
  {
   "cell_type": "markdown",
   "metadata": {},
   "source": [
    "### 8. Transformation\n",
    "\n",
    "### 8a. SQRT transformation "
   ]
  },
  {
   "cell_type": "code",
   "execution_count": 15,
   "metadata": {},
   "outputs": [],
   "source": [
    "df['SQRT_RATE'] = df['rate']**0.5"
   ]
  },
  {
   "cell_type": "code",
   "execution_count": 16,
   "metadata": {},
   "outputs": [],
   "source": [
    "df['sqrt_rate'] = np.sqrt(df['rate'])"
   ]
  },
  {
   "cell_type": "code",
   "execution_count": 17,
   "metadata": {},
   "outputs": [
    {
     "data": {
      "text/html": [
       "<div>\n",
       "<style scoped>\n",
       "    .dataframe tbody tr th:only-of-type {\n",
       "        vertical-align: middle;\n",
       "    }\n",
       "\n",
       "    .dataframe tbody tr th {\n",
       "        vertical-align: top;\n",
       "    }\n",
       "\n",
       "    .dataframe thead th {\n",
       "        text-align: right;\n",
       "    }\n",
       "</style>\n",
       "<table border=\"1\" class=\"dataframe\">\n",
       "  <thead>\n",
       "    <tr style=\"text-align: right;\">\n",
       "      <th></th>\n",
       "      <th>loan_type</th>\n",
       "      <th>loan_amount</th>\n",
       "      <th>repaid</th>\n",
       "      <th>loan_id</th>\n",
       "      <th>loan_start</th>\n",
       "      <th>loan_end</th>\n",
       "      <th>rate</th>\n",
       "      <th>SQRT_RATE</th>\n",
       "      <th>sqrt_rate</th>\n",
       "    </tr>\n",
       "    <tr>\n",
       "      <th>client_id</th>\n",
       "      <th></th>\n",
       "      <th></th>\n",
       "      <th></th>\n",
       "      <th></th>\n",
       "      <th></th>\n",
       "      <th></th>\n",
       "      <th></th>\n",
       "      <th></th>\n",
       "      <th></th>\n",
       "    </tr>\n",
       "  </thead>\n",
       "  <tbody>\n",
       "    <tr>\n",
       "      <th>46109</th>\n",
       "      <td>home</td>\n",
       "      <td>13672</td>\n",
       "      <td>0</td>\n",
       "      <td>10243</td>\n",
       "      <td>2002-04-16</td>\n",
       "      <td>2003-12-20</td>\n",
       "      <td>2.15</td>\n",
       "      <td>1.466288</td>\n",
       "      <td>1.466288</td>\n",
       "    </tr>\n",
       "    <tr>\n",
       "      <th>46109</th>\n",
       "      <td>credit</td>\n",
       "      <td>9794</td>\n",
       "      <td>0</td>\n",
       "      <td>10984</td>\n",
       "      <td>2003-10-21</td>\n",
       "      <td>2005-07-17</td>\n",
       "      <td>1.25</td>\n",
       "      <td>1.118034</td>\n",
       "      <td>1.118034</td>\n",
       "    </tr>\n",
       "    <tr>\n",
       "      <th>46109</th>\n",
       "      <td>home</td>\n",
       "      <td>12734</td>\n",
       "      <td>1</td>\n",
       "      <td>10990</td>\n",
       "      <td>2006-02-01</td>\n",
       "      <td>2007-07-05</td>\n",
       "      <td>0.68</td>\n",
       "      <td>0.824621</td>\n",
       "      <td>0.824621</td>\n",
       "    </tr>\n",
       "    <tr>\n",
       "      <th>46109</th>\n",
       "      <td>cash</td>\n",
       "      <td>12518</td>\n",
       "      <td>1</td>\n",
       "      <td>10596</td>\n",
       "      <td>2010-12-08</td>\n",
       "      <td>2013-05-05</td>\n",
       "      <td>1.24</td>\n",
       "      <td>1.113553</td>\n",
       "      <td>1.113553</td>\n",
       "    </tr>\n",
       "    <tr>\n",
       "      <th>46109</th>\n",
       "      <td>credit</td>\n",
       "      <td>14049</td>\n",
       "      <td>1</td>\n",
       "      <td>11415</td>\n",
       "      <td>2010-07-07</td>\n",
       "      <td>2012-05-21</td>\n",
       "      <td>3.13</td>\n",
       "      <td>1.769181</td>\n",
       "      <td>1.769181</td>\n",
       "    </tr>\n",
       "  </tbody>\n",
       "</table>\n",
       "</div>"
      ],
      "text/plain": [
       "          loan_type  loan_amount repaid loan_id loan_start   loan_end  rate  \\\n",
       "client_id                                                                     \n",
       "46109          home        13672      0   10243 2002-04-16 2003-12-20  2.15   \n",
       "46109        credit         9794      0   10984 2003-10-21 2005-07-17  1.25   \n",
       "46109          home        12734      1   10990 2006-02-01 2007-07-05  0.68   \n",
       "46109          cash        12518      1   10596 2010-12-08 2013-05-05  1.24   \n",
       "46109        credit        14049      1   11415 2010-07-07 2012-05-21  3.13   \n",
       "\n",
       "           SQRT_RATE  sqrt_rate  \n",
       "client_id                        \n",
       "46109       1.466288   1.466288  \n",
       "46109       1.118034   1.118034  \n",
       "46109       0.824621   0.824621  \n",
       "46109       1.113553   1.113553  \n",
       "46109       1.769181   1.769181  "
      ]
     },
     "execution_count": 17,
     "metadata": {},
     "output_type": "execute_result"
    }
   ],
   "source": [
    "df.head()"
   ]
  },
  {
   "cell_type": "code",
   "execution_count": 18,
   "metadata": {},
   "outputs": [
    {
     "name": "stdout",
     "output_type": "stream",
     "text": [
      "The skewness of the original data is 0.884204614329943\n",
      "The skewness of the SQRT transformed data is 0.04964154055528862\n",
      "\n",
      "The kurtosis of the original data is 0.4243716514373652\n",
      "The kurtosis of the SQRT transformed data is -0.6318437642052039\n"
     ]
    }
   ],
   "source": [
    "#checking the skewness, kurtosis between the original and transformed data:\n",
    "print(\"The skewness of the original data is {}\".format(df.rate.skew()))\n",
    "print('The skewness of the SQRT transformed data is {}'.format(df.SQRT_RATE.skew()))\n",
    "\n",
    "print('')\n",
    "\n",
    "print(\"The kurtosis of the original data is {}\".format(df.rate.kurt()))\n",
    "print(\"The kurtosis of the SQRT transformed data is {}\".format(df.SQRT_RATE.kurt()))"
   ]
  },
  {
   "cell_type": "code",
   "execution_count": 19,
   "metadata": {},
   "outputs": [
    {
     "data": {
      "image/png": "[encoded data removed]",
      "text/plain": [
       "<Figure size 1080x360 with 2 Axes>"
      ]
     },
     "metadata": {
      "needs_background": "light"
     },
     "output_type": "display_data"
    }
   ],
   "source": [
    "# plotting the distribution\n",
    "\n",
    "fig, axes = plt.subplots(1,2, figsize=(15,5))\n",
    "sns.distplot(df['rate'], ax=axes[0])\n",
    "sns.distplot(df['sqrt_rate'], ax=axes[1])\n",
    "\n",
    "plt.show()\n"
   ]
  },
  {
   "cell_type": "markdown",
   "metadata": {},
   "source": [
    "### Result:\n",
    "\n",
    "The Rate column was right skewed earlier. The skewness and kurtosis as reduced significantly. The transformed SQRT rate, on the right graph resembles normal distribution now."
   ]
  },
  {
   "cell_type": "markdown",
   "metadata": {},
   "source": [
    "### 8b. Log Transformation"
   ]
  },
  {
   "cell_type": "code",
   "execution_count": 20,
   "metadata": {},
   "outputs": [],
   "source": [
    "df['Log Rate'] = np.log(df['rate'])"
   ]
  },
  {
   "cell_type": "code",
   "execution_count": 21,
   "metadata": {},
   "outputs": [
    {
     "data": {
      "text/html": [
       "<div>\n",
       "<style scoped>\n",
       "    .dataframe tbody tr th:only-of-type {\n",
       "        vertical-align: middle;\n",
       "    }\n",
       "\n",
       "    .dataframe tbody tr th {\n",
       "        vertical-align: top;\n",
       "    }\n",
       "\n",
       "    .dataframe thead th {\n",
       "        text-align: right;\n",
       "    }\n",
       "</style>\n",
       "<table border=\"1\" class=\"dataframe\">\n",
       "  <thead>\n",
       "    <tr style=\"text-align: right;\">\n",
       "      <th></th>\n",
       "      <th>loan_type</th>\n",
       "      <th>loan_amount</th>\n",
       "      <th>repaid</th>\n",
       "      <th>loan_id</th>\n",
       "      <th>loan_start</th>\n",
       "      <th>loan_end</th>\n",
       "      <th>rate</th>\n",
       "      <th>SQRT_RATE</th>\n",
       "      <th>sqrt_rate</th>\n",
       "      <th>Log Rate</th>\n",
       "    </tr>\n",
       "    <tr>\n",
       "      <th>client_id</th>\n",
       "      <th></th>\n",
       "      <th></th>\n",
       "      <th></th>\n",
       "      <th></th>\n",
       "      <th></th>\n",
       "      <th></th>\n",
       "      <th></th>\n",
       "      <th></th>\n",
       "      <th></th>\n",
       "      <th></th>\n",
       "    </tr>\n",
       "  </thead>\n",
       "  <tbody>\n",
       "    <tr>\n",
       "      <th>46109</th>\n",
       "      <td>home</td>\n",
       "      <td>13672</td>\n",
       "      <td>0</td>\n",
       "      <td>10243</td>\n",
       "      <td>2002-04-16</td>\n",
       "      <td>2003-12-20</td>\n",
       "      <td>2.15</td>\n",
       "      <td>1.466288</td>\n",
       "      <td>1.466288</td>\n",
       "      <td>0.765468</td>\n",
       "    </tr>\n",
       "    <tr>\n",
       "      <th>46109</th>\n",
       "      <td>credit</td>\n",
       "      <td>9794</td>\n",
       "      <td>0</td>\n",
       "      <td>10984</td>\n",
       "      <td>2003-10-21</td>\n",
       "      <td>2005-07-17</td>\n",
       "      <td>1.25</td>\n",
       "      <td>1.118034</td>\n",
       "      <td>1.118034</td>\n",
       "      <td>0.223144</td>\n",
       "    </tr>\n",
       "    <tr>\n",
       "      <th>46109</th>\n",
       "      <td>home</td>\n",
       "      <td>12734</td>\n",
       "      <td>1</td>\n",
       "      <td>10990</td>\n",
       "      <td>2006-02-01</td>\n",
       "      <td>2007-07-05</td>\n",
       "      <td>0.68</td>\n",
       "      <td>0.824621</td>\n",
       "      <td>0.824621</td>\n",
       "      <td>-0.385662</td>\n",
       "    </tr>\n",
       "    <tr>\n",
       "      <th>46109</th>\n",
       "      <td>cash</td>\n",
       "      <td>12518</td>\n",
       "      <td>1</td>\n",
       "      <td>10596</td>\n",
       "      <td>2010-12-08</td>\n",
       "      <td>2013-05-05</td>\n",
       "      <td>1.24</td>\n",
       "      <td>1.113553</td>\n",
       "      <td>1.113553</td>\n",
       "      <td>0.215111</td>\n",
       "    </tr>\n",
       "    <tr>\n",
       "      <th>46109</th>\n",
       "      <td>credit</td>\n",
       "      <td>14049</td>\n",
       "      <td>1</td>\n",
       "      <td>11415</td>\n",
       "      <td>2010-07-07</td>\n",
       "      <td>2012-05-21</td>\n",
       "      <td>3.13</td>\n",
       "      <td>1.769181</td>\n",
       "      <td>1.769181</td>\n",
       "      <td>1.141033</td>\n",
       "    </tr>\n",
       "  </tbody>\n",
       "</table>\n",
       "</div>"
      ],
      "text/plain": [
       "          loan_type  loan_amount repaid loan_id loan_start   loan_end  rate  \\\n",
       "client_id                                                                     \n",
       "46109          home        13672      0   10243 2002-04-16 2003-12-20  2.15   \n",
       "46109        credit         9794      0   10984 2003-10-21 2005-07-17  1.25   \n",
       "46109          home        12734      1   10990 2006-02-01 2007-07-05  0.68   \n",
       "46109          cash        12518      1   10596 2010-12-08 2013-05-05  1.24   \n",
       "46109        credit        14049      1   11415 2010-07-07 2012-05-21  3.13   \n",
       "\n",
       "           SQRT_RATE  sqrt_rate  Log Rate  \n",
       "client_id                                  \n",
       "46109       1.466288   1.466288  0.765468  \n",
       "46109       1.118034   1.118034  0.223144  \n",
       "46109       0.824621   0.824621 -0.385662  \n",
       "46109       1.113553   1.113553  0.215111  \n",
       "46109       1.769181   1.769181  1.141033  "
      ]
     },
     "execution_count": 21,
     "metadata": {},
     "output_type": "execute_result"
    }
   ],
   "source": [
    "df.head()"
   ]
  },
  {
   "cell_type": "code",
   "execution_count": 22,
   "metadata": {},
   "outputs": [
    {
     "name": "stdout",
     "output_type": "stream",
     "text": [
      "The skewness of the original data is 0.884204614329943\n",
      "The skewness of the SQRT transformed data is 0.04964154055528862\n",
      "The skewnss of the LOG transformed data is -1.5943217626331552\n",
      "\n",
      "The kurtosis of the original data is 0.4243716514373652\n",
      "The kurtosis of the SQRT transformed data is -0.6318437642052039\n",
      "The kurtosis of the LOG transformed data is 4.157026150198228\n"
     ]
    }
   ],
   "source": [
    "print(\"The skewness of the original data is {}\".format(df.rate.skew()))\n",
    "print('The skewness of the SQRT transformed data is {}'.format(df.SQRT_RATE.skew()))\n",
    "print(\"The skewnss of the LOG transformed data is {}\".format(df['Log Rate'].skew()))\n",
    "\n",
    "print('')\n",
    "\n",
    "\n",
    "print(\"The kurtosis of the original data is {}\".format(df.rate.kurt()))\n",
    "print(\"The kurtosis of the SQRT transformed data is {}\".format(df.SQRT_RATE.kurt()))\n",
    "print(\"The kurtosis of the LOG transformed data is {}\".format(df['Log Rate'].kurt()))"
   ]
  },
  {
   "cell_type": "code",
   "execution_count": 23,
   "metadata": {},
   "outputs": [
    {
     "data": {
      "image/png": "[encoded data removed]",
      "text/plain": [
       "<Figure size 1080x360 with 3 Axes>"
      ]
     },
     "metadata": {
      "needs_background": "light"
     },
     "output_type": "display_data"
    }
   ],
   "source": [
    "# plot the graph:\n",
    "\n",
    "fig, axes = plt.subplots(1,3,figsize=(15,5))\n",
    "\n",
    "sns.distplot(df['rate'], ax=axes[0])\n",
    "sns.distplot(df['SQRT_RATE'], ax=axes[1])\n",
    "sns.distplot(df['Log Rate'], ax=axes[2])\n",
    "\n",
    "plt.show()"
   ]
  },
  {
   "cell_type": "markdown",
   "metadata": {},
   "source": [
    "### Inference:\n",
    "\n",
    "Log Transformation made the rate left skewed and more peaked.\n",
    "\n",
    "However, Log transformation is more closer to 0 and hence is more normal. Though it heavily maniupulates the data.\n",
    "\n",
    "In our case, square root transformation is more suitable. "
   ]
  },
  {
   "cell_type": "code",
   "execution_count": 24,
   "metadata": {},
   "outputs": [],
   "source": [
    "## Using Lambda function :\n",
    "\n",
    "df['LOG_Rate'] = df['rate'].apply(lambda x:np.log(x))"
   ]
  },
  {
   "cell_type": "code",
   "execution_count": 25,
   "metadata": {
    "scrolled": true
   },
   "outputs": [
    {
     "data": {
      "text/html": [
       "<div>\n",
       "<style scoped>\n",
       "    .dataframe tbody tr th:only-of-type {\n",
       "        vertical-align: middle;\n",
       "    }\n",
       "\n",
       "    .dataframe tbody tr th {\n",
       "        vertical-align: top;\n",
       "    }\n",
       "\n",
       "    .dataframe thead th {\n",
       "        text-align: right;\n",
       "    }\n",
       "</style>\n",
       "<table border=\"1\" class=\"dataframe\">\n",
       "  <thead>\n",
       "    <tr style=\"text-align: right;\">\n",
       "      <th></th>\n",
       "      <th>loan_type</th>\n",
       "      <th>loan_amount</th>\n",
       "      <th>repaid</th>\n",
       "      <th>loan_id</th>\n",
       "      <th>loan_start</th>\n",
       "      <th>loan_end</th>\n",
       "      <th>rate</th>\n",
       "      <th>SQRT_RATE</th>\n",
       "      <th>sqrt_rate</th>\n",
       "      <th>Log Rate</th>\n",
       "      <th>LOG_Rate</th>\n",
       "    </tr>\n",
       "    <tr>\n",
       "      <th>client_id</th>\n",
       "      <th></th>\n",
       "      <th></th>\n",
       "      <th></th>\n",
       "      <th></th>\n",
       "      <th></th>\n",
       "      <th></th>\n",
       "      <th></th>\n",
       "      <th></th>\n",
       "      <th></th>\n",
       "      <th></th>\n",
       "      <th></th>\n",
       "    </tr>\n",
       "  </thead>\n",
       "  <tbody>\n",
       "    <tr>\n",
       "      <th>46109</th>\n",
       "      <td>home</td>\n",
       "      <td>13672</td>\n",
       "      <td>0</td>\n",
       "      <td>10243</td>\n",
       "      <td>2002-04-16</td>\n",
       "      <td>2003-12-20</td>\n",
       "      <td>2.15</td>\n",
       "      <td>1.466288</td>\n",
       "      <td>1.466288</td>\n",
       "      <td>0.765468</td>\n",
       "      <td>0.765468</td>\n",
       "    </tr>\n",
       "    <tr>\n",
       "      <th>46109</th>\n",
       "      <td>credit</td>\n",
       "      <td>9794</td>\n",
       "      <td>0</td>\n",
       "      <td>10984</td>\n",
       "      <td>2003-10-21</td>\n",
       "      <td>2005-07-17</td>\n",
       "      <td>1.25</td>\n",
       "      <td>1.118034</td>\n",
       "      <td>1.118034</td>\n",
       "      <td>0.223144</td>\n",
       "      <td>0.223144</td>\n",
       "    </tr>\n",
       "    <tr>\n",
       "      <th>46109</th>\n",
       "      <td>home</td>\n",
       "      <td>12734</td>\n",
       "      <td>1</td>\n",
       "      <td>10990</td>\n",
       "      <td>2006-02-01</td>\n",
       "      <td>2007-07-05</td>\n",
       "      <td>0.68</td>\n",
       "      <td>0.824621</td>\n",
       "      <td>0.824621</td>\n",
       "      <td>-0.385662</td>\n",
       "      <td>-0.385662</td>\n",
       "    </tr>\n",
       "    <tr>\n",
       "      <th>46109</th>\n",
       "      <td>cash</td>\n",
       "      <td>12518</td>\n",
       "      <td>1</td>\n",
       "      <td>10596</td>\n",
       "      <td>2010-12-08</td>\n",
       "      <td>2013-05-05</td>\n",
       "      <td>1.24</td>\n",
       "      <td>1.113553</td>\n",
       "      <td>1.113553</td>\n",
       "      <td>0.215111</td>\n",
       "      <td>0.215111</td>\n",
       "    </tr>\n",
       "    <tr>\n",
       "      <th>46109</th>\n",
       "      <td>credit</td>\n",
       "      <td>14049</td>\n",
       "      <td>1</td>\n",
       "      <td>11415</td>\n",
       "      <td>2010-07-07</td>\n",
       "      <td>2012-05-21</td>\n",
       "      <td>3.13</td>\n",
       "      <td>1.769181</td>\n",
       "      <td>1.769181</td>\n",
       "      <td>1.141033</td>\n",
       "      <td>1.141033</td>\n",
       "    </tr>\n",
       "  </tbody>\n",
       "</table>\n",
       "</div>"
      ],
      "text/plain": [
       "          loan_type  loan_amount repaid loan_id loan_start   loan_end  rate  \\\n",
       "client_id                                                                     \n",
       "46109          home        13672      0   10243 2002-04-16 2003-12-20  2.15   \n",
       "46109        credit         9794      0   10984 2003-10-21 2005-07-17  1.25   \n",
       "46109          home        12734      1   10990 2006-02-01 2007-07-05  0.68   \n",
       "46109          cash        12518      1   10596 2010-12-08 2013-05-05  1.24   \n",
       "46109        credit        14049      1   11415 2010-07-07 2012-05-21  3.13   \n",
       "\n",
       "           SQRT_RATE  sqrt_rate  Log Rate  LOG_Rate  \n",
       "client_id                                            \n",
       "46109       1.466288   1.466288  0.765468  0.765468  \n",
       "46109       1.118034   1.118034  0.223144  0.223144  \n",
       "46109       0.824621   0.824621 -0.385662 -0.385662  \n",
       "46109       1.113553   1.113553  0.215111  0.215111  \n",
       "46109       1.769181   1.769181  1.141033  1.141033  "
      ]
     },
     "execution_count": 25,
     "metadata": {},
     "output_type": "execute_result"
    }
   ],
   "source": [
    "df.head()"
   ]
  },
  {
   "cell_type": "markdown",
   "metadata": {},
   "source": [
    "There are other transformations available also called BoxCox. There is an inbuilt function in Sci-kit Learn library called PowerTransformer for this which can also be called to transform the data. We'll see how it works below. Its sklearn domcumentation: https://scikit-learn.org/stable/modules/generated/sklearn.preprocessing.power_transform.html\n"
   ]
  },
  {
   "cell_type": "markdown",
   "metadata": {},
   "source": [
    "-----------"
   ]
  },
  {
   "cell_type": "markdown",
   "metadata": {},
   "source": [
    "### Outliers Treatment using Capping Approach\n",
    "\n",
    "### 1) Z-Score approach to treat Outliers:\n",
    "\n",
    "All the values above 3 standard deviation and below -3 standard deviation are outliers and can be removed"
   ]
  },
  {
   "cell_type": "code",
   "execution_count": 26,
   "metadata": {},
   "outputs": [
    {
     "data": {
      "text/html": [
       "<div>\n",
       "<style scoped>\n",
       "    .dataframe tbody tr th:only-of-type {\n",
       "        vertical-align: middle;\n",
       "    }\n",
       "\n",
       "    .dataframe tbody tr th {\n",
       "        vertical-align: top;\n",
       "    }\n",
       "\n",
       "    .dataframe thead th {\n",
       "        text-align: right;\n",
       "    }\n",
       "</style>\n",
       "<table border=\"1\" class=\"dataframe\">\n",
       "  <thead>\n",
       "    <tr style=\"text-align: right;\">\n",
       "      <th></th>\n",
       "      <th>loan_type</th>\n",
       "      <th>loan_amount</th>\n",
       "      <th>repaid</th>\n",
       "      <th>loan_id</th>\n",
       "      <th>loan_start</th>\n",
       "      <th>loan_end</th>\n",
       "      <th>rate</th>\n",
       "    </tr>\n",
       "    <tr>\n",
       "      <th>client_id</th>\n",
       "      <th></th>\n",
       "      <th></th>\n",
       "      <th></th>\n",
       "      <th></th>\n",
       "      <th></th>\n",
       "      <th></th>\n",
       "      <th></th>\n",
       "    </tr>\n",
       "  </thead>\n",
       "  <tbody>\n",
       "    <tr>\n",
       "      <th>46109</th>\n",
       "      <td>home</td>\n",
       "      <td>13672</td>\n",
       "      <td>0</td>\n",
       "      <td>10243</td>\n",
       "      <td>2002-04-16</td>\n",
       "      <td>2003-12-20</td>\n",
       "      <td>2.15</td>\n",
       "    </tr>\n",
       "    <tr>\n",
       "      <th>46109</th>\n",
       "      <td>credit</td>\n",
       "      <td>9794</td>\n",
       "      <td>0</td>\n",
       "      <td>10984</td>\n",
       "      <td>2003-10-21</td>\n",
       "      <td>2005-07-17</td>\n",
       "      <td>1.25</td>\n",
       "    </tr>\n",
       "    <tr>\n",
       "      <th>46109</th>\n",
       "      <td>home</td>\n",
       "      <td>12734</td>\n",
       "      <td>1</td>\n",
       "      <td>10990</td>\n",
       "      <td>2006-02-01</td>\n",
       "      <td>2007-07-05</td>\n",
       "      <td>0.68</td>\n",
       "    </tr>\n",
       "    <tr>\n",
       "      <th>46109</th>\n",
       "      <td>cash</td>\n",
       "      <td>12518</td>\n",
       "      <td>1</td>\n",
       "      <td>10596</td>\n",
       "      <td>2010-12-08</td>\n",
       "      <td>2013-05-05</td>\n",
       "      <td>1.24</td>\n",
       "    </tr>\n",
       "    <tr>\n",
       "      <th>46109</th>\n",
       "      <td>credit</td>\n",
       "      <td>14049</td>\n",
       "      <td>1</td>\n",
       "      <td>11415</td>\n",
       "      <td>2010-07-07</td>\n",
       "      <td>2012-05-21</td>\n",
       "      <td>3.13</td>\n",
       "    </tr>\n",
       "  </tbody>\n",
       "</table>\n",
       "</div>"
      ],
      "text/plain": [
       "          loan_type  loan_amount  repaid  loan_id  loan_start    loan_end  \\\n",
       "client_id                                                                   \n",
       "46109          home        13672       0    10243  2002-04-16  2003-12-20   \n",
       "46109        credit         9794       0    10984  2003-10-21  2005-07-17   \n",
       "46109          home        12734       1    10990  2006-02-01  2007-07-05   \n",
       "46109          cash        12518       1    10596  2010-12-08  2013-05-05   \n",
       "46109        credit        14049       1    11415  2010-07-07  2012-05-21   \n",
       "\n",
       "           rate  \n",
       "client_id        \n",
       "46109      2.15  \n",
       "46109      1.25  \n",
       "46109      0.68  \n",
       "46109      1.24  \n",
       "46109      3.13  "
      ]
     },
     "execution_count": 26,
     "metadata": {},
     "output_type": "execute_result"
    }
   ],
   "source": [
    "# loading the dataset and setting client id as index\n",
    "\n",
    "df1 = pd.read_csv('loans.csv', index_col = 'client_id')\n",
    "df1.head()"
   ]
  },
  {
   "cell_type": "code",
   "execution_count": 27,
   "metadata": {},
   "outputs": [],
   "source": [
    "# loan_id:\n",
    "\n",
    "df1['loan_id'] = df1['loan_id'].astype('object')\n",
    "\n",
    "# repaid:\n",
    "\n",
    "df1['repaid'] = df1['repaid'].astype('category')"
   ]
  },
  {
   "cell_type": "code",
   "execution_count": 28,
   "metadata": {},
   "outputs": [],
   "source": [
    "# loan_start:\n",
    "\n",
    "df1['loan_start'] = pd.to_datetime(df1['loan_start'], format = '%Y-%m-%d')\n",
    "\n",
    "\n",
    "# loan_end:\n",
    "\n",
    "df1['loan_end'] = pd.to_datetime(df1['loan_end'], format = '%Y-%m-%d')"
   ]
  },
  {
   "cell_type": "code",
   "execution_count": 29,
   "metadata": {},
   "outputs": [],
   "source": [
    "# 'SciPy' is used to perform scientific computations\n",
    "import scipy.stats as stats"
   ]
  },
  {
   "cell_type": "markdown",
   "metadata": {},
   "source": [
    "#### Using SciPy Library to calculate the Z-Score:"
   ]
  },
  {
   "cell_type": "code",
   "execution_count": 30,
   "metadata": {},
   "outputs": [],
   "source": [
    "# Creating new variable with Z-score of each record:\n",
    "df1['ZR'] = stats.zscore(df1['rate'])"
   ]
  },
  {
   "cell_type": "code",
   "execution_count": 31,
   "metadata": {
    "scrolled": true
   },
   "outputs": [
    {
     "data": {
      "text/html": [
       "<div>\n",
       "<style scoped>\n",
       "    .dataframe tbody tr th:only-of-type {\n",
       "        vertical-align: middle;\n",
       "    }\n",
       "\n",
       "    .dataframe tbody tr th {\n",
       "        vertical-align: top;\n",
       "    }\n",
       "\n",
       "    .dataframe thead th {\n",
       "        text-align: right;\n",
       "    }\n",
       "</style>\n",
       "<table border=\"1\" class=\"dataframe\">\n",
       "  <thead>\n",
       "    <tr style=\"text-align: right;\">\n",
       "      <th></th>\n",
       "      <th>loan_type</th>\n",
       "      <th>loan_amount</th>\n",
       "      <th>repaid</th>\n",
       "      <th>loan_id</th>\n",
       "      <th>loan_start</th>\n",
       "      <th>loan_end</th>\n",
       "      <th>rate</th>\n",
       "      <th>ZR</th>\n",
       "    </tr>\n",
       "    <tr>\n",
       "      <th>client_id</th>\n",
       "      <th></th>\n",
       "      <th></th>\n",
       "      <th></th>\n",
       "      <th></th>\n",
       "      <th></th>\n",
       "      <th></th>\n",
       "      <th></th>\n",
       "      <th></th>\n",
       "    </tr>\n",
       "  </thead>\n",
       "  <tbody>\n",
       "    <tr>\n",
       "      <th>46109</th>\n",
       "      <td>home</td>\n",
       "      <td>13672</td>\n",
       "      <td>0</td>\n",
       "      <td>10243</td>\n",
       "      <td>2002-04-16</td>\n",
       "      <td>2003-12-20</td>\n",
       "      <td>2.15</td>\n",
       "      <td>-0.445677</td>\n",
       "    </tr>\n",
       "    <tr>\n",
       "      <th>46109</th>\n",
       "      <td>credit</td>\n",
       "      <td>9794</td>\n",
       "      <td>0</td>\n",
       "      <td>10984</td>\n",
       "      <td>2003-10-21</td>\n",
       "      <td>2005-07-17</td>\n",
       "      <td>1.25</td>\n",
       "      <td>-0.821544</td>\n",
       "    </tr>\n",
       "    <tr>\n",
       "      <th>46109</th>\n",
       "      <td>home</td>\n",
       "      <td>12734</td>\n",
       "      <td>1</td>\n",
       "      <td>10990</td>\n",
       "      <td>2006-02-01</td>\n",
       "      <td>2007-07-05</td>\n",
       "      <td>0.68</td>\n",
       "      <td>-1.059594</td>\n",
       "    </tr>\n",
       "    <tr>\n",
       "      <th>46109</th>\n",
       "      <td>cash</td>\n",
       "      <td>12518</td>\n",
       "      <td>1</td>\n",
       "      <td>10596</td>\n",
       "      <td>2010-12-08</td>\n",
       "      <td>2013-05-05</td>\n",
       "      <td>1.24</td>\n",
       "      <td>-0.825721</td>\n",
       "    </tr>\n",
       "    <tr>\n",
       "      <th>46109</th>\n",
       "      <td>credit</td>\n",
       "      <td>14049</td>\n",
       "      <td>1</td>\n",
       "      <td>11415</td>\n",
       "      <td>2010-07-07</td>\n",
       "      <td>2012-05-21</td>\n",
       "      <td>3.13</td>\n",
       "      <td>-0.036399</td>\n",
       "    </tr>\n",
       "  </tbody>\n",
       "</table>\n",
       "</div>"
      ],
      "text/plain": [
       "          loan_type  loan_amount repaid loan_id loan_start   loan_end  rate  \\\n",
       "client_id                                                                     \n",
       "46109          home        13672      0   10243 2002-04-16 2003-12-20  2.15   \n",
       "46109        credit         9794      0   10984 2003-10-21 2005-07-17  1.25   \n",
       "46109          home        12734      1   10990 2006-02-01 2007-07-05  0.68   \n",
       "46109          cash        12518      1   10596 2010-12-08 2013-05-05  1.24   \n",
       "46109        credit        14049      1   11415 2010-07-07 2012-05-21  3.13   \n",
       "\n",
       "                 ZR  \n",
       "client_id            \n",
       "46109     -0.445677  \n",
       "46109     -0.821544  \n",
       "46109     -1.059594  \n",
       "46109     -0.825721  \n",
       "46109     -0.036399  "
      ]
     },
     "execution_count": 31,
     "metadata": {},
     "output_type": "execute_result"
    }
   ],
   "source": [
    "df1.head()"
   ]
  },
  {
   "cell_type": "code",
   "execution_count": 32,
   "metadata": {},
   "outputs": [
    {
     "data": {
      "text/html": [
       "<div>\n",
       "<style scoped>\n",
       "    .dataframe tbody tr th:only-of-type {\n",
       "        vertical-align: middle;\n",
       "    }\n",
       "\n",
       "    .dataframe tbody tr th {\n",
       "        vertical-align: top;\n",
       "    }\n",
       "\n",
       "    .dataframe thead th {\n",
       "        text-align: right;\n",
       "    }\n",
       "</style>\n",
       "<table border=\"1\" class=\"dataframe\">\n",
       "  <thead>\n",
       "    <tr style=\"text-align: right;\">\n",
       "      <th></th>\n",
       "      <th>loan_type</th>\n",
       "      <th>loan_amount</th>\n",
       "      <th>repaid</th>\n",
       "      <th>loan_id</th>\n",
       "      <th>loan_start</th>\n",
       "      <th>loan_end</th>\n",
       "      <th>rate</th>\n",
       "      <th>ZR</th>\n",
       "    </tr>\n",
       "    <tr>\n",
       "      <th>client_id</th>\n",
       "      <th></th>\n",
       "      <th></th>\n",
       "      <th></th>\n",
       "      <th></th>\n",
       "      <th></th>\n",
       "      <th></th>\n",
       "      <th></th>\n",
       "      <th></th>\n",
       "    </tr>\n",
       "  </thead>\n",
       "  <tbody>\n",
       "    <tr>\n",
       "      <th>41480</th>\n",
       "      <td>credit</td>\n",
       "      <td>2947</td>\n",
       "      <td>1</td>\n",
       "      <td>10302</td>\n",
       "      <td>2005-11-10</td>\n",
       "      <td>2008-03-16</td>\n",
       "      <td>10.49</td>\n",
       "      <td>3.037362</td>\n",
       "    </tr>\n",
       "    <tr>\n",
       "      <th>48177</th>\n",
       "      <td>other</td>\n",
       "      <td>6318</td>\n",
       "      <td>0</td>\n",
       "      <td>10224</td>\n",
       "      <td>2003-02-02</td>\n",
       "      <td>2005-05-08</td>\n",
       "      <td>10.89</td>\n",
       "      <td>3.204415</td>\n",
       "    </tr>\n",
       "    <tr>\n",
       "      <th>49624</th>\n",
       "      <td>home</td>\n",
       "      <td>8133</td>\n",
       "      <td>1</td>\n",
       "      <td>10312</td>\n",
       "      <td>2009-03-14</td>\n",
       "      <td>2011-03-21</td>\n",
       "      <td>12.62</td>\n",
       "      <td>3.926916</td>\n",
       "    </tr>\n",
       "  </tbody>\n",
       "</table>\n",
       "</div>"
      ],
      "text/plain": [
       "          loan_type  loan_amount repaid loan_id loan_start   loan_end   rate  \\\n",
       "client_id                                                                      \n",
       "41480        credit         2947      1   10302 2005-11-10 2008-03-16  10.49   \n",
       "48177         other         6318      0   10224 2003-02-02 2005-05-08  10.89   \n",
       "49624          home         8133      1   10312 2009-03-14 2011-03-21  12.62   \n",
       "\n",
       "                 ZR  \n",
       "client_id            \n",
       "41480      3.037362  \n",
       "48177      3.204415  \n",
       "49624      3.926916  "
      ]
     },
     "execution_count": 32,
     "metadata": {},
     "output_type": "execute_result"
    }
   ],
   "source": [
    "# Combined Lower limit and Upper limit:\n",
    "\n",
    "df1[(df1['ZR']<-3) | (df1['ZR']>3)]"
   ]
  },
  {
   "cell_type": "code",
   "execution_count": 33,
   "metadata": {},
   "outputs": [
    {
     "data": {
      "text/plain": [
       "3"
      ]
     },
     "execution_count": 33,
     "metadata": {},
     "output_type": "execute_result"
    }
   ],
   "source": [
    "# count of outliers:\n",
    "\n",
    "df1[(df1['ZR']<-3) | (df1['ZR']>3)].shape[0]"
   ]
  },
  {
   "cell_type": "code",
   "execution_count": 34,
   "metadata": {},
   "outputs": [
    {
     "data": {
      "text/html": [
       "<div>\n",
       "<style scoped>\n",
       "    .dataframe tbody tr th:only-of-type {\n",
       "        vertical-align: middle;\n",
       "    }\n",
       "\n",
       "    .dataframe tbody tr th {\n",
       "        vertical-align: top;\n",
       "    }\n",
       "\n",
       "    .dataframe thead th {\n",
       "        text-align: right;\n",
       "    }\n",
       "</style>\n",
       "<table border=\"1\" class=\"dataframe\">\n",
       "  <thead>\n",
       "    <tr style=\"text-align: right;\">\n",
       "      <th></th>\n",
       "      <th>client_id</th>\n",
       "      <th>loan_type</th>\n",
       "      <th>loan_amount</th>\n",
       "      <th>repaid</th>\n",
       "      <th>loan_id</th>\n",
       "      <th>loan_start</th>\n",
       "      <th>loan_end</th>\n",
       "      <th>rate</th>\n",
       "      <th>ZR</th>\n",
       "    </tr>\n",
       "  </thead>\n",
       "  <tbody>\n",
       "    <tr>\n",
       "      <th>0</th>\n",
       "      <td>46109</td>\n",
       "      <td>home</td>\n",
       "      <td>13672</td>\n",
       "      <td>0</td>\n",
       "      <td>10243</td>\n",
       "      <td>2002-04-16</td>\n",
       "      <td>2003-12-20</td>\n",
       "      <td>2.15</td>\n",
       "      <td>-0.445677</td>\n",
       "    </tr>\n",
       "    <tr>\n",
       "      <th>1</th>\n",
       "      <td>46109</td>\n",
       "      <td>credit</td>\n",
       "      <td>9794</td>\n",
       "      <td>0</td>\n",
       "      <td>10984</td>\n",
       "      <td>2003-10-21</td>\n",
       "      <td>2005-07-17</td>\n",
       "      <td>1.25</td>\n",
       "      <td>-0.821544</td>\n",
       "    </tr>\n",
       "    <tr>\n",
       "      <th>2</th>\n",
       "      <td>46109</td>\n",
       "      <td>home</td>\n",
       "      <td>12734</td>\n",
       "      <td>1</td>\n",
       "      <td>10990</td>\n",
       "      <td>2006-02-01</td>\n",
       "      <td>2007-07-05</td>\n",
       "      <td>0.68</td>\n",
       "      <td>-1.059594</td>\n",
       "    </tr>\n",
       "    <tr>\n",
       "      <th>3</th>\n",
       "      <td>46109</td>\n",
       "      <td>cash</td>\n",
       "      <td>12518</td>\n",
       "      <td>1</td>\n",
       "      <td>10596</td>\n",
       "      <td>2010-12-08</td>\n",
       "      <td>2013-05-05</td>\n",
       "      <td>1.24</td>\n",
       "      <td>-0.825721</td>\n",
       "    </tr>\n",
       "    <tr>\n",
       "      <th>4</th>\n",
       "      <td>46109</td>\n",
       "      <td>credit</td>\n",
       "      <td>14049</td>\n",
       "      <td>1</td>\n",
       "      <td>11415</td>\n",
       "      <td>2010-07-07</td>\n",
       "      <td>2012-05-21</td>\n",
       "      <td>3.13</td>\n",
       "      <td>-0.036399</td>\n",
       "    </tr>\n",
       "  </tbody>\n",
       "</table>\n",
       "</div>"
      ],
      "text/plain": [
       "   client_id loan_type  loan_amount repaid loan_id loan_start   loan_end  \\\n",
       "0      46109      home        13672      0   10243 2002-04-16 2003-12-20   \n",
       "1      46109    credit         9794      0   10984 2003-10-21 2005-07-17   \n",
       "2      46109      home        12734      1   10990 2006-02-01 2007-07-05   \n",
       "3      46109      cash        12518      1   10596 2010-12-08 2013-05-05   \n",
       "4      46109    credit        14049      1   11415 2010-07-07 2012-05-21   \n",
       "\n",
       "   rate        ZR  \n",
       "0  2.15 -0.445677  \n",
       "1  1.25 -0.821544  \n",
       "2  0.68 -1.059594  \n",
       "3  1.24 -0.825721  \n",
       "4  3.13 -0.036399  "
      ]
     },
     "execution_count": 34,
     "metadata": {},
     "output_type": "execute_result"
    }
   ],
   "source": [
    "### Cleaned Data: without outliers so z>-3 and z< +3\n",
    "\n",
    "df2= df1[(df1['ZR']>-3) & (df1['ZR']<3)].reset_index()\n",
    "df2.head()"
   ]
  },
  {
   "cell_type": "code",
   "execution_count": 35,
   "metadata": {},
   "outputs": [
    {
     "data": {
      "text/plain": [
       "(443, 8)"
      ]
     },
     "execution_count": 35,
     "metadata": {},
     "output_type": "execute_result"
    }
   ],
   "source": [
    "df1.shape"
   ]
  },
  {
   "cell_type": "code",
   "execution_count": 36,
   "metadata": {},
   "outputs": [
    {
     "data": {
      "text/plain": [
       "(440, 9)"
      ]
     },
     "execution_count": 36,
     "metadata": {},
     "output_type": "execute_result"
    }
   ],
   "source": [
    "df2.shape"
   ]
  },
  {
   "cell_type": "markdown",
   "metadata": {},
   "source": [
    "#### Interpretation: \n",
    "\n",
    "A crude way to know whether the outliers have been removed or not is to check the dimensions of the data. From the above output, we can see that the dimensions are reduced that implies outliers are removed."
   ]
  },
  {
   "cell_type": "code",
   "execution_count": 37,
   "metadata": {
    "scrolled": true
   },
   "outputs": [],
   "source": [
    "df3 = df2.copy()"
   ]
  },
  {
   "cell_type": "code",
   "execution_count": 38,
   "metadata": {},
   "outputs": [
    {
     "data": {
      "text/html": [
       "<div>\n",
       "<style scoped>\n",
       "    .dataframe tbody tr th:only-of-type {\n",
       "        vertical-align: middle;\n",
       "    }\n",
       "\n",
       "    .dataframe tbody tr th {\n",
       "        vertical-align: top;\n",
       "    }\n",
       "\n",
       "    .dataframe thead th {\n",
       "        text-align: right;\n",
       "    }\n",
       "</style>\n",
       "<table border=\"1\" class=\"dataframe\">\n",
       "  <thead>\n",
       "    <tr style=\"text-align: right;\">\n",
       "      <th></th>\n",
       "      <th>client_id</th>\n",
       "      <th>loan_type</th>\n",
       "      <th>loan_amount</th>\n",
       "      <th>repaid</th>\n",
       "      <th>loan_id</th>\n",
       "      <th>loan_start</th>\n",
       "      <th>loan_end</th>\n",
       "      <th>rate</th>\n",
       "    </tr>\n",
       "  </thead>\n",
       "  <tbody>\n",
       "    <tr>\n",
       "      <th>0</th>\n",
       "      <td>46109</td>\n",
       "      <td>home</td>\n",
       "      <td>13672</td>\n",
       "      <td>0</td>\n",
       "      <td>10243</td>\n",
       "      <td>2002-04-16</td>\n",
       "      <td>2003-12-20</td>\n",
       "      <td>2.15</td>\n",
       "    </tr>\n",
       "    <tr>\n",
       "      <th>1</th>\n",
       "      <td>46109</td>\n",
       "      <td>credit</td>\n",
       "      <td>9794</td>\n",
       "      <td>0</td>\n",
       "      <td>10984</td>\n",
       "      <td>2003-10-21</td>\n",
       "      <td>2005-07-17</td>\n",
       "      <td>1.25</td>\n",
       "    </tr>\n",
       "    <tr>\n",
       "      <th>2</th>\n",
       "      <td>46109</td>\n",
       "      <td>home</td>\n",
       "      <td>12734</td>\n",
       "      <td>1</td>\n",
       "      <td>10990</td>\n",
       "      <td>2006-02-01</td>\n",
       "      <td>2007-07-05</td>\n",
       "      <td>0.68</td>\n",
       "    </tr>\n",
       "    <tr>\n",
       "      <th>3</th>\n",
       "      <td>46109</td>\n",
       "      <td>cash</td>\n",
       "      <td>12518</td>\n",
       "      <td>1</td>\n",
       "      <td>10596</td>\n",
       "      <td>2010-12-08</td>\n",
       "      <td>2013-05-05</td>\n",
       "      <td>1.24</td>\n",
       "    </tr>\n",
       "    <tr>\n",
       "      <th>4</th>\n",
       "      <td>46109</td>\n",
       "      <td>credit</td>\n",
       "      <td>14049</td>\n",
       "      <td>1</td>\n",
       "      <td>11415</td>\n",
       "      <td>2010-07-07</td>\n",
       "      <td>2012-05-21</td>\n",
       "      <td>3.13</td>\n",
       "    </tr>\n",
       "  </tbody>\n",
       "</table>\n",
       "</div>"
      ],
      "text/plain": [
       "   client_id loan_type  loan_amount repaid loan_id loan_start   loan_end  rate\n",
       "0      46109      home        13672      0   10243 2002-04-16 2003-12-20  2.15\n",
       "1      46109    credit         9794      0   10984 2003-10-21 2005-07-17  1.25\n",
       "2      46109      home        12734      1   10990 2006-02-01 2007-07-05  0.68\n",
       "3      46109      cash        12518      1   10596 2010-12-08 2013-05-05  1.24\n",
       "4      46109    credit        14049      1   11415 2010-07-07 2012-05-21  3.13"
      ]
     },
     "execution_count": 38,
     "metadata": {},
     "output_type": "execute_result"
    }
   ],
   "source": [
    "df3.drop(columns = ['ZR'], inplace=True)\n",
    "df3.head()"
   ]
  },
  {
   "cell_type": "markdown",
   "metadata": {},
   "source": [
    "-----------"
   ]
  },
  {
   "cell_type": "markdown",
   "metadata": {},
   "source": [
    "### 2) IQR Method to treat Outliers:\n",
    "\n",
    "All the values below Q1 - 1.5*IQR and values above Q3 + 1.5*IQR are outliers and can be removed."
   ]
  },
  {
   "cell_type": "code",
   "execution_count": 39,
   "metadata": {},
   "outputs": [
    {
     "data": {
      "text/plain": [
       "-3.9762499999999994"
      ]
     },
     "metadata": {},
     "output_type": "display_data"
    },
    {
     "data": {
      "text/plain": [
       "9.87375"
      ]
     },
     "metadata": {},
     "output_type": "display_data"
    }
   ],
   "source": [
    "# finding the Quantiles:\n",
    "\n",
    "Q1 = df3.rate.quantile(0.25)\n",
    "Q2 = df3.rate.quantile(0.50)\n",
    "Q3 = df3.rate.quantile(0.75)\n",
    "\n",
    "# IQR : Inter-Quartile Range\n",
    "\n",
    "IQR = Q3 - Q1\n",
    "\n",
    "# Lower Limit:\n",
    "LC = Q1 - (1.5*IQR)\n",
    "\n",
    "# Upper Limit:\n",
    "UC = Q3 + (1.5*IQR)\n",
    "\n",
    "display(LC)\n",
    "display(UC)"
   ]
  },
  {
   "cell_type": "code",
   "execution_count": 40,
   "metadata": {},
   "outputs": [
    {
     "data": {
      "image/png": "[encoded data removed]",
      "text/plain": [
       "<Figure size 432x288 with 1 Axes>"
      ]
     },
     "metadata": {
      "needs_background": "light"
     },
     "output_type": "display_data"
    }
   ],
   "source": [
    "## Plot\n",
    "\n",
    "sns.distplot(df3.rate)\n",
    "plt.axvline(UC, color='r')\n",
    "plt.axvline(LC, color ='r')\n",
    "plt.axvline(Q1, color='g')\n",
    "plt.axvline(Q3, color='g')\n",
    "plt.show()"
   ]
  },
  {
   "cell_type": "code",
   "execution_count": 41,
   "metadata": {},
   "outputs": [
    {
     "data": {
      "text/html": [
       "<div>\n",
       "<style scoped>\n",
       "    .dataframe tbody tr th:only-of-type {\n",
       "        vertical-align: middle;\n",
       "    }\n",
       "\n",
       "    .dataframe tbody tr th {\n",
       "        vertical-align: top;\n",
       "    }\n",
       "\n",
       "    .dataframe thead th {\n",
       "        text-align: right;\n",
       "    }\n",
       "</style>\n",
       "<table border=\"1\" class=\"dataframe\">\n",
       "  <thead>\n",
       "    <tr style=\"text-align: right;\">\n",
       "      <th></th>\n",
       "      <th>client_id</th>\n",
       "      <th>loan_type</th>\n",
       "      <th>loan_amount</th>\n",
       "      <th>repaid</th>\n",
       "      <th>loan_id</th>\n",
       "      <th>loan_start</th>\n",
       "      <th>loan_end</th>\n",
       "      <th>rate</th>\n",
       "    </tr>\n",
       "  </thead>\n",
       "  <tbody>\n",
       "    <tr>\n",
       "      <th>0</th>\n",
       "      <td>39505</td>\n",
       "      <td>cash</td>\n",
       "      <td>11647</td>\n",
       "      <td>1</td>\n",
       "      <td>11928</td>\n",
       "      <td>2003-07-28</td>\n",
       "      <td>2005-12-24</td>\n",
       "      <td>9.91</td>\n",
       "    </tr>\n",
       "  </tbody>\n",
       "</table>\n",
       "</div>"
      ],
      "text/plain": [
       "   client_id loan_type  loan_amount repaid loan_id loan_start   loan_end  rate\n",
       "0      39505      cash        11647      1   11928 2003-07-28 2005-12-24  9.91"
      ]
     },
     "execution_count": 41,
     "metadata": {},
     "output_type": "execute_result"
    }
   ],
   "source": [
    "# Find count of Outliers wrt IQR\n",
    "\n",
    "df3[(df3.rate<LC) | (df3.rate>UC)].reset_index(drop=True)"
   ]
  },
  {
   "cell_type": "code",
   "execution_count": 42,
   "metadata": {},
   "outputs": [
    {
     "data": {
      "text/plain": [
       "1"
      ]
     },
     "execution_count": 42,
     "metadata": {},
     "output_type": "execute_result"
    }
   ],
   "source": [
    "df3[(df3.rate<LC) | (df3.rate>UC)].shape[0]"
   ]
  },
  {
   "cell_type": "code",
   "execution_count": 43,
   "metadata": {},
   "outputs": [
    {
     "data": {
      "text/html": [
       "<div>\n",
       "<style scoped>\n",
       "    .dataframe tbody tr th:only-of-type {\n",
       "        vertical-align: middle;\n",
       "    }\n",
       "\n",
       "    .dataframe tbody tr th {\n",
       "        vertical-align: top;\n",
       "    }\n",
       "\n",
       "    .dataframe thead th {\n",
       "        text-align: right;\n",
       "    }\n",
       "</style>\n",
       "<table border=\"1\" class=\"dataframe\">\n",
       "  <thead>\n",
       "    <tr style=\"text-align: right;\">\n",
       "      <th></th>\n",
       "      <th>client_id</th>\n",
       "      <th>loan_type</th>\n",
       "      <th>loan_amount</th>\n",
       "      <th>repaid</th>\n",
       "      <th>loan_id</th>\n",
       "      <th>loan_start</th>\n",
       "      <th>loan_end</th>\n",
       "      <th>rate</th>\n",
       "    </tr>\n",
       "  </thead>\n",
       "  <tbody>\n",
       "    <tr>\n",
       "      <th>0</th>\n",
       "      <td>46109</td>\n",
       "      <td>home</td>\n",
       "      <td>13672</td>\n",
       "      <td>0</td>\n",
       "      <td>10243</td>\n",
       "      <td>2002-04-16</td>\n",
       "      <td>2003-12-20</td>\n",
       "      <td>2.15</td>\n",
       "    </tr>\n",
       "    <tr>\n",
       "      <th>1</th>\n",
       "      <td>46109</td>\n",
       "      <td>credit</td>\n",
       "      <td>9794</td>\n",
       "      <td>0</td>\n",
       "      <td>10984</td>\n",
       "      <td>2003-10-21</td>\n",
       "      <td>2005-07-17</td>\n",
       "      <td>1.25</td>\n",
       "    </tr>\n",
       "    <tr>\n",
       "      <th>2</th>\n",
       "      <td>46109</td>\n",
       "      <td>home</td>\n",
       "      <td>12734</td>\n",
       "      <td>1</td>\n",
       "      <td>10990</td>\n",
       "      <td>2006-02-01</td>\n",
       "      <td>2007-07-05</td>\n",
       "      <td>0.68</td>\n",
       "    </tr>\n",
       "    <tr>\n",
       "      <th>3</th>\n",
       "      <td>46109</td>\n",
       "      <td>cash</td>\n",
       "      <td>12518</td>\n",
       "      <td>1</td>\n",
       "      <td>10596</td>\n",
       "      <td>2010-12-08</td>\n",
       "      <td>2013-05-05</td>\n",
       "      <td>1.24</td>\n",
       "    </tr>\n",
       "    <tr>\n",
       "      <th>4</th>\n",
       "      <td>46109</td>\n",
       "      <td>credit</td>\n",
       "      <td>14049</td>\n",
       "      <td>1</td>\n",
       "      <td>11415</td>\n",
       "      <td>2010-07-07</td>\n",
       "      <td>2012-05-21</td>\n",
       "      <td>3.13</td>\n",
       "    </tr>\n",
       "  </tbody>\n",
       "</table>\n",
       "</div>"
      ],
      "text/plain": [
       "   client_id loan_type  loan_amount repaid loan_id loan_start   loan_end  rate\n",
       "0      46109      home        13672      0   10243 2002-04-16 2003-12-20  2.15\n",
       "1      46109    credit         9794      0   10984 2003-10-21 2005-07-17  1.25\n",
       "2      46109      home        12734      1   10990 2006-02-01 2007-07-05  0.68\n",
       "3      46109      cash        12518      1   10596 2010-12-08 2013-05-05  1.24\n",
       "4      46109    credit        14049      1   11415 2010-07-07 2012-05-21  3.13"
      ]
     },
     "execution_count": 43,
     "metadata": {},
     "output_type": "execute_result"
    }
   ],
   "source": [
    "## Store the clean data wrt IQR:\n",
    "\n",
    "df4 = df3[(df3.rate>LC) & (df3.rate<UC)]\n",
    "df4.head()"
   ]
  },
  {
   "cell_type": "code",
   "execution_count": 44,
   "metadata": {},
   "outputs": [
    {
     "data": {
      "text/plain": [
       "(440, 8)"
      ]
     },
     "execution_count": 44,
     "metadata": {},
     "output_type": "execute_result"
    }
   ],
   "source": [
    "df3.shape"
   ]
  },
  {
   "cell_type": "code",
   "execution_count": 45,
   "metadata": {},
   "outputs": [
    {
     "data": {
      "text/plain": [
       "(439, 8)"
      ]
     },
     "execution_count": 45,
     "metadata": {},
     "output_type": "execute_result"
    }
   ],
   "source": [
    "df4.shape"
   ]
  },
  {
   "cell_type": "markdown",
   "metadata": {},
   "source": [
    "#### Interpretation: \n",
    "\n",
    "A crude way to know whether the outliers have been removed or not is to check the dimensions of the data. From the above output, we can see that the dimensions are reduced that implies outliers are removed."
   ]
  },
  {
   "cell_type": "code",
   "execution_count": 46,
   "metadata": {},
   "outputs": [
    {
     "data": {
      "image/png": "[encoded data removed]",
      "text/plain": [
       "<Figure size 432x288 with 1 Axes>"
      ]
     },
     "metadata": {
      "needs_background": "light"
     },
     "output_type": "display_data"
    }
   ],
   "source": [
    "## Box Plot for rate--- based on IQR Method\n",
    "\n",
    "sns.boxplot(df1.rate)\n",
    "plt.show()"
   ]
  },
  {
   "cell_type": "code",
   "execution_count": 47,
   "metadata": {},
   "outputs": [
    {
     "data": {
      "image/png": "[encoded data removed]",
      "text/plain": [
       "<Figure size 432x288 with 1 Axes>"
      ]
     },
     "metadata": {
      "needs_background": "light"
     },
     "output_type": "display_data"
    }
   ],
   "source": [
    "# Box Plot for rate --- based on Z-score cleaned data \n",
    "\n",
    "sns.boxplot(df2.rate)\n",
    "plt.show()"
   ]
  },
  {
   "cell_type": "code",
   "execution_count": 48,
   "metadata": {
    "scrolled": true
   },
   "outputs": [
    {
     "data": {
      "image/png": "[encoded data removed]",
      "text/plain": [
       "<Figure size 432x288 with 1 Axes>"
      ]
     },
     "metadata": {
      "needs_background": "light"
     },
     "output_type": "display_data"
    }
   ],
   "source": [
    "# Box Plot for rate --- based on IQR cleaned data \n",
    "\n",
    "sns.boxplot(df4.rate)\n",
    "plt.show()"
   ]
  },
  {
   "cell_type": "markdown",
   "metadata": {},
   "source": [
    "-------------------"
   ]
  },
  {
   "cell_type": "markdown",
   "metadata": {},
   "source": [
    "### 9. Scaling the Numerical Features\n",
    "\n",
    "There are two ways to scale the data: \n",
    "\n",
    "1) Standardization (Z-Score)\\\n",
    "2) Normalization: Min Max Scalar\n",
    "\n",
    "Both can by done manually as well as have in-built functions in sklearn. Will demonstrate both."
   ]
  },
  {
   "cell_type": "markdown",
   "metadata": {},
   "source": [
    "### 9a. Standardization (Z-Score)\n",
    "\n",
    "Scales the data using the formula (x-mean)/standard deviation\n",
    "\n",
    "#### Manually:"
   ]
  },
  {
   "cell_type": "code",
   "execution_count": 49,
   "metadata": {},
   "outputs": [
    {
     "data": {
      "text/plain": [
       "3.161818181818183"
      ]
     },
     "execution_count": 49,
     "metadata": {},
     "output_type": "execute_result"
    }
   ],
   "source": [
    "# for Rate :\n",
    "avg_rate = df3['rate'].mean()\n",
    "avg_rate"
   ]
  },
  {
   "cell_type": "code",
   "execution_count": 50,
   "metadata": {},
   "outputs": [
    {
     "data": {
      "text/plain": [
       "2.307947418822915"
      ]
     },
     "execution_count": 50,
     "metadata": {},
     "output_type": "execute_result"
    }
   ],
   "source": [
    "std_rate = df3['rate'].std()\n",
    "std_rate"
   ]
  },
  {
   "cell_type": "code",
   "execution_count": 51,
   "metadata": {},
   "outputs": [],
   "source": [
    "# Step 1 : transform using Z-score\n",
    "df3['Z_Score_Rate'] = (df3['rate'] - avg_rate)/std_rate"
   ]
  },
  {
   "cell_type": "code",
   "execution_count": 52,
   "metadata": {},
   "outputs": [
    {
     "data": {
      "text/html": [
       "<div>\n",
       "<style scoped>\n",
       "    .dataframe tbody tr th:only-of-type {\n",
       "        vertical-align: middle;\n",
       "    }\n",
       "\n",
       "    .dataframe tbody tr th {\n",
       "        vertical-align: top;\n",
       "    }\n",
       "\n",
       "    .dataframe thead th {\n",
       "        text-align: right;\n",
       "    }\n",
       "</style>\n",
       "<table border=\"1\" class=\"dataframe\">\n",
       "  <thead>\n",
       "    <tr style=\"text-align: right;\">\n",
       "      <th></th>\n",
       "      <th>client_id</th>\n",
       "      <th>loan_type</th>\n",
       "      <th>loan_amount</th>\n",
       "      <th>repaid</th>\n",
       "      <th>loan_id</th>\n",
       "      <th>loan_start</th>\n",
       "      <th>loan_end</th>\n",
       "      <th>rate</th>\n",
       "      <th>Z_Score_Rate</th>\n",
       "    </tr>\n",
       "  </thead>\n",
       "  <tbody>\n",
       "    <tr>\n",
       "      <th>0</th>\n",
       "      <td>46109</td>\n",
       "      <td>home</td>\n",
       "      <td>13672</td>\n",
       "      <td>0</td>\n",
       "      <td>10243</td>\n",
       "      <td>2002-04-16</td>\n",
       "      <td>2003-12-20</td>\n",
       "      <td>2.15</td>\n",
       "      <td>-0.438406</td>\n",
       "    </tr>\n",
       "    <tr>\n",
       "      <th>1</th>\n",
       "      <td>46109</td>\n",
       "      <td>credit</td>\n",
       "      <td>9794</td>\n",
       "      <td>0</td>\n",
       "      <td>10984</td>\n",
       "      <td>2003-10-21</td>\n",
       "      <td>2005-07-17</td>\n",
       "      <td>1.25</td>\n",
       "      <td>-0.828363</td>\n",
       "    </tr>\n",
       "    <tr>\n",
       "      <th>2</th>\n",
       "      <td>46109</td>\n",
       "      <td>home</td>\n",
       "      <td>12734</td>\n",
       "      <td>1</td>\n",
       "      <td>10990</td>\n",
       "      <td>2006-02-01</td>\n",
       "      <td>2007-07-05</td>\n",
       "      <td>0.68</td>\n",
       "      <td>-1.075336</td>\n",
       "    </tr>\n",
       "    <tr>\n",
       "      <th>3</th>\n",
       "      <td>46109</td>\n",
       "      <td>cash</td>\n",
       "      <td>12518</td>\n",
       "      <td>1</td>\n",
       "      <td>10596</td>\n",
       "      <td>2010-12-08</td>\n",
       "      <td>2013-05-05</td>\n",
       "      <td>1.24</td>\n",
       "      <td>-0.832696</td>\n",
       "    </tr>\n",
       "    <tr>\n",
       "      <th>4</th>\n",
       "      <td>46109</td>\n",
       "      <td>credit</td>\n",
       "      <td>14049</td>\n",
       "      <td>1</td>\n",
       "      <td>11415</td>\n",
       "      <td>2010-07-07</td>\n",
       "      <td>2012-05-21</td>\n",
       "      <td>3.13</td>\n",
       "      <td>-0.013786</td>\n",
       "    </tr>\n",
       "  </tbody>\n",
       "</table>\n",
       "</div>"
      ],
      "text/plain": [
       "   client_id loan_type  loan_amount repaid loan_id loan_start   loan_end  \\\n",
       "0      46109      home        13672      0   10243 2002-04-16 2003-12-20   \n",
       "1      46109    credit         9794      0   10984 2003-10-21 2005-07-17   \n",
       "2      46109      home        12734      1   10990 2006-02-01 2007-07-05   \n",
       "3      46109      cash        12518      1   10596 2010-12-08 2013-05-05   \n",
       "4      46109    credit        14049      1   11415 2010-07-07 2012-05-21   \n",
       "\n",
       "   rate  Z_Score_Rate  \n",
       "0  2.15     -0.438406  \n",
       "1  1.25     -0.828363  \n",
       "2  0.68     -1.075336  \n",
       "3  1.24     -0.832696  \n",
       "4  3.13     -0.013786  "
      ]
     },
     "execution_count": 52,
     "metadata": {},
     "output_type": "execute_result"
    }
   ],
   "source": [
    "df3.head()"
   ]
  },
  {
   "cell_type": "code",
   "execution_count": 53,
   "metadata": {},
   "outputs": [
    {
     "name": "stdout",
     "output_type": "stream",
     "text": [
      "The skewness for the original data is 0.7594062707815686.\n",
      "The kurtosis for the original data is -0.05964248048746912.\n",
      "\n",
      "The skewness for the Zscore Scaled column is 0.7594062707815689.\n",
      "The kurtosis for the Zscore Scaled columns is -0.05964248048746734.\n"
     ]
    }
   ],
   "source": [
    "# checking if the skewness and kurtosis post scaling or not:\n",
    "\n",
    "# For Rate:\n",
    "\n",
    "print(\"The skewness for the original data is {}.\".format(df3.rate.skew()))\n",
    "print(\"The kurtosis for the original data is {}.\".format(df3.rate.kurt()))\n",
    "\n",
    "print('')\n",
    "\n",
    "print(\"The skewness for the Zscore Scaled column is {}.\".format(df3.Z_Score_Rate.skew()))\n",
    "print(\"The kurtosis for the Zscore Scaled columns is {}.\".format(df3.Z_Score_Rate.kurt()))"
   ]
  },
  {
   "cell_type": "code",
   "execution_count": 54,
   "metadata": {},
   "outputs": [
    {
     "data": {
      "text/plain": [
       "7997.195454545455"
      ]
     },
     "execution_count": 54,
     "metadata": {},
     "output_type": "execute_result"
    }
   ],
   "source": [
    "# For Loan_amount:\n",
    "avg_LA = df3['loan_amount'].mean()\n",
    "avg_LA"
   ]
  },
  {
   "cell_type": "code",
   "execution_count": 55,
   "metadata": {},
   "outputs": [
    {
     "data": {
      "text/plain": [
       "4179.435966237437"
      ]
     },
     "execution_count": 55,
     "metadata": {},
     "output_type": "execute_result"
    }
   ],
   "source": [
    "std_LA = df3['loan_amount'].std()\n",
    "std_LA"
   ]
  },
  {
   "cell_type": "code",
   "execution_count": 56,
   "metadata": {},
   "outputs": [],
   "source": [
    "# Step 1 : transform using Z-score\n",
    "df3['Z_Score_LA'] = (df3['loan_amount'] - avg_LA)/std_LA"
   ]
  },
  {
   "cell_type": "code",
   "execution_count": 57,
   "metadata": {},
   "outputs": [
    {
     "data": {
      "text/html": [
       "<div>\n",
       "<style scoped>\n",
       "    .dataframe tbody tr th:only-of-type {\n",
       "        vertical-align: middle;\n",
       "    }\n",
       "\n",
       "    .dataframe tbody tr th {\n",
       "        vertical-align: top;\n",
       "    }\n",
       "\n",
       "    .dataframe thead th {\n",
       "        text-align: right;\n",
       "    }\n",
       "</style>\n",
       "<table border=\"1\" class=\"dataframe\">\n",
       "  <thead>\n",
       "    <tr style=\"text-align: right;\">\n",
       "      <th></th>\n",
       "      <th>client_id</th>\n",
       "      <th>loan_type</th>\n",
       "      <th>loan_amount</th>\n",
       "      <th>repaid</th>\n",
       "      <th>loan_id</th>\n",
       "      <th>loan_start</th>\n",
       "      <th>loan_end</th>\n",
       "      <th>rate</th>\n",
       "      <th>Z_Score_Rate</th>\n",
       "      <th>Z_Score_LA</th>\n",
       "    </tr>\n",
       "  </thead>\n",
       "  <tbody>\n",
       "    <tr>\n",
       "      <th>0</th>\n",
       "      <td>46109</td>\n",
       "      <td>home</td>\n",
       "      <td>13672</td>\n",
       "      <td>0</td>\n",
       "      <td>10243</td>\n",
       "      <td>2002-04-16</td>\n",
       "      <td>2003-12-20</td>\n",
       "      <td>2.15</td>\n",
       "      <td>-0.438406</td>\n",
       "      <td>1.357792</td>\n",
       "    </tr>\n",
       "    <tr>\n",
       "      <th>1</th>\n",
       "      <td>46109</td>\n",
       "      <td>credit</td>\n",
       "      <td>9794</td>\n",
       "      <td>0</td>\n",
       "      <td>10984</td>\n",
       "      <td>2003-10-21</td>\n",
       "      <td>2005-07-17</td>\n",
       "      <td>1.25</td>\n",
       "      <td>-0.828363</td>\n",
       "      <td>0.429916</td>\n",
       "    </tr>\n",
       "    <tr>\n",
       "      <th>2</th>\n",
       "      <td>46109</td>\n",
       "      <td>home</td>\n",
       "      <td>12734</td>\n",
       "      <td>1</td>\n",
       "      <td>10990</td>\n",
       "      <td>2006-02-01</td>\n",
       "      <td>2007-07-05</td>\n",
       "      <td>0.68</td>\n",
       "      <td>-1.075336</td>\n",
       "      <td>1.133360</td>\n",
       "    </tr>\n",
       "    <tr>\n",
       "      <th>3</th>\n",
       "      <td>46109</td>\n",
       "      <td>cash</td>\n",
       "      <td>12518</td>\n",
       "      <td>1</td>\n",
       "      <td>10596</td>\n",
       "      <td>2010-12-08</td>\n",
       "      <td>2013-05-05</td>\n",
       "      <td>1.24</td>\n",
       "      <td>-0.832696</td>\n",
       "      <td>1.081678</td>\n",
       "    </tr>\n",
       "    <tr>\n",
       "      <th>4</th>\n",
       "      <td>46109</td>\n",
       "      <td>credit</td>\n",
       "      <td>14049</td>\n",
       "      <td>1</td>\n",
       "      <td>11415</td>\n",
       "      <td>2010-07-07</td>\n",
       "      <td>2012-05-21</td>\n",
       "      <td>3.13</td>\n",
       "      <td>-0.013786</td>\n",
       "      <td>1.447996</td>\n",
       "    </tr>\n",
       "  </tbody>\n",
       "</table>\n",
       "</div>"
      ],
      "text/plain": [
       "   client_id loan_type  loan_amount repaid loan_id loan_start   loan_end  \\\n",
       "0      46109      home        13672      0   10243 2002-04-16 2003-12-20   \n",
       "1      46109    credit         9794      0   10984 2003-10-21 2005-07-17   \n",
       "2      46109      home        12734      1   10990 2006-02-01 2007-07-05   \n",
       "3      46109      cash        12518      1   10596 2010-12-08 2013-05-05   \n",
       "4      46109    credit        14049      1   11415 2010-07-07 2012-05-21   \n",
       "\n",
       "   rate  Z_Score_Rate  Z_Score_LA  \n",
       "0  2.15     -0.438406    1.357792  \n",
       "1  1.25     -0.828363    0.429916  \n",
       "2  0.68     -1.075336    1.133360  \n",
       "3  1.24     -0.832696    1.081678  \n",
       "4  3.13     -0.013786    1.447996  "
      ]
     },
     "execution_count": 57,
     "metadata": {},
     "output_type": "execute_result"
    }
   ],
   "source": [
    "df3.head()"
   ]
  },
  {
   "cell_type": "code",
   "execution_count": 58,
   "metadata": {},
   "outputs": [
    {
     "name": "stdout",
     "output_type": "stream",
     "text": [
      "The skewness for the original data is -0.04678765472024289.\n",
      "The kurtosis for the original data is -1.2354309429278456.\n",
      "\n",
      "The skewness for the Zscore Scaled column is -0.04678765472024289.\n",
      "The kurtosis for the Zscore Scaled columns is -1.2354309429278456.\n"
     ]
    }
   ],
   "source": [
    "# checking if the skewness and kurtosis post scaling or not:\n",
    "\n",
    "# For Loan_amount:\n",
    "\n",
    "print(\"The skewness for the original data is {}.\".format(df3.loan_amount.skew()))\n",
    "print(\"The kurtosis for the original data is {}.\".format(df3.loan_amount.kurt()))\n",
    "\n",
    "print('')\n",
    "\n",
    "print(\"The skewness for the Zscore Scaled column is {}.\".format(df3.Z_Score_LA.skew()))\n",
    "print(\"The kurtosis for the Zscore Scaled columns is {}.\".format(df3.Z_Score_LA.kurt()))"
   ]
  },
  {
   "cell_type": "code",
   "execution_count": 59,
   "metadata": {},
   "outputs": [
    {
     "data": {
      "image/png": "[encoded data removed]",
      "text/plain": [
       "<Figure size 1080x360 with 4 Axes>"
      ]
     },
     "metadata": {
      "needs_background": "light"
     },
     "output_type": "display_data"
    }
   ],
   "source": [
    "# Distribution of the columns\n",
    "\n",
    "fig, axes = plt.subplots(2,2, figsize=(15,5))\n",
    "\n",
    "sns.distplot(df3['rate'], ax=axes[0,0])\n",
    "sns.distplot(df3['Z_Score_Rate'], ax=axes[0,1])\n",
    "sns.distplot(df3['loan_amount'], ax=axes[1,0])\n",
    "sns.distplot(df3['Z_Score_LA'], ax=axes[1,1])\n",
    "\n",
    "\n",
    "plt.show()"
   ]
  },
  {
   "cell_type": "markdown",
   "metadata": {},
   "source": [
    "The only difference between the two curves is of the Range on the x-axis. The impact of scaling on data is:\n",
    "Skewness, Kurtosis and Distribution all remain same.\n",
    "\n",
    "The need for Scaling is :\n",
    "\n",
    "1) Comparison between variables is easier\\\n",
    "2) Computation power is more efficient and less time consuming."
   ]
  },
  {
   "cell_type": "markdown",
   "metadata": {},
   "source": [
    "#### By SkLearn:\n",
    "\n",
    "Documentation for Standard Scaler: https://scikit-learn.org/stable/modules/generated/sklearn.preprocessing.StandardScaler.html"
   ]
  },
  {
   "cell_type": "code",
   "execution_count": 60,
   "metadata": {
    "scrolled": true
   },
   "outputs": [
    {
     "data": {
      "text/html": [
       "<div>\n",
       "<style scoped>\n",
       "    .dataframe tbody tr th:only-of-type {\n",
       "        vertical-align: middle;\n",
       "    }\n",
       "\n",
       "    .dataframe tbody tr th {\n",
       "        vertical-align: top;\n",
       "    }\n",
       "\n",
       "    .dataframe thead th {\n",
       "        text-align: right;\n",
       "    }\n",
       "</style>\n",
       "<table border=\"1\" class=\"dataframe\">\n",
       "  <thead>\n",
       "    <tr style=\"text-align: right;\">\n",
       "      <th></th>\n",
       "      <th>client_id</th>\n",
       "      <th>loan_type</th>\n",
       "      <th>loan_amount</th>\n",
       "      <th>repaid</th>\n",
       "      <th>loan_id</th>\n",
       "      <th>loan_start</th>\n",
       "      <th>loan_end</th>\n",
       "      <th>rate</th>\n",
       "      <th>Z_Score_LA</th>\n",
       "    </tr>\n",
       "  </thead>\n",
       "  <tbody>\n",
       "    <tr>\n",
       "      <th>0</th>\n",
       "      <td>46109</td>\n",
       "      <td>home</td>\n",
       "      <td>13672</td>\n",
       "      <td>0</td>\n",
       "      <td>10243</td>\n",
       "      <td>2002-04-16</td>\n",
       "      <td>2003-12-20</td>\n",
       "      <td>2.15</td>\n",
       "      <td>1.357792</td>\n",
       "    </tr>\n",
       "    <tr>\n",
       "      <th>1</th>\n",
       "      <td>46109</td>\n",
       "      <td>credit</td>\n",
       "      <td>9794</td>\n",
       "      <td>0</td>\n",
       "      <td>10984</td>\n",
       "      <td>2003-10-21</td>\n",
       "      <td>2005-07-17</td>\n",
       "      <td>1.25</td>\n",
       "      <td>0.429916</td>\n",
       "    </tr>\n",
       "    <tr>\n",
       "      <th>2</th>\n",
       "      <td>46109</td>\n",
       "      <td>home</td>\n",
       "      <td>12734</td>\n",
       "      <td>1</td>\n",
       "      <td>10990</td>\n",
       "      <td>2006-02-01</td>\n",
       "      <td>2007-07-05</td>\n",
       "      <td>0.68</td>\n",
       "      <td>1.133360</td>\n",
       "    </tr>\n",
       "    <tr>\n",
       "      <th>3</th>\n",
       "      <td>46109</td>\n",
       "      <td>cash</td>\n",
       "      <td>12518</td>\n",
       "      <td>1</td>\n",
       "      <td>10596</td>\n",
       "      <td>2010-12-08</td>\n",
       "      <td>2013-05-05</td>\n",
       "      <td>1.24</td>\n",
       "      <td>1.081678</td>\n",
       "    </tr>\n",
       "    <tr>\n",
       "      <th>4</th>\n",
       "      <td>46109</td>\n",
       "      <td>credit</td>\n",
       "      <td>14049</td>\n",
       "      <td>1</td>\n",
       "      <td>11415</td>\n",
       "      <td>2010-07-07</td>\n",
       "      <td>2012-05-21</td>\n",
       "      <td>3.13</td>\n",
       "      <td>1.447996</td>\n",
       "    </tr>\n",
       "  </tbody>\n",
       "</table>\n",
       "</div>"
      ],
      "text/plain": [
       "   client_id loan_type  loan_amount repaid loan_id loan_start   loan_end  \\\n",
       "0      46109      home        13672      0   10243 2002-04-16 2003-12-20   \n",
       "1      46109    credit         9794      0   10984 2003-10-21 2005-07-17   \n",
       "2      46109      home        12734      1   10990 2006-02-01 2007-07-05   \n",
       "3      46109      cash        12518      1   10596 2010-12-08 2013-05-05   \n",
       "4      46109    credit        14049      1   11415 2010-07-07 2012-05-21   \n",
       "\n",
       "   rate  Z_Score_LA  \n",
       "0  2.15    1.357792  \n",
       "1  1.25    0.429916  \n",
       "2  0.68    1.133360  \n",
       "3  1.24    1.081678  \n",
       "4  3.13    1.447996  "
      ]
     },
     "execution_count": 60,
     "metadata": {},
     "output_type": "execute_result"
    }
   ],
   "source": [
    "# Loans data:\n",
    "\n",
    "df4 = df3.copy()\n",
    "df4.drop(columns = ['Z_Score_Rate'], inplace=True)\n",
    "df4.head()"
   ]
  },
  {
   "cell_type": "code",
   "execution_count": 61,
   "metadata": {},
   "outputs": [],
   "source": [
    "from sklearn.preprocessing import StandardScaler"
   ]
  },
  {
   "cell_type": "code",
   "execution_count": 62,
   "metadata": {},
   "outputs": [
    {
     "data": {
      "text/html": [
       "<div>\n",
       "<style scoped>\n",
       "    .dataframe tbody tr th:only-of-type {\n",
       "        vertical-align: middle;\n",
       "    }\n",
       "\n",
       "    .dataframe tbody tr th {\n",
       "        vertical-align: top;\n",
       "    }\n",
       "\n",
       "    .dataframe thead th {\n",
       "        text-align: right;\n",
       "    }\n",
       "</style>\n",
       "<table border=\"1\" class=\"dataframe\">\n",
       "  <thead>\n",
       "    <tr style=\"text-align: right;\">\n",
       "      <th></th>\n",
       "      <th>loan_amount</th>\n",
       "      <th>rate</th>\n",
       "    </tr>\n",
       "    <tr>\n",
       "      <th>client_id</th>\n",
       "      <th></th>\n",
       "      <th></th>\n",
       "    </tr>\n",
       "  </thead>\n",
       "  <tbody>\n",
       "    <tr>\n",
       "      <th>46109</th>\n",
       "      <td>13672</td>\n",
       "      <td>2.15</td>\n",
       "    </tr>\n",
       "    <tr>\n",
       "      <th>46109</th>\n",
       "      <td>9794</td>\n",
       "      <td>1.25</td>\n",
       "    </tr>\n",
       "    <tr>\n",
       "      <th>46109</th>\n",
       "      <td>12734</td>\n",
       "      <td>0.68</td>\n",
       "    </tr>\n",
       "    <tr>\n",
       "      <th>46109</th>\n",
       "      <td>12518</td>\n",
       "      <td>1.24</td>\n",
       "    </tr>\n",
       "    <tr>\n",
       "      <th>46109</th>\n",
       "      <td>14049</td>\n",
       "      <td>3.13</td>\n",
       "    </tr>\n",
       "  </tbody>\n",
       "</table>\n",
       "</div>"
      ],
      "text/plain": [
       "           loan_amount  rate\n",
       "client_id                   \n",
       "46109            13672  2.15\n",
       "46109             9794  1.25\n",
       "46109            12734  0.68\n",
       "46109            12518  1.24\n",
       "46109            14049  3.13"
      ]
     },
     "execution_count": 62,
     "metadata": {},
     "output_type": "execute_result"
    }
   ],
   "source": [
    "df4_num = df[['loan_amount','rate']]\n",
    "df4_num.head()"
   ]
  },
  {
   "cell_type": "code",
   "execution_count": 63,
   "metadata": {},
   "outputs": [
    {
     "data": {
      "text/plain": [
       "array([[ 1.36502962e+00, -4.45676908e-01],\n",
       "       [ 4.34647423e-01, -8.21544457e-01],\n",
       "       [ 1.13999132e+00, -1.05959390e+00],\n",
       "       [ 1.08817014e+00, -8.25720763e-01],\n",
       "       [ 1.45547678e+00, -3.63989115e-02],\n",
       "       [-2.51263533e-01, -5.33379336e-01],\n",
       "       [-4.33117505e-01,  2.61555546e+00],\n",
       "       [ 1.12127812e+00,  3.85408004e-01],\n",
       "       [ 7.38856969e-01,  9.45033020e-01],\n",
       "       [-9.43412224e-01,  4.35523677e-01],\n",
       "       [-1.52688038e+00,  1.36683993e+00],\n",
       "       [ 1.01648330e-01, -1.13476741e+00],\n",
       "       [ 2.57831622e-01, -9.84420394e-01],\n",
       "       [-1.06960640e+00,  1.15384832e+00],\n",
       "       [ 6.88715175e-01, -1.65864400e-01],\n",
       "       [-1.54338725e-01, -8.04839232e-01],\n",
       "       [ 9.52619355e-01,  3.45982920e-02],\n",
       "       [ 5.00143642e-01, -4.05752176e-02],\n",
       "       [ 9.66054477e-01, -1.01365454e+00],\n",
       "       [-1.78094813e+00,  3.89584310e-01],\n",
       "       [ 1.20620728e+00, -5.33379336e-01],\n",
       "       [-9.91154890e-01, -1.00530192e+00],\n",
       "       [ 1.04767198e-01, -9.96949312e-01],\n",
       "       [ 9.15672770e-01,  1.37936885e+00],\n",
       "       [ 5.85312719e-01, -1.32270119e+00],\n",
       "       [ 1.67667646e+00, -1.28093813e+00],\n",
       "       [-9.23979280e-01,  3.56173861e-01],\n",
       "       [-8.45527765e-01,  1.59887475e-01],\n",
       "       [ 4.55087135e-02, -7.54723559e-01],\n",
       "       [ 1.67067864e+00,  1.14967202e+00],\n",
       "       [ 1.35207432e+00, -2.45214216e-01],\n",
       "       [-2.21034509e-01,  4.22994758e-01],\n",
       "       [ 3.83306064e-01, -6.58668519e-01],\n",
       "       [ 8.28104565e-01,  2.62456798e-02],\n",
       "       [ 7.19663938e-01,  9.28327795e-01],\n",
       "       [ 8.67210366e-01,  4.85639350e-01],\n",
       "       [ 1.46147460e+00, -8.34073375e-01],\n",
       "       [ 6.08584269e-01, -8.67483824e-01],\n",
       "       [ 1.53680725e+00,  2.93529270e-01],\n",
       "       [ 8.91728597e-02, -1.15564894e+00],\n",
       "       [-1.00051149e+00, -9.21775803e-01],\n",
       "       [-1.20803614e+00,  3.03736237e+00],\n",
       "       [-1.11566968e+00, -9.76067782e-01],\n",
       "       [-9.66923688e-01, -1.19323570e+00],\n",
       "       [ 1.51329578e+00,  2.26708372e-01],\n",
       "       [ 1.10328465e+00, -5.33379336e-01],\n",
       "       [ 7.16065244e-01, -2.91153583e-01],\n",
       "       [ 1.53949340e-01, -8.50778599e-01],\n",
       "       [ 1.53944629e+00, -8.38249681e-01],\n",
       "       [-7.34208183e-01,  1.07449851e+00],\n",
       "       [-2.58940745e-01, -9.67715170e-01],\n",
       "       [-8.37610639e-01, -1.65864400e-01],\n",
       "       [ 4.27929862e-01,  2.44850321e+00],\n",
       "       [ 3.16610281e-01, -6.33610683e-01],\n",
       "       [-1.69409966e+00, -2.66095747e-01],\n",
       "       [ 7.60928955e-01,  1.36266363e+00],\n",
       "       [ 1.18797390e+00, -7.17136804e-01],\n",
       "       [ 7.27820976e-01, -8.96717966e-01],\n",
       "       [ 6.69522144e-01,  1.37519255e+00],\n",
       "       [-1.72049008e+00, -1.16400156e+00],\n",
       "       [-1.19004268e+00,  2.16033809e+00],\n",
       "       [ 3.11812023e-01, -2.38699933e-02],\n",
       "       [ 1.44540043e+00,  3.06058188e-01],\n",
       "       [-4.89257121e-01,  1.52136326e+00],\n",
       "       [-9.95233409e-01, -7.67252477e-01],\n",
       "       [-2.30870937e-01,  5.23226105e-01],\n",
       "       [ 2.95977772e-01, -7.16476891e-03],\n",
       "       [-2.39267888e-01, -1.10553327e+00],\n",
       "       [ 1.46315399e+00, -6.98093603e-02],\n",
       "       [ 1.58507685e-01, -8.04839232e-01],\n",
       "       [ 1.04186695e+00,  1.21649292e+00],\n",
       "       [ 8.86883223e-01, -3.66327093e-01],\n",
       "       [-1.28456836e+00, -3.22226055e-02],\n",
       "       [ 9.06556080e-01, -9.71891476e-01],\n",
       "       [-3.52746686e-01,  2.52367672e+00],\n",
       "       [ 8.10158214e-02,  9.57561938e-01],\n",
       "       [-1.52951942e+00, -4.12266460e-01],\n",
       "       [-6.28646511e-01, -3.07858807e-01],\n",
       "       [-1.29872322e+00, -9.80244088e-01],\n",
       "       [ 2.97177336e-01, -9.76067782e-01],\n",
       "       [ 9.75411080e-01, -1.20576462e+00],\n",
       "       [ 8.20667265e-01,  9.40856714e-01],\n",
       "       [-1.32079520e+00, -5.83495009e-01],\n",
       "       [-1.38653133e+00,  1.74688379e+00],\n",
       "       [ 5.85312719e-01,  2.59885023e+00],\n",
       "       [-6.67512399e-01,  1.04526437e+00],\n",
       "       [ 4.70154531e-01, -3.45445562e-01],\n",
       "       [ 6.83004382e-02, -1.55173811e-02],\n",
       "       [ 1.42284862e+00, -1.10553327e+00],\n",
       "       [-1.62428501e+00, -6.41963295e-01],\n",
       "       [-9.49410046e-01, -9.88596700e-01],\n",
       "       [-1.25889768e+00, -7.71428784e-01],\n",
       "       [ 1.11336099e+00,  3.64526473e-01],\n",
       "       [ 4.61277754e-01, -9.67715170e-01],\n",
       "       [-6.51918061e-01,  4.81463044e-01],\n",
       "       [ 6.36654077e-01,  5.73341778e-01],\n",
       "       [ 8.36021690e-01,  5.60812859e-01],\n",
       "       [-6.03455657e-01, -6.83726356e-01],\n",
       "       [ 1.37126735e+00, -2.98846282e-03],\n",
       "       [-3.86574404e-01,  1.17055355e+00],\n",
       "       [ 1.20524763e+00,  7.44570327e-01],\n",
       "       [ 3.88104322e-01, -1.23917507e+00],\n",
       "       [-9.29497276e-01,  2.13945656e+00],\n",
       "       [ 8.79206011e-01,  2.79513662e+00],\n",
       "       [ 1.58167096e+00, -1.05124129e+00],\n",
       "       [ 1.10688334e+00, -1.09300435e+00],\n",
       "       [-1.36949752e+00, -9.25952109e-01],\n",
       "       [-3.59464247e-01, -8.67483824e-01],\n",
       "       [-1.45490651e+00, -6.98093603e-02],\n",
       "       [-1.22770900e+00,  1.47358556e-01],\n",
       "       [-8.44328200e-01, -3.24564032e-01],\n",
       "       [-1.11111134e+00, -1.07212282e+00],\n",
       "       [ 5.88671499e-01, -7.83957702e-01],\n",
       "       [-9.85396980e-01,  4.31347371e-01],\n",
       "       [-1.24858142e+00, -4.12266460e-01],\n",
       "       [ 1.23139813e+00,  7.23688797e-01],\n",
       "       [ 5.63960471e-01, -1.26423290e+00],\n",
       "       [-1.69817818e+00, -6.67021131e-01],\n",
       "       [ 1.20164894e+00,  3.18587106e-01],\n",
       "       [-1.96803307e-01,  2.24804052e+00],\n",
       "       [ 3.78987632e-01,  5.14873492e-01],\n",
       "       [-1.05713093e+00, -1.44982870e-01],\n",
       "       [ 9.26948676e-01, -1.82569625e-01],\n",
       "       [-1.06576780e+00,  2.45685582e+00],\n",
       "       [ 2.77984305e-01, -4.83263663e-01],\n",
       "       [-1.23610595e+00, -1.20994092e+00],\n",
       "       [ 9.42543014e-01,  4.10465840e-01],\n",
       "       [-6.37523288e-01, -1.61688094e-01],\n",
       "       [-7.06858113e-01, -2.15980073e-01],\n",
       "       [ 6.45051029e-01,  2.18355760e-01],\n",
       "       [-1.33495006e+00, -9.38481027e-01],\n",
       "       [ 1.56895557e+00,  2.18355760e-01],\n",
       "       [-1.71089356e+00, -1.06794652e+00],\n",
       "       [-5.22605013e-01,  3.85408004e-01],\n",
       "       [-1.50480839e+00, -1.21411723e+00],\n",
       "       [-1.01442644e+00,  3.87745981e-02],\n",
       "       [-1.61900693e+00,  5.69165472e-01],\n",
       "       [-1.15952662e-01, -2.07627461e-01],\n",
       "       [ 1.63613118e+00, -2.41037910e-01],\n",
       "       [-1.72960677e+00,  1.84293883e+00],\n",
       "       [ 2.86141343e-01,  8.94917347e-01],\n",
       "       [ 1.25035125e+00,  4.52228901e-01],\n",
       "       [-1.54487384e+00, -9.48671968e-02],\n",
       "       [ 4.88147998e-01, -5.54260867e-01],\n",
       "       [ 1.42433522e-01,  1.14549571e+00],\n",
       "       [-6.66552748e-01, -2.32685298e-01],\n",
       "       [-4.12484996e-01, -1.06794652e+00],\n",
       "       [-1.02666200e+00,  1.63412352e+00],\n",
       "       [-1.21163484e+00,  1.59887475e-01],\n",
       "       [-4.64066267e-01, -1.57511788e-01],\n",
       "       [ 7.11266987e-01, -1.06377021e+00],\n",
       "       [-8.38090465e-01, -3.95561235e-01],\n",
       "       [ 9.28867979e-01,  1.06196959e+00],\n",
       "       [ 1.17693791e+00, -8.59131211e-01],\n",
       "       [-1.29896313e+00, -6.08552846e-01],\n",
       "       [-3.94971355e-01,  7.40394021e-01],\n",
       "       [-3.64742331e-01, -9.25952109e-01],\n",
       "       [ 5.03262510e-01,  1.11626157e+00],\n",
       "       [-5.39878741e-01, -6.12729152e-01],\n",
       "       [ 9.33426324e-01,  3.87745981e-02],\n",
       "       [ 1.62773423e+00, -6.83726356e-01],\n",
       "       [ 1.27794124e+00, -2.32685298e-01],\n",
       "       [ 8.09391359e-01, -9.67715170e-01],\n",
       "       [-6.58875535e-01, -9.84420394e-01],\n",
       "       [-1.01706548e+00,  1.78864685e+00],\n",
       "       [-3.91132749e-01, -5.37555642e-01],\n",
       "       [ 3.37482702e-01, -7.58899865e-01],\n",
       "       [-1.75503754e+00,  7.90509694e-01],\n",
       "       [-9.90914977e-01, -4.66558439e-01],\n",
       "       [-1.46234381e+00, -1.90922237e-01],\n",
       "       [-5.86134813e-02,  4.48052595e-01],\n",
       "       [-9.96385857e-02,  6.02575920e-01],\n",
       "       [-3.52506773e-01,  2.18121962e+00],\n",
       "       [-6.55516755e-01,  9.57561938e-01],\n",
       "       [ 6.75999792e-01, -4.20619072e-01],\n",
       "       [-7.26770883e-01, -1.27676182e+00],\n",
       "       [-9.86116719e-01, -1.10553327e+00],\n",
       "       [-1.72096990e+00,  1.62577091e+00],\n",
       "       [ 1.01571645e+00,  1.09955635e+00],\n",
       "       [-1.78809840e-01,  1.16220094e+00],\n",
       "       [-3.50587470e-01,  1.23319814e+00],\n",
       "       [ 1.10592369e+00, -8.29897069e-01],\n",
       "       [-1.58325991e+00,  1.03273545e+00],\n",
       "       [ 1.62125658e+00, -8.21544457e-01],\n",
       "       [-5.19246232e-01, -8.34073375e-01],\n",
       "       [-1.75695684e+00, -7.08784192e-01],\n",
       "       [-4.06200145e-02, -4.49853215e-01],\n",
       "       [-1.80682027e-02,  6.90278348e-01],\n",
       "       [-1.24402308e+00,  7.98862307e-01],\n",
       "       [ 1.72902459e-01, -1.08882805e+00],\n",
       "       [-9.28537625e-01,  9.28327795e-01],\n",
       "       [ 7.39816621e-01, -7.54723559e-01],\n",
       "       [ 6.83197178e-01,  7.36217715e-01],\n",
       "       [ 1.44516052e+00, -1.70040706e-01],\n",
       "       [-5.86901668e-01, -1.12641480e+00],\n",
       "       [-3.99289787e-01,  3.20441461e+00],\n",
       "       [ 7.00470907e-01,  1.46707128e+00],\n",
       "       [-1.63580083e+00, -1.13476741e+00],\n",
       "       [ 1.26714516e+00, -1.01783084e+00],\n",
       "       [ 1.94734532e-01, -6.62844825e-01],\n",
       "       [-6.49518932e-01, -7.38018335e-01],\n",
       "       [ 1.05434242e+00, -1.13059111e+00],\n",
       "       [-7.50042434e-01, -8.67483824e-01],\n",
       "       [ 5.46686743e-01, -1.03453607e+00],\n",
       "       [ 1.31512773e+00, -4.54029521e-01],\n",
       "       [ 1.14622906e+00,  9.24151489e-01],\n",
       "       [-1.17540799e+00,  1.41695561e+00],\n",
       "       [-4.40314891e-01,  9.54045545e-03],\n",
       "       [-1.23202743e+00, -7.92310314e-01],\n",
       "       [-1.57654234e+00, -9.90435029e-02],\n",
       "       [-1.05209276e+00, -1.99274849e-01],\n",
       "       [-4.47032452e-01, -3.62150787e-01],\n",
       "       [ 2.58358564e-02, -1.55173811e-02],\n",
       "       [ 1.35807214e+00, -8.00662926e-01],\n",
       "       [-5.27403271e-01, -5.20850418e-01],\n",
       "       [-4.81819821e-01, -2.95329889e-01],\n",
       "       [ 1.28278661e-01, -1.07629913e+00],\n",
       "       [-1.13750175e+00, -1.05541760e+00],\n",
       "       [ 9.22917273e-02,  1.47124759e+00],\n",
       "       [-1.83081156e-02,  1.93297923e-01],\n",
       "       [ 9.85487421e-01, -8.09015538e-01],\n",
       "       [ 3.63633207e-01, -3.99737541e-01],\n",
       "       [-1.22483005e+00, -1.02618346e+00],\n",
       "       [-1.64251839e+00,  9.82619775e-01],\n",
       "       [ 1.41661089e+00,  7.23688797e-01],\n",
       "       [-9.91154890e-01, -1.18488309e+00],\n",
       "       [-1.65835264e+00, -9.46833639e-01],\n",
       "       [-1.36925761e+00,  2.47356105e+00],\n",
       "       [ 1.50537866e+00, -1.20158831e+00],\n",
       "       [ 3.01015943e-01, -1.33940641e+00],\n",
       "       [-1.28408853e+00,  3.18587106e-01],\n",
       "       [-7.24131842e-01,  3.97936922e-01],\n",
       "       [-1.49953031e+00, -5.75142397e-01],\n",
       "       [ 1.39165995e+00, -1.09718066e+00],\n",
       "       [-4.75582086e-01,  1.32090057e+00],\n",
       "       [ 1.09656709e+00, -9.90435029e-02],\n",
       "       [-1.34406675e+00,  1.54642110e+00],\n",
       "       [ 1.63181275e+00,  7.48746634e-01],\n",
       "       [ 1.36550944e+00, -4.45676908e-01],\n",
       "       [ 9.40143885e-01,  2.30650881e+00],\n",
       "       [-8.98068688e-01,  2.97705576e-01],\n",
       "       [-1.50888691e+00, -7.33842029e-01],\n",
       "       [-1.65134805e-01,  6.35986369e-01],\n",
       "       [ 6.28497039e-01,  5.10697186e-01],\n",
       "       [-1.24858142e+00, -1.23499876e+00],\n",
       "       [ 5.77442709e-02, -4.28971684e-01],\n",
       "       [ 1.41061306e+00,  1.20814030e+00],\n",
       "       [ 1.36766866e+00,  3.56173861e-01],\n",
       "       [-8.97588862e-01, -2.57743134e-01],\n",
       "       [ 1.59318677e+00,  1.33760579e+00],\n",
       "       [-4.72703132e-01,  5.90047002e-01],\n",
       "       [ 6.03786011e-01, -8.00662926e-01],\n",
       "       [ 1.61237981e+00, -8.46602293e-01],\n",
       "       [ 2.71746570e-01,  3.10234494e-01],\n",
       "       [-7.83150413e-01, -1.99274849e-01],\n",
       "       [ 1.64452813e+00, -1.20994092e+00],\n",
       "       [ 1.24315387e+00, -8.67483824e-01],\n",
       "       [-1.82168620e-01,  7.82157082e-01],\n",
       "       [ 1.61669824e+00,  1.47960020e+00],\n",
       "       [ 6.12902701e-01,  8.88902712e-02],\n",
       "       [-8.83194088e-01,  1.93297923e-01],\n",
       "       [ 3.38682267e-01,  1.21231661e+00],\n",
       "       [-8.41449245e-01,  1.40442669e+00],\n",
       "       [-2.34469631e-01,  2.50697150e+00],\n",
       "       [-3.22997487e-01, -1.61688094e-01],\n",
       "       [ 1.56588382e-01,  7.32041409e-01],\n",
       "       [-6.00816615e-01,  1.64063781e-01],\n",
       "       [ 1.46867198e+00,  2.39237290e-01],\n",
       "       [ 5.12859026e-01, -3.32916644e-01],\n",
       "       [-1.43451391e+00, -8.21544457e-01],\n",
       "       [ 3.71790246e-01, -1.31434858e+00],\n",
       "       [-6.95102382e-01, -1.03219809e-01],\n",
       "       [-4.44633323e-01, -1.90922237e-01],\n",
       "       [-1.80009404e-01,  1.55711169e-01],\n",
       "       [-2.78613603e-01,  3.47821249e-01],\n",
       "       [-7.32288880e-01,  2.62456798e-02],\n",
       "       [-1.62212579e+00,  9.61738244e-01],\n",
       "       [ 1.10088552e+00,  1.40025038e+00],\n",
       "       [-1.10511351e+00, -1.22246984e+00],\n",
       "       [ 7.65967126e-01,  1.63829983e+00],\n",
       "       [-8.05462312e-01,  8.61506898e-01],\n",
       "       [-4.19922296e-01,  1.50883434e+00],\n",
       "       [-8.64480883e-01, -5.72804420e-02],\n",
       "       [ 7.35978014e-01,  1.13948108e-01],\n",
       "       [ 1.03370991e+00, -8.59131211e-01],\n",
       "       [ 3.99140315e-01, -1.14729633e+00],\n",
       "       [ 8.79685836e-01, -1.07629913e+00],\n",
       "       [-7.27730535e-01, -7.25489417e-01],\n",
       "       [ 7.58050000e-01, -1.22246984e+00],\n",
       "       [ 5.57242910e-01, -1.30181966e+00],\n",
       "       [ 9.36545192e-01,  2.46103213e+00],\n",
       "       [ 1.06177972e+00, -9.76067782e-01],\n",
       "       [ 8.53055505e-01, -1.10553327e+00],\n",
       "       [-1.02642208e+00, -1.27258551e+00],\n",
       "       [ 1.48258693e+00,  1.66753397e+00],\n",
       "       [ 9.11834164e-01, -2.41037910e-01],\n",
       "       [-1.63888124e-02,  8.48977980e-01],\n",
       "       [-7.93466667e-01, -1.86745931e-01],\n",
       "       [-1.41004280e+00, -1.28277646e-01],\n",
       "       [ 5.03742336e-01, -1.08047543e+00],\n",
       "       [ 9.84287857e-01,  1.07032220e+00],\n",
       "       [-9.01187555e-01,  1.44201344e+00],\n",
       "       [-2.22234073e-01, -5.12497806e-01],\n",
       "       [-3.62103289e-01,  8.19743837e-01],\n",
       "       [-6.78308479e-01,  1.01603022e+00],\n",
       "       [ 3.72270071e-01, -1.96936872e-02],\n",
       "       [-3.26836094e-01, -1.32270119e+00],\n",
       "       [-1.40980288e+00, -2.91153583e-01],\n",
       "       [-1.56790548e+00, -1.18070678e+00],\n",
       "       [ 1.42212888e+00, -2.86977277e-01],\n",
       "       [ 1.39309942e+00, -4.95792582e-01],\n",
       "       [-5.31961616e-01,  1.48795281e+00],\n",
       "       [-2.63259178e-01, -2.70272053e-01],\n",
       "       [ 1.28489871e+00, -1.33523011e+00],\n",
       "       [ 9.32946498e-01,  3.60350167e-01],\n",
       "       [ 1.65964265e+00,  6.40162675e-01],\n",
       "       [-5.93619229e-01, -1.00947823e+00],\n",
       "       [-1.28576792e+00,  1.68240087e-01],\n",
       "       [ 1.07545476e+00, -1.28277646e-01],\n",
       "       [ 1.88976622e-01,  4.06289534e-01],\n",
       "       [ 1.03874808e+00, -1.07396115e-01],\n",
       "       [-1.30112235e+00,  2.20693737e-02],\n",
       "       [ 4.58398799e-01,  1.14967202e+00],\n",
       "       [-1.19124224e+00, -1.33105380e+00],\n",
       "       [ 1.15558566e+00, -8.54954905e-01],\n",
       "       [-1.68733498e-01,  3.68702779e-01],\n",
       "       [-2.69736826e-01, -9.51009945e-01],\n",
       "       [-3.40751041e-01, -9.71891476e-01],\n",
       "       [-8.34011946e-01, -5.45908255e-01],\n",
       "       [-1.73152607e+00,  5.73341778e-01],\n",
       "       [ 6.70961621e-01,  1.05361698e+00],\n",
       "       [ 1.25639619e-01,  2.51114780e+00],\n",
       "       [-6.52397887e-01, -1.09300435e+00],\n",
       "       [ 3.83785890e-01, -4.37324296e-01],\n",
       "       [-1.49041362e+00, -2.41037910e-01],\n",
       "       [-1.39540811e+00, -6.92078968e-01],\n",
       "       [-1.21331423e+00, -9.90435029e-02],\n",
       "       [-1.06168928e+00,  3.93760616e-01],\n",
       "       [ 1.60062407e+00, -3.99737541e-01],\n",
       "       [ 1.59227424e-01, -5.75142397e-01],\n",
       "       [ 4.89347562e-01,  9.70090856e-01],\n",
       "       [-1.77850188e-01,  1.09120373e+00],\n",
       "       [-1.47721841e+00, -6.16905458e-01],\n",
       "       [ 3.77068329e-01, -1.16400156e+00],\n",
       "       [ 1.23523674e+00, -1.11572421e-01],\n",
       "       [ 6.65923450e-01, -8.25720763e-01],\n",
       "       [ 8.98638955e-01,  1.07032220e+00],\n",
       "       [-3.23477313e-01, -7.04607886e-01],\n",
       "       [ 6.52728241e-01,  2.41926907e+00],\n",
       "       [-1.34190754e+00,  2.47589903e-01],\n",
       "       [-1.07440466e+00, -1.25170398e+00],\n",
       "       [ 4.38006204e-01, -8.29897069e-01],\n",
       "       [ 3.89543800e-01, -5.66789785e-01],\n",
       "       [-9.75800464e-01, -1.20994092e+00],\n",
       "       [ 1.42404819e+00, -9.67715170e-01],\n",
       "       [ 2.07210002e-01, -1.36630258e-01],\n",
       "       [ 9.07035906e-01,  9.72428834e-02],\n",
       "       [ 4.89347562e-01, -1.53335482e-01],\n",
       "       [ 5.74756552e-01, -3.49621868e-01],\n",
       "       [ 1.26834472e+00,  6.56867900e-01],\n",
       "       [-1.27929027e+00, -5.12497806e-01],\n",
       "       [-1.03697825e+00, -2.78624665e-01],\n",
       "       [ 1.65124569e+00, -2.82800971e-01],\n",
       "       [-7.87948671e-01,  1.37519255e+00],\n",
       "       [-1.08616039e+00, -3.66327093e-01],\n",
       "       [ 3.21648451e-01, -1.78393319e-01],\n",
       "       [-7.69235465e-01, -9.38481027e-01],\n",
       "       [-1.09503717e+00, -1.08047543e+00],\n",
       "       [ 3.27886186e-01,  4.71272103e-02],\n",
       "       [ 1.59702538e+00, -2.86977277e-01],\n",
       "       [ 1.63661101e+00, -1.06794652e+00],\n",
       "       [-1.30927938e+00, -3.22226055e-02],\n",
       "       [-1.34022815e+00,  2.00163846e+00],\n",
       "       [ 1.09608726e+00,  8.78212122e-01],\n",
       "       [ 1.95454271e-01, -1.07629913e+00],\n",
       "       [ 1.52577125e+00, -8.04839232e-01],\n",
       "       [-5.29322574e-01, -9.25952109e-01],\n",
       "       [-1.32703294e+00, -1.19741200e+00],\n",
       "       [ 1.59654556e+00,  6.56867900e-01],\n",
       "       [ 3.29325664e-01, -6.58668519e-01],\n",
       "       [-8.01143880e-01, -1.18905939e+00],\n",
       "       [ 3.53796779e-01, -3.53798174e-01],\n",
       "       [ 1.23499683e+00, -1.15147264e+00],\n",
       "       [ 6.03546099e-01,  3.64526473e-01],\n",
       "       [-3.32594003e-01, -3.07858807e-01],\n",
       "       [ 9.97243153e-01,  6.40162675e-01],\n",
       "       [ 5.74516639e-01, -1.03035976e+00],\n",
       "       [ 2.60710577e-01,  1.07867481e+00],\n",
       "       [-1.25841785e+00,  1.23319814e+00],\n",
       "       [ 7.81368667e-02, -1.20994092e+00],\n",
       "       [ 3.97940751e-01, -5.58437173e-01],\n",
       "       [-1.34166762e+00, -7.81619725e-02],\n",
       "       [ 1.10184517e+00,  6.56867900e-01],\n",
       "       [ 1.24867186e+00, -5.25026724e-01],\n",
       "       [-1.46421599e-01,  6.94454654e-01],\n",
       "       [ 1.10448422e+00, -4.03913848e-01],\n",
       "       [ 1.66971899e+00, -5.33379336e-01],\n",
       "       [-1.67850532e+00, -1.09300435e+00],\n",
       "       [-6.92703253e-01,  7.44570327e-01],\n",
       "       [ 1.47471692e-01,  1.73017856e+00],\n",
       "       [-1.61037006e+00,  2.75754986e+00],\n",
       "       [ 1.10088552e+00, -9.59362558e-01],\n",
       "       [-5.33641006e-01, -5.58437173e-01],\n",
       "       [-4.87770528e-02,  2.50697150e+00],\n",
       "       [ 1.36143092e+00,  1.02855914e+00],\n",
       "       [ 7.77243032e-01,  9.99324999e-01],\n",
       "       [ 1.22348101e+00,  3.10234494e-01],\n",
       "       [ 5.13338851e-01, -9.13423191e-01],\n",
       "       [-3.16999665e-01, -8.75836436e-01],\n",
       "       [ 9.09435035e-01,  1.24155075e+00],\n",
       "       [-1.44291086e+00, -1.05124129e+00],\n",
       "       [-9.36694663e-01, -1.33940641e+00],\n",
       "       [-5.82583236e-01,  5.77518084e-01],\n",
       "       [ 1.60662190e+00,  1.36683993e+00],\n",
       "       [-1.29800348e+00, -3.91384929e-01],\n",
       "       [ 1.53229602e-01, -1.55173811e-02],\n",
       "       [ 1.25682890e+00,  3.01881882e-01],\n",
       "       [ 7.76523293e-01,  2.30884678e-01],\n",
       "       [ 9.50220226e-01,  1.26243228e+00],\n",
       "       [-1.34862510e+00,  4.27171065e-01],\n",
       "       [ 3.15170803e-01,  9.30665773e-02],\n",
       "       [ 3.61521107e-02,  3.92691557e+00],\n",
       "       [-4.63586442e-01,  9.72428834e-02],\n",
       "       [ 1.20740685e+00, -1.20994092e+00],\n",
       "       [-2.55055023e-02,  1.09120373e+00],\n",
       "       [-1.32463381e+00,  3.77055391e-01],\n",
       "       [ 1.54472437e+00, -1.33940641e+00],\n",
       "       [ 9.03917038e-01, -1.08047543e+00],\n",
       "       [-4.73182957e-01, -2.41037910e-01],\n",
       "       [ 8.50943405e-02, -8.29897069e-01],\n",
       "       [ 3.03894897e-01, -1.49159176e-01],\n",
       "       [ 2.19925385e-01,  3.18587106e-01],\n",
       "       [-1.58709851e+00,  1.22300720e-01],\n",
       "       [ 1.68584027e-01, -1.90922237e-01],\n",
       "       [-1.07296519e+00, -1.13410750e-02],\n",
       "       [-1.75839632e+00, -1.11572421e-01],\n",
       "       [ 1.37798491e+00, -8.42425987e-01],\n",
       "       [ 1.58598939e+00, -1.13476741e+00],\n",
       "       [ 1.19493138e+00, -3.16211420e-01],\n",
       "       [-1.50048996e+00,  8.57330592e-01],\n",
       "       [ 3.23087929e-01,  1.01603022e+00],\n",
       "       [-9.08145029e-01,  5.35755023e-01],\n",
       "       [-1.04105677e+00, -1.28929074e+00]])"
      ]
     },
     "execution_count": 63,
     "metadata": {},
     "output_type": "execute_result"
    }
   ],
   "source": [
    "SS = StandardScaler()\n",
    "\n",
    "scaled_x = SS.fit_transform(df4_num)\n",
    "scaled_x"
   ]
  },
  {
   "cell_type": "markdown",
   "metadata": {},
   "source": [
    "### 6b.  Normalization: Min Max Scalar\n",
    "\n",
    "Scales the data using the formula (x - min)/(max - min)\n",
    "\n",
    "#### Manually:"
   ]
  },
  {
   "cell_type": "code",
   "execution_count": 64,
   "metadata": {},
   "outputs": [
    {
     "data": {
      "text/plain": [
       "0.01"
      ]
     },
     "execution_count": 64,
     "metadata": {},
     "output_type": "execute_result"
    }
   ],
   "source": [
    "# ForeRate:\n",
    "min_rate = df4.rate.min()\n",
    "min_rate"
   ]
  },
  {
   "cell_type": "code",
   "execution_count": 65,
   "metadata": {},
   "outputs": [
    {
     "data": {
      "text/plain": [
       "9.91"
      ]
     },
     "execution_count": 65,
     "metadata": {},
     "output_type": "execute_result"
    }
   ],
   "source": [
    "max_rate = df4.rate.max()\n",
    "max_rate"
   ]
  },
  {
   "cell_type": "code",
   "execution_count": 66,
   "metadata": {},
   "outputs": [],
   "source": [
    "df4['Min_Max_R'] = (df4['rate'] - min_rate)/ (max_rate - min_rate)"
   ]
  },
  {
   "cell_type": "code",
   "execution_count": 67,
   "metadata": {
    "scrolled": true
   },
   "outputs": [
    {
     "name": "stdout",
     "output_type": "stream",
     "text": [
      "The skewness for the original data is 0.7594062707815686.\n",
      "The skewness for the Zscore Scaled column is 0.7594062707815689.\n",
      "The skewness for the Min Max Scaled Data is 0.7594062707815686.\n",
      "\n",
      "The kurtosis for the original data is -0.05964248048746912.\n",
      "The kurtosis for the Zscore Scaled columns is -0.05964248048746734.\n",
      "The kurtosis for the Min Max Scaled Data is -0.05964248048746823.\n"
     ]
    }
   ],
   "source": [
    "# checking if the skewness and kurtosis post scaling or not:\n",
    "\n",
    "# For Rate:\n",
    "\n",
    "print(\"The skewness for the original data is {}.\".format(df4.rate.skew()))\n",
    "print(\"The skewness for the Zscore Scaled column is {}.\".format(df3.Z_Score_Rate.skew()))\n",
    "print(\"The skewness for the Min Max Scaled Data is {}.\".format(df4.Min_Max_R.skew()))\n",
    "\n",
    "\n",
    "print('')\n",
    "\n",
    "print(\"The kurtosis for the original data is {}.\".format(df4.rate.kurt()))\n",
    "print(\"The kurtosis for the Zscore Scaled columns is {}.\".format(df3.Z_Score_Rate.kurt()))\n",
    "print(\"The kurtosis for the Min Max Scaled Data is {}.\".format(df4.Min_Max_R.kurt()))"
   ]
  },
  {
   "cell_type": "code",
   "execution_count": 68,
   "metadata": {},
   "outputs": [
    {
     "data": {
      "image/png": "[encoded data removed]",
      "text/plain": [
       "<Figure size 1080x360 with 3 Axes>"
      ]
     },
     "metadata": {
      "needs_background": "light"
     },
     "output_type": "display_data"
    }
   ],
   "source": [
    "# Distribution of the columns\n",
    "\n",
    "# For Rate\n",
    "\n",
    "fig, axes = plt.subplots(1,3, figsize=(15,5))\n",
    "\n",
    "sns.distplot(df3['rate'], ax=axes[0])\n",
    "sns.distplot(df3['Z_Score_Rate'], ax=axes[1])\n",
    "sns.distplot(df4['Min_Max_R'], ax=axes[2])\n",
    "\n",
    "plt.tight_layout()\n",
    "plt.show()"
   ]
  },
  {
   "cell_type": "code",
   "execution_count": 69,
   "metadata": {},
   "outputs": [
    {
     "data": {
      "text/plain": [
       "559"
      ]
     },
     "execution_count": 69,
     "metadata": {},
     "output_type": "execute_result"
    }
   ],
   "source": [
    "# For Loan_amount:\n",
    "min_LA = df4.loan_amount.min()\n",
    "min_LA"
   ]
  },
  {
   "cell_type": "code",
   "execution_count": 70,
   "metadata": {},
   "outputs": [
    {
     "data": {
      "text/plain": [
       "14971"
      ]
     },
     "execution_count": 70,
     "metadata": {},
     "output_type": "execute_result"
    }
   ],
   "source": [
    "max_LA = df4.loan_amount.max()\n",
    "max_LA"
   ]
  },
  {
   "cell_type": "code",
   "execution_count": 71,
   "metadata": {},
   "outputs": [],
   "source": [
    "df4['Min_Max_LA'] = (df4['loan_amount'] - min_LA)/ (max_LA - min_LA)"
   ]
  },
  {
   "cell_type": "code",
   "execution_count": 72,
   "metadata": {},
   "outputs": [
    {
     "name": "stdout",
     "output_type": "stream",
     "text": [
      "The skewness for the original data is -0.04678765472024289.\n",
      "The skewness for the Zscore Scaled column is -0.04678765472024289.\n",
      "The skewness for the Min Max Scaled Data is -0.04678765472024256.\n",
      "\n",
      "The kurtosis for the original data is -1.2354309429278456.\n",
      "The kurtosis for the Zscore Scaled columns is -1.2354309429278456.\n",
      "The kurtosis for the Min Max Scaled Data is -1.2354309429278452.\n"
     ]
    }
   ],
   "source": [
    "# checking if the skewness and kurtosis post scaling or not:\n",
    "\n",
    "# For Rate:\n",
    "\n",
    "print(\"The skewness for the original data is {}.\".format(df4.loan_amount.skew()))\n",
    "print(\"The skewness for the Zscore Scaled column is {}.\".format(df3.Z_Score_LA.skew()))\n",
    "print(\"The skewness for the Min Max Scaled Data is {}.\".format(df4.Min_Max_LA.skew()))\n",
    "\n",
    "\n",
    "print('')\n",
    "\n",
    "print(\"The kurtosis for the original data is {}.\".format(df4.loan_amount.kurt()))\n",
    "print(\"The kurtosis for the Zscore Scaled columns is {}.\".format(df3.Z_Score_LA.kurt()))\n",
    "print(\"The kurtosis for the Min Max Scaled Data is {}.\".format(df4.Min_Max_LA.kurt()))"
   ]
  },
  {
   "cell_type": "code",
   "execution_count": 73,
   "metadata": {},
   "outputs": [
    {
     "data": {
      "image/png": "[encoded data removed]",
      "text/plain": [
       "<Figure size 1080x360 with 3 Axes>"
      ]
     },
     "metadata": {
      "needs_background": "light"
     },
     "output_type": "display_data"
    }
   ],
   "source": [
    "# Distribution of the columns\n",
    "\n",
    "# For Loan_Amount\n",
    "\n",
    "fig, axes = plt.subplots(1,3, figsize=(15,5))\n",
    "\n",
    "sns.distplot(df3['loan_amount'], ax=axes[0])\n",
    "sns.distplot(df3['Z_Score_LA'], ax=axes[1])\n",
    "sns.distplot(df4['Min_Max_LA'], ax=axes[2])\n",
    "\n",
    "plt.tight_layout()\n",
    "plt.show()"
   ]
  },
  {
   "cell_type": "markdown",
   "metadata": {},
   "source": [
    "#### By Sklearn:\n",
    "\n",
    "Documentation for Min Max Scaler: https://scikit-learn.org/stable/modules/generated/sklearn.preprocessing.MinMaxScaler.html"
   ]
  },
  {
   "cell_type": "code",
   "execution_count": 74,
   "metadata": {},
   "outputs": [],
   "source": [
    "from sklearn.preprocessing import MinMaxScaler"
   ]
  },
  {
   "cell_type": "code",
   "execution_count": 75,
   "metadata": {},
   "outputs": [
    {
     "data": {
      "text/plain": [
       "array([[9.09866778e-01, 1.69706582e-01],\n",
       "       [6.40785457e-01, 9.83346550e-02],\n",
       "       [8.44782126e-01, 5.31324346e-02],\n",
       "       [8.29794616e-01, 9.75416336e-02],\n",
       "       [9.36025534e-01, 2.47422680e-01],\n",
       "       [4.42409104e-01, 1.53053132e-01],\n",
       "       [3.89814044e-01, 7.50991277e-01],\n",
       "       [8.39369969e-01, 3.27517843e-01],\n",
       "       [7.28767694e-01, 4.33782712e-01],\n",
       "       [2.42228698e-01, 3.37034100e-01],\n",
       "       [7.34804330e-02, 5.13877875e-01],\n",
       "       [5.44476825e-01, 3.88580492e-02],\n",
       "       [5.89647516e-01, 6.74068200e-02],\n",
       "       [2.05731335e-01, 4.73433783e-01],\n",
       "       [7.14265890e-01, 2.22839017e-01],\n",
       "       [4.70441299e-01, 1.01506741e-01],\n",
       "       [7.90591174e-01, 2.60904044e-01],\n",
       "       [6.59728004e-01, 2.46629659e-01],\n",
       "       [7.94476825e-01, 6.18556701e-02],\n",
       "       [0.00000000e+00, 3.28310864e-01],\n",
       "       [8.63932834e-01, 1.53053132e-01],\n",
       "       [2.28420760e-01, 6.34417129e-02],\n",
       "       [5.45378851e-01, 6.50277557e-02],\n",
       "       [7.79905634e-01, 5.16256939e-01],\n",
       "       [6.84360255e-01, 3.17208565e-03],\n",
       "       [1.00000000e+00, 1.11022998e-02],\n",
       "       [2.47849015e-01, 3.21966693e-01],\n",
       "       [2.70538440e-01, 2.84694687e-01],\n",
       "       [5.28240355e-01, 1.11022998e-01],\n",
       "       [9.98265334e-01, 4.72640761e-01],\n",
       "       [9.06119900e-01, 2.07771610e-01],\n",
       "       [4.51151818e-01, 3.34655036e-01],\n",
       "       [6.25936719e-01, 1.29262490e-01],\n",
       "       [7.54579517e-01, 2.59318002e-01],\n",
       "       [7.23216764e-01, 4.30610626e-01],\n",
       "       [7.65889536e-01, 3.46550357e-01],\n",
       "       [9.37760200e-01, 9.59555908e-02],\n",
       "       [6.91090758e-01, 8.96114195e-02],\n",
       "       [9.59547599e-01, 3.10071372e-01],\n",
       "       [5.40868721e-01, 3.48929421e-02],\n",
       "       [2.25714682e-01, 7.93021412e-02],\n",
       "       [1.65695254e-01, 8.31086439e-01],\n",
       "       [1.92409104e-01, 6.89928628e-02],\n",
       "       [2.35428809e-01, 2.77557494e-02],\n",
       "       [9.52747710e-01, 2.97383029e-01],\n",
       "       [8.34165973e-01, 1.53053132e-01],\n",
       "       [7.22175964e-01, 1.99048374e-01],\n",
       "       [5.59603109e-01, 9.27835052e-02],\n",
       "       [9.60310852e-01, 9.51625694e-02],\n",
       "       [3.02733833e-01, 4.58366376e-01],\n",
       "       [4.40188732e-01, 7.05789056e-02],\n",
       "       [2.72828199e-01, 2.22839017e-01],\n",
       "       [6.38842631e-01, 7.19270420e-01],\n",
       "       [6.06647238e-01, 1.34020619e-01],\n",
       "       [2.51179573e-02, 2.03806503e-01],\n",
       "       [7.35151263e-01, 5.13084853e-01],\n",
       "       [8.58659450e-01, 1.18160190e-01],\n",
       "       [7.25575909e-01, 8.40602696e-02],\n",
       "       [7.08714960e-01, 5.15463918e-01],\n",
       "       [1.74854288e-02, 3.33068993e-02],\n",
       "       [1.70899251e-01, 6.64551943e-01],\n",
       "       [6.05259506e-01, 2.49801745e-01],\n",
       "       [9.33111296e-01, 3.12450436e-01],\n",
       "       [3.73577574e-01, 5.43219667e-01],\n",
       "       [2.27241188e-01, 1.08643933e-01],\n",
       "       [4.48306966e-01, 3.53687550e-01],\n",
       "       [6.00679989e-01, 2.52973830e-01],\n",
       "       [4.45878435e-01, 4.44091990e-02],\n",
       "       [9.38245906e-01, 2.41078509e-01],\n",
       "       [5.60921454e-01, 1.01506741e-01],\n",
       "       [8.16402998e-01, 4.85329104e-01],\n",
       "       [7.71579240e-01, 1.84773989e-01],\n",
       "       [1.43560921e-01, 2.48215702e-01],\n",
       "       [7.77268943e-01, 6.97858842e-02],\n",
       "       [4.13058562e-01, 7.33544806e-01],\n",
       "       [5.38509575e-01, 4.36161776e-01],\n",
       "       [7.27171801e-02, 1.76050753e-01],\n",
       "       [3.33263947e-01, 1.95876289e-01],\n",
       "       [1.39467111e-01, 6.81998414e-02],\n",
       "       [6.01026922e-01, 6.89928628e-02],\n",
       "       [7.97182903e-01, 2.53766852e-02],\n",
       "       [7.52428532e-01, 4.32989691e-01],\n",
       "       [1.33083541e-01, 1.43536875e-01],\n",
       "       [1.14071607e-01, 5.86042823e-01],\n",
       "       [6.84360255e-01, 7.47819191e-01],\n",
       "       [3.22023314e-01, 4.52815226e-01],\n",
       "       [6.51054677e-01, 1.88739096e-01],\n",
       "       [5.34832084e-01, 2.51387787e-01],\n",
       "       [9.26588954e-01, 4.44091990e-02],\n",
       "       [4.53094643e-02, 1.32434576e-01],\n",
       "       [2.40494033e-01, 6.66137986e-02],\n",
       "       [1.50985290e-01, 1.07850912e-01],\n",
       "       [8.37080211e-01, 3.23552736e-01],\n",
       "       [6.48487372e-01, 7.05789056e-02],\n",
       "       [3.26533444e-01, 3.45757335e-01],\n",
       "       [6.99208993e-01, 3.63203807e-01],\n",
       "       [7.56869276e-01, 3.60824742e-01],\n",
       "       [3.40549542e-01, 1.24504362e-01],\n",
       "       [9.11670830e-01, 2.53766852e-01],\n",
       "       [4.03275049e-01, 4.76605868e-01],\n",
       "       [8.63655287e-01, 3.95717684e-01],\n",
       "       [6.27324452e-01, 1.90325139e-02],\n",
       "       [2.46253122e-01, 6.60586836e-01],\n",
       "       [7.69358868e-01, 7.85091197e-01],\n",
       "       [9.72522898e-01, 5.47184774e-02],\n",
       "       [8.35206772e-01, 4.67882633e-02],\n",
       "       [1.18998057e-01, 7.85091197e-02],\n",
       "       [4.11115737e-01, 8.96114195e-02],\n",
       "       [9.42964197e-02, 2.41078509e-01],\n",
       "       [1.60005551e-01, 2.82315623e-01],\n",
       "       [2.70885373e-01, 1.92704203e-01],\n",
       "       [1.93727449e-01, 5.07533703e-02],\n",
       "       [6.85331668e-01, 1.05471848e-01],\n",
       "       [2.30086039e-01, 3.36241079e-01],\n",
       "       [1.53968915e-01, 1.76050753e-01],\n",
       "       [8.71218429e-01, 3.91752577e-01],\n",
       "       [6.78184846e-01, 1.42743854e-02],\n",
       "       [2.39383847e-02, 1.27676447e-01],\n",
       "       [8.62614488e-01, 3.14829500e-01],\n",
       "       [4.58159867e-01, 6.81205393e-01],\n",
       "       [6.24687760e-01, 3.52101507e-01],\n",
       "       [2.09339439e-01, 2.26804124e-01],\n",
       "       [7.83166805e-01, 2.19666931e-01],\n",
       "       [2.06841521e-01, 7.20856463e-01],\n",
       "       [5.95475992e-01, 1.62569389e-01],\n",
       "       [1.57577019e-01, 2.45836638e-02],\n",
       "       [7.87676936e-01, 3.32275971e-01],\n",
       "       [3.30696642e-01, 2.23632038e-01],\n",
       "       [3.10643908e-01, 2.13322760e-01],\n",
       "       [7.01637524e-01, 2.95796987e-01],\n",
       "       [1.28989731e-01, 7.61300555e-02],\n",
       "       [9.68845407e-01, 2.95796987e-01],\n",
       "       [2.02608937e-02, 5.15463918e-02],\n",
       "       [3.63932834e-01, 3.27517843e-01],\n",
       "       [7.98640022e-02, 2.37906423e-02],\n",
       "       [2.21690258e-01, 2.61697066e-01],\n",
       "       [4.68359700e-02, 3.62410785e-01],\n",
       "       [4.81543158e-01, 2.14908803e-01],\n",
       "       [9.88273661e-01, 2.08564631e-01],\n",
       "       [1.48487372e-02, 6.04282316e-01],\n",
       "       [5.97835137e-01, 4.24266455e-01],\n",
       "       [8.76699972e-01, 3.40206186e-01],\n",
       "       [6.82764363e-02, 2.36320381e-01],\n",
       "       [6.56258673e-01, 1.49088025e-01],\n",
       "       [5.56272551e-01, 4.71847740e-01],\n",
       "       [3.22300860e-01, 2.10150674e-01],\n",
       "       [3.95781293e-01, 5.15463918e-02],\n",
       "       [2.18151540e-01, 5.64631245e-01],\n",
       "       [1.64654455e-01, 2.84694687e-01],\n",
       "       [3.80863170e-01, 2.24425059e-01],\n",
       "       [7.20788232e-01, 5.23394132e-02],\n",
       "       [2.72689425e-01, 1.79222839e-01],\n",
       "       [7.83721898e-01, 4.55987312e-01],\n",
       "       [8.55467666e-01, 9.11974623e-02],\n",
       "       [1.39397724e-01, 1.38778747e-01],\n",
       "       [4.00846517e-01, 3.94924663e-01],\n",
       "       [4.09589231e-01, 7.85091197e-02],\n",
       "       [6.60630031e-01, 4.66296590e-01],\n",
       "       [3.58936997e-01, 1.37985726e-01],\n",
       "       [7.85040244e-01, 2.61697066e-01],\n",
       "       [9.85845129e-01, 1.24504362e-01],\n",
       "       [8.84679434e-01, 2.10150674e-01],\n",
       "       [7.49167361e-01, 7.05789056e-02],\n",
       "       [3.24521232e-01, 6.74068200e-02],\n",
       "       [2.20927005e-01, 5.93973037e-01],\n",
       "       [4.01956703e-01, 1.52260111e-01],\n",
       "       [6.12683875e-01, 1.10229976e-01],\n",
       "       [7.49375520e-03, 4.04440920e-01],\n",
       "       [2.28490147e-01, 1.65741475e-01],\n",
       "       [9.21454344e-02, 2.18080888e-01],\n",
       "       [4.98126561e-01, 3.39413164e-01],\n",
       "       [4.86261449e-01, 3.68754956e-01],\n",
       "       [4.13127949e-01, 6.68517050e-01],\n",
       "       [3.25492645e-01, 4.36161776e-01],\n",
       "       [7.10588399e-01, 1.74464711e-01],\n",
       "       [3.04884818e-01, 1.18953212e-02],\n",
       "       [2.29877880e-01, 4.44091990e-02],\n",
       "       [1.73466556e-02, 5.63045202e-01],\n",
       "       [8.08839856e-01, 4.63124504e-01],\n",
       "       [4.63363863e-01, 4.75019826e-01],\n",
       "       [4.13683042e-01, 4.88501190e-01],\n",
       "       [8.34929226e-01, 9.67486122e-02],\n",
       "       [5.71745767e-02, 4.50436162e-01],\n",
       "       [9.83971690e-01, 9.83346550e-02],\n",
       "       [3.64904246e-01, 9.59555908e-02],\n",
       "       [6.93866223e-03, 1.19746233e-01],\n",
       "       [5.03330558e-01, 1.68913561e-01],\n",
       "       [5.09852900e-01, 3.85408406e-01],\n",
       "       [1.55287261e-01, 4.06026963e-01],\n",
       "       [5.65084652e-01, 4.75812847e-02],\n",
       "       [2.46530669e-01, 4.30610626e-01],\n",
       "       [7.29045240e-01, 1.11022998e-01],\n",
       "       [7.12669997e-01, 3.94131642e-01],\n",
       "       [9.33041910e-01, 2.22045995e-01],\n",
       "       [3.45337219e-01, 4.04440920e-02],\n",
       "       [3.99597558e-01, 8.62807296e-01],\n",
       "       [7.17665834e-01, 5.32910389e-01],\n",
       "       [4.19789065e-02, 3.88580492e-02],\n",
       "       [8.81557036e-01, 6.10626487e-02],\n",
       "       [5.71398834e-01, 1.28469469e-01],\n",
       "       [3.27227311e-01, 1.14195083e-01],\n",
       "       [8.20011102e-01, 3.96510706e-02],\n",
       "       [2.98154316e-01, 8.96114195e-02],\n",
       "       [6.73189009e-01, 5.78905630e-02],\n",
       "       [8.95434360e-01, 1.68120539e-01],\n",
       "       [8.46586178e-01, 4.29817605e-01],\n",
       "       [1.75131835e-01, 5.23394132e-01],\n",
       "       [3.87732445e-01, 2.56145916e-01],\n",
       "       [1.58756592e-01, 1.03885805e-01],\n",
       "       [5.91174022e-02, 2.35527359e-01],\n",
       "       [2.10796558e-01, 2.16494845e-01],\n",
       "       [3.85789620e-01, 1.85567010e-01],\n",
       "       [5.22550652e-01, 2.51387787e-01],\n",
       "       [9.07854566e-01, 1.02299762e-01],\n",
       "       [3.62545101e-01, 1.55432197e-01],\n",
       "       [3.75728560e-01, 1.98255353e-01],\n",
       "       [5.52178740e-01, 4.99603489e-02],\n",
       "       [1.86094921e-01, 5.39254560e-02],\n",
       "       [5.41770747e-01, 5.33703410e-01],\n",
       "       [5.09783514e-01, 2.91038858e-01],\n",
       "       [8.00097141e-01, 1.00713719e-01],\n",
       "       [6.20247016e-01, 1.78429818e-01],\n",
       "       [1.60838190e-01, 5.94766059e-02],\n",
       "       [4.00360810e-02, 4.40919905e-01],\n",
       "       [9.24784901e-01, 3.91752577e-01],\n",
       "       [2.28420760e-01, 2.93417922e-02],\n",
       "       [3.54565640e-02, 7.45440127e-02],\n",
       "       [1.19067444e-01, 7.24028549e-01],\n",
       "       [9.50457952e-01, 2.61697066e-02],\n",
       "       [6.02137108e-01, 0.00000000e+00],\n",
       "       [1.43699695e-01, 3.14829500e-01],\n",
       "       [3.05648071e-01, 3.29896907e-01],\n",
       "       [8.13905079e-02, 1.45122918e-01],\n",
       "       [9.17568693e-01, 4.59952419e-02],\n",
       "       [3.77532612e-01, 5.05154639e-01],\n",
       "       [8.32223147e-01, 2.35527359e-01],\n",
       "       [1.26353039e-01, 5.47977795e-01],\n",
       "       [9.87024702e-01, 3.96510706e-01],\n",
       "       [9.10005551e-01, 1.69706582e-01],\n",
       "       [7.86983070e-01, 6.92307692e-01],\n",
       "       [2.55342770e-01, 3.10864393e-01],\n",
       "       [7.86844296e-02, 1.14988105e-01],\n",
       "       [4.67318901e-01, 3.75099128e-01],\n",
       "       [6.96849847e-01, 3.51308485e-01],\n",
       "       [1.53968915e-01, 1.98255353e-02],\n",
       "       [5.31779073e-01, 1.72878668e-01],\n",
       "       [9.23050236e-01, 4.83743061e-01],\n",
       "       [9.10630031e-01, 3.21966693e-01],\n",
       "       [2.55481543e-01, 2.05392546e-01],\n",
       "       [9.75853455e-01, 5.08326725e-01],\n",
       "       [3.78365251e-01, 3.66375892e-01],\n",
       "       [6.89703025e-01, 1.02299762e-01],\n",
       "       [9.81404385e-01, 9.35765266e-02],\n",
       "       [5.93671940e-01, 3.13243458e-01],\n",
       "       [2.88578962e-01, 2.16494845e-01],\n",
       "       [9.90702193e-01, 2.45836638e-02],\n",
       "       [8.74618374e-01, 8.96114195e-02],\n",
       "       [4.62392451e-01, 4.02854877e-01],\n",
       "       [9.82653344e-01, 5.35289453e-01],\n",
       "       [6.92339717e-01, 2.71213323e-01],\n",
       "       [2.59644740e-01, 2.91038858e-01],\n",
       "       [6.13030808e-01, 4.84536082e-01],\n",
       "       [2.71718013e-01, 5.21015067e-01],\n",
       "       [4.47266167e-01, 7.30372720e-01],\n",
       "       [4.21662503e-01, 2.23632038e-01],\n",
       "       [5.60366361e-01, 3.93338620e-01],\n",
       "       [3.41312795e-01, 2.85487708e-01],\n",
       "       [9.39841799e-01, 2.99762094e-01],\n",
       "       [6.63405495e-01, 1.91118160e-01],\n",
       "       [1.00194283e-01, 9.83346550e-02],\n",
       "       [6.22606162e-01, 4.75812847e-03],\n",
       "       [3.14043852e-01, 2.34734338e-01],\n",
       "       [3.86483486e-01, 2.18080888e-01],\n",
       "       [4.63016930e-01, 2.83901665e-01],\n",
       "       [4.34499029e-01, 3.20380650e-01],\n",
       "       [3.03288926e-01, 2.59318002e-01],\n",
       "       [4.59339439e-02, 4.36954798e-01],\n",
       "       [8.33472107e-01, 5.20222046e-01],\n",
       "       [1.95462115e-01, 2.22045995e-02],\n",
       "       [7.36608382e-01, 5.65424266e-01],\n",
       "       [2.82126006e-01, 4.17922284e-01],\n",
       "       [3.93630308e-01, 5.40840603e-01],\n",
       "       [2.65056897e-01, 2.43457573e-01],\n",
       "       [7.27935054e-01, 2.75971451e-01],\n",
       "       [8.14043852e-01, 9.11974623e-02],\n",
       "       [6.30516236e-01, 3.64789849e-02],\n",
       "       [7.69497641e-01, 4.99603489e-02],\n",
       "       [3.04607272e-01, 1.16574148e-01],\n",
       "       [7.34318623e-01, 2.22045995e-02],\n",
       "       [6.76242021e-01, 7.13719270e-03],\n",
       "       [7.85942270e-01, 7.21649485e-01],\n",
       "       [8.22162087e-01, 6.89928628e-02],\n",
       "       [7.61795726e-01, 4.44091990e-02],\n",
       "       [2.18220927e-01, 1.26883426e-02],\n",
       "       [9.43866223e-01, 5.70975416e-01],\n",
       "       [7.78795448e-01, 2.08564631e-01],\n",
       "       [5.10338607e-01, 4.15543220e-01],\n",
       "       [2.85595337e-01, 2.18873910e-01],\n",
       "       [1.07271718e-01, 2.29976209e-01],\n",
       "       [6.60768804e-01, 4.91673275e-02],\n",
       "       [7.99750208e-01, 4.57573354e-01],\n",
       "       [2.54440744e-01, 5.28152260e-01],\n",
       "       [4.50804885e-01, 1.57018239e-01],\n",
       "       [4.10352484e-01, 4.09992070e-01],\n",
       "       [3.18900916e-01, 4.47264076e-01],\n",
       "       [6.22744935e-01, 2.50594766e-01],\n",
       "       [4.20552318e-01, 3.17208565e-03],\n",
       "       [1.07341105e-01, 1.99048374e-01],\n",
       "       [6.16153206e-02, 3.01348136e-02],\n",
       "       [9.26380794e-01, 1.99841396e-01],\n",
       "       [9.17985012e-01, 1.60190325e-01],\n",
       "       [3.61226755e-01, 5.36875496e-01],\n",
       "       [4.38939772e-01, 2.03013481e-01],\n",
       "       [8.86691646e-01, 7.93021412e-04],\n",
       "       [7.84901471e-01, 3.22759715e-01],\n",
       "       [9.95073550e-01, 3.75892149e-01],\n",
       "       [3.43394394e-01, 6.26486915e-02],\n",
       "       [1.43213988e-01, 2.86280730e-01],\n",
       "       [8.26117125e-01, 2.29976209e-01],\n",
       "       [5.69733555e-01, 3.31482950e-01],\n",
       "       [8.15500971e-01, 2.33941316e-01],\n",
       "       [1.38773245e-01, 2.58524980e-01],\n",
       "       [6.47654732e-01, 4.72640761e-01],\n",
       "       [1.70552318e-01, 1.58604282e-03],\n",
       "       [8.49292256e-01, 9.19904837e-02],\n",
       "       [4.66278102e-01, 3.24345757e-01],\n",
       "       [4.37066334e-01, 7.37509913e-02],\n",
       "       [4.16527893e-01, 6.97858842e-02],\n",
       "       [2.73868998e-01, 1.50674068e-01],\n",
       "       [1.42936442e-02, 3.63203807e-01],\n",
       "       [7.09131279e-01, 4.54401269e-01],\n",
       "       [5.51415487e-01, 7.31165741e-01],\n",
       "       [3.26394671e-01, 4.67882633e-02],\n",
       "       [6.26075493e-01, 1.71292625e-01],\n",
       "       [8.40271996e-02, 2.08564631e-01],\n",
       "       [1.11504302e-01, 1.22918319e-01],\n",
       "       [1.64168748e-01, 2.35527359e-01],\n",
       "       [2.08021094e-01, 3.29103886e-01],\n",
       "       [9.78004441e-01, 1.78429818e-01],\n",
       "       [5.61129614e-01, 1.45122918e-01],\n",
       "       [6.56605606e-01, 4.38540841e-01],\n",
       "       [4.63641410e-01, 4.61538462e-01],\n",
       "       [8.78434638e-02, 1.37192704e-01],\n",
       "       [6.24132667e-01, 3.33068993e-02],\n",
       "       [8.72328615e-01, 2.33148295e-01],\n",
       "       [7.07674160e-01, 9.75416336e-02],\n",
       "       [7.74979184e-01, 4.57573354e-01],\n",
       "       [4.21523730e-01, 1.20539255e-01],\n",
       "       [7.03857896e-01, 7.13719270e-01],\n",
       "       [1.26977519e-01, 3.01348136e-01],\n",
       "       [2.04343603e-01, 1.66534496e-02],\n",
       "       [6.41756869e-01, 9.67486122e-02],\n",
       "       [6.27740772e-01, 1.46708961e-01],\n",
       "       [2.32861504e-01, 2.45836638e-02],\n",
       "       [9.26935887e-01, 7.05789056e-02],\n",
       "       [5.75006939e-01, 2.28390167e-01],\n",
       "       [7.77407716e-01, 2.72799366e-01],\n",
       "       [6.56605606e-01, 2.25218081e-01],\n",
       "       [6.81307244e-01, 1.87946075e-01],\n",
       "       [8.81903969e-01, 3.79064235e-01],\n",
       "       [1.45087427e-01, 1.57018239e-01],\n",
       "       [2.15167916e-01, 2.01427439e-01],\n",
       "       [9.92645018e-01, 2.00634417e-01],\n",
       "       [2.87191230e-01, 5.15463918e-01],\n",
       "       [2.00943658e-01, 1.84773989e-01],\n",
       "       [6.08104357e-01, 2.20459952e-01],\n",
       "       [2.92603386e-01, 7.61300555e-02],\n",
       "       [1.98376353e-01, 4.91673275e-02],\n",
       "       [6.09908410e-01, 2.63283109e-01],\n",
       "       [9.76963641e-01, 1.99841396e-01],\n",
       "       [9.88412434e-01, 5.15463918e-02],\n",
       "       [1.36414099e-01, 2.48215702e-01],\n",
       "       [1.27463225e-01, 6.34417129e-01],\n",
       "       [8.32084374e-01, 4.21094370e-01],\n",
       "       [5.71606994e-01, 4.99603489e-02],\n",
       "       [9.56355815e-01, 1.01506741e-01],\n",
       "       [3.61990008e-01, 7.85091197e-02],\n",
       "       [1.31279489e-01, 2.69627280e-02],\n",
       "       [9.76824868e-01, 3.79064235e-01],\n",
       "       [6.10324729e-01, 1.29262490e-01],\n",
       "       [2.83374965e-01, 2.85487708e-02],\n",
       "       [6.17402165e-01, 1.87153053e-01],\n",
       "       [8.72259228e-01, 3.56859635e-02],\n",
       "       [6.89633639e-01, 3.23552736e-01],\n",
       "       [4.18887039e-01, 1.95876289e-01],\n",
       "       [8.03497086e-01, 3.75892149e-01],\n",
       "       [6.81237857e-01, 5.86835845e-02],\n",
       "       [5.90480155e-01, 4.59159397e-01],\n",
       "       [1.51124063e-01, 4.88501190e-01],\n",
       "       [5.37676936e-01, 2.45836638e-02],\n",
       "       [6.30169303e-01, 1.48295004e-01],\n",
       "       [1.27046905e-01, 2.39492466e-01],\n",
       "       [8.33749653e-01, 3.79064235e-01],\n",
       "       [8.76214266e-01, 1.54639175e-01],\n",
       "       [4.72731057e-01, 3.86201427e-01],\n",
       "       [8.34512906e-01, 1.77636796e-01],\n",
       "       [9.97987788e-01, 1.53053132e-01],\n",
       "       [2.96280877e-02, 4.67882633e-02],\n",
       "       [3.14737719e-01, 3.95717684e-01],\n",
       "       [5.57729670e-01, 5.82870738e-01],\n",
       "       [4.93338884e-02, 7.77954005e-01],\n",
       "       [8.33472107e-01, 7.21649485e-02],\n",
       "       [3.60741049e-01, 1.48295004e-01],\n",
       "       [5.00971413e-01, 7.30372720e-01],\n",
       "       [9.08825978e-01, 4.49643140e-01],\n",
       "       [7.39869553e-01, 4.44091990e-01],\n",
       "       [8.68928671e-01, 3.13243458e-01],\n",
       "       [6.63544269e-01, 8.08881840e-02],\n",
       "       [4.23397169e-01, 8.80253767e-02],\n",
       "       [7.78101582e-01, 4.90087232e-01],\n",
       "       [9.77657508e-02, 5.47184774e-02],\n",
       "       [2.44171524e-01, 0.00000000e+00],\n",
       "       [3.46586178e-01, 3.63996828e-01],\n",
       "       [9.79739106e-01, 5.13877875e-01],\n",
       "       [1.39675271e-01, 1.80015860e-01],\n",
       "       [5.59394949e-01, 2.51387787e-01],\n",
       "       [8.78573411e-01, 3.11657415e-01],\n",
       "       [7.39661393e-01, 2.98176051e-01],\n",
       "       [7.89897308e-01, 4.94052339e-01],\n",
       "       [1.25034693e-01, 3.35448057e-01],\n",
       "       [6.06230919e-01, 2.72006344e-01],\n",
       "       [5.25534277e-01, 1.00000000e+00],\n",
       "       [3.81001943e-01, 2.72799366e-01],\n",
       "       [8.64279767e-01, 2.45836638e-02],\n",
       "       [5.07701915e-01, 4.61538462e-01],\n",
       "       [1.31973356e-01, 3.25931800e-01],\n",
       "       [9.61837358e-01, 0.00000000e+00],\n",
       "       [7.76505690e-01, 4.91673275e-02],\n",
       "       [3.78226478e-01, 2.08564631e-01],\n",
       "       [5.39689148e-01, 9.67486122e-02],\n",
       "       [6.02969747e-01, 2.26011102e-01],\n",
       "       [5.78684430e-01, 3.14829500e-01],\n",
       "       [5.60643908e-02, 2.77557494e-01],\n",
       "       [5.63835692e-01, 2.18080888e-01],\n",
       "       [2.04759922e-01, 2.52180809e-01],\n",
       "       [6.52234249e-03, 2.33148295e-01],\n",
       "       [9.13613655e-01, 9.43695480e-02],\n",
       "       [9.73771857e-01, 3.88580492e-02],\n",
       "       [8.60671663e-01, 1.94290246e-01],\n",
       "       [8.11129614e-02, 4.17129262e-01],\n",
       "       [6.08520677e-01, 4.47264076e-01],\n",
       "       [2.52428532e-01, 3.56066614e-01],\n",
       "       [2.13988343e-01, 9.51625694e-03]])"
      ]
     },
     "execution_count": 75,
     "metadata": {},
     "output_type": "execute_result"
    }
   ],
   "source": [
    "MS = MinMaxScaler()\n",
    "\n",
    "MinMaxScaled = MS.fit_transform(df4_num)\n",
    "MinMaxScaled"
   ]
  },
  {
   "cell_type": "markdown",
   "metadata": {},
   "source": [
    "### Few things to keep in mind:\n",
    "\n",
    "With Scaling all three - Skewness, Kurtosis and distribution remain same so there is no impact on outliers as well."
   ]
  },
  {
   "cell_type": "markdown",
   "metadata": {},
   "source": [
    "------------------"
   ]
  },
  {
   "cell_type": "markdown",
   "metadata": {},
   "source": [
    "### 10. Encoding the Categorical Features\n",
    "\n",
    "There are two ways to encode the categorical data into dummyvariables. Using: \n",
    "\n",
    "1) pd.get_dummies\\\n",
    "2) sklearn's in-built function of OneHotEncoder and LabelEncoder"
   ]
  },
  {
   "cell_type": "code",
   "execution_count": 76,
   "metadata": {},
   "outputs": [],
   "source": [
    "# Loans data:\n",
    "\n",
    "df_loans = df3.copy()"
   ]
  },
  {
   "cell_type": "code",
   "execution_count": 77,
   "metadata": {
    "scrolled": true
   },
   "outputs": [],
   "source": [
    "df_loans.drop(columns = ['Z_Score_Rate'], inplace=True)\n",
    "df_loans.drop(columns = ['Z_Score_LA'], inplace=True)"
   ]
  },
  {
   "cell_type": "code",
   "execution_count": 78,
   "metadata": {},
   "outputs": [
    {
     "data": {
      "text/html": [
       "<div>\n",
       "<style scoped>\n",
       "    .dataframe tbody tr th:only-of-type {\n",
       "        vertical-align: middle;\n",
       "    }\n",
       "\n",
       "    .dataframe tbody tr th {\n",
       "        vertical-align: top;\n",
       "    }\n",
       "\n",
       "    .dataframe thead th {\n",
       "        text-align: right;\n",
       "    }\n",
       "</style>\n",
       "<table border=\"1\" class=\"dataframe\">\n",
       "  <thead>\n",
       "    <tr style=\"text-align: right;\">\n",
       "      <th></th>\n",
       "      <th>client_id</th>\n",
       "      <th>loan_type</th>\n",
       "      <th>loan_amount</th>\n",
       "      <th>repaid</th>\n",
       "      <th>loan_id</th>\n",
       "      <th>loan_start</th>\n",
       "      <th>loan_end</th>\n",
       "      <th>rate</th>\n",
       "    </tr>\n",
       "  </thead>\n",
       "  <tbody>\n",
       "    <tr>\n",
       "      <th>0</th>\n",
       "      <td>46109</td>\n",
       "      <td>home</td>\n",
       "      <td>13672</td>\n",
       "      <td>0</td>\n",
       "      <td>10243</td>\n",
       "      <td>2002-04-16</td>\n",
       "      <td>2003-12-20</td>\n",
       "      <td>2.15</td>\n",
       "    </tr>\n",
       "    <tr>\n",
       "      <th>1</th>\n",
       "      <td>46109</td>\n",
       "      <td>credit</td>\n",
       "      <td>9794</td>\n",
       "      <td>0</td>\n",
       "      <td>10984</td>\n",
       "      <td>2003-10-21</td>\n",
       "      <td>2005-07-17</td>\n",
       "      <td>1.25</td>\n",
       "    </tr>\n",
       "    <tr>\n",
       "      <th>2</th>\n",
       "      <td>46109</td>\n",
       "      <td>home</td>\n",
       "      <td>12734</td>\n",
       "      <td>1</td>\n",
       "      <td>10990</td>\n",
       "      <td>2006-02-01</td>\n",
       "      <td>2007-07-05</td>\n",
       "      <td>0.68</td>\n",
       "    </tr>\n",
       "    <tr>\n",
       "      <th>3</th>\n",
       "      <td>46109</td>\n",
       "      <td>cash</td>\n",
       "      <td>12518</td>\n",
       "      <td>1</td>\n",
       "      <td>10596</td>\n",
       "      <td>2010-12-08</td>\n",
       "      <td>2013-05-05</td>\n",
       "      <td>1.24</td>\n",
       "    </tr>\n",
       "    <tr>\n",
       "      <th>4</th>\n",
       "      <td>46109</td>\n",
       "      <td>credit</td>\n",
       "      <td>14049</td>\n",
       "      <td>1</td>\n",
       "      <td>11415</td>\n",
       "      <td>2010-07-07</td>\n",
       "      <td>2012-05-21</td>\n",
       "      <td>3.13</td>\n",
       "    </tr>\n",
       "  </tbody>\n",
       "</table>\n",
       "</div>"
      ],
      "text/plain": [
       "   client_id loan_type  loan_amount repaid loan_id loan_start   loan_end  rate\n",
       "0      46109      home        13672      0   10243 2002-04-16 2003-12-20  2.15\n",
       "1      46109    credit         9794      0   10984 2003-10-21 2005-07-17  1.25\n",
       "2      46109      home        12734      1   10990 2006-02-01 2007-07-05  0.68\n",
       "3      46109      cash        12518      1   10596 2010-12-08 2013-05-05  1.24\n",
       "4      46109    credit        14049      1   11415 2010-07-07 2012-05-21  3.13"
      ]
     },
     "execution_count": 78,
     "metadata": {},
     "output_type": "execute_result"
    }
   ],
   "source": [
    "df_loans.head()"
   ]
  },
  {
   "cell_type": "code",
   "execution_count": 79,
   "metadata": {},
   "outputs": [
    {
     "data": {
      "text/plain": [
       "client_id               int64\n",
       "loan_type              object\n",
       "loan_amount             int64\n",
       "repaid               category\n",
       "loan_id                object\n",
       "loan_start     datetime64[ns]\n",
       "loan_end       datetime64[ns]\n",
       "rate                  float64\n",
       "dtype: object"
      ]
     },
     "execution_count": 79,
     "metadata": {},
     "output_type": "execute_result"
    }
   ],
   "source": [
    "df_loans.dtypes"
   ]
  },
  {
   "cell_type": "code",
   "execution_count": 80,
   "metadata": {},
   "outputs": [
    {
     "data": {
      "text/plain": [
       "0    0\n",
       "1    0\n",
       "2    1\n",
       "3    1\n",
       "4    1\n",
       "Name: repaid, dtype: category\n",
       "Categories (2, int64): [0, 1]"
      ]
     },
     "execution_count": 80,
     "metadata": {},
     "output_type": "execute_result"
    }
   ],
   "source": [
    "# Repaid is also a categoriy columns and creating dummies for loan_type\n",
    "df_loans.repaid.head()"
   ]
  },
  {
   "cell_type": "markdown",
   "metadata": {},
   "source": [
    "### 1) pd.get_dummies approach:"
   ]
  },
  {
   "cell_type": "code",
   "execution_count": 81,
   "metadata": {},
   "outputs": [
    {
     "data": {
      "text/html": [
       "<div>\n",
       "<style scoped>\n",
       "    .dataframe tbody tr th:only-of-type {\n",
       "        vertical-align: middle;\n",
       "    }\n",
       "\n",
       "    .dataframe tbody tr th {\n",
       "        vertical-align: top;\n",
       "    }\n",
       "\n",
       "    .dataframe thead th {\n",
       "        text-align: right;\n",
       "    }\n",
       "</style>\n",
       "<table border=\"1\" class=\"dataframe\">\n",
       "  <thead>\n",
       "    <tr style=\"text-align: right;\">\n",
       "      <th></th>\n",
       "      <th>credit</th>\n",
       "      <th>home</th>\n",
       "      <th>other</th>\n",
       "    </tr>\n",
       "  </thead>\n",
       "  <tbody>\n",
       "    <tr>\n",
       "      <th>0</th>\n",
       "      <td>0</td>\n",
       "      <td>1</td>\n",
       "      <td>0</td>\n",
       "    </tr>\n",
       "    <tr>\n",
       "      <th>1</th>\n",
       "      <td>1</td>\n",
       "      <td>0</td>\n",
       "      <td>0</td>\n",
       "    </tr>\n",
       "    <tr>\n",
       "      <th>2</th>\n",
       "      <td>0</td>\n",
       "      <td>1</td>\n",
       "      <td>0</td>\n",
       "    </tr>\n",
       "    <tr>\n",
       "      <th>3</th>\n",
       "      <td>0</td>\n",
       "      <td>0</td>\n",
       "      <td>0</td>\n",
       "    </tr>\n",
       "    <tr>\n",
       "      <th>4</th>\n",
       "      <td>1</td>\n",
       "      <td>0</td>\n",
       "      <td>0</td>\n",
       "    </tr>\n",
       "  </tbody>\n",
       "</table>\n",
       "</div>"
      ],
      "text/plain": [
       "   credit  home  other\n",
       "0       0     1      0\n",
       "1       1     0      0\n",
       "2       0     1      0\n",
       "3       0     0      0\n",
       "4       1     0      0"
      ]
     },
     "execution_count": 81,
     "metadata": {},
     "output_type": "execute_result"
    }
   ],
   "source": [
    "dummy_cat = pd.get_dummies(df_loans['loan_type'], drop_first = True)\n",
    "dummy_cat.head()\n",
    "\n",
    "# drop_first = True drops the first column for each feature"
   ]
  },
  {
   "cell_type": "markdown",
   "metadata": {},
   "source": [
    "### 2. OneHot Encoding\n",
    "\n",
    "Documentation for this: https://scikit-learn.org/stable/modules/generated/sklearn.preprocessing.OneHotEncoder.html"
   ]
  },
  {
   "cell_type": "code",
   "execution_count": 82,
   "metadata": {},
   "outputs": [],
   "source": [
    "from sklearn.preprocessing import OneHotEncoder"
   ]
  },
  {
   "cell_type": "code",
   "execution_count": 83,
   "metadata": {},
   "outputs": [
    {
     "data": {
      "text/plain": [
       "[array(['cash', 'credit', 'home', 'other'], dtype=object)]"
      ]
     },
     "execution_count": 83,
     "metadata": {},
     "output_type": "execute_result"
    }
   ],
   "source": [
    "OE_tips = OneHotEncoder(drop ='first').fit(df_loans[['loan_type']])\n",
    "OE_tips.categories_"
   ]
  },
  {
   "cell_type": "markdown",
   "metadata": {},
   "source": [
    "### 3. Label Encoding\n",
    "\n",
    "Documentation for this: https://scikit-learn.org/stable/modules/generated/sklearn.preprocessing.LabelEncoder.html"
   ]
  },
  {
   "cell_type": "code",
   "execution_count": 84,
   "metadata": {},
   "outputs": [],
   "source": [
    "from sklearn.preprocessing import LabelEncoder"
   ]
  },
  {
   "cell_type": "code",
   "execution_count": 85,
   "metadata": {},
   "outputs": [],
   "source": [
    "LE = LabelEncoder()\n",
    "\n",
    "LE_tips = LE.fit(df_loans[['loan_type']])"
   ]
  },
  {
   "cell_type": "code",
   "execution_count": 86,
   "metadata": {},
   "outputs": [
    {
     "data": {
      "text/plain": [
       "array(['cash', 'credit', 'home', 'other'], dtype=object)"
      ]
     },
     "execution_count": 86,
     "metadata": {},
     "output_type": "execute_result"
    }
   ],
   "source": [
    "LE_tips.classes_"
   ]
  },
  {
   "cell_type": "code",
   "execution_count": 87,
   "metadata": {},
   "outputs": [
    {
     "data": {
      "text/plain": [
       "array([3, 0, 2, 1], dtype=int64)"
      ]
     },
     "execution_count": 87,
     "metadata": {},
     "output_type": "execute_result"
    }
   ],
   "source": [
    "# transform any new values to Dummy variables via Label Encoder\n",
    "LE_tips.transform(['other', 'cash', 'home', 'credit'])"
   ]
  },
  {
   "cell_type": "code",
   "execution_count": 88,
   "metadata": {},
   "outputs": [
    {
     "data": {
      "text/plain": [
       "array(['credit', 'home', 'other', 'cash'], dtype=object)"
      ]
     },
     "execution_count": 88,
     "metadata": {},
     "output_type": "execute_result"
    }
   ],
   "source": [
    "# Inverse transform to get original values from the dummy variables:\n",
    "LE_tips.inverse_transform([1,2,3,0])"
   ]
  },
  {
   "cell_type": "markdown",
   "metadata": {},
   "source": [
    "----------------"
   ]
  },
  {
   "cell_type": "markdown",
   "metadata": {},
   "source": [
    "### 11. Creating new Derived Features\n",
    "\n",
    "We can use the loan_start and loan_end features to calculate the tenure of the loan"
   ]
  },
  {
   "cell_type": "code",
   "execution_count": 89,
   "metadata": {},
   "outputs": [],
   "source": [
    "import datetime as dt"
   ]
  },
  {
   "cell_type": "code",
   "execution_count": 90,
   "metadata": {},
   "outputs": [],
   "source": [
    "df_loans['loan_tenure'] =  df_loans['loan_end'] - df_loans['loan_start']"
   ]
  },
  {
   "cell_type": "code",
   "execution_count": 91,
   "metadata": {
    "scrolled": true
   },
   "outputs": [
    {
     "data": {
      "text/html": [
       "<div>\n",
       "<style scoped>\n",
       "    .dataframe tbody tr th:only-of-type {\n",
       "        vertical-align: middle;\n",
       "    }\n",
       "\n",
       "    .dataframe tbody tr th {\n",
       "        vertical-align: top;\n",
       "    }\n",
       "\n",
       "    .dataframe thead th {\n",
       "        text-align: right;\n",
       "    }\n",
       "</style>\n",
       "<table border=\"1\" class=\"dataframe\">\n",
       "  <thead>\n",
       "    <tr style=\"text-align: right;\">\n",
       "      <th></th>\n",
       "      <th>client_id</th>\n",
       "      <th>loan_type</th>\n",
       "      <th>loan_amount</th>\n",
       "      <th>repaid</th>\n",
       "      <th>loan_id</th>\n",
       "      <th>loan_start</th>\n",
       "      <th>loan_end</th>\n",
       "      <th>rate</th>\n",
       "      <th>loan_tenure</th>\n",
       "    </tr>\n",
       "  </thead>\n",
       "  <tbody>\n",
       "    <tr>\n",
       "      <th>0</th>\n",
       "      <td>46109</td>\n",
       "      <td>home</td>\n",
       "      <td>13672</td>\n",
       "      <td>0</td>\n",
       "      <td>10243</td>\n",
       "      <td>2002-04-16</td>\n",
       "      <td>2003-12-20</td>\n",
       "      <td>2.15</td>\n",
       "      <td>613 days</td>\n",
       "    </tr>\n",
       "    <tr>\n",
       "      <th>1</th>\n",
       "      <td>46109</td>\n",
       "      <td>credit</td>\n",
       "      <td>9794</td>\n",
       "      <td>0</td>\n",
       "      <td>10984</td>\n",
       "      <td>2003-10-21</td>\n",
       "      <td>2005-07-17</td>\n",
       "      <td>1.25</td>\n",
       "      <td>635 days</td>\n",
       "    </tr>\n",
       "    <tr>\n",
       "      <th>2</th>\n",
       "      <td>46109</td>\n",
       "      <td>home</td>\n",
       "      <td>12734</td>\n",
       "      <td>1</td>\n",
       "      <td>10990</td>\n",
       "      <td>2006-02-01</td>\n",
       "      <td>2007-07-05</td>\n",
       "      <td>0.68</td>\n",
       "      <td>519 days</td>\n",
       "    </tr>\n",
       "    <tr>\n",
       "      <th>3</th>\n",
       "      <td>46109</td>\n",
       "      <td>cash</td>\n",
       "      <td>12518</td>\n",
       "      <td>1</td>\n",
       "      <td>10596</td>\n",
       "      <td>2010-12-08</td>\n",
       "      <td>2013-05-05</td>\n",
       "      <td>1.24</td>\n",
       "      <td>879 days</td>\n",
       "    </tr>\n",
       "    <tr>\n",
       "      <th>4</th>\n",
       "      <td>46109</td>\n",
       "      <td>credit</td>\n",
       "      <td>14049</td>\n",
       "      <td>1</td>\n",
       "      <td>11415</td>\n",
       "      <td>2010-07-07</td>\n",
       "      <td>2012-05-21</td>\n",
       "      <td>3.13</td>\n",
       "      <td>684 days</td>\n",
       "    </tr>\n",
       "  </tbody>\n",
       "</table>\n",
       "</div>"
      ],
      "text/plain": [
       "   client_id loan_type  loan_amount repaid loan_id loan_start   loan_end  \\\n",
       "0      46109      home        13672      0   10243 2002-04-16 2003-12-20   \n",
       "1      46109    credit         9794      0   10984 2003-10-21 2005-07-17   \n",
       "2      46109      home        12734      1   10990 2006-02-01 2007-07-05   \n",
       "3      46109      cash        12518      1   10596 2010-12-08 2013-05-05   \n",
       "4      46109    credit        14049      1   11415 2010-07-07 2012-05-21   \n",
       "\n",
       "   rate loan_tenure  \n",
       "0  2.15    613 days  \n",
       "1  1.25    635 days  \n",
       "2  0.68    519 days  \n",
       "3  1.24    879 days  \n",
       "4  3.13    684 days  "
      ]
     },
     "execution_count": 91,
     "metadata": {},
     "output_type": "execute_result"
    }
   ],
   "source": [
    "df_loans.head()"
   ]
  },
  {
   "cell_type": "code",
   "execution_count": 92,
   "metadata": {
    "scrolled": true
   },
   "outputs": [
    {
     "data": {
      "text/plain": [
       "client_id                int64\n",
       "loan_type               object\n",
       "loan_amount              int64\n",
       "repaid                category\n",
       "loan_id                 object\n",
       "loan_start      datetime64[ns]\n",
       "loan_end        datetime64[ns]\n",
       "rate                   float64\n",
       "loan_tenure    timedelta64[ns]\n",
       "dtype: object"
      ]
     },
     "execution_count": 92,
     "metadata": {},
     "output_type": "execute_result"
    }
   ],
   "source": [
    "df_loans.dtypes"
   ]
  },
  {
   "cell_type": "markdown",
   "metadata": {},
   "source": [
    "The number of days in the tenure are currently in TimeDelta, we want it integer hence will do the conversion as follows:"
   ]
  },
  {
   "cell_type": "code",
   "execution_count": 93,
   "metadata": {},
   "outputs": [
    {
     "data": {
      "text/plain": [
       "0      613\n",
       "1      635\n",
       "2      519\n",
       "3      879\n",
       "4      684\n",
       "      ... \n",
       "435    928\n",
       "436    511\n",
       "437    948\n",
       "438    633\n",
       "439    638\n",
       "Name: loan_tenure, Length: 440, dtype: int64"
      ]
     },
     "execution_count": 93,
     "metadata": {},
     "output_type": "execute_result"
    }
   ],
   "source": [
    "df_loans['loan_tenure'] = df_loans['loan_tenure'].dt.days\n",
    "df_loans['loan_tenure']"
   ]
  },
  {
   "cell_type": "code",
   "execution_count": 94,
   "metadata": {},
   "outputs": [
    {
     "data": {
      "text/plain": [
       "0      1.679452\n",
       "1      1.739726\n",
       "2      1.421918\n",
       "3      2.408219\n",
       "4      1.873973\n",
       "         ...   \n",
       "435    2.542466\n",
       "436    1.400000\n",
       "437    2.597260\n",
       "438    1.734247\n",
       "439    1.747945\n",
       "Name: loan_tenure, Length: 440, dtype: float64"
      ]
     },
     "execution_count": 94,
     "metadata": {},
     "output_type": "execute_result"
    }
   ],
   "source": [
    "## Tenure in number of Years:\n",
    "\n",
    "df_loans['loan_tenure'] = df_loans['loan_tenure']/365\n",
    "df_loans['loan_tenure']"
   ]
  },
  {
   "cell_type": "markdown",
   "metadata": {},
   "source": [
    "### 12. Training and Testing data\n",
    "\n",
    "Documentation for this: https://scikit-learn.org/stable/modules/generated/sklearn.model_selection.train_test_split.html"
   ]
  },
  {
   "cell_type": "code",
   "execution_count": 95,
   "metadata": {},
   "outputs": [],
   "source": [
    "from sklearn.model_selection import train_test_split"
   ]
  },
  {
   "cell_type": "code",
   "execution_count": 96,
   "metadata": {},
   "outputs": [],
   "source": [
    "## Splitting for X and Y variables:\n",
    "\n",
    "Y = df_loans['loan_amount']\n",
    "X = df_loans.drop('loan_amount', axis=1)"
   ]
  },
  {
   "cell_type": "code",
   "execution_count": 97,
   "metadata": {},
   "outputs": [
    {
     "data": {
      "text/html": [
       "<div>\n",
       "<style scoped>\n",
       "    .dataframe tbody tr th:only-of-type {\n",
       "        vertical-align: middle;\n",
       "    }\n",
       "\n",
       "    .dataframe tbody tr th {\n",
       "        vertical-align: top;\n",
       "    }\n",
       "\n",
       "    .dataframe thead th {\n",
       "        text-align: right;\n",
       "    }\n",
       "</style>\n",
       "<table border=\"1\" class=\"dataframe\">\n",
       "  <thead>\n",
       "    <tr style=\"text-align: right;\">\n",
       "      <th></th>\n",
       "      <th>client_id</th>\n",
       "      <th>loan_type</th>\n",
       "      <th>repaid</th>\n",
       "      <th>loan_id</th>\n",
       "      <th>loan_start</th>\n",
       "      <th>loan_end</th>\n",
       "      <th>rate</th>\n",
       "      <th>loan_tenure</th>\n",
       "    </tr>\n",
       "  </thead>\n",
       "  <tbody>\n",
       "    <tr>\n",
       "      <th>0</th>\n",
       "      <td>46109</td>\n",
       "      <td>home</td>\n",
       "      <td>0</td>\n",
       "      <td>10243</td>\n",
       "      <td>2002-04-16</td>\n",
       "      <td>2003-12-20</td>\n",
       "      <td>2.15</td>\n",
       "      <td>1.679452</td>\n",
       "    </tr>\n",
       "    <tr>\n",
       "      <th>1</th>\n",
       "      <td>46109</td>\n",
       "      <td>credit</td>\n",
       "      <td>0</td>\n",
       "      <td>10984</td>\n",
       "      <td>2003-10-21</td>\n",
       "      <td>2005-07-17</td>\n",
       "      <td>1.25</td>\n",
       "      <td>1.739726</td>\n",
       "    </tr>\n",
       "    <tr>\n",
       "      <th>2</th>\n",
       "      <td>46109</td>\n",
       "      <td>home</td>\n",
       "      <td>1</td>\n",
       "      <td>10990</td>\n",
       "      <td>2006-02-01</td>\n",
       "      <td>2007-07-05</td>\n",
       "      <td>0.68</td>\n",
       "      <td>1.421918</td>\n",
       "    </tr>\n",
       "    <tr>\n",
       "      <th>3</th>\n",
       "      <td>46109</td>\n",
       "      <td>cash</td>\n",
       "      <td>1</td>\n",
       "      <td>10596</td>\n",
       "      <td>2010-12-08</td>\n",
       "      <td>2013-05-05</td>\n",
       "      <td>1.24</td>\n",
       "      <td>2.408219</td>\n",
       "    </tr>\n",
       "    <tr>\n",
       "      <th>4</th>\n",
       "      <td>46109</td>\n",
       "      <td>credit</td>\n",
       "      <td>1</td>\n",
       "      <td>11415</td>\n",
       "      <td>2010-07-07</td>\n",
       "      <td>2012-05-21</td>\n",
       "      <td>3.13</td>\n",
       "      <td>1.873973</td>\n",
       "    </tr>\n",
       "  </tbody>\n",
       "</table>\n",
       "</div>"
      ],
      "text/plain": [
       "   client_id loan_type repaid loan_id loan_start   loan_end  rate  loan_tenure\n",
       "0      46109      home      0   10243 2002-04-16 2003-12-20  2.15     1.679452\n",
       "1      46109    credit      0   10984 2003-10-21 2005-07-17  1.25     1.739726\n",
       "2      46109      home      1   10990 2006-02-01 2007-07-05  0.68     1.421918\n",
       "3      46109      cash      1   10596 2010-12-08 2013-05-05  1.24     2.408219\n",
       "4      46109    credit      1   11415 2010-07-07 2012-05-21  3.13     1.873973"
      ]
     },
     "execution_count": 97,
     "metadata": {},
     "output_type": "execute_result"
    }
   ],
   "source": [
    "# Independent Variable\n",
    "\n",
    "X.head()"
   ]
  },
  {
   "cell_type": "code",
   "execution_count": 98,
   "metadata": {},
   "outputs": [
    {
     "data": {
      "text/plain": [
       "0    13672\n",
       "1     9794\n",
       "2    12734\n",
       "3    12518\n",
       "4    14049\n",
       "Name: loan_amount, dtype: int64"
      ]
     },
     "execution_count": 98,
     "metadata": {},
     "output_type": "execute_result"
    }
   ],
   "source": [
    "# Dependent or Target Variable\n",
    "\n",
    "Y.head()"
   ]
  },
  {
   "cell_type": "code",
   "execution_count": 99,
   "metadata": {},
   "outputs": [
    {
     "name": "stdout",
     "output_type": "stream",
     "text": [
      "The shape of X_train is: (352, 8)\n",
      "The shape of X_test is: (88, 8)\n",
      "\n",
      "The shape of Y_train is: (352,)\n",
      "The shape of Y_test is: (88,)\n"
     ]
    }
   ],
   "source": [
    "## Splitting dataset into 80% Training and 20% Testing Data:\n",
    "\n",
    "X_train, X_test, Y_train, Y_test = train_test_split(X,Y,train_size=0.8, random_state =0)\n",
    "\n",
    "# random_state ---> is seed -- fixing the sample selection for Training & Testing dataset\n",
    "\n",
    "# check the dimensions of the train & test subset for \n",
    "\n",
    "print(\"The shape of X_train is:\", X_train.shape)\n",
    "print(\"The shape of X_test is:\", X_test.shape)\n",
    "\n",
    "print('')\n",
    "print(\"The shape of Y_train is:\", Y_train.shape)\n",
    "print(\"The shape of Y_test is:\", Y_test.shape)"
   ]
  },
  {
   "cell_type": "markdown",
   "metadata": {},
   "source": [
    "To statistically test if the train and test representative of the overall data, would compute the Median for the independent variables for both the test and train sets."
   ]
  },
  {
   "cell_type": "code",
   "execution_count": 100,
   "metadata": {},
   "outputs": [],
   "source": [
    "# median for y_train\n",
    "median_y_train = Y_train.median()\n",
    "\n",
    "# median for y_test\n",
    "median_y_test = Y_test.median()"
   ]
  },
  {
   "cell_type": "code",
   "execution_count": 101,
   "metadata": {},
   "outputs": [
    {
     "name": "stdout",
     "output_type": "stream",
     "text": [
      "The median for Y Train variables is: 8412.5\n"
     ]
    }
   ],
   "source": [
    "print('The median for Y Train variables is:',median_y_train)"
   ]
  },
  {
   "cell_type": "code",
   "execution_count": 102,
   "metadata": {},
   "outputs": [
    {
     "name": "stdout",
     "output_type": "stream",
     "text": [
      "The median for Y Test variables is: 7673.0\n"
     ]
    }
   ],
   "source": [
    "print('The median for Y Test variables is:',median_y_test)"
   ]
  },
  {
   "cell_type": "markdown",
   "metadata": {},
   "source": [
    "### Conclusion:\n",
    "\n",
    "Based on the above result, we can conclude statistically that the train and test representative of the overall data as the median for both y_train and y_test are similar."
   ]
  },
  {
   "cell_type": "markdown",
   "metadata": {},
   "source": [
    "-----------------"
   ]
  },
  {
   "cell_type": "code",
   "execution_count": null,
   "metadata": {},
   "outputs": [],
   "source": []
  }
 ],
 "metadata": {
  "kernelspec": {
   "display_name": "Python 3 (ipykernel)",
   "language": "python",
   "name": "python3"
  },
  "language_info": {
   "codemirror_mode": {
    "name": "ipython",
    "version": 3
   },
   "file_extension": ".py",
   "mimetype": "text/x-python",
   "name": "python",
   "nbconvert_exporter": "python",
   "pygments_lexer": "ipython3",
   "version": "3.9.13"
  }
 },
 "nbformat": 4,
 "nbformat_minor": 4
}
