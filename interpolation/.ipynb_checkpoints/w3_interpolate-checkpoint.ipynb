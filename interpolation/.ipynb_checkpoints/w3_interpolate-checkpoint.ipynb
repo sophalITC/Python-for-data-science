{
 "cells": [
  {
   "cell_type": "markdown",
   "id": "d1a6d8cb",
   "metadata": {},
   "source": [
    "# interpolation algorithm\n",
    "\n",
    "### What is interpolation algorithm?\n",
    "    Interpolation is a technique in Python with which you can estimate unknown data points between two known data points. It is commonly used to fill missing values in a table or a dataset using the already known values.\n",
    "\n",
    "### When to use Interpolation?\n",
    "    we can use Interpolation to find missing value with help of its neighbors. When imputing missing values with average does not fit best, we have to move to a different technique and the technique most people find is Interpolation.\n",
    "\n",
    "### Implementation"
   ]
  },
  {
   "cell_type": "code",
   "execution_count": 25,
   "id": "3ddbd634",
   "metadata": {},
   "outputs": [],
   "source": [
    "import numpy as np\n",
    "import pandas as pd\n",
    "import re"
   ]
  },
  {
   "cell_type": "code",
   "execution_count": 26,
   "id": "dc92a4e3",
   "metadata": {},
   "outputs": [],
   "source": [
    "df = pd.read_csv(\"test_dataset/train.csv\")"
   ]
  },
  {
   "cell_type": "code",
   "execution_count": 27,
   "id": "be3d8e42",
   "metadata": {},
   "outputs": [
    {
     "data": {
      "text/plain": [
       "PassengerId      0\n",
       "Survived         0\n",
       "Pclass           0\n",
       "Name             0\n",
       "Sex              0\n",
       "Age            177\n",
       "SibSp            0\n",
       "Parch            0\n",
       "Ticket           0\n",
       "Fare             0\n",
       "Cabin          687\n",
       "Embarked         2\n",
       "dtype: int64"
      ]
     },
     "execution_count": 27,
     "metadata": {},
     "output_type": "execute_result"
    }
   ],
   "source": [
    "df.isnull().sum()"
   ]
  },
  {
   "cell_type": "code",
   "execution_count": 28,
   "id": "b602382c",
   "metadata": {},
   "outputs": [],
   "source": [
    "def detect_missing():\n",
    "        # checking missing values\n",
    "        null_series = df.isnull().sum()\n",
    "        print()\n",
    "        null_column_list = []\n",
    "        if sum(null_series):\n",
    "            print('Following columns contains missing values : ')\n",
    "            total_samples = df.shape[0]\n",
    "            for i, j in null_series.items():\n",
    "                if j:\n",
    "                    print(\"{} : {:.2f} %\".format(i, (j/total_samples)*100))\n",
    "                    null_column_list.append(i)\n",
    "        else:\n",
    "            print(\"None of the columns contains missing values !\")\n",
    "        return null_column_list"
   ]
  },
  {
   "cell_type": "code",
   "execution_count": 29,
   "id": "a1858257",
   "metadata": {},
   "outputs": [
    {
     "name": "stdout",
     "output_type": "stream",
     "text": [
      "\n",
      "Following columns contains missing values : \n",
      "Age : 19.87 %\n",
      "Cabin : 77.10 %\n",
      "Embarked : 0.22 %\n",
      "['Age', 'Cabin', 'Embarked']\n"
     ]
    }
   ],
   "source": [
    "null_column_list = detect_missing()\n",
    "print(null_column_list)"
   ]
  },
  {
   "cell_type": "code",
   "execution_count": 30,
   "id": "adf8b83f",
   "metadata": {},
   "outputs": [],
   "source": [
    "\n",
    "        df_interpolate = df.copy()\n",
    "        # mapping embarked values by numeric values\n",
    "        embarked_mapping = {\"S\": 1, \"C\": 2, \"Q\": 3}\n",
    "        df_interpolate['Embarked'] = df_interpolate['Embarked'].map(embarked_mapping)\n",
    "        # mapping Cabin string values by numeric values\n",
    "        deck = {\"A\": 0, \"B\": 1, \"C\": 2, \"D\": 3, \"E\": 4, \"F\": 5, \"G\": 6, \"U\": 7}\n",
    "        df_interpolate['Cabin'] = df_interpolate['Cabin'].fillna(\"U\")\n",
    "        df_interpolate['Cabin'] = df_interpolate['Cabin'].map(lambda x: re.compile(\"([a-zA-Z]+)\").search(x).group())\n",
    "        df_interpolate['Cabin'] = df_interpolate['Cabin'].map(deck)\n",
    "        df_interpolate['Cabin'].replace({7:np.nan}, inplace=True)\n",
    "        df_interpolate.interpolate(method='linear', inplace=True, limit_direction='both')\n",
    "        # reverse mapping the values\n",
    "        embarked_mapping = {1:\"S\", 2:\"C\", 3:\"Q\"}\n",
    "        df_interpolate['Embarked'] = df_interpolate['Embarked'].map(embarked_mapping)\n",
    "        deck_mapping = {0 : \"A\", 1 : \"B\", 2 : \"C\", 3 : \"D\", 4 : \"E\", 5 : \"F\", 6 : \"G\"}\n",
    "        df_interpolate['Cabin'] = df_interpolate['Cabin'].map(deck_mapping)\n"
   ]
  },
  {
   "cell_type": "code",
   "execution_count": 31,
   "id": "84466f82",
   "metadata": {},
   "outputs": [
    {
     "data": {
      "text/plain": [
       "PassengerId      0\n",
       "Survived         0\n",
       "Pclass           0\n",
       "Name             0\n",
       "Sex              0\n",
       "Age              0\n",
       "SibSp            0\n",
       "Parch            0\n",
       "Ticket           0\n",
       "Fare             0\n",
       "Cabin          507\n",
       "Embarked         2\n",
       "dtype: int64"
      ]
     },
     "execution_count": 31,
     "metadata": {},
     "output_type": "execute_result"
    }
   ],
   "source": [
    "df_interpolate.isnull().sum()"
   ]
  },
  {
   "cell_type": "code",
   "execution_count": null,
   "id": "b37006e0",
   "metadata": {},
   "outputs": [],
   "source": []
  }
 ],
 "metadata": {
  "kernelspec": {
   "display_name": "Python 3 (ipykernel)",
   "language": "python",
   "name": "python3"
  },
  "language_info": {
   "codemirror_mode": {
    "name": "ipython",
    "version": 3
   },
   "file_extension": ".py",
   "mimetype": "text/x-python",
   "name": "python",
   "nbconvert_exporter": "python",
   "pygments_lexer": "ipython3",
   "version": "3.9.7"
  }
 },
 "nbformat": 4,
 "nbformat_minor": 5
}
