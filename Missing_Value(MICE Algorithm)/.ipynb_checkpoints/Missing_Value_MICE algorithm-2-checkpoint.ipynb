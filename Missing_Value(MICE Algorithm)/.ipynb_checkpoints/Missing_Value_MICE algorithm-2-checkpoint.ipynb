{
 "cells": [
  {
   "cell_type": "markdown",
   "id": "1573930c",
   "metadata": {},
   "source": [
    "## MICE Algorithm\n",
    "\n",
    "First, we need to import some important library such as Numpy, Pandas, and so on.\n",
    "Then we have to read file and "
   ]
  },
  {
   "cell_type": "code",
   "execution_count": 1,
   "id": "003980fe",
   "metadata": {},
   "outputs": [],
   "source": [
    "import numpy as np\n",
    "import pandas as pd\n",
    "import re\n",
    "import sys\n",
    "from sklearn import metrics\n",
    "from sklearn.model_selection import train_test_split"
   ]
  },
  {
   "cell_type": "markdown",
   "id": "7e723677",
   "metadata": {},
   "source": [
    "#### Check which field has missing value"
   ]
  },
  {
   "cell_type": "code",
   "execution_count": 2,
   "id": "50cba13e",
   "metadata": {},
   "outputs": [
    {
     "name": "stdout",
     "output_type": "stream",
     "text": [
      "File read succesfully ! Shape of original file: (891, 11)\n",
      "Survived      0\n",
      "Pclass        0\n",
      "Name          0\n",
      "Sex           0\n",
      "Age         177\n",
      "SibSp         0\n",
      "Parch         0\n",
      "Ticket        0\n",
      "Fare          0\n",
      "Cabin       687\n",
      "Embarked      2\n",
      "dtype: int64\n"
     ]
    }
   ],
   "source": [
    "# read file\n",
    "df=pd.read_csv(\"train.csv\").iloc[:,1:]\n",
    "print('File read succesfully !', f'Shape of original file: {df.shape}')\n",
    "# count the number of NaN values in each column\n",
    "print(df.isnull().sum())"
   ]
  },
  {
   "cell_type": "code",
   "execution_count": 3,
   "id": "6590b8cb",
   "metadata": {},
   "outputs": [],
   "source": [
    "# Detection of missing values\n",
    "\n",
    "def detect_missing():\n",
    "        # checking missing values\n",
    "        null_series = df.isnull().sum()\n",
    "        print()\n",
    "        null_column_list = []\n",
    "        if sum(null_series):\n",
    "            print('Following columns contains missing values : ')\n",
    "            total_samples = df.shape[0]\n",
    "            for i, j in null_series.items():\n",
    "                if j:\n",
    "                    print(\"{} : {:.2f} %\".format(i, (j/total_samples)*100))\n",
    "                    null_column_list.append(i)\n",
    "        else:\n",
    "            print(\"None of the columns contains missing values !\")\n",
    "        return null_column_list"
   ]
  },
  {
   "cell_type": "code",
   "execution_count": 4,
   "id": "586c2c0a",
   "metadata": {},
   "outputs": [
    {
     "name": "stdout",
     "output_type": "stream",
     "text": [
      "\n",
      "Following columns contains missing values : \n",
      "Age : 19.87 %\n",
      "Cabin : 77.10 %\n",
      "Embarked : 0.22 %\n",
      "['Age', 'Cabin', 'Embarked']\n"
     ]
    }
   ],
   "source": [
    "null_column_list = detect_missing()\n",
    "print(null_column_list)"
   ]
  },
  {
   "cell_type": "markdown",
   "id": "8591ca60",
   "metadata": {},
   "source": [
    "#### Deal with Nan using MICE algorithm"
   ]
  },
  {
   "cell_type": "code",
   "execution_count": 6,
   "id": "f2656656",
   "metadata": {},
   "outputs": [
    {
     "ename": "NameError",
     "evalue": "name 'mice' is not defined",
     "output_type": "error",
     "traceback": [
      "\u001b[1;31m---------------------------------------------------------------------------\u001b[0m",
      "\u001b[1;31mNameError\u001b[0m                                 Traceback (most recent call last)",
      "\u001b[1;32m~\\AppData\\Local\\Temp/ipykernel_17464/1653979664.py\u001b[0m in \u001b[0;36m<module>\u001b[1;34m\u001b[0m\n\u001b[0;32m     11\u001b[0m \u001b[1;33m\u001b[0m\u001b[0m\n\u001b[0;32m     12\u001b[0m \u001b[0mnumeric_features\u001b[0m \u001b[1;33m=\u001b[0m \u001b[1;33m[\u001b[0m\u001b[0mcolumn\u001b[0m \u001b[1;32mfor\u001b[0m \u001b[0mcolumn\u001b[0m \u001b[1;32min\u001b[0m \u001b[0mdf_mice\u001b[0m\u001b[1;33m.\u001b[0m\u001b[0mcolumns\u001b[0m \u001b[1;32mif\u001b[0m \u001b[0mdf_mice\u001b[0m\u001b[1;33m[\u001b[0m\u001b[0mcolumn\u001b[0m\u001b[1;33m]\u001b[0m\u001b[1;33m.\u001b[0m\u001b[0mdtype\u001b[0m \u001b[1;33m!=\u001b[0m \u001b[1;34m'object'\u001b[0m\u001b[1;33m]\u001b[0m\u001b[1;33m\u001b[0m\u001b[1;33m\u001b[0m\u001b[0m\n\u001b[1;32m---> 13\u001b[1;33m \u001b[0mimp\u001b[0m \u001b[1;33m=\u001b[0m \u001b[0mmice\u001b[0m\u001b[1;33m.\u001b[0m\u001b[0mMICEData\u001b[0m\u001b[1;33m(\u001b[0m\u001b[0mdf_mice\u001b[0m\u001b[1;33m[\u001b[0m\u001b[0mnumeric_features\u001b[0m\u001b[1;33m]\u001b[0m\u001b[1;33m)\u001b[0m\u001b[1;33m\u001b[0m\u001b[1;33m\u001b[0m\u001b[0m\n\u001b[0m\u001b[0;32m     14\u001b[0m \u001b[0mimp\u001b[0m\u001b[1;33m.\u001b[0m\u001b[0mset_imputer\u001b[0m\u001b[1;33m(\u001b[0m\u001b[1;34m''\u001b[0m\u001b[1;33m)\u001b[0m\u001b[1;33m\u001b[0m\u001b[1;33m\u001b[0m\u001b[0m\n\u001b[0;32m     15\u001b[0m \u001b[1;32mfor\u001b[0m \u001b[0mi\u001b[0m \u001b[1;32min\u001b[0m \u001b[0mrange\u001b[0m\u001b[1;33m(\u001b[0m\u001b[1;36m100\u001b[0m\u001b[1;33m)\u001b[0m\u001b[1;33m:\u001b[0m\u001b[1;33m\u001b[0m\u001b[1;33m\u001b[0m\u001b[0m\n",
      "\u001b[1;31mNameError\u001b[0m: name 'mice' is not defined"
     ]
    }
   ],
   "source": [
    "df_mice = df.copy()\n",
    "# mapping Embarked using numeric values\n",
    "embarked_mapping = {\"S\": 1, \"C\": 2, \"Q\": 3}\n",
    "df_mice['Embarked'] = df_mice['Embarked'].map(embarked_mapping)\n",
    "# mapping Cabin using numeric values\n",
    "deck = {\"A\": 0, \"B\": 1, \"C\": 2, \"D\": 3, \"E\": 4, \"F\": 5, \"G\": 6, \"U\": 7}\n",
    "df_mice['Cabin'] = df_mice['Cabin'].fillna(\"U\")\n",
    "df_mice['Cabin'] = df_mice['Cabin'].map(lambda x: re.compile(\"([a-zA-Z]+)\").search(x).group())\n",
    "df_mice['Cabin'] = df_mice['Cabin'].map(deck)\n",
    "df_mice['Cabin'].replace({7:np.nan}, inplace=True)\n",
    "\n",
    "numeric_features = [column for column in df_mice.columns if df_mice[column].dtype != 'object']\n",
    "imp = mice.MICEData(df_mice[numeric_features])\n",
    "imp.set_imputer('')\n",
    "for i in range(100):\n",
    "    imp.update_all()\n",
    "operated_cols = [column for column in numeric_features if self.df[column].isnull().sum()]\n",
    "print(f'Operating on following features : {operated_cols}')\n",
    "# copying the imputed values to the original df\n",
    "for i in operated_cols:\n",
    "    df_mice[i] = imp.data[i]\n",
    "\n",
    "# reverse mapping the values\n",
    "embarked_mapping = {1:\"S\", 2:\"C\", 3:\"Q\"}\n",
    "df_mice['Embarked'] = df_mice['Embarked'].map(embarked_mapping)\n",
    "deck_mapping = {0 : \"A\", 1 : \"B\", 2 : \"C\", 3 : \"D\", 4 : \"E\", 5 : \"F\", 6 : \"G\"}\n",
    "df_mice['Cabin'] = df_mice['Cabin'].map(deck_mapping)"
   ]
  },
  {
   "cell_type": "code",
   "execution_count": 26,
   "id": "462db8ba",
   "metadata": {},
   "outputs": [
    {
     "name": "stdout",
     "output_type": "stream",
     "text": [
      "\n",
      "Using MICE algorithm...\n"
     ]
    },
    {
     "ename": "AttributeError",
     "evalue": "'DataFrame' object has no attribute 'df'",
     "output_type": "error",
     "traceback": [
      "\u001b[0;31m---------------------------------------------------------------------------\u001b[0m",
      "\u001b[0;31mAttributeError\u001b[0m                            Traceback (most recent call last)",
      "\u001b[0;32m/var/folders/tp/f8n6yr6d22d9z4thlm87tc_h0000gn/T/ipykernel_1424/1189531714.py\u001b[0m in \u001b[0;36m<module>\u001b[0;34m\u001b[0m\n\u001b[0;32m----> 1\u001b[0;31m \u001b[0mdf_mice\u001b[0m \u001b[0;34m=\u001b[0m  \u001b[0mMICE_impute\u001b[0m\u001b[0;34m(\u001b[0m\u001b[0mdf\u001b[0m\u001b[0;34m)\u001b[0m\u001b[0;34m\u001b[0m\u001b[0;34m\u001b[0m\u001b[0m\n\u001b[0m\u001b[1;32m      2\u001b[0m \u001b[0mdf_mice\u001b[0m\u001b[0;34m\u001b[0m\u001b[0;34m\u001b[0m\u001b[0m\n",
      "\u001b[0;32m/var/folders/tp/f8n6yr6d22d9z4thlm87tc_h0000gn/T/ipykernel_1424/1051788493.py\u001b[0m in \u001b[0;36mMICE_impute\u001b[0;34m(self)\u001b[0m\n\u001b[1;32m      3\u001b[0m     \u001b[0mprint\u001b[0m\u001b[0;34m(\u001b[0m\u001b[0;34m)\u001b[0m\u001b[0;34m\u001b[0m\u001b[0;34m\u001b[0m\u001b[0m\n\u001b[1;32m      4\u001b[0m     \u001b[0mprint\u001b[0m\u001b[0;34m(\u001b[0m\u001b[0;34m'Using MICE algorithm...'\u001b[0m\u001b[0;34m)\u001b[0m\u001b[0;34m\u001b[0m\u001b[0;34m\u001b[0m\u001b[0m\n\u001b[0;32m----> 5\u001b[0;31m     \u001b[0mdf_mice\u001b[0m \u001b[0;34m=\u001b[0m \u001b[0mself\u001b[0m\u001b[0;34m.\u001b[0m\u001b[0mdf\u001b[0m\u001b[0;34m.\u001b[0m\u001b[0mcopy\u001b[0m\u001b[0;34m(\u001b[0m\u001b[0;34m)\u001b[0m\u001b[0;34m\u001b[0m\u001b[0;34m\u001b[0m\u001b[0m\n\u001b[0m\u001b[1;32m      6\u001b[0m     \u001b[0;31m# mapping Embarked using numeric values\u001b[0m\u001b[0;34m\u001b[0m\u001b[0;34m\u001b[0m\u001b[0m\n\u001b[1;32m      7\u001b[0m     \u001b[0membarked_mapping\u001b[0m \u001b[0;34m=\u001b[0m \u001b[0;34m{\u001b[0m\u001b[0;34m\"S\"\u001b[0m\u001b[0;34m:\u001b[0m \u001b[0;36m1\u001b[0m\u001b[0;34m,\u001b[0m \u001b[0;34m\"C\"\u001b[0m\u001b[0;34m:\u001b[0m \u001b[0;36m2\u001b[0m\u001b[0;34m,\u001b[0m \u001b[0;34m\"Q\"\u001b[0m\u001b[0;34m:\u001b[0m \u001b[0;36m3\u001b[0m\u001b[0;34m}\u001b[0m\u001b[0;34m\u001b[0m\u001b[0;34m\u001b[0m\u001b[0m\n",
      "\u001b[0;32m/opt/anaconda3/lib/python3.9/site-packages/pandas/core/generic.py\u001b[0m in \u001b[0;36m__getattr__\u001b[0;34m(self, name)\u001b[0m\n\u001b[1;32m   5485\u001b[0m         ):\n\u001b[1;32m   5486\u001b[0m             \u001b[0;32mreturn\u001b[0m \u001b[0mself\u001b[0m\u001b[0;34m[\u001b[0m\u001b[0mname\u001b[0m\u001b[0;34m]\u001b[0m\u001b[0;34m\u001b[0m\u001b[0;34m\u001b[0m\u001b[0m\n\u001b[0;32m-> 5487\u001b[0;31m         \u001b[0;32mreturn\u001b[0m \u001b[0mobject\u001b[0m\u001b[0;34m.\u001b[0m\u001b[0m__getattribute__\u001b[0m\u001b[0;34m(\u001b[0m\u001b[0mself\u001b[0m\u001b[0;34m,\u001b[0m \u001b[0mname\u001b[0m\u001b[0;34m)\u001b[0m\u001b[0;34m\u001b[0m\u001b[0;34m\u001b[0m\u001b[0m\n\u001b[0m\u001b[1;32m   5488\u001b[0m \u001b[0;34m\u001b[0m\u001b[0m\n\u001b[1;32m   5489\u001b[0m     \u001b[0;32mdef\u001b[0m \u001b[0m__setattr__\u001b[0m\u001b[0;34m(\u001b[0m\u001b[0mself\u001b[0m\u001b[0;34m,\u001b[0m \u001b[0mname\u001b[0m\u001b[0;34m:\u001b[0m \u001b[0mstr\u001b[0m\u001b[0;34m,\u001b[0m \u001b[0mvalue\u001b[0m\u001b[0;34m)\u001b[0m \u001b[0;34m->\u001b[0m \u001b[0;32mNone\u001b[0m\u001b[0;34m:\u001b[0m\u001b[0;34m\u001b[0m\u001b[0;34m\u001b[0m\u001b[0m\n",
      "\u001b[0;31mAttributeError\u001b[0m: 'DataFrame' object has no attribute 'df'"
     ]
    }
   ],
   "source": [
    "# count the number of NaN values in each column\n",
    "print(df_mice.isnull().sum())"
   ]
  },
  {
   "cell_type": "markdown",
   "id": "7c548c45",
   "metadata": {},
   "source": [
    "#### Check missing value after filling"
   ]
  },
  {
   "cell_type": "code",
   "execution_count": 12,
   "id": "63d93454",
   "metadata": {},
   "outputs": [
    {
     "ename": "NameError",
     "evalue": "name 'df_mice' is not defined",
     "output_type": "error",
     "traceback": [
      "\u001b[0;31m---------------------------------------------------------------------------\u001b[0m",
      "\u001b[0;31mNameError\u001b[0m                                 Traceback (most recent call last)",
      "\u001b[0;32m/var/folders/tp/f8n6yr6d22d9z4thlm87tc_h0000gn/T/ipykernel_1424/1023306789.py\u001b[0m in \u001b[0;36m<module>\u001b[0;34m\u001b[0m\n\u001b[1;32m      1\u001b[0m \u001b[0;31m# count the number of NaN values in each column\u001b[0m\u001b[0;34m\u001b[0m\u001b[0;34m\u001b[0m\u001b[0m\n\u001b[0;32m----> 2\u001b[0;31m \u001b[0mprint\u001b[0m\u001b[0;34m(\u001b[0m\u001b[0mdf_mice\u001b[0m\u001b[0;34m.\u001b[0m\u001b[0misnull\u001b[0m\u001b[0;34m(\u001b[0m\u001b[0;34m)\u001b[0m\u001b[0;34m.\u001b[0m\u001b[0msum\u001b[0m\u001b[0;34m(\u001b[0m\u001b[0;34m)\u001b[0m\u001b[0;34m)\u001b[0m\u001b[0;34m\u001b[0m\u001b[0;34m\u001b[0m\u001b[0m\n\u001b[0m",
      "\u001b[0;31mNameError\u001b[0m: name 'df_mice' is not defined"
     ]
    }
   ],
   "source": [
    "# count the number of NaN values in each column\n",
    "print(df_mice.isnull().sum())"
   ]
  },
  {
   "cell_type": "code",
   "execution_count": 14,
   "id": "fcbaee27",
   "metadata": {},
   "outputs": [
    {
     "ename": "NameError",
     "evalue": "name 'df_interpolate' is not defined",
     "output_type": "error",
     "traceback": [
      "\u001b[0;31m---------------------------------------------------------------------------\u001b[0m",
      "\u001b[0;31mNameError\u001b[0m                                 Traceback (most recent call last)",
      "\u001b[0;32m/var/folders/tp/f8n6yr6d22d9z4thlm87tc_h0000gn/T/ipykernel_1716/1614965925.py\u001b[0m in \u001b[0;36m<module>\u001b[0;34m\u001b[0m\n\u001b[0;32m----> 1\u001b[0;31m \u001b[0mdf_interpolate\u001b[0m\u001b[0;34m\u001b[0m\u001b[0;34m\u001b[0m\u001b[0m\n\u001b[0m",
      "\u001b[0;31mNameError\u001b[0m: name 'df_interpolate' is not defined"
     ]
    }
   ],
   "source": [
    "df_mice"
   ]
  },
  {
   "cell_type": "markdown",
   "id": "cb84fc01",
   "metadata": {},
   "source": [
    "#### Write csv file after filling the missing value by using Median"
   ]
  },
  {
   "cell_type": "code",
   "execution_count": 7,
   "id": "39f0839c",
   "metadata": {},
   "outputs": [
    {
     "name": "stdout",
     "output_type": "stream",
     "text": [
      "Write to output csv file \n"
     ]
    }
   ],
   "source": [
    "print(\"Write to output csv file \")\n",
    "df.to_csv('output_mice.csv')"
   ]
  },
  {
   "cell_type": "code",
   "execution_count": null,
   "id": "56164698",
   "metadata": {},
   "outputs": [],
   "source": []
  }
 ],
 "metadata": {
  "kernelspec": {
   "display_name": "Python 3 (ipykernel)",
   "language": "python",
   "name": "python3"
  },
  "language_info": {
   "codemirror_mode": {
    "name": "ipython",
    "version": 3
   },
   "file_extension": ".py",
   "mimetype": "text/x-python",
   "name": "python",
   "nbconvert_exporter": "python",
   "pygments_lexer": "ipython3",
   "version": "3.9.7"
  }
 },
 "nbformat": 4,
 "nbformat_minor": 5
}
