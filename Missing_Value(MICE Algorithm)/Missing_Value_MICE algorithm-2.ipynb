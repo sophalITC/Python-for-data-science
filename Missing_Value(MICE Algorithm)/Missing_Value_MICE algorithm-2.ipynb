{
 "cells": [
  {
   "cell_type": "markdown",
   "id": "1573930c",
   "metadata": {},
   "source": [
    "## MICE Algorithm\n",
    "\n",
    "First, we need to import some important library such as Numpy, Pandas, and so on.\n",
    "Then we have to read file and "
   ]
  },
  {
   "cell_type": "code",
   "execution_count": 7,
   "id": "003980fe",
   "metadata": {},
   "outputs": [],
   "source": [
    "import numpy as np\n",
    "import pandas as pd\n",
    "import re\n",
    "import sys\n",
    "from sklearn import metrics\n",
    "from statsmodels.imputation import mice\n",
    "from sklearn.model_selection import train_test_split"
   ]
  },
  {
   "cell_type": "markdown",
   "id": "7e723677",
   "metadata": {},
   "source": [
    "#### Check which field has missing value"
   ]
  },
  {
   "cell_type": "code",
   "execution_count": 8,
   "id": "50cba13e",
   "metadata": {},
   "outputs": [
    {
     "name": "stdout",
     "output_type": "stream",
     "text": [
      "File read succesfully ! Shape of original file: (891, 11)\n",
      "Survived      0\n",
      "Pclass        0\n",
      "Name          0\n",
      "Sex           0\n",
      "Age         177\n",
      "SibSp         0\n",
      "Parch         0\n",
      "Ticket        0\n",
      "Fare          0\n",
      "Cabin       687\n",
      "Embarked      2\n",
      "dtype: int64\n"
     ]
    }
   ],
   "source": [
    "# read file\n",
    "df=pd.read_csv(\"train.csv\").iloc[:,1:]\n",
    "print('File read succesfully !', f'Shape of original file: {df.shape}')\n",
    "# count the number of NaN values in each column\n",
    "print(df.isnull().sum())"
   ]
  },
  {
   "cell_type": "code",
   "execution_count": 9,
   "id": "6590b8cb",
   "metadata": {},
   "outputs": [],
   "source": [
    "# Detection of missing values\n",
    "\n",
    "def detect_missing():\n",
    "        # checking missing values\n",
    "        null_series = df.isnull().sum()\n",
    "        print()\n",
    "        null_column_list = []\n",
    "        if sum(null_series):\n",
    "            print('Following columns contains missing values : ')\n",
    "            total_samples = df.shape[0]\n",
    "            for i, j in null_series.items():\n",
    "                if j:\n",
    "                    print(\"{} : {:.2f} %\".format(i, (j/total_samples)*100))\n",
    "                    null_column_list.append(i)\n",
    "        else:\n",
    "            print(\"None of the columns contains missing values !\")\n",
    "        return null_column_list"
   ]
  },
  {
   "cell_type": "code",
   "execution_count": 10,
   "id": "586c2c0a",
   "metadata": {},
   "outputs": [
    {
     "name": "stdout",
     "output_type": "stream",
     "text": [
      "\n",
      "Following columns contains missing values : \n",
      "Age : 19.87 %\n",
      "Cabin : 77.10 %\n",
      "Embarked : 0.22 %\n",
      "['Age', 'Cabin', 'Embarked']\n"
     ]
    }
   ],
   "source": [
    "null_column_list = detect_missing()\n",
    "print(null_column_list)"
   ]
  },
  {
   "cell_type": "markdown",
   "id": "8591ca60",
   "metadata": {},
   "source": [
    "#### Deal with Nan using MICE algorithm"
   ]
  },
  {
   "cell_type": "code",
   "execution_count": 12,
   "id": "f2656656",
   "metadata": {},
   "outputs": [
    {
     "name": "stdout",
     "output_type": "stream",
     "text": [
      "Operating on following features : ['Age', 'Cabin', 'Embarked']\n"
     ]
    }
   ],
   "source": [
    "df_mice = df.copy()\n",
    "# mapping Embarked using numeric values\n",
    "embarked_mapping = {\"S\": 1, \"C\": 2, \"Q\": 3}\n",
    "df_mice['Embarked'] = df_mice['Embarked'].map(embarked_mapping)\n",
    "# mapping Cabin using numeric values\n",
    "deck = {\"A\": 0, \"B\": 1, \"C\": 2, \"D\": 3, \"E\": 4, \"F\": 5, \"G\": 6, \"U\": 7}\n",
    "df_mice['Cabin'] = df_mice['Cabin'].fillna(\"U\")\n",
    "df_mice['Cabin'] = df_mice['Cabin'].map(lambda x: re.compile(\"([a-zA-Z]+)\").search(x).group())\n",
    "df_mice['Cabin'] = df_mice['Cabin'].map(deck)\n",
    "df_mice['Cabin'].replace({7:np.nan}, inplace=True)\n",
    "\n",
    "numeric_features = [column for column in df_mice.columns if df_mice[column].dtype != 'object']\n",
    "imp = mice.MICEData(df_mice[numeric_features])\n",
    "imp.set_imputer('')\n",
    "for i in range(100):\n",
    "    imp.update_all()\n",
    "operated_cols = [column for column in numeric_features if df[column].isnull().sum()]\n",
    "print(f'Operating on following features : {operated_cols}')\n",
    "# copying the imputed values to the original df\n",
    "for i in operated_cols:\n",
    "    df_mice[i] = imp.data[i]\n",
    "\n",
    "# reverse mapping the values\n",
    "embarked_mapping = {1:\"S\", 2:\"C\", 3:\"Q\"}\n",
    "df_mice['Embarked'] = df_mice['Embarked'].map(embarked_mapping)\n",
    "deck_mapping = {0 : \"A\", 1 : \"B\", 2 : \"C\", 3 : \"D\", 4 : \"E\", 5 : \"F\", 6 : \"G\"}\n",
    "df_mice['Cabin'] = df_mice['Cabin'].map(deck_mapping)"
   ]
  },
  {
   "cell_type": "code",
   "execution_count": 13,
   "id": "462db8ba",
   "metadata": {},
   "outputs": [
    {
     "name": "stdout",
     "output_type": "stream",
     "text": [
      "Survived    0\n",
      "Pclass      0\n",
      "Name        0\n",
      "Sex         0\n",
      "Age         0\n",
      "SibSp       0\n",
      "Parch       0\n",
      "Ticket      0\n",
      "Fare        0\n",
      "Cabin       0\n",
      "Embarked    0\n",
      "dtype: int64\n"
     ]
    }
   ],
   "source": [
    "# count the number of NaN values in each column\n",
    "print(df_mice.isnull().sum())"
   ]
  },
  {
   "cell_type": "markdown",
   "id": "7c548c45",
   "metadata": {},
   "source": [
    "#### Check missing value after filling"
   ]
  },
  {
   "cell_type": "code",
   "execution_count": 14,
   "id": "63d93454",
   "metadata": {},
   "outputs": [
    {
     "name": "stdout",
     "output_type": "stream",
     "text": [
      "Survived    0\n",
      "Pclass      0\n",
      "Name        0\n",
      "Sex         0\n",
      "Age         0\n",
      "SibSp       0\n",
      "Parch       0\n",
      "Ticket      0\n",
      "Fare        0\n",
      "Cabin       0\n",
      "Embarked    0\n",
      "dtype: int64\n"
     ]
    }
   ],
   "source": [
    "# count the number of NaN values in each column\n",
    "print(df_mice.isnull().sum())"
   ]
  },
  {
   "cell_type": "code",
   "execution_count": 15,
   "id": "fcbaee27",
   "metadata": {},
   "outputs": [
    {
     "data": {
      "text/html": [
       "<div>\n",
       "<style scoped>\n",
       "    .dataframe tbody tr th:only-of-type {\n",
       "        vertical-align: middle;\n",
       "    }\n",
       "\n",
       "    .dataframe tbody tr th {\n",
       "        vertical-align: top;\n",
       "    }\n",
       "\n",
       "    .dataframe thead th {\n",
       "        text-align: right;\n",
       "    }\n",
       "</style>\n",
       "<table border=\"1\" class=\"dataframe\">\n",
       "  <thead>\n",
       "    <tr style=\"text-align: right;\">\n",
       "      <th></th>\n",
       "      <th>Survived</th>\n",
       "      <th>Pclass</th>\n",
       "      <th>Name</th>\n",
       "      <th>Sex</th>\n",
       "      <th>Age</th>\n",
       "      <th>SibSp</th>\n",
       "      <th>Parch</th>\n",
       "      <th>Ticket</th>\n",
       "      <th>Fare</th>\n",
       "      <th>Cabin</th>\n",
       "      <th>Embarked</th>\n",
       "    </tr>\n",
       "  </thead>\n",
       "  <tbody>\n",
       "    <tr>\n",
       "      <th>0</th>\n",
       "      <td>0</td>\n",
       "      <td>3</td>\n",
       "      <td>Braund, Mr. Owen Harris</td>\n",
       "      <td>male</td>\n",
       "      <td>22.0</td>\n",
       "      <td>1</td>\n",
       "      <td>0</td>\n",
       "      <td>A/5 21171</td>\n",
       "      <td>7.2500</td>\n",
       "      <td>F</td>\n",
       "      <td>S</td>\n",
       "    </tr>\n",
       "    <tr>\n",
       "      <th>1</th>\n",
       "      <td>1</td>\n",
       "      <td>1</td>\n",
       "      <td>Cumings, Mrs. John Bradley (Florence Briggs Th...</td>\n",
       "      <td>female</td>\n",
       "      <td>38.0</td>\n",
       "      <td>1</td>\n",
       "      <td>0</td>\n",
       "      <td>PC 17599</td>\n",
       "      <td>71.2833</td>\n",
       "      <td>C</td>\n",
       "      <td>C</td>\n",
       "    </tr>\n",
       "    <tr>\n",
       "      <th>2</th>\n",
       "      <td>1</td>\n",
       "      <td>3</td>\n",
       "      <td>Heikkinen, Miss. Laina</td>\n",
       "      <td>female</td>\n",
       "      <td>26.0</td>\n",
       "      <td>0</td>\n",
       "      <td>0</td>\n",
       "      <td>STON/O2. 3101282</td>\n",
       "      <td>7.9250</td>\n",
       "      <td>F</td>\n",
       "      <td>S</td>\n",
       "    </tr>\n",
       "    <tr>\n",
       "      <th>3</th>\n",
       "      <td>1</td>\n",
       "      <td>1</td>\n",
       "      <td>Futrelle, Mrs. Jacques Heath (Lily May Peel)</td>\n",
       "      <td>female</td>\n",
       "      <td>35.0</td>\n",
       "      <td>1</td>\n",
       "      <td>0</td>\n",
       "      <td>113803</td>\n",
       "      <td>53.1000</td>\n",
       "      <td>C</td>\n",
       "      <td>S</td>\n",
       "    </tr>\n",
       "    <tr>\n",
       "      <th>4</th>\n",
       "      <td>0</td>\n",
       "      <td>3</td>\n",
       "      <td>Allen, Mr. William Henry</td>\n",
       "      <td>male</td>\n",
       "      <td>35.0</td>\n",
       "      <td>0</td>\n",
       "      <td>0</td>\n",
       "      <td>373450</td>\n",
       "      <td>8.0500</td>\n",
       "      <td>F</td>\n",
       "      <td>S</td>\n",
       "    </tr>\n",
       "    <tr>\n",
       "      <th>...</th>\n",
       "      <td>...</td>\n",
       "      <td>...</td>\n",
       "      <td>...</td>\n",
       "      <td>...</td>\n",
       "      <td>...</td>\n",
       "      <td>...</td>\n",
       "      <td>...</td>\n",
       "      <td>...</td>\n",
       "      <td>...</td>\n",
       "      <td>...</td>\n",
       "      <td>...</td>\n",
       "    </tr>\n",
       "    <tr>\n",
       "      <th>886</th>\n",
       "      <td>0</td>\n",
       "      <td>2</td>\n",
       "      <td>Montvila, Rev. Juozas</td>\n",
       "      <td>male</td>\n",
       "      <td>27.0</td>\n",
       "      <td>0</td>\n",
       "      <td>0</td>\n",
       "      <td>211536</td>\n",
       "      <td>13.0000</td>\n",
       "      <td>F</td>\n",
       "      <td>S</td>\n",
       "    </tr>\n",
       "    <tr>\n",
       "      <th>887</th>\n",
       "      <td>1</td>\n",
       "      <td>1</td>\n",
       "      <td>Graham, Miss. Margaret Edith</td>\n",
       "      <td>female</td>\n",
       "      <td>19.0</td>\n",
       "      <td>0</td>\n",
       "      <td>0</td>\n",
       "      <td>112053</td>\n",
       "      <td>30.0000</td>\n",
       "      <td>B</td>\n",
       "      <td>S</td>\n",
       "    </tr>\n",
       "    <tr>\n",
       "      <th>888</th>\n",
       "      <td>0</td>\n",
       "      <td>3</td>\n",
       "      <td>Johnston, Miss. Catherine Helen \"Carrie\"</td>\n",
       "      <td>female</td>\n",
       "      <td>32.0</td>\n",
       "      <td>1</td>\n",
       "      <td>2</td>\n",
       "      <td>W./C. 6607</td>\n",
       "      <td>23.4500</td>\n",
       "      <td>G</td>\n",
       "      <td>S</td>\n",
       "    </tr>\n",
       "    <tr>\n",
       "      <th>889</th>\n",
       "      <td>1</td>\n",
       "      <td>1</td>\n",
       "      <td>Behr, Mr. Karl Howell</td>\n",
       "      <td>male</td>\n",
       "      <td>26.0</td>\n",
       "      <td>0</td>\n",
       "      <td>0</td>\n",
       "      <td>111369</td>\n",
       "      <td>30.0000</td>\n",
       "      <td>C</td>\n",
       "      <td>C</td>\n",
       "    </tr>\n",
       "    <tr>\n",
       "      <th>890</th>\n",
       "      <td>0</td>\n",
       "      <td>3</td>\n",
       "      <td>Dooley, Mr. Patrick</td>\n",
       "      <td>male</td>\n",
       "      <td>32.0</td>\n",
       "      <td>0</td>\n",
       "      <td>0</td>\n",
       "      <td>370376</td>\n",
       "      <td>7.7500</td>\n",
       "      <td>E</td>\n",
       "      <td>Q</td>\n",
       "    </tr>\n",
       "  </tbody>\n",
       "</table>\n",
       "<p>891 rows × 11 columns</p>\n",
       "</div>"
      ],
      "text/plain": [
       "     Survived  Pclass                                               Name  \\\n",
       "0           0       3                            Braund, Mr. Owen Harris   \n",
       "1           1       1  Cumings, Mrs. John Bradley (Florence Briggs Th...   \n",
       "2           1       3                             Heikkinen, Miss. Laina   \n",
       "3           1       1       Futrelle, Mrs. Jacques Heath (Lily May Peel)   \n",
       "4           0       3                           Allen, Mr. William Henry   \n",
       "..        ...     ...                                                ...   \n",
       "886         0       2                              Montvila, Rev. Juozas   \n",
       "887         1       1                       Graham, Miss. Margaret Edith   \n",
       "888         0       3           Johnston, Miss. Catherine Helen \"Carrie\"   \n",
       "889         1       1                              Behr, Mr. Karl Howell   \n",
       "890         0       3                                Dooley, Mr. Patrick   \n",
       "\n",
       "        Sex   Age  SibSp  Parch            Ticket     Fare Cabin Embarked  \n",
       "0      male  22.0      1      0         A/5 21171   7.2500     F        S  \n",
       "1    female  38.0      1      0          PC 17599  71.2833     C        C  \n",
       "2    female  26.0      0      0  STON/O2. 3101282   7.9250     F        S  \n",
       "3    female  35.0      1      0            113803  53.1000     C        S  \n",
       "4      male  35.0      0      0            373450   8.0500     F        S  \n",
       "..      ...   ...    ...    ...               ...      ...   ...      ...  \n",
       "886    male  27.0      0      0            211536  13.0000     F        S  \n",
       "887  female  19.0      0      0            112053  30.0000     B        S  \n",
       "888  female  32.0      1      2        W./C. 6607  23.4500     G        S  \n",
       "889    male  26.0      0      0            111369  30.0000     C        C  \n",
       "890    male  32.0      0      0            370376   7.7500     E        Q  \n",
       "\n",
       "[891 rows x 11 columns]"
      ]
     },
     "execution_count": 15,
     "metadata": {},
     "output_type": "execute_result"
    }
   ],
   "source": [
    "df_mice"
   ]
  },
  {
   "cell_type": "markdown",
   "id": "cb84fc01",
   "metadata": {},
   "source": [
    "#### Write csv file after filling the missing value by using Median"
   ]
  },
  {
   "cell_type": "code",
   "execution_count": 7,
   "id": "39f0839c",
   "metadata": {},
   "outputs": [
    {
     "name": "stdout",
     "output_type": "stream",
     "text": [
      "Write to output csv file \n"
     ]
    }
   ],
   "source": [
    "print(\"Write to output csv file \")\n",
    "df.to_csv('output_mice.csv')"
   ]
  },
  {
   "cell_type": "code",
   "execution_count": null,
   "id": "56164698",
   "metadata": {},
   "outputs": [],
   "source": []
  }
 ],
 "metadata": {
  "kernelspec": {
   "display_name": "Python 3 (ipykernel)",
   "language": "python",
   "name": "python3"
  },
  "language_info": {
   "codemirror_mode": {
    "name": "ipython",
    "version": 3
   },
   "file_extension": ".py",
   "mimetype": "text/x-python",
   "name": "python",
   "nbconvert_exporter": "python",
   "pygments_lexer": "ipython3",
   "version": "3.9.7"
  }
 },
 "nbformat": 4,
 "nbformat_minor": 5
}
