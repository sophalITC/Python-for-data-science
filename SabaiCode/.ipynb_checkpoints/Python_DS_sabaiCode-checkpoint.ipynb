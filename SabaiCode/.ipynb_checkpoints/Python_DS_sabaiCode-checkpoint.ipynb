{
 "cells": [
  {
   "cell_type": "code",
   "execution_count": 4,
   "metadata": {},
   "outputs": [
    {
     "name": "stdout",
     "output_type": "stream",
     "text": [
      "34\n",
      "45\n",
      "70\n"
     ]
    }
   ],
   "source": [
    "#int (long int, short int) \n",
    "#float, double \n",
    "#char =a,U\n",
    "#string \n",
    "#boolean \n",
    "#varaibe start from letter or _\n",
    "_age=34\n",
    "age_=45 \n",
    "age1 =70\n",
    "print(_age)\n",
    "print(age_)\n",
    "print(age1)"
   ]
  },
  {
   "cell_type": "code",
   "execution_count": 5,
   "metadata": {},
   "outputs": [
    {
     "name": "stdout",
     "output_type": "stream",
     "text": [
      "100\n",
      "200\n",
      "I love coding\n",
      "I like Math\n"
     ]
    }
   ],
   "source": [
    "A=100\n",
    "a=200\n",
    "print(A)#100\n",
    "print(a)#200\n",
    "a='I love coding'\n",
    "print(a)#I love coding \n",
    "a=\"I like Math\"\n",
    "print(a)#I like "
   ]
  },
  {
   "cell_type": "code",
   "execution_count": 7,
   "metadata": {},
   "outputs": [
    {
     "name": "stdout",
     "output_type": "stream",
     "text": [
      "2 Country \n"
     ]
    }
   ],
   "source": [
    "a=2 #str(a), a=\"2\"\n",
    "b=\" Country \" # concate \n",
    "print(str(a)+b)"
   ]
  },
  {
   "cell_type": "code",
   "execution_count": 9,
   "metadata": {},
   "outputs": [
    {
     "name": "stdout",
     "output_type": "stream",
     "text": [
      "86.0\n"
     ]
    }
   ],
   "source": [
    "a=78.5\n",
    "b=7.5\n",
    "print(a+b)"
   ]
  },
  {
   "cell_type": "code",
   "execution_count": 10,
   "metadata": {},
   "outputs": [
    {
     "ename": "SyntaxError",
     "evalue": "invalid syntax (<ipython-input-10-46becbe1d053>, line 2)",
     "output_type": "error",
     "traceback": [
      "\u001b[1;36m  File \u001b[1;32m\"<ipython-input-10-46becbe1d053>\"\u001b[1;36m, line \u001b[1;32m2\u001b[0m\n\u001b[1;33m    build on( date)\u001b[0m\n\u001b[1;37m          ^\u001b[0m\n\u001b[1;31mSyntaxError\u001b[0m\u001b[1;31m:\u001b[0m invalid syntax\n"
     ]
    }
   ],
   "source": [
    "typedef constant "
   ]
  },
  {
   "cell_type": "code",
   "execution_count": null,
   "metadata": {},
   "outputs": [],
   "source": [
    "#assign operator \n",
    "= (x=25)\n",
    "== (x==25)#true or false \n",
    "+= (sum +=3) #sum=sum+3"
   ]
  },
  {
   "cell_type": "code",
   "execution_count": 12,
   "metadata": {},
   "outputs": [
    {
     "name": "stdout",
     "output_type": "stream",
     "text": [
      "9 120 62 56\n"
     ]
    }
   ],
   "source": [
    "a=10\n",
    "b=30\n",
    "c=60\n",
    "d=50\n",
    "d +=6\n",
    "b *=4 #b=b*4\n",
    "c +=2\n",
    "a -=1\n",
    "print(a,b,c,d)#9,34,62,56"
   ]
  },
  {
   "cell_type": "code",
   "execution_count": 13,
   "metadata": {},
   "outputs": [
    {
     "name": "stdout",
     "output_type": "stream",
     "text": [
      "10.0 0\n"
     ]
    }
   ],
   "source": [
    "# / vs % \n",
    "a=30/3\n",
    "b=30%3\n",
    "print(a, b)"
   ]
  },
  {
   "cell_type": "code",
   "execution_count": 14,
   "metadata": {},
   "outputs": [
    {
     "name": "stdout",
     "output_type": "stream",
     "text": [
      "6 9\n"
     ]
    }
   ],
   "source": [
    "a=3*2\n",
    "b=3**2\n",
    "print(a,b)"
   ]
  },
  {
   "cell_type": "code",
   "execution_count": 15,
   "metadata": {},
   "outputs": [
    {
     "name": "stdout",
     "output_type": "stream",
     "text": [
      "18.0\n"
     ]
    }
   ],
   "source": [
    "print(50*2/10+6*2-8/2)#++,--,**, *,/, +,-"
   ]
  },
  {
   "cell_type": "code",
   "execution_count": 17,
   "metadata": {},
   "outputs": [
    {
     "name": "stdout",
     "output_type": "stream",
     "text": [
      "<class 'str'>\n",
      "<class 'float'>\n",
      "<class 'int'>\n"
     ]
    }
   ],
   "source": [
    "a=67\n",
    "b=45.6\n",
    "c=\"Country\"\n",
    "print(type(c))\n",
    "print(type(b))\n",
    "print(type(a))"
   ]
  },
  {
   "cell_type": "code",
   "execution_count": 26,
   "metadata": {},
   "outputs": [
    {
     "name": "stdout",
     "output_type": "stream",
     "text": [
      "True\n",
      "False\n",
      "False\n",
      "False\n",
      "True\n",
      "True\n",
      "False\n"
     ]
    }
   ],
   "source": [
    "a=56>12\n",
    "b=0<-1\n",
    "print(a)\n",
    "print(b)\n",
    "print(a and b)\n",
    "print(a&b)\n",
    "print(a or b)\n",
    "print(a|b)\n",
    "print(not a)"
   ]
  },
  {
   "cell_type": "code",
   "execution_count": 29,
   "metadata": {},
   "outputs": [
    {
     "name": "stdout",
     "output_type": "stream",
     "text": [
      "Correct\n",
      "Wrong\n",
      "Correct\n"
     ]
    }
   ],
   "source": [
    "#control struncture (1. sequencial vs 2. Selection Ex: if, if/elif)\n",
    "print(\"Correct\")\n",
    "print(\"Wrong\")\n",
    "if 6>2 or 6>12: \n",
    "    print(\"Correct\")\n",
    "else: \n",
    "    print(\"Wrong\")\n",
    "    \n",
    "    "
   ]
  },
  {
   "cell_type": "code",
   "execution_count": 30,
   "metadata": {},
   "outputs": [
    {
     "name": "stdout",
     "output_type": "stream",
     "text": [
      "Correct\n"
     ]
    }
   ],
   "source": [
    "if 6>2 and 6<12: \n",
    "    print(\"Correct\")\n",
    "else: \n",
    "    print(\"Wrong\")"
   ]
  },
  {
   "cell_type": "code",
   "execution_count": null,
   "metadata": {},
   "outputs": [],
   "source": [
    "#input from keyboard \n",
    "if....\n",
    "elif ....\n",
    "elif ....\n",
    "else: \n",
    "90==>100 (A)\n",
    "80==>89  (B) \n",
    "70==>79  (C)\n",
    "60==>69  (D)\n",
    "50==>59  (E)\n",
    "0==>49 (F) \n",
    "other Score invalid "
   ]
  },
  {
   "cell_type": "code",
   "execution_count": 5,
   "metadata": {},
   "outputs": [
    {
     "name": "stdout",
     "output_type": "stream",
     "text": [
      "enter your score:67\n",
      "Invalid score!\n"
     ]
    }
   ],
   "source": [
    "a =int(input(\"enter your score:\"))\n",
    "if a>=90 and a<=100: \n",
    "    print(\"Grade A\")\n",
    "elif a>=80 and a<90:\n",
    "    print(\"Grade B\")\n",
    "\n",
    "else: \n",
    "    print(\"Invalid score!\")"
   ]
  },
  {
   "cell_type": "code",
   "execution_count": 13,
   "metadata": {},
   "outputs": [
    {
     "name": "stdout",
     "output_type": "stream",
     "text": [
      "Preab Sovath\n",
      "Preab Sovath\n",
      "False\n"
     ]
    }
   ],
   "source": [
    "#string \n",
    "Lname=\"Preab\"\n",
    "Fname=\"Sovath\"\n",
    "print(Lname+\" \"+Fname)#string concate\n",
    "fullname= Lname + \" \"+ Fname\n",
    "print(fullname)\n",
    "print(\"ath1\" in fullname)"
   ]
  },
  {
   "cell_type": "code",
   "execution_count": 11,
   "metadata": {},
   "outputs": [
    {
     "name": "stdout",
     "output_type": "stream",
     "text": [
      "****************************************\n",
      "________________________________________\n",
      "<><><><><><><><><><><><><><><><><><><><>\n",
      "&&&&&&&&&&&&&&&&&&&&&&&&&&&&&&&&&&&&&&&&\n"
     ]
    }
   ],
   "source": [
    "print(\"*\"*40)\n",
    "print('_'*40)\n",
    "print('<>'*20)\n",
    "line=\"&\"*40\n",
    "print(line)"
   ]
  },
  {
   "cell_type": "code",
   "execution_count": 16,
   "metadata": {},
   "outputs": [
    {
     "name": "stdout",
     "output_type": "stream",
     "text": [
      "False\n"
     ]
    }
   ],
   "source": [
    "name=\"Cambodia\"\n",
    "print('c' in name)"
   ]
  },
  {
   "cell_type": "code",
   "execution_count": 26,
   "metadata": {
    "scrolled": true
   },
   "outputs": [
    {
     "name": "stdout",
     "output_type": "stream",
     "text": [
      "C\n",
      "Cambodia\n",
      "Cmoi\n",
      "y\n",
      "l countr\n",
      "ytuclfenwas iomC\n"
     ]
    }
   ],
   "source": [
    "name=\"Cambodia is a wonderful country\"\n",
    "#string is a array of char\n",
    "#array is a data structure to containe the collection of the same datatype\n",
    "print(name[0])\n",
    "print(name[0:8])\n",
    "print(name[0:8:2])\n",
    "print(name[-1])\n",
    "print(name[-9:-1])\n",
    "print(name[::-2])"
   ]
  },
  {
   "cell_type": "code",
   "execution_count": 31,
   "metadata": {},
   "outputs": [
    {
     "name": "stdout",
     "output_type": "stream",
     "text": [
      "Enter your first name: Leo\n",
      "Enter your last name: Messi\n",
      "****************************************\n",
      "Welcome Mr.  Leo   Messi 60\n"
     ]
    }
   ],
   "source": [
    "#input fname \n",
    "#input laname \n",
    "#Hello fullname\n",
    "Fname=input(\"Enter your first name: \")\n",
    "Lname=input(\"Enter your last name: \")\n",
    "a=60\n",
    "print(\"*\"*40)\n",
    "print(\"Welcome Mr. \",Fname,\" \",Lname,a)"
   ]
  },
  {
   "cell_type": "code",
   "execution_count": 33,
   "metadata": {},
   "outputs": [
    {
     "name": "stdout",
     "output_type": "stream",
     "text": [
      "Originally Answered: Which programming language \n",
      "      is not case sensitive? ABAP, Ada, Fortran, \n",
      "      and Pascal provide case insensitivity to its identifiers. \n",
      "      There are some server-side scripting languages like PHP \n",
      "      (generally used in web development) which provide users to create\n",
      "      case-insensitive function name but not variables.\n"
     ]
    }
   ],
   "source": [
    "name=\"\"\"Originally Answered: Which programming language \n",
    "      is not case sensitive? ABAP, Ada, Fortran, \n",
    "      and Pascal provide case insensitivity to its identifiers. \n",
    "      There are some server-side scripting languages like PHP \n",
    "      (generally used in web development) which provide users to create\n",
    "      case-insensitive function name but not variables.\"\"\"\n",
    "print(name)"
   ]
  },
  {
   "cell_type": "code",
   "execution_count": 34,
   "metadata": {},
   "outputs": [
    {
     "name": "stdout",
     "output_type": "stream",
     "text": [
      "Originally Answered: Which programming language \n",
      "      is not case sensitive? ABAP, Ada, Fortran, \n",
      "      and Pascal provide case insensitivity to its identifiers. \n",
      "      There are some server-side scripting languages like PHP \n",
      "      (generally used in web development) which provide users to create\n",
      "      case-insensitive function name but not variables.\n"
     ]
    }
   ],
   "source": [
    "name='''Originally Answered: Which programming language \n",
    "      is not case sensitive? ABAP, Ada, Fortran, \n",
    "      and Pascal provide case insensitivity to its identifiers. \n",
    "      There are some server-side scripting languages like PHP \n",
    "      (generally used in web development) which provide users to create\n",
    "      case-insensitive function name but not variables.'''\n",
    "print(name)"
   ]
  },
  {
   "cell_type": "code",
   "execution_count": 38,
   "metadata": {},
   "outputs": [
    {
     "name": "stdout",
     "output_type": "stream",
     "text": [
      "B\n",
      "a\n",
      "n\n",
      "a\n",
      "n\n",
      "a\n",
      "6\n"
     ]
    }
   ],
   "source": [
    "#selection \n",
    "#loop \n",
    "fruit=\"Banana\"\n",
    "\n",
    "for x in fruit:#x start from 0\n",
    "    print(x)\n",
    "    \n",
    "print(len(fruit))\n"
   ]
  },
  {
   "cell_type": "code",
   "execution_count": 43,
   "metadata": {},
   "outputs": [
    {
     "name": "stdout",
     "output_type": "stream",
     "text": [
      "Yes! there is PHP in the content\n",
      "Yes! there is no Python in the content\n",
      "Originally Answered: Which programming language \n",
      "      is not case sensitive? Python, Ada, Fortran, \n",
      "      and Pascal provide case insensitivity to its identifiers. \n",
      "      There are some server-side scripting languages like PHP \n",
      "      (generally used in web development) which provide users to create\n",
      "      case-insensitive function name but not variables.\n",
      "ORIGINALLY ANSWERED: WHICH PROGRAMMING LANGUAGE \n",
      "      IS NOT CASE SENSITIVE? ABAP, ADA, FORTRAN, \n",
      "      AND PASCAL PROVIDE CASE INSENSITIVITY TO ITS IDENTIFIERS. \n",
      "      THERE ARE SOME SERVER-SIDE SCRIPTING LANGUAGES LIKE PHP \n",
      "      (GENERALLY USED IN WEB DEVELOPMENT) WHICH PROVIDE USERS TO CREATE\n",
      "      CASE-INSENSITIVE FUNCTION NAME BUT NOT VARIABLES.\n",
      "originally answered: which programming language \n",
      "      is not case sensitive? abap, ada, fortran, \n",
      "      and pascal provide case insensitivity to its identifiers. \n",
      "      there are some server-side scripting languages like php \n",
      "      (generally used in web development) which provide users to create\n",
      "      case-insensitive function name but not variables.\n"
     ]
    }
   ],
   "source": [
    "name='''Originally Answered: Which programming language \n",
    "      is not case sensitive? ABAP, Ada, Fortran, \n",
    "      and Pascal provide case insensitivity to its identifiers. \n",
    "      There are some server-side scripting languages like PHP \n",
    "      (generally used in web development) which provide users to create\n",
    "      case-insensitive function name but not variables.'''\n",
    "if \"PHP\" in name:\n",
    "    print(\"Yes! there is PHP in the content\")\n",
    "else: \n",
    "    print(\"No! there is no PHP in the content\")\n",
    "    \n",
    "    \n",
    "# if python does not has in cotent yes else no\n",
    "if \"Python\" not in name:\n",
    "    print(\"Yes! there is no Python in the content\")\n",
    "else: \n",
    "    print(\"No! there is  Python in the content\")\n",
    "\n",
    "a=name.replace(\"ABAP\", \"Python\")\n",
    "print(a)\n",
    "b=name.upper()\n",
    "print(b)\n",
    "c=name.lower()\n",
    "print(c)"
   ]
  },
  {
   "cell_type": "code",
   "execution_count": 47,
   "metadata": {},
   "outputs": [
    {
     "name": "stdout",
     "output_type": "stream",
     "text": [
      "My name is Messi, My age is 36\n",
      "My name is Messi, My age is  36\n",
      "My name is Messi, My age is 36\n"
     ]
    }
   ],
   "source": [
    "age=36\n",
    "content=\"My name is Messi, My age is \" \n",
    "print(content+ str(age))\n",
    "print(content,age)\n",
    "\n",
    "#string format\n",
    "content=\"My name is Messi, My age is {}\"\n",
    "print(content.format(age))"
   ]
  },
  {
   "cell_type": "code",
   "execution_count": 52,
   "metadata": {},
   "outputs": [
    {
     "name": "stdout",
     "output_type": "stream",
     "text": [
      "My salary is 1000 usd and I spend on food is 300usd and rent house 70.5 usd\n"
     ]
    }
   ],
   "source": [
    "#string format with int double \n",
    "salary=1000\n",
    "house=70.5 \n",
    "food= 300\n",
    "#My salary is 1000 usd and I spend on food is 300usd and rent house 70.5 usd\n",
    "content=\"My salary is {} usd and I spend on food is {}usd and rent house {} usd\"\n",
    "print(content.format(salary,food,house))\n"
   ]
  },
  {
   "cell_type": "code",
   "execution_count": 53,
   "metadata": {},
   "outputs": [
    {
     "name": "stdout",
     "output_type": "stream",
     "text": [
      "My salary is 1000 usd and I spend on food is 300usd and rent house 70.5 usd\n"
     ]
    }
   ],
   "source": [
    "content=\"My salary is {0} usd and I spend on food is {2}usd and rent house {1} usd\"\n",
    "print(content.format(salary,house,food))"
   ]
  },
  {
   "cell_type": "code",
   "execution_count": 1,
   "metadata": {},
   "outputs": [
    {
     "name": "stdout",
     "output_type": "stream",
     "text": [
      "i will go to siemreap\n"
     ]
    }
   ],
   "source": [
    "a=\"I will go to Siemreap\"\n",
    "print(a.lower())"
   ]
  },
  {
   "cell_type": "code",
   "execution_count": 3,
   "metadata": {},
   "outputs": [
    {
     "name": "stdout",
     "output_type": "stream",
     "text": [
      "Enter sth: Cambodia\n",
      "8\n"
     ]
    }
   ],
   "source": [
    "#enter sth: Cambodia \n",
    "str=input(\"Enter sth: \")\n",
    "print(len(str))"
   ]
  },
  {
   "cell_type": "code",
   "execution_count": 5,
   "metadata": {},
   "outputs": [
    {
     "name": "stdout",
     "output_type": "stream",
     "text": [
      "True\n",
      "False\n",
      "False\n"
     ]
    }
   ],
   "source": [
    "str1=\"Cambodia\"\n",
    "str2=\"CAmbodia\"\n",
    "str3=\"cambodia\"\n",
    "\n",
    "print(str1.startswith(\"Ca\"))\n",
    "print(str2.startswith(\"Ca\"))\n",
    "print(str3.startswith(\"Ca\"))"
   ]
  },
  {
   "cell_type": "code",
   "execution_count": 7,
   "metadata": {},
   "outputs": [
    {
     "name": "stdout",
     "output_type": "stream",
     "text": [
      "    Cambodia\n",
      "Thailand    \n",
      "    Malaysia   \n",
      "___________________\n",
      "Cambodia\n",
      "Thailand\n",
      "Malaysia\n"
     ]
    }
   ],
   "source": [
    "str1=\"    Cambodia\"\n",
    "str2=\"Thailand    \"\n",
    "str3=\"    Malaysia   \"\n",
    "print(str1)\n",
    "print(str2)\n",
    "print(str3)\n",
    "print(\"___________________\")\n",
    "print(str1.strip())\n",
    "print(str2.strip())\n",
    "print(str3.strip())"
   ]
  },
  {
   "cell_type": "code",
   "execution_count": 15,
   "metadata": {},
   "outputs": [
    {
     "name": "stdout",
     "output_type": "stream",
     "text": [
      "3\n",
      "I love coding\n",
      "4\n",
      "I love coding\n",
      "5\n",
      "I love coding\n",
      "6\n",
      "I love coding\n",
      "7\n",
      "I love coding\n",
      "8\n",
      "I love coding\n",
      "9\n",
      "I love coding\n"
     ]
    }
   ],
   "source": [
    "#control structure : 1. sequential structure, 2. selection (condiction) structure, 3. repetition structure \n",
    "#2. selection : if , if/else (if/elif) (nested if ex: if .....: if....)\n",
    "#3. repetion (loop): for, while (do/while)\n",
    "for i in range(3,10):\n",
    "    print(i)\n",
    "    print(\"I love coding\")"
   ]
  },
  {
   "cell_type": "code",
   "execution_count": 14,
   "metadata": {},
   "outputs": [
    {
     "name": "stdout",
     "output_type": "stream",
     "text": [
      "Enter first  number: 2\n",
      "Enter second number: 17\n",
      "Odd number is: \n",
      "3 5 7 9 11 13 15 17 "
     ]
    }
   ],
   "source": [
    "#enter first number : 2\n",
    "#enter second number: 100\n",
    "#odd number is: 3,5,7,9.....,99\n",
    "first=int(input(\"Enter first  number: \"))\n",
    "second=int(input(\"Enter second number: \"))\n",
    "if (first>=second): \n",
    "    print(\"First number must be greater than second number\")\n",
    "else:\n",
    "    print(\"Odd number is: \")\n",
    "    for num in range(first,second+1): \n",
    "        if (num%2 !=0):\n",
    "            print(num,end= \" \")\n",
    "            "
   ]
  },
  {
   "cell_type": "code",
   "execution_count": 33,
   "metadata": {},
   "outputs": [
    {
     "name": "stdout",
     "output_type": "stream",
     "text": [
      "1 2 3 4 5 6 "
     ]
    }
   ],
   "source": [
    "# break vs continue \n",
    "for i in range (1,100):\n",
    "    print(i, end=\" \")\n",
    "    if (i%2==0 and i%3==0):\n",
    "        break\n",
    "        \n",
    "    "
   ]
  },
  {
   "cell_type": "code",
   "execution_count": 35,
   "metadata": {},
   "outputs": [
    {
     "name": "stdout",
     "output_type": "stream",
     "text": [
      "1 I love python \n",
      "2 I love python \n",
      "3 I love python \n",
      "4 I love python \n",
      "5 I love python \n",
      "6 7 I love python \n",
      "8 I love python \n",
      "9 I love python \n"
     ]
    }
   ],
   "source": [
    "for i in range (1,10):\n",
    "    print(i, end=\" \")\n",
    "    if (i%2==0 and i%3==0):\n",
    "        continue \n",
    "    print(\"I love python \")"
   ]
  },
  {
   "cell_type": "code",
   "execution_count": 46,
   "metadata": {},
   "outputs": [
    {
     "name": "stdout",
     "output_type": "stream",
     "text": [
      "I stop at number :  13\n"
     ]
    }
   ],
   "source": [
    "#for , else \n",
    "for i in range(1,12,-3):\n",
    "    print(i, end=\" \")\n",
    "else: \n",
    "    print(\"I stop at number : \",i)"
   ]
  },
  {
   "cell_type": "code",
   "execution_count": 47,
   "metadata": {},
   "outputs": [
    {
     "name": "stdout",
     "output_type": "stream",
     "text": [
      "I stop at number :  13\n"
     ]
    }
   ],
   "source": [
    "#for , else \n",
    "for i in range(1,120,-3):\n",
    "    print(i, end=\" \")\n",
    "else: \n",
    "    print(\"I stop at number : \",i)"
   ]
  },
  {
   "cell_type": "code",
   "execution_count": 2,
   "metadata": {},
   "outputs": [
    {
     "name": "stdout",
     "output_type": "stream",
     "text": [
      "2  x  1  =  2\n",
      "2  x  2  =  4\n",
      "2  x  3  =  6\n",
      "2  x  4  =  8\n",
      "2  x  5  =  10\n",
      "2  x  6  =  12\n",
      "2  x  7  =  14\n",
      "2  x  8  =  16\n",
      "2  x  9  =  18\n",
      "2  x  10  =  20\n"
     ]
    }
   ],
   "source": [
    "#nest loop for \n",
    "#for i....\n",
    "  #for .....\n",
    "\n",
    "for i in range(1,11):\n",
    "    print(num, ' x ', i, ' = ', num*i)"
   ]
  },
  {
   "cell_type": "code",
   "execution_count": 5,
   "metadata": {
    "scrolled": true
   },
   "outputs": [
    {
     "name": "stdout",
     "output_type": "stream",
     "text": [
      "2  x  1  =  2\n",
      "2  x  2  =  4\n",
      "2  x  3  =  6\n",
      "2  x  4  =  8\n",
      "2  x  5  =  10\n",
      "2  x  6  =  12\n",
      "2  x  7  =  14\n",
      "2  x  8  =  16\n",
      "2  x  9  =  18\n",
      "2  x  10  =  20\n",
      "______________________________\n",
      "3  x  1  =  3\n",
      "3  x  2  =  6\n",
      "3  x  3  =  9\n",
      "3  x  4  =  12\n",
      "3  x  5  =  15\n",
      "3  x  6  =  18\n",
      "3  x  7  =  21\n",
      "3  x  8  =  24\n",
      "3  x  9  =  27\n",
      "3  x  10  =  30\n",
      "______________________________\n",
      "4  x  1  =  4\n",
      "4  x  2  =  8\n",
      "4  x  3  =  12\n",
      "4  x  4  =  16\n",
      "4  x  5  =  20\n",
      "4  x  6  =  24\n",
      "4  x  7  =  28\n",
      "4  x  8  =  32\n",
      "4  x  9  =  36\n",
      "4  x  10  =  40\n",
      "______________________________\n",
      "5  x  1  =  5\n",
      "5  x  2  =  10\n",
      "5  x  3  =  15\n",
      "5  x  4  =  20\n",
      "5  x  5  =  25\n",
      "5  x  6  =  30\n",
      "5  x  7  =  35\n",
      "5  x  8  =  40\n",
      "5  x  9  =  45\n",
      "5  x  10  =  50\n",
      "______________________________\n",
      "6  x  1  =  6\n",
      "6  x  2  =  12\n",
      "6  x  3  =  18\n",
      "6  x  4  =  24\n",
      "6  x  5  =  30\n",
      "6  x  6  =  36\n",
      "6  x  7  =  42\n",
      "6  x  8  =  48\n",
      "6  x  9  =  54\n",
      "6  x  10  =  60\n",
      "______________________________\n",
      "7  x  1  =  7\n",
      "7  x  2  =  14\n",
      "7  x  3  =  21\n",
      "7  x  4  =  28\n",
      "7  x  5  =  35\n",
      "7  x  6  =  42\n",
      "7  x  7  =  49\n",
      "7  x  8  =  56\n",
      "7  x  9  =  63\n",
      "7  x  10  =  70\n",
      "______________________________\n",
      "8  x  1  =  8\n",
      "8  x  2  =  16\n",
      "8  x  3  =  24\n",
      "8  x  4  =  32\n",
      "8  x  5  =  40\n",
      "8  x  6  =  48\n",
      "8  x  7  =  56\n",
      "8  x  8  =  64\n",
      "8  x  9  =  72\n",
      "8  x  10  =  80\n",
      "______________________________\n",
      "9  x  1  =  9\n",
      "9  x  2  =  18\n",
      "9  x  3  =  27\n",
      "9  x  4  =  36\n",
      "9  x  5  =  45\n",
      "9  x  6  =  54\n",
      "9  x  7  =  63\n",
      "9  x  8  =  72\n",
      "9  x  9  =  81\n",
      "9  x  10  =  90\n",
      "______________________________\n",
      "10  x  1  =  10\n",
      "10  x  2  =  20\n",
      "10  x  3  =  30\n",
      "10  x  4  =  40\n",
      "10  x  5  =  50\n",
      "10  x  6  =  60\n",
      "10  x  7  =  70\n",
      "10  x  8  =  80\n",
      "10  x  9  =  90\n",
      "10  x  10  =  100\n",
      "______________________________\n"
     ]
    }
   ],
   "source": [
    "#nester loop for multiplation table \n",
    "\n",
    "for j in range(2,11):\n",
    "    for i in range(1,11):\n",
    "        print(j, ' x ', i, ' = ', j*i)\n",
    "    print(\"______________________________\")"
   ]
  },
  {
   "cell_type": "code",
   "execution_count": 8,
   "metadata": {},
   "outputs": [
    {
     "name": "stdout",
     "output_type": "stream",
     "text": [
      "Enter first num: 3\n",
      "Enter second num: 5\n",
      "______________________________\n",
      "3  x  1  =  3\n",
      "3  x  2  =  6\n",
      "3  x  3  =  9\n",
      "3  x  4  =  12\n",
      "3  x  5  =  15\n",
      "3  x  6  =  18\n",
      "3  x  7  =  21\n",
      "3  x  8  =  24\n",
      "3  x  9  =  27\n",
      "3  x  10  =  30\n",
      "______________________________\n",
      "4  x  1  =  4\n",
      "4  x  2  =  8\n",
      "4  x  3  =  12\n",
      "4  x  4  =  16\n",
      "4  x  5  =  20\n",
      "4  x  6  =  24\n",
      "4  x  7  =  28\n",
      "4  x  8  =  32\n",
      "4  x  9  =  36\n",
      "4  x  10  =  40\n",
      "______________________________\n",
      "5  x  1  =  5\n",
      "5  x  2  =  10\n",
      "5  x  3  =  15\n",
      "5  x  4  =  20\n",
      "5  x  5  =  25\n",
      "5  x  6  =  30\n",
      "5  x  7  =  35\n",
      "5  x  8  =  40\n",
      "5  x  9  =  45\n",
      "5  x  10  =  50\n",
      "______________________________\n"
     ]
    }
   ],
   "source": [
    "# multiplication table by input from user \n",
    "#nester loop for multiplation table \n",
    "num1=int(input(\"Enter first num: \"))\n",
    "num2=int(input(\"Enter second num: \"))\n",
    "print(\"______________________________\")\n",
    "for j in range(num1,num2+1):\n",
    "    for i in range(1,11):\n",
    "        print(j, ' x ', i, ' = ', j*i)\n",
    "    print(\"______________________________\")"
   ]
  },
  {
   "cell_type": "code",
   "execution_count": 10,
   "metadata": {},
   "outputs": [
    {
     "name": "stdout",
     "output_type": "stream",
     "text": [
      "*  \r\n",
      "*  *  \r\n",
      "*  *  *  \r\n",
      "*  *  *  *  \r\n",
      "*  *  *  *  *  \r\n",
      "*  *  *  *  *  *  \r\n",
      "*  *  *  *  *  *  *  \r\n"
     ]
    }
   ],
   "source": [
    "#half pyramid pattern display \n",
    "for i in range (7):\n",
    "    for j in range(i+1): \n",
    "        print(\"* \", end=\" \")\n",
    "    print(\"\\r\")\n"
   ]
  },
  {
   "cell_type": "code",
   "execution_count": 11,
   "metadata": {},
   "outputs": [
    {
     "name": "stdout",
     "output_type": "stream",
     "text": [
      "*  \r\n",
      "*  *  \r\n",
      "*  *  *  \r\n",
      "*  *  *  *  \r\n",
      "*  *  *  *  *  \r\n",
      "*  *  *  *  *  *  \r\n",
      "*  *  *  *  *  *  *  \r\n"
     ]
    }
   ],
   "source": [
    "#half pyramid pattern display \n",
    "for i in range (0,7):\n",
    "    for j in range(0,i+1): \n",
    "        print(\"* \", end=\" \")\n",
    "    print(\"\\r\")\n"
   ]
  },
  {
   "cell_type": "code",
   "execution_count": 12,
   "metadata": {},
   "outputs": [
    {
     "name": "stdout",
     "output_type": "stream",
     "text": [
      "Enter n: 5\n",
      "*  \n",
      "*  *  \n",
      "*  *  *  \n",
      "*  *  *  *  \n",
      "*  *  *  *  *  \n"
     ]
    }
   ],
   "source": [
    "#half pyramid pattern display by input from keyboard \n",
    "n=int(input(\"Enter n: \"))\n",
    "for i in range (0,n):\n",
    "    for j in range(0,i+1): \n",
    "        print(\"* \", end=\" \")\n",
    "    print(\"\\r\")"
   ]
  },
  {
   "cell_type": "code",
   "execution_count": 14,
   "metadata": {},
   "outputs": [
    {
     "name": "stdout",
     "output_type": "stream",
     "text": [
      "Enter n: 7\n",
      "1 \n",
      "2 2 \n",
      "3 3 3 \n",
      "4 4 4 4 \n",
      "5 5 5 5 5 \n",
      "6 6 6 6 6 6 \n",
      "7 7 7 7 7 7 7 \n"
     ]
    }
   ],
   "source": [
    "#half pyramid pattern display by input from keyboard \n",
    "n=int(input(\"Enter n: \"))\n",
    "for i in range (1,n+1):\n",
    "    for j in range(1,i+1): \n",
    "        print(i, end=\" \")\n",
    "    print(\"\\r\")"
   ]
  },
  {
   "cell_type": "code",
   "execution_count": 16,
   "metadata": {},
   "outputs": [
    {
     "name": "stdout",
     "output_type": "stream",
     "text": [
      "Enter n:6\n",
      "1 \n",
      "1 2 \n",
      "1 2 3 \n",
      "1 2 3 4 \n",
      "1 2 3 4 5 \n",
      "1 2 3 4 5 6 \n"
     ]
    }
   ],
   "source": [
    "n=int(input(\"Enter n:\"))\n",
    "for i in range (1,n+1):\n",
    "    for j in range (1,i+1):\n",
    "        print(j,end=\" \")\n",
    "    print(\"\\r\")"
   ]
  },
  {
   "cell_type": "code",
   "execution_count": 18,
   "metadata": {},
   "outputs": [
    {
     "name": "stdout",
     "output_type": "stream",
     "text": [
      "Enter n:5\n",
      "         * \n",
      "       * * \n",
      "     * * * \n",
      "   * * * * \n",
      " * * * * * \n"
     ]
    }
   ],
   "source": [
    "n=int(input(\"Enter n:\"))\n",
    "l=2*n-1\n",
    "for i in range (0,n):\n",
    "    #space control \n",
    "    for j in range (0, l):\n",
    "        print(end=\" \")\n",
    "    l -=2 #l=l-2\n",
    "    #star control \n",
    "    for j in range(0, i+1):\n",
    "        print(\"* \", end=\"\")\n",
    "    print(\"\\r\")\n",
    "    "
   ]
  },
  {
   "cell_type": "code",
   "execution_count": null,
   "metadata": {},
   "outputs": [],
   "source": [
    "Enter num: 5\n",
    "Enter letter: a\n",
    "a  \n",
    "b  c  \n",
    "d  e  f  \n",
    "g  h  i  j  \n",
    "k  l  m  n  o  \n",
    "p  q  r  s  t  u "
   ]
  },
  {
   "cell_type": "code",
   "execution_count": 1,
   "metadata": {},
   "outputs": [
    {
     "name": "stdout",
     "output_type": "stream",
     "text": [
      "Enter num: 7\n",
      " Enter letter: a\n",
      "a  \n",
      "b  c  \n",
      "d  e  f  \n",
      "g  h  i  j  \n",
      "k  l  m  n  o  \n",
      "p  q  r  s  t  u  \n",
      "v  w  x  y  z  {  |  \n",
      "}  ~              \n"
     ]
    }
   ],
   "source": [
    "n=int(input(\"Enter num: \"))\n",
    "a=input(\" Enter letter: \") #a\n",
    "b=ord(a)#b=97\n",
    "for i in range(0,n+1):\n",
    "    for j in range(0,i+1):\n",
    "        c=chr(b)\n",
    "        print(c, \" \", end=\"\")\n",
    "        b=b+1\n",
    "    print(\"\\r\")"
   ]
  },
  {
   "cell_type": "code",
   "execution_count": 2,
   "metadata": {},
   "outputs": [
    {
     "ename": "SyntaxError",
     "evalue": "invalid syntax (<ipython-input-2-c7eff25ffdbf>, line 1)",
     "output_type": "error",
     "traceback": [
      "\u001b[1;36m  File \u001b[1;32m\"<ipython-input-2-c7eff25ffdbf>\"\u001b[1;36m, line \u001b[1;32m1\u001b[0m\n\u001b[1;33m    enter num: 4\u001b[0m\n\u001b[1;37m          ^\u001b[0m\n\u001b[1;31mSyntaxError\u001b[0m\u001b[1;31m:\u001b[0m invalid syntax\n"
     ]
    }
   ],
   "source": [
    "enter num: 4\n",
    "enter letter: a\n",
    "A\n",
    "B  B\n",
    "C  C  C\n",
    "D  D  D  D\n",
    "E  E  E  E  E"
   ]
  },
  {
   "cell_type": "markdown",
   "metadata": {},
   "source": [
    "### function \n",
    "##### 3 types of function in python: \n",
    "1. built-in function, ex: min(), help()...\n",
    "2. programmer/user defined function \n",
    "    a. void function (non-return function)\n",
    "    b. Return function (call by value, call by parameter(pointer) ) \n",
    "3. lamda funtion (Anonymous function) "
   ]
  },
  {
   "cell_type": "code",
   "execution_count": 6,
   "metadata": {},
   "outputs": [
    {
     "name": "stdout",
     "output_type": "stream",
     "text": [
      "90\n",
      "I like coding\n",
      "The world is beautiful with coding\n",
      "Python is eating data science\n"
     ]
    }
   ],
   "source": [
    "#non-return function \n",
    "def test():\n",
    "    print(\"I like coding\")\n",
    "    print(\"The world is beautiful with coding\")\n",
    "    print(\"Python is eating data science\")\n",
    "def test1():\n",
    "    a=40\n",
    "    b=50\n",
    "    print(a+b)\n",
    "\n",
    "test1()\n",
    "test()"
   ]
  },
  {
   "cell_type": "code",
   "execution_count": 9,
   "metadata": {},
   "outputs": [
    {
     "name": "stdout",
     "output_type": "stream",
     "text": [
      "Enter weight:45\n",
      "Enter height:6\n",
      "The area of triangle is :  135.0\n",
      "The area of triangle is : 135.0\n"
     ]
    }
   ],
   "source": [
    "#all function must be non-return \n",
    "#function triangle_area_cal()\n",
    "#function circle_area_cal()\n",
    "#function rectangle_area_cal()\n",
    "#func1\n",
    "# i++ (increment : i=i+1), i-- (decrement: i=i-1)\n",
    "\n",
    "def tri_area_cal():\n",
    "    b=float(input(\"Enter weight:\"))\n",
    "    h=float(input(\"Enter height:\"))\n",
    "    area=0.5*b*h\n",
    "    print(\"The area of triangle is : \",area)\n",
    "    print(f\"The area of triangle is : {area}\")\n",
    "\n",
    "def cir_area_cal():\n",
    "    r=float(input(\" Enter R: \"))\n",
    "    area= 3.14*r*r\n",
    "    print(f\"The area of circle is : {area}\")\n",
    "\n",
    "def rec_area_cal():\n",
    "    b=float(input(\"Enter weight:\"))\n",
    "    h=float(input(\"Enter height:\"))\n",
    "    area=b*h\n",
    "    print(\"The area of triangle is : \",area)\n",
    "\n",
    "\n",
    "tri_area_cal()\n"
   ]
  },
  {
   "cell_type": "code",
   "execution_count": null,
   "metadata": {},
   "outputs": [],
   "source": [
    "#welcome to area calculation and temperature coversion \n",
    "1. Rectangle area \n",
    "2. Circle area \n",
    "3. Triangle area \n",
    "4. Celcius to fahrenheit\n",
    "5. Fahrenheit to celcius \n",
    "select your choice: 1"
   ]
  },
  {
   "cell_type": "code",
   "execution_count": null,
   "metadata": {},
   "outputs": [],
   "source": [
    "def tri_area_cal():\n",
    "    b=float(input(\"Enter weight:\"))\n",
    "    h=float(input(\"Enter height:\"))\n",
    "    area=0.5*b*h\n",
    "    print(\"The area of triangle is : \",area)\n",
    "    print(f\"The area of triangle is : {area}\")\n",
    "    \n",
    "def cir_area_cal():\n",
    "    r=float(input(\" Enter R: \"))\n",
    "    area= 3.14*r*r\n",
    "    print(f\"The area of circle is : {area}\")#f string format (3.6 )\n",
    "    \n",
    "def rec_area_cal():\n",
    "    b=float(input(\"Enter weight:\"))\n",
    "    h=float(input(\"Enter height:\"))\n",
    "    area=b*h\n",
    "    print(\"The area of triangle is : \",area)\n",
    "    \n",
    "def cel_to_far():\n",
    "    b=float(input(\"Enter tem_cel:\"))\n",
    "    far=(b * 9/5) + 32\n",
    "    print(f\"Temperature as fahranheit is : {far}\")#f string \n",
    "    #print(\"Temperature as fahranheit is : {}\",.format('far')#string format \n",
    "def \n",
    "\n",
    "print(\"welcome to area calculation and temperature coversion :\")\n",
    "print(\"1. Rectangle area \")\n",
    "print(\"2. Circle area \")\n",
    "print(\"3. Triangle area \")\n",
    "print(\"4. Celcius to fahrenheit\")\n",
    "print(\"5. Fahrenheit to celciu\")\n",
    "n=int(input(\"select your choice: \"))\n",
    "if n==1: \n",
    "    rec_area_cal()\n",
    "elif n==2:\n",
    "    cir_area_cal()\n",
    "elif n==3: \n",
    "    tri_area_cal()\n",
    "    "
   ]
  },
  {
   "cell_type": "markdown",
   "metadata": {},
   "source": [
    "### return function "
   ]
  },
  {
   "cell_type": "code",
   "execution_count": 10,
   "metadata": {},
   "outputs": [
    {
     "name": "stdout",
     "output_type": "stream",
     "text": [
      "Enter Farenheit temperature: 78\n",
      "78.0 degree farenheit = 25.556 degree celius\n",
      "78.0  degree farenheit =   25.556  degree celius\n"
     ]
    }
   ],
   "source": [
    "#return function have keyword return \n",
    "#paramednter vs argument \n",
    "def sum_3_num(a, b, c):\n",
    "    return a+b+c\n",
    "\n",
    "#print(sum_3_num(45,6,7))\n",
    "\n",
    "def triangle_area(a,b):\n",
    "    area=0.5 *a*b\n",
    "    return area\n",
    "a =triangle_area(6,9)\n",
    "#print(a)\n",
    "\n",
    "def far_to_cel(far):\n",
    "    return (far-32)*(5/9)\n",
    "\n",
    "a=float(input(\"Enter Farenheit temperature: \"))\n",
    "temp_cel=far_to_cel(a)\n",
    "\n",
    "print(f\"{a} degree farenheit = {temp_cel:.2f} degree celius\")\n",
    "print(a,\" degree farenheit =  \",round(temp_cel,3), \" degree celius\")\n",
    "\n",
    "\n",
    "#3 return function : circle area, Multiple of 3 number, Fahrenheit to celcius\n",
    "\n",
    "    "
   ]
  },
  {
   "cell_type": "code",
   "execution_count": 7,
   "metadata": {},
   "outputs": [
    {
     "name": "stdout",
     "output_type": "stream",
     "text": [
      "Welcome to temperature coversion program\n",
      "1. Celious to farenheit\n",
      "2. farenheit to celious\n",
      "Choise: 2\n",
      "Enter farenheit degree:104\n",
      "The farenheit degree at 104.0 celious degree is: 40.0\n"
     ]
    }
   ],
   "source": [
    "def far_to_cel(far):\n",
    "    return (far-32)*(5/9)\n",
    "def cel_to_far(cel):\n",
    "    return (cel*9/5)+32\n",
    "\n",
    "print(\"Welcome to temperature coversion program\")\n",
    "print(\"1. Celious to farenheit\")\n",
    "print(\"2. farenheit to celious\")\n",
    "n=int(input(\"Choise: \"))\n",
    "if(n==1): \n",
    "    a=float(input(\"Enter celious degree: \"))\n",
    "    b=cel_to_far(a)\n",
    "    print(f\"The farenheit degree at {a} celious degree is: {b}\")\n",
    "elif (n==2):\n",
    "    x=float(input(\"Enter farenheit degree:\"))\n",
    "    y=far_to_cel(x)\n",
    "    print(f\"The farenheit degree at {x} celious degree is: {y}\")\n"
   ]
  },
  {
   "cell_type": "code",
   "execution_count": 14,
   "metadata": {},
   "outputs": [
    {
     "name": "stdout",
     "output_type": "stream",
     "text": [
      "Enter your money $: 10000\n",
      "Enter a yearly rate: 5\n",
      "Enter number of yearts: 20\n",
      "year 1 : $10500.00\n",
      "year 2 : $11025.00\n",
      "year 3 : $11576.25\n",
      "year 4 : $12155.06\n",
      "year 5 : $12762.82\n",
      "year 6 : $13400.96\n",
      "year 7 : $14071.00\n",
      "year 8 : $14774.55\n",
      "year 9 : $15513.28\n",
      "year 10 : $16288.95\n",
      "year 11 : $17103.39\n",
      "year 12 : $17958.56\n",
      "year 13 : $18856.49\n",
      "year 14 : $19799.32\n",
      "year 15 : $20789.28\n",
      "year 16 : $21828.75\n",
      "year 17 : $22920.18\n",
      "year 18 : $24066.19\n",
      "year 19 : $25269.50\n",
      "year 20 : $26532.98\n"
     ]
    }
   ],
   "source": [
    "def invest_fv(pv,rate,years):\n",
    "    for i in range(1,years+1):\n",
    "        pv=pv*(1+rate/100)\n",
    "        print(f\"year {i} : ${pv:.2f}\")\n",
    "    \n",
    "pv=int(input(\"Enter your money $: \"))\n",
    "rate=float(input(\"Enter a yearly rate: \"))\n",
    "years=int(input(\"Enter number of yearts: \"))\n",
    "\n",
    "invest_fv(pv,rate,years)"
   ]
  },
  {
   "cell_type": "markdown",
   "metadata": {},
   "source": [
    "### recusive function \n",
    "function call function itself "
   ]
  },
  {
   "cell_type": "code",
   "execution_count": 19,
   "metadata": {},
   "outputs": [
    {
     "name": "stdout",
     "output_type": "stream",
     "text": [
      "1\n"
     ]
    }
   ],
   "source": [
    "#4!=4*3*2*1 \n",
    "#f(n)=f(n-1)*f(n-2)*f(n-3)*...*f(1)\n",
    "def factory(n):\n",
    "    if n<0:\n",
    "        return \"Error: only possitive accepted\"\n",
    "    elif n==0:\n",
    "        return 1\n",
    "    else: \n",
    "        return n *factory(n-1) #4*f(3)=4*3*f(2)=4*3*2*f(1)=4*3*2*1*f(0)=4*3*2*1*1\n",
    "    \n",
    "print(factory(4))\n"
   ]
  },
  {
   "cell_type": "code",
   "execution_count": 24,
   "metadata": {},
   "outputs": [
    {
     "name": "stdout",
     "output_type": "stream",
     "text": [
      "Enter number: -11\n",
      "-11\n",
      "-10\n",
      "-9\n",
      "-8\n",
      "-7\n",
      "-6\n",
      "-5\n",
      "-4\n",
      "-3\n",
      "-2\n",
      "-1\n",
      "0\n"
     ]
    }
   ],
   "source": [
    "def countdown_num(n):\n",
    "    if n==0: \n",
    "        return 0\n",
    "    elif n<0: #-10+1\n",
    "        print(n)\n",
    "        return countdown_num(n+1)\n",
    "    else: \n",
    "        print(n)\n",
    "        return countdown_num(n-1)\n",
    "\n",
    "num=int(input(\"Enter number: \"))\n",
    "print(countdown_num(num))"
   ]
  },
  {
   "cell_type": "code",
   "execution_count": 3,
   "metadata": {},
   "outputs": [
    {
     "name": "stdout",
     "output_type": "stream",
     "text": [
      "125\n"
     ]
    }
   ],
   "source": [
    "# exp_num(5,2): 50= 5* 5**2\n",
    "def exp_num(n,m):\n",
    "    if m==0:\n",
    "        return n\n",
    "    else: \n",
    "        return n*exp_num(n,m-1)\n",
    "print(exp_num(5,2))\n",
    "#5*exp(5,1)=5*5*exp(5,0)=5*5*5=125"
   ]
  },
  {
   "cell_type": "markdown",
   "metadata": {},
   "source": [
    "### lambda \n",
    "1. lambda function \n",
    "2. no-name function \n",
    "3. nameless function \n",
    "4. anonymous function\n",
    "5. lamda expression"
   ]
  },
  {
   "cell_type": "code",
   "execution_count": 28,
   "metadata": {},
   "outputs": [
    {
     "name": "stdout",
     "output_type": "stream",
     "text": [
      "900\n",
      "900\n",
      "15.0\n",
      "93.2\n"
     ]
    }
   ],
   "source": [
    "# lambda argument: expression \n",
    "def area_rec(w,h):\n",
    "    return w*h\n",
    "\n",
    "x = lambda w , h : w*h\n",
    "far_to_cel = lambda far: ((far-32)*(5/9))\n",
    "cel_to_far = lambda cel: ((cel * 9/5) + 32)\n",
    "print(area_rec(20,45))\n",
    "print(x(20,45))\n",
    "print(far_to_cel(59))\n",
    "print(cel_to_far(34))"
   ]
  },
  {
   "cell_type": "markdown",
   "metadata": {},
   "source": [
    "### data structure \n",
    "1. list (array)\n",
    "2. dict\n",
    "3. set\n",
    "4. tuple"
   ]
  },
  {
   "cell_type": "code",
   "execution_count": 6,
   "metadata": {},
   "outputs": [
    {
     "name": "stdout",
     "output_type": "stream",
     "text": [
      "3\n",
      "10\n"
     ]
    }
   ],
   "source": [
    "#list \n",
    "# numpy \n",
    "#int a[100]\n",
    "#a1,a2,...,a100( array int a[100])\n",
    "a=[3,7,9,10]#idex start from 0, item start from 1\n",
    "print(a[0])\n",
    "print(a[3])"
   ]
  },
  {
   "cell_type": "code",
   "execution_count": 7,
   "metadata": {},
   "outputs": [
    {
     "name": "stdout",
     "output_type": "stream",
     "text": [
      "cambodia\n"
     ]
    }
   ],
   "source": [
    "b=[\"cambodia\",23,56.89] #containe different data type \n",
    "print(b[0])"
   ]
  },
  {
   "cell_type": "code",
   "execution_count": 8,
   "metadata": {},
   "outputs": [
    {
     "name": "stdout",
     "output_type": "stream",
     "text": [
      "cambodia\n",
      "cambodia\n"
     ]
    }
   ],
   "source": [
    "#list [...] it can containe different data type, order, changeable, allow dublicated value \n",
    "c=[\"cambodia\",45,\"cambodia\"]\n",
    "print(c[0])\n",
    "print(c[2])"
   ]
  },
  {
   "cell_type": "code",
   "execution_count": 9,
   "metadata": {},
   "outputs": [
    {
     "name": "stdout",
     "output_type": "stream",
     "text": [
      "['Cambodia', 'Thailand', 'Vietnam', 'Japan', 'Malaysia']\n"
     ]
    }
   ],
   "source": [
    "country= ['Cambodia','Thailand', 'Vietnam','Japan','Malaysia']\n",
    "print(country)"
   ]
  },
  {
   "cell_type": "code",
   "execution_count": 11,
   "metadata": {},
   "outputs": [
    {
     "name": "stdout",
     "output_type": "stream",
     "text": [
      "['Cambodia', 'Thailand', 'Vietnam', 'Japan']\n"
     ]
    }
   ],
   "source": [
    "print(country[0:4])"
   ]
  },
  {
   "cell_type": "code",
   "execution_count": 12,
   "metadata": {},
   "outputs": [
    {
     "name": "stdout",
     "output_type": "stream",
     "text": [
      "Malaysia\n"
     ]
    }
   ],
   "source": [
    "print(country[-1])"
   ]
  },
  {
   "cell_type": "code",
   "execution_count": 13,
   "metadata": {},
   "outputs": [
    {
     "name": "stdout",
     "output_type": "stream",
     "text": [
      "5\n"
     ]
    }
   ],
   "source": [
    "print(len(country))"
   ]
  },
  {
   "cell_type": "code",
   "execution_count": 14,
   "metadata": {},
   "outputs": [
    {
     "name": "stdout",
     "output_type": "stream",
     "text": [
      "Vietnam\n"
     ]
    }
   ],
   "source": [
    "print(country[-3])"
   ]
  },
  {
   "cell_type": "code",
   "execution_count": 15,
   "metadata": {},
   "outputs": [
    {
     "name": "stdout",
     "output_type": "stream",
     "text": [
      "['Vietnam', 'Japan', 'Malaysia']\n"
     ]
    }
   ],
   "source": [
    "print(country[2:])"
   ]
  },
  {
   "cell_type": "code",
   "execution_count": 16,
   "metadata": {},
   "outputs": [
    {
     "name": "stdout",
     "output_type": "stream",
     "text": [
      "['Cambodia', 'Thailand', 'Vietnam', 'Japan', 'Malaysia']\n"
     ]
    }
   ],
   "source": [
    "print(country)"
   ]
  },
  {
   "cell_type": "code",
   "execution_count": 18,
   "metadata": {},
   "outputs": [
    {
     "name": "stdout",
     "output_type": "stream",
     "text": [
      "['Cambodia', 'Thailand', 'Vietnam', 'Japan', 'Lao']\n"
     ]
    }
   ],
   "source": [
    "country[4]='Lao'\n",
    "print(country)"
   ]
  },
  {
   "cell_type": "code",
   "execution_count": 19,
   "metadata": {},
   "outputs": [
    {
     "name": "stdout",
     "output_type": "stream",
     "text": [
      "['Cambodia', 'Thailand', 'Vietnam', 'Japan', 'Lao', 'Malaysia']\n"
     ]
    }
   ],
   "source": [
    "country.append('Malaysia')\n",
    "print(country)"
   ]
  },
  {
   "cell_type": "code",
   "execution_count": 20,
   "metadata": {},
   "outputs": [
    {
     "name": "stdout",
     "output_type": "stream",
     "text": [
      "['Cambodia', 'Thailand', 'Brunei', 'Vietnam', 'Japan', 'Lao', 'Malaysia']\n"
     ]
    }
   ],
   "source": [
    "#insert(index,value)\n",
    "country.insert(2,'Brunei')\n",
    "print(country)"
   ]
  },
  {
   "cell_type": "code",
   "execution_count": 21,
   "metadata": {},
   "outputs": [
    {
     "name": "stdout",
     "output_type": "stream",
     "text": [
      "['Cambodia', 'Thailand', 'Brunei', 'Vietnam', 'Japan', 'Lao', 'Malaysia', 'blue', 'white', 'orange', 'yellow']\n"
     ]
    }
   ],
   "source": [
    "#extend list concat list \n",
    "color=['blue','white','orange','yellow']\n",
    "country.extend(color)\n",
    "print(country)\n"
   ]
  },
  {
   "cell_type": "code",
   "execution_count": 22,
   "metadata": {},
   "outputs": [
    {
     "name": "stdout",
     "output_type": "stream",
     "text": [
      "['Cambodia', 'Thailand', 'Brunei', 'Vietnam', 'Japan', 'Lao', 'blue', 'white', 'orange', 'yellow']\n"
     ]
    }
   ],
   "source": [
    "#remove item from list: remove, pop(),del()\n",
    "country.remove('Malaysia')\n",
    "print(country)"
   ]
  },
  {
   "cell_type": "code",
   "execution_count": 27,
   "metadata": {},
   "outputs": [
    {
     "name": "stdout",
     "output_type": "stream",
     "text": [
      "['Brunei', 'blue', 'white', 'yellow']\n"
     ]
    }
   ],
   "source": [
    "#use loop to access list item \n",
    "#list comprehension \n",
    "newlist=[]\n",
    "for x in country:\n",
    "    if 'a' not in x:\n",
    "        newlist.append(x)\n",
    "print(newlist)"
   ]
  },
  {
   "cell_type": "code",
   "execution_count": 32,
   "metadata": {},
   "outputs": [
    {
     "name": "stdout",
     "output_type": "stream",
     "text": [
      "['Brunei', 'blue', 'white', 'yellow']\n"
     ]
    }
   ],
   "source": [
    "country1 = ['Cambodia', 'Thailand', 'Brunei', 'Vietnam', 'Japan', 'Lao', 'Malaysia', 'blue', 'white', 'orange', 'yellow']\n",
    "newlist=[]\n",
    "for i in range(len(country1)):\n",
    "    if \"a\" not in country1[i]:\n",
    "        newlist.append(country1[i])\n",
    "print(newlist)"
   ]
  },
  {
   "cell_type": "code",
   "execution_count": 33,
   "metadata": {},
   "outputs": [
    {
     "name": "stdout",
     "output_type": "stream",
     "text": [
      "['Brunei', 'Cambodia', 'Japan', 'Lao', 'Malaysia', 'Thailand', 'Vietnam', 'blue', 'orange', 'white', 'yellow']\n"
     ]
    }
   ],
   "source": [
    "country1.sort()\n",
    "print(country1)"
   ]
  },
  {
   "cell_type": "code",
   "execution_count": 34,
   "metadata": {},
   "outputs": [
    {
     "name": "stdout",
     "output_type": "stream",
     "text": [
      "[1, 5, 20, 23, 45, 56, 67, 67, 89, 890]\n"
     ]
    }
   ],
   "source": [
    "num=[23,67,1,5,890,20,45,56,67,89]\n",
    "num.sort()\n",
    "print(num)"
   ]
  },
  {
   "cell_type": "code",
   "execution_count": 37,
   "metadata": {},
   "outputs": [
    {
     "name": "stdout",
     "output_type": "stream",
     "text": [
      "Red  Apple\n",
      "Red  Mango\n",
      "Red  Durian\n",
      "Big  Apple\n",
      "Big  Mango\n",
      "Big  Durian\n",
      "Tasty  Apple\n",
      "Tasty  Mango\n",
      "Tasty  Durian\n"
     ]
    }
   ],
   "source": [
    "adj=[\"Red\",\"Big\",\"Tasty\"]\n",
    "fruit=[\"Apple\",\"Mango\",\"Durian\"]\n",
    "for color in adj:\n",
    "    for f in fruit: \n",
    "        print(f\"{color}  {f}\")\n",
    "    \n",
    "    "
   ]
  },
  {
   "cell_type": "code",
   "execution_count": 40,
   "metadata": {},
   "outputs": [
    {
     "name": "stdout",
     "output_type": "stream",
     "text": [
      "Cambodia\n",
      "Brunei\n",
      "Brunei\n"
     ]
    }
   ],
   "source": [
    "#tuple (...),contain differrent tatype, order, unchangeable, allow dublicated item\n",
    "cou=(\"Cambodia\",\"Thailand\",\"Brunei\",34,67.901,\"Brunei\")\n",
    "print(cou[0])\n",
    "print(cou[2])\n",
    "print(cou[5])"
   ]
  },
  {
   "cell_type": "code",
   "execution_count": 43,
   "metadata": {},
   "outputs": [
    {
     "name": "stdout",
     "output_type": "stream",
     "text": [
      "('Cambodia', 'Thailand', 'Brunei', 23, 67.901, 'Brunei')\n"
     ]
    }
   ],
   "source": [
    "#update tuple \n",
    "count1=list(cou)#convert from tuple to list\n",
    "count1[3]=23 #change value \n",
    "cou=tuple(count1)\n",
    "print(cou)"
   ]
  },
  {
   "cell_type": "code",
   "execution_count": 1,
   "metadata": {},
   "outputs": [
    {
     "name": "stdout",
     "output_type": "stream",
     "text": [
      "('Brunei', 'Cambodia', 'Japan', 'Lao')\n"
     ]
    }
   ],
   "source": [
    "x=('Brunei', 'Cambodia', 'Japan', 'Lao')\n",
    "print(x)"
   ]
  },
  {
   "cell_type": "code",
   "execution_count": 2,
   "metadata": {},
   "outputs": [],
   "source": [
    "#unpack\n",
    "(Lotus,Romdul,Sakura,Champa) = x"
   ]
  },
  {
   "cell_type": "code",
   "execution_count": 3,
   "metadata": {},
   "outputs": [
    {
     "name": "stdout",
     "output_type": "stream",
     "text": [
      "Brunei\n"
     ]
    }
   ],
   "source": [
    "print(Lotus)"
   ]
  },
  {
   "cell_type": "code",
   "execution_count": 4,
   "metadata": {},
   "outputs": [
    {
     "name": "stdout",
     "output_type": "stream",
     "text": [
      "Cambodia\n"
     ]
    }
   ],
   "source": [
    "print(Romdul)"
   ]
  },
  {
   "cell_type": "code",
   "execution_count": 5,
   "metadata": {},
   "outputs": [
    {
     "name": "stdout",
     "output_type": "stream",
     "text": [
      "('y', 's', 't', 1, 5, 8)\n"
     ]
    }
   ],
   "source": [
    "a=(\"y\",\"s\",\"t\")\n",
    "b=(1,5,8)\n",
    "c=a+b\n",
    "print(c)"
   ]
  },
  {
   "cell_type": "code",
   "execution_count": 6,
   "metadata": {},
   "outputs": [
    {
     "name": "stdout",
     "output_type": "stream",
     "text": [
      "('Brunei', 'Cambodia', 'Japan', 'Lao', 'Brunei', 'Cambodia', 'Japan', 'Lao')\n"
     ]
    }
   ],
   "source": [
    "x=('Brunei', 'Cambodia', 'Japan', 'Lao')\n",
    "y=x*2\n",
    "print(y)"
   ]
  },
  {
   "cell_type": "code",
   "execution_count": 7,
   "metadata": {},
   "outputs": [
    {
     "name": "stdout",
     "output_type": "stream",
     "text": [
      "(3, 6, 8, 3, 6, 8)\n"
     ]
    }
   ],
   "source": [
    "d=(3,6,8)\n",
    "f=d*2\n",
    "print(f)"
   ]
  },
  {
   "cell_type": "code",
   "execution_count": 8,
   "metadata": {},
   "outputs": [
    {
     "data": {
      "text/plain": [
       "array([12, 21, 27])"
      ]
     },
     "execution_count": 8,
     "metadata": {},
     "output_type": "execute_result"
    }
   ],
   "source": [
    "import numpy as np\n",
    "s=np.array([4,7,9])\n",
    "m=s*3\n",
    "m"
   ]
  },
  {
   "cell_type": "markdown",
   "metadata": {},
   "source": [
    "### Set\n",
    "set {...}, contained different data type, unorder, unchangeable, unindexing "
   ]
  },
  {
   "cell_type": "code",
   "execution_count": 10,
   "metadata": {},
   "outputs": [
    {
     "data": {
      "text/plain": [
       "{'7 habbit', 9, 'Follow your heart', 'Mein Kampf', 'Think and grow rich'}"
      ]
     },
     "execution_count": 10,
     "metadata": {},
     "output_type": "execute_result"
    }
   ],
   "source": [
    "book={\"Mein Kampf\",\"Think and grow rich\", \"Follow your heart\",\"7 habbit\",9}\n",
    "book"
   ]
  },
  {
   "cell_type": "code",
   "execution_count": 11,
   "metadata": {},
   "outputs": [
    {
     "data": {
      "text/plain": [
       "{'7 habbit', 9, 'Follow your heart', 'Mein Kampf', 'Think and grow rich'}"
      ]
     },
     "execution_count": 11,
     "metadata": {},
     "output_type": "execute_result"
    }
   ],
   "source": [
    "book={\"Mein Kampf\",\"Think and grow rich\", \"Follow your heart\",\"7 habbit\",9}\n",
    "book"
   ]
  },
  {
   "cell_type": "code",
   "execution_count": 12,
   "metadata": {},
   "outputs": [
    {
     "data": {
      "text/plain": [
       "{'7 habbit', 9, 'Follow your heart', 'Mein Kampf', 'Think and grow rich'}"
      ]
     },
     "execution_count": 12,
     "metadata": {},
     "output_type": "execute_result"
    }
   ],
   "source": [
    "book={\"Mein Kampf\",\"Think and grow rich\", \"Follow your heart\",\"7 habbit\",9}\n",
    "book"
   ]
  },
  {
   "cell_type": "code",
   "execution_count": 13,
   "metadata": {},
   "outputs": [
    {
     "name": "stdout",
     "output_type": "stream",
     "text": [
      "Mein Kampf\n",
      "9\n",
      "Think and grow rich\n",
      "7 habbit\n",
      "Follow your heart\n"
     ]
    }
   ],
   "source": [
    "#loop \n",
    "for i in book:\n",
    "    print(i)"
   ]
  },
  {
   "cell_type": "code",
   "execution_count": 14,
   "metadata": {},
   "outputs": [
    {
     "data": {
      "text/plain": [
       "{'7 habbit',\n",
       " 9,\n",
       " 'Cambodia',\n",
       " 'Follow your heart',\n",
       " 'Mein Kampf',\n",
       " 'Think and grow rich'}"
      ]
     },
     "execution_count": 14,
     "metadata": {},
     "output_type": "execute_result"
    }
   ],
   "source": [
    "book.add(\"Cambodia\")\n",
    "book"
   ]
  },
  {
   "cell_type": "markdown",
   "metadata": {},
   "source": [
    "### Dictionary {key:value} \n",
    "dictionary {ky:value}, order, changable , and do not allow for dublicated key "
   ]
  },
  {
   "cell_type": "code",
   "execution_count": 22,
   "metadata": {},
   "outputs": [],
   "source": [
    "dict={\n",
    "    \"Hi\":\"សួរស្តី\", \n",
    "    \"Cambodia\":\"កម្ពុជា\",\n",
    "    \"Love\":\"ស្រលាញ់\",\n",
    "    \"Age\":28}"
   ]
  },
  {
   "cell_type": "code",
   "execution_count": 23,
   "metadata": {},
   "outputs": [
    {
     "name": "stdout",
     "output_type": "stream",
     "text": [
      "សួរស្តី\n"
     ]
    }
   ],
   "source": [
    "print(dict[\"Hi\"])\n"
   ]
  },
  {
   "cell_type": "code",
   "execution_count": 24,
   "metadata": {},
   "outputs": [
    {
     "name": "stdout",
     "output_type": "stream",
     "text": [
      "Hi\n",
      "Cambodia\n",
      "Love\n",
      "Age\n"
     ]
    }
   ],
   "source": [
    "for x in dict: \n",
    "    print(x)"
   ]
  },
  {
   "cell_type": "code",
   "execution_count": 25,
   "metadata": {},
   "outputs": [
    {
     "name": "stdout",
     "output_type": "stream",
     "text": [
      "28\n"
     ]
    }
   ],
   "source": [
    "print(dict[\"Age\"])"
   ]
  },
  {
   "cell_type": "code",
   "execution_count": 26,
   "metadata": {},
   "outputs": [
    {
     "name": "stdout",
     "output_type": "stream",
     "text": [
      "dict_keys(['Hi', 'Cambodia', 'Love', 'Age'])\n"
     ]
    }
   ],
   "source": [
    "l=dict.keys()\n",
    "print(l)"
   ]
  },
  {
   "cell_type": "code",
   "execution_count": 28,
   "metadata": {},
   "outputs": [
    {
     "data": {
      "text/plain": [
       "{'Hi': 'សួរស្តី',\n",
       " 'Cambodia': 'កម្ពុជា',\n",
       " 'Love': 'ស្រលាញ់',\n",
       " 'Age': 38,\n",
       " 'age': 38}"
      ]
     },
     "execution_count": 28,
     "metadata": {},
     "output_type": "execute_result"
    }
   ],
   "source": [
    "dict[\"Age\"]=38\n",
    "dict"
   ]
  },
  {
   "cell_type": "code",
   "execution_count": 29,
   "metadata": {},
   "outputs": [],
   "source": [
    "dict.update({\"age\":48})"
   ]
  },
  {
   "cell_type": "code",
   "execution_count": 30,
   "metadata": {},
   "outputs": [
    {
     "data": {
      "text/plain": [
       "{'Hi': 'សួរស្តី',\n",
       " 'Cambodia': 'កម្ពុជា',\n",
       " 'Love': 'ស្រលាញ់',\n",
       " 'Age': 38,\n",
       " 'age': 48}"
      ]
     },
     "execution_count": 30,
     "metadata": {},
     "output_type": "execute_result"
    }
   ],
   "source": [
    "dict"
   ]
  },
  {
   "cell_type": "code",
   "execution_count": 31,
   "metadata": {},
   "outputs": [
    {
     "data": {
      "text/plain": [
       "{'Hi': 'សួរស្តី',\n",
       " 'Cambodia': 'កម្ពុជា',\n",
       " 'Love': 'ស្រលាញ់',\n",
       " 'Age': 38,\n",
       " 'age': 48,\n",
       " 'Job': 'Data Scientist'}"
      ]
     },
     "execution_count": 31,
     "metadata": {},
     "output_type": "execute_result"
    }
   ],
   "source": [
    "dict[\"Job\"]=\"Data Scientist\"\n",
    "dict"
   ]
  },
  {
   "cell_type": "code",
   "execution_count": 32,
   "metadata": {},
   "outputs": [
    {
     "data": {
      "text/plain": [
       "{'Hi': 'សួរស្តី',\n",
       " 'Cambodia': 'កម្ពុជា',\n",
       " 'Love': 'ស្រលាញ់',\n",
       " 'Age': 38,\n",
       " 'Job': 'Data Scientist'}"
      ]
     },
     "execution_count": 32,
     "metadata": {},
     "output_type": "execute_result"
    }
   ],
   "source": [
    "dict.pop(\"age\")\n",
    "dict"
   ]
  },
  {
   "cell_type": "code",
   "execution_count": null,
   "metadata": {},
   "outputs": [],
   "source": [
    "#diction store \n",
    "brand: \n",
    "year: \n",
    "Price: \n",
    "Country: "
   ]
  },
  {
   "cell_type": "code",
   "execution_count": 51,
   "metadata": {},
   "outputs": [
    {
     "name": "stdout",
     "output_type": "stream",
     "text": [
      "You have earned green color, you will get 100\n"
     ]
    }
   ],
   "source": [
    "score={'color':'green','point':100}\n",
    "print('You have earned '+str(score['color'])+\" color, you will get \"+str(score['point']))"
   ]
  },
  {
   "cell_type": "code",
   "execution_count": 52,
   "metadata": {},
   "outputs": [],
   "source": [
    "#nested if, nested loop , nested dict\n",
    "#nested if \n",
    "if ....\n",
    "    if \n",
    "#nested loop \n",
    "for ......\n",
    "    for....\n",
    "    "
   ]
  },
  {
   "cell_type": "code",
   "execution_count": 53,
   "metadata": {},
   "outputs": [],
   "source": [
    "#nested dictionaary \n",
    "#a={key: {key1:vlue1, key2:value2}}\n",
    "family={\n",
    "    \"kid1\":{\n",
    "        'name':'Dara' ,\n",
    "        'sex': 'M',\n",
    "        'year':1990\n",
    "    },\n",
    "    \"Kid2\":{\n",
    "        'name': 'Dary',\n",
    "        \"Sex\" : 'M',\n",
    "        'year':1995\n",
    "    }\n",
    "}"
   ]
  },
  {
   "cell_type": "code",
   "execution_count": 55,
   "metadata": {},
   "outputs": [
    {
     "name": "stdout",
     "output_type": "stream",
     "text": [
      "{'name': 'Dara', 'sex': 'M', 'year': 1990}\n"
     ]
    }
   ],
   "source": [
    "print(family[\"kid1\"])"
   ]
  },
  {
   "cell_type": "code",
   "execution_count": 56,
   "metadata": {},
   "outputs": [],
   "source": [
    "import numpy"
   ]
  },
  {
   "cell_type": "code",
   "execution_count": 57,
   "metadata": {},
   "outputs": [],
   "source": [
    "import scipy"
   ]
  },
  {
   "cell_type": "code",
   "execution_count": 58,
   "metadata": {},
   "outputs": [],
   "source": [
    "import matplotlib "
   ]
  },
  {
   "cell_type": "code",
   "execution_count": 59,
   "metadata": {},
   "outputs": [],
   "source": [
    "import pandas"
   ]
  },
  {
   "cell_type": "code",
   "execution_count": null,
   "metadata": {},
   "outputs": [],
   "source": []
  }
 ],
 "metadata": {
  "kernelspec": {
   "display_name": "Python 3",
   "language": "python",
   "name": "python3"
  },
  "language_info": {
   "codemirror_mode": {
    "name": "ipython",
    "version": 3
   },
   "file_extension": ".py",
   "mimetype": "text/x-python",
   "name": "python",
   "nbconvert_exporter": "python",
   "pygments_lexer": "ipython3",
   "version": "3.9.7"
  }
 },
 "nbformat": 4,
 "nbformat_minor": 4
}
