{
 "cells": [
  {
   "cell_type": "markdown",
   "metadata": {},
   "source": [
    "### zip()"
   ]
  },
  {
   "cell_type": "code",
   "execution_count": 2,
   "metadata": {},
   "outputs": [
    {
     "name": "stdout",
     "output_type": "stream",
     "text": [
      "[24.65483235 26.60971255 29.38475666 23.03004535 30.24691358]\n"
     ]
    }
   ],
   "source": [
    "#BMI = w/(h/100)**2 by using ndarray \n",
    "def test(): \n",
    "    import numpy as np\n",
    "    w=np.array([60,76,80,65,98])\n",
    "    h=np.array([156,169,165,168,180])\n",
    "    BMI=w/(h/100)**2\n",
    "    print(BMI)\n",
    "    \n",
    "test()"
   ]
  },
  {
   "cell_type": "code",
   "execution_count": 3,
   "metadata": {},
   "outputs": [
    {
     "name": "stdout",
     "output_type": "stream",
     "text": [
      "[24.654832347140037, 24.221453287197235, 29.384756657483933, 23.030045351473927, 30.24691358024691]\n"
     ]
    }
   ],
   "source": [
    "#BMI=[] by using (list comprehesion)\n",
    "def test1():\n",
    "    w=[60,70,80,65,98]\n",
    "    h=[156,170,165,168,180]\n",
    "    bmi=[]\n",
    "    for i in range(len(w)):\n",
    "        bmi.append(w[i]/(h[i]/100)**2)\n",
    "    return bmi\n",
    "\n",
    "print(test1())\n"
   ]
  },
  {
   "cell_type": "code",
   "execution_count": 4,
   "metadata": {},
   "outputs": [
    {
     "name": "stdout",
     "output_type": "stream",
     "text": [
      "[24.654832347140037, 24.221453287197235, 29.384756657483933, 23.030045351473927, 30.24691358024691]\n"
     ]
    }
   ],
   "source": [
    "#by using zip() \n",
    "def test2():\n",
    "    weight=[60,70,80,65,98]\n",
    "    height=[156,170,165,168,180]\n",
    "    bmi=[]\n",
    "    for w,h in zip(weight,  height):\n",
    "        bmi.append(w/(h/100)**2)\n",
    "    return bmi\n",
    "\n",
    "#float_arr=np.array(test2())\n",
    "#np.set_printoptions(precision=2)\n",
    "#print(float_arr)\n",
    "print(test2()) "
   ]
  },
  {
   "cell_type": "code",
   "execution_count": 5,
   "metadata": {},
   "outputs": [
    {
     "name": "stdout",
     "output_type": "stream",
     "text": [
      "[24.654832347140037, 24.221453287197235, 29.384756657483933, 23.030045351473927, 30.24691358024691]\n"
     ]
    }
   ],
   "source": [
    "def test3():\n",
    "    weight=[60,70,80,65,98]\n",
    "    height=[156,170,165,168,180]\n",
    "    name=[]\n",
    "    bmi=[]\n",
    "    return [ w/(h/100)**2 for w,h in zip(weight,  height)]\n",
    "\n",
    "print(test3())\n",
    "    "
   ]
  },
  {
   "cell_type": "code",
   "execution_count": 6,
   "metadata": {},
   "outputs": [
    {
     "name": "stdout",
     "output_type": "stream",
     "text": [
      "[{'Dara': 24.654832347140037}, {'Pisey': 24.221453287197235}, {'Theary': 29.384756657483933}, {'Piseth': 23.030045351473927}, {'Vireakbot': 30.24691358024691}]\n"
     ]
    }
   ],
   "source": [
    "def test4():\n",
    "    weight=[60,70,80,65,98]\n",
    "    height=[156,170,165,168,180]\n",
    "    name=[\"Dara\",\"Pisey\",\"Theary\",\"Piseth\",\"Vireakbot\"]\n",
    "    bmi=[]\n",
    "    return [{n:w/(h/100)**2} for w,h,n in zip(weight,height,name)]\n",
    "\n",
    "print(test4())\n",
    "    "
   ]
  },
  {
   "cell_type": "code",
   "execution_count": 7,
   "metadata": {},
   "outputs": [
    {
     "name": "stdout",
     "output_type": "stream",
     "text": [
      "[{'Dara': 24.654832347140037}, {'Piseth': 23.030045351473927}, {'Vireakbot': 30.24691358024691}]\n"
     ]
    }
   ],
   "source": [
    "def test5():\n",
    "    weight=[60,70,80,65,98]\n",
    "    height=[156,170,165,168,180]\n",
    "    name=[\"Dara\",\"Pisey\",\"Theary\",\"Piseth\",\"Vireakbot\"]\n",
    "    gender=['M','F','F','M','M']\n",
    "    return [{n:w/(h/100)**2} for w,h,n,g in zip(weight,height,name, gender) if g=='M']\n",
    "\n",
    "print(test5())"
   ]
  },
  {
   "cell_type": "markdown",
   "metadata": {},
   "source": [
    "### python map()"
   ]
  },
  {
   "cell_type": "code",
   "execution_count": 8,
   "metadata": {},
   "outputs": [
    {
     "name": "stdout",
     "output_type": "stream",
     "text": [
      "['jasmine', 'lutus', 'lily', 'sunflower', 'rose']\n",
      "['Jasmine', 'Lutus', 'Lily', 'Sunflower', 'Rose']\n"
     ]
    }
   ],
   "source": [
    "def map_sample():\n",
    "    flower=['jasmine','lutus','lily','sunflower','rose']\n",
    "    flower1=list(map(str.capitalize,flower))\n",
    "    print(flower)\n",
    "    print(flower1)\n",
    "    \n",
    "map_sample()"
   ]
  },
  {
   "cell_type": "code",
   "execution_count": null,
   "metadata": {},
   "outputs": [],
   "source": [
    "def usd_2_riel(usd):\n",
    "    return usd*4100\n",
    "def map_sample1():\n",
    "    price_usd=[56,89,23,67,30]\n",
    "    price_riel=list(map(usd_2_riel,price_usd))\n",
    "    price_riel1=[x*4000 for x in price_usd]\n",
    "    print(price_riel)\n",
    "    print(price_riel1)\n",
    "\n",
    "map_sample1()"
   ]
  },
  {
   "cell_type": "code",
   "execution_count": null,
   "metadata": {},
   "outputs": [],
   "source": [
    "# 1 hexta= 10000m^2\n",
    "#1 Ah=100m^2\n",
    "#hexta-Ah-Meter: 5-3-20 (5*10000+ 3*100+20)"
   ]
  },
  {
   "cell_type": "code",
   "execution_count": 9,
   "metadata": {},
   "outputs": [
    {
     "name": "stdout",
     "output_type": "stream",
     "text": [
      "Hexta-Ah-meter : 34-5-60\n",
      "['34', '5', '60']\n",
      "345060\n"
     ]
    }
   ],
   "source": [
    "def area():\n",
    "    s=input(\"Hexta-Ah-meter : \").split('-')\n",
    "    print(s)\n",
    "    hexta,ah,meter=list(map(int,s))# int(s)\n",
    "    total_area=hexta*10000+ah*1000+meter\n",
    "    print(total_area)\n",
    "    \n",
    "area()"
   ]
  },
  {
   "cell_type": "code",
   "execution_count": null,
   "metadata": {},
   "outputs": [],
   "source": [
    "def area1():\n",
    "    hexta,ah,meter=list(map(int, input(\"Hexta-Ah-Meter : \").split('-')))\n",
    "    return hexta*10000+ah*1000+meter\n",
    "\n",
    "area1()"
   ]
  },
  {
   "cell_type": "markdown",
   "metadata": {},
   "source": [
    "### python filter()"
   ]
  },
  {
   "cell_type": "code",
   "execution_count": 10,
   "metadata": {},
   "outputs": [
    {
     "name": "stdout",
     "output_type": "stream",
     "text": [
      "<class 'filter'>\n",
      "<filter object at 0x000001CF411FB100>\n",
      "[10, 34, 78]\n"
     ]
    }
   ],
   "source": [
    "#funt test() has list age =[10,34,55,23,78,77,45], age_e=filter()\n",
    "def test():\n",
    "    age=[10,34,55,23,78,77,45]\n",
    "    age_e=filter(lambda x:x%2==0,age)\n",
    "    print(type(age_e))\n",
    "    print(age_e)\n",
    "    print(list(age_e))\n",
    "\n",
    "test()"
   ]
  },
  {
   "cell_type": "code",
   "execution_count": 11,
   "metadata": {},
   "outputs": [
    {
     "name": "stdout",
     "output_type": "stream",
     "text": [
      "[55, 23, 77, 45]\n"
     ]
    }
   ],
   "source": [
    "def test1():\n",
    "    age=[10,34,55,23,78,77,45]\n",
    "    age1=lambda x:x%2 ==0 \n",
    "    age2=lambda x:x%2 !=0\n",
    "    age_o=filter(age2,age)\n",
    "    print(list(age_o))\n",
    "test1()"
   ]
  },
  {
   "cell_type": "code",
   "execution_count": 12,
   "metadata": {},
   "outputs": [
    {
     "name": "stdout",
     "output_type": "stream",
     "text": [
      "['Malaysia', 'Indonesia']\n"
     ]
    }
   ],
   "source": [
    "#list country =['Cambodia','Lao','Malaysia','Indonesia','Singapore','Qata','Brunei'] filter country which has 's'\n",
    "def test2():\n",
    "    country =['Cambodia','Lao','Malaysia','Indonesia','Singapore','Qata','Brunei']\n",
    "    country1=filter(lambda x:'s' in x ,country)\n",
    "    print(list(country1))\n",
    "test2()"
   ]
  },
  {
   "cell_type": "code",
   "execution_count": null,
   "metadata": {},
   "outputs": [],
   "source": [
    "#test3() country =[['Cambodia',49],['Lao',40],['Malaysia',60],['Indonesia',53],['Singapore',65],['Qata',70],['Brunei',60]] \n",
    "#filter country which has english score less than 60\n",
    "def test3():\n",
    "    country =[['Cambodia',49],['Laos',40],['Malaysia',60],['Indonesia',53],['Singapore',65],['Qata',70],['Brunei',60]]\n",
    "    country_low_score=filter(lambda x:x[1]<60,country)\n",
    "    country2=filter(lambda x:len(x[0])<5,country)\n",
    "    l = [x for x in country if(len(x[0]) <5)]\n",
    "    l1 =[x[0] for x in country if (len(x[0])>5)]\n",
    "    print(list(country_low_score))\n",
    "    print(list(country2))\n",
    "    print(l)\n",
    "    print(l1)\n",
    "    \n",
    "test3()"
   ]
  },
  {
   "cell_type": "code",
   "execution_count": null,
   "metadata": {},
   "outputs": [],
   "source": []
  },
  {
   "cell_type": "code",
   "execution_count": null,
   "metadata": {},
   "outputs": [],
   "source": []
  }
 ],
 "metadata": {
  "kernelspec": {
   "display_name": "Python 3 (ipykernel)",
   "language": "python",
   "name": "python3"
  },
  "language_info": {
   "codemirror_mode": {
    "name": "ipython",
    "version": 3
   },
   "file_extension": ".py",
   "mimetype": "text/x-python",
   "name": "python",
   "nbconvert_exporter": "python",
   "pygments_lexer": "ipython3",
   "version": "3.9.13"
  }
 },
 "nbformat": 4,
 "nbformat_minor": 4
}
