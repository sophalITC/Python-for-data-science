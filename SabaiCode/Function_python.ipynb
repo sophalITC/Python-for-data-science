{
 "cells": [
  {
   "cell_type": "markdown",
   "metadata": {},
   "source": [
    "#### Author: Sophal CHAN \n",
    "# Function\n",
    "Generally, Python programming is divided the function into three types: \n",
    "1. Built-in function \n",
    "2. User-defined function \n",
    "3. Lambda function "
   ]
  },
  {
   "cell_type": "markdown",
   "metadata": {},
   "source": [
    "## Built-in function \n",
    "In python or many programming languages has defined the built-in function as the function that already defined in the program such as : \n",
    "1. abs()\tReturns the absolute value of a number\n",
    "2. chr()\tReturns a character from the specified Unicode code.\n",
    "3. dir()\tReturns a list of the specified object's properties and methods\n",
    "4. help()\tExecutes the built-in help system\n",
    "5. hex()\tConverts a number into a hexadecimal value\n",
    "6. id()\tReturns the id of an object\n",
    "7. input()\tAllowing user input\n",
    "8. len()\tReturns the length of an object\n",
    "9. list()\tReturns a list\n",
    "10. map()\tReturns the specified iterator with the specified function applied to each item\n",
    "11. max()\tReturns the largest item in an iterable   \n",
    "and so on "
   ]
  },
  {
   "cell_type": "markdown",
   "metadata": {},
   "source": [
    "## User-defined function \n",
    "In general term of python function, it can be separated that user-defined can be divided ito (i) non-return function and (ii) return -function "
   ]
  },
  {
   "cell_type": "markdown",
   "metadata": {},
   "source": [
    "### Non-return function (void function) "
   ]
  },
  {
   "cell_type": "code",
   "execution_count": null,
   "metadata": {},
   "outputs": [],
   "source": [
    "#non-return function \n",
    "def test():\n",
    "    print(\"I like coding\")\n",
    "    print(\"The world is beautiful with coding\")\n",
    "    print(\"Python is eating data science\")\n",
    "\n",
    "\n",
    "test()"
   ]
  },
  {
   "cell_type": "code",
   "execution_count": null,
   "metadata": {},
   "outputs": [],
   "source": [
    "def test1():\n",
    "    a=40\n",
    "    b=50\n",
    "    print(a+b)\n",
    "    \n",
    "test1()"
   ]
  },
  {
   "cell_type": "code",
   "execution_count": null,
   "metadata": {},
   "outputs": [],
   "source": [
    "#all function must be non-return \n",
    "#function triangle_area_cal()\n",
    "#function circle_area_cal()\n",
    "#function rectangle_area_cal()\n",
    "#func1\n",
    "# i++ (increment : i=i+1), i-- (decrement: i=i-1)\n",
    "\n",
    "def tri_area_cal():\n",
    "    b=float(input(\"Enter weight:\"))\n",
    "    h=float(input(\"Enter height:\"))\n",
    "    area=0.5*b*h\n",
    "    print(\"The area of triangle is : \",area)\n",
    "    print(f\"The area of triangle is : {area}\")\n",
    "\n",
    "def cir_area_cal():\n",
    "    r=float(input(\" Enter R: \"))\n",
    "    area= 3.14*r*r\n",
    "    print(f\"The area of circle is : {area}\")\n",
    "\n",
    "def rec_area_cal():\n",
    "    b=float(input(\"Enter weight:\"))\n",
    "    h=float(input(\"Enter height:\"))\n",
    "    area=b*h\n",
    "    print(\"The area of triangle is : \",area)\n",
    "\n",
    "\n",
    "tri_area_cal()\n"
   ]
  },
  {
   "cell_type": "markdown",
   "metadata": {},
   "source": [
    "Write the following program in Python: \n",
    "#welcome to area calculation and temperature coversion \n",
    "1. Rectangle area \n",
    "2. Circle area \n",
    "3. Triangle area \n",
    "4. Celcius to fahrenheit\n",
    "5. Fahrenheit to celcius \n",
    "select your choice: 1"
   ]
  },
  {
   "cell_type": "code",
   "execution_count": null,
   "metadata": {},
   "outputs": [],
   "source": [
    "def tri_area_cal():\n",
    "    b=float(input(\"Enter weight:\"))\n",
    "    h=float(input(\"Enter height:\"))\n",
    "    area=0.5*b*h\n",
    "    print(\"The area of triangle is : \",area)\n",
    "    print(f\"The area of triangle is : {area}\")\n",
    "    \n",
    "def cir_area_cal():\n",
    "    r=float(input(\" Enter R: \"))\n",
    "    area= 3.14*r*r\n",
    "    print(f\"The area of circle is : {area}\")#f string format (3.6 )\n",
    "    \n",
    "def rec_area_cal():\n",
    "    b=float(input(\"Enter weight:\"))\n",
    "    h=float(input(\"Enter height:\"))\n",
    "    area=b*h\n",
    "    print(\"The area of triangle is : \",area)\n",
    "    \n",
    "def cel_to_far():\n",
    "    b=float(input(\"Enter tem_cel:\"))\n",
    "    far=(b * 9/5) + 32\n",
    "    print(f\"Temperature as fahranheit is : {far}\")#f string \n",
    "    #print(\"Temperature as fahranheit is : {}\",.format('far')#string format \n",
    "#def \n",
    "\n",
    "print(\"welcome to area calculation and temperature coversion :\")\n",
    "print(\"1. Rectangle area \")\n",
    "print(\"2. Circle area \")\n",
    "print(\"3. Triangle area \")\n",
    "print(\"4. Celcius to fahrenheit\")\n",
    "print(\"5. Fahrenheit to celciu\")\n",
    "n=int(input(\"select your choice: \"))\n",
    "if n==1: \n",
    "    rec_area_cal()\n",
    "elif n==2:\n",
    "    cir_area_cal()\n",
    "elif n==3: \n",
    "    tri_area_cal()\n",
    "    "
   ]
  },
  {
   "cell_type": "markdown",
   "metadata": {},
   "source": [
    "### Return function"
   ]
  },
  {
   "cell_type": "code",
   "execution_count": null,
   "metadata": {},
   "outputs": [],
   "source": [
    "#return function have keyword return \n",
    "#paramednter vs argument \n",
    "def sum_3_num(a, b, c):\n",
    "    return a+b+c\n",
    "\n",
    "#print(sum_3_num(45,6,7))\n",
    "\n",
    "def triangle_area(a,b):\n",
    "    area=0.5 *a*b\n",
    "    return area\n",
    "a =triangle_area(6,9)\n",
    "#print(a)\n",
    "\n",
    "def far_to_cel(far):\n",
    "    return (far-32)*(5/9)\n",
    "\n",
    "a=float(input(\"Enter Farenheit temperature: \"))\n",
    "temp_cel=far_to_cel(a)\n",
    "\n",
    "print(f\"{a} degree farenheit = {temp_cel:.2f} degree celius\")\n",
    "print(a,\" degree farenheit =  \",round(temp_cel,3), \" degree celius\")\n",
    "\n",
    "\n",
    "#3 return function : circle area, Multiple of 3 number, Fahrenheit to celcius\n"
   ]
  },
  {
   "cell_type": "code",
   "execution_count": 9,
   "metadata": {},
   "outputs": [],
   "source": [
    "def far_to_cel(far):\n",
    "    return (far-32)*(5/9)\n",
    "def cel_to_far(cel):\n",
    "    return (cel*9/5)+32\n",
    "def main():\n",
    "    print(\"Welcome to temperature coversion program\")\n",
    "    print(\"1. Celious to farenheit\")\n",
    "    print(\"2. farenheit to celious\")\n",
    "    n=int(input(\"Choise: \"))\n",
    "    if(n==1): \n",
    "        a=float(input(\"Enter celious degree: \"))\n",
    "        b=cel_to_far(a)\n",
    "        print(f\"The farenheit degree at {a} celious degree is: {b}\")\n",
    "    elif (n==2):\n",
    "        x=float(input(\"Enter farenheit degree:\"))\n",
    "        y=far_to_cel(x)\n",
    "        print(f\"The farenheit degree at {x} celious degree is: {y}\")\n",
    "    while True:\n",
    "        print('Do You Want To Continue? (y/n)')\n",
    "        n=input('')\n",
    "        if n=='y':\n",
    "            main()\n",
    "        if n=='n': \n",
    "            break\n"
   ]
  },
  {
   "cell_type": "code",
   "execution_count": 10,
   "metadata": {},
   "outputs": [
    {
     "name": "stdout",
     "output_type": "stream",
     "text": [
      "Welcome to temperature coversion program\n",
      "1. Celious to farenheit\n",
      "2. farenheit to celious\n",
      "Choise: 2\n",
      "Enter farenheit degree:566\n",
      "The farenheit degree at 566.0 celious degree is: 296.6666666666667\n",
      "Do You Want To Continue? (y/n)\n",
      "n\n"
     ]
    }
   ],
   "source": [
    "main()"
   ]
  },
  {
   "cell_type": "code",
   "execution_count": 11,
   "metadata": {},
   "outputs": [
    {
     "name": "stdout",
     "output_type": "stream",
     "text": [
      "Enter your money $: 10000\n",
      "Enter a yearly rate: 5\n",
      "Enter number of yearts: 10\n",
      "year 1 : $10500.00\n",
      "year 2 : $11025.00\n",
      "year 3 : $11576.25\n",
      "year 4 : $12155.06\n",
      "year 5 : $12762.82\n",
      "year 6 : $13400.96\n",
      "year 7 : $14071.00\n",
      "year 8 : $14774.55\n",
      "year 9 : $15513.28\n",
      "year 10 : $16288.95\n"
     ]
    }
   ],
   "source": [
    "def invest_fv(pv,rate,years):\n",
    "    for i in range(1,years+1):\n",
    "        pv=pv*(1+rate/100)\n",
    "        print(f\"year {i} : ${pv:.2f}\")\n",
    "    \n",
    "pv=int(input(\"Enter your money $: \"))\n",
    "rate=float(input(\"Enter a yearly rate: \"))\n",
    "years=int(input(\"Enter number of years: \"))\n",
    "\n",
    "invest_fv(pv,rate,years)"
   ]
  },
  {
   "cell_type": "code",
   "execution_count": null,
   "metadata": {},
   "outputs": [],
   "source": [
    "#Recusive function \n",
    "#4!=4*3*2*1 \n",
    "#f(n)=f(n-1)*f(n-2)*f(n-3)*...*f(1)\n",
    "def factory(n):\n",
    "    if n<0:\n",
    "        return \"Error: only possitive accepted\"\n",
    "    elif n==0:\n",
    "        return 1\n",
    "    else: \n",
    "        return n *factory(n-1) #4*f(3)=4*3*f(2)=4*3*2*f(1)=4*3*2*1*f(0)=4*3*2*1*1\n",
    "    \n",
    "print(factory(4))\n"
   ]
  },
  {
   "cell_type": "code",
   "execution_count": 2,
   "metadata": {},
   "outputs": [
    {
     "name": "stdout",
     "output_type": "stream",
     "text": [
      "Enter number: -5\n",
      "-5\n",
      "-4\n",
      "-3\n",
      "-2\n",
      "-1\n",
      "0\n"
     ]
    }
   ],
   "source": [
    "def countdown_num(n):\n",
    "    if n==0: \n",
    "        return 0\n",
    "    elif n<0: #-10+1\n",
    "        print(n)\n",
    "        return countdown_num(n+1)\n",
    "    else: \n",
    "        print(n)\n",
    "        return countdown_num(n-1)\n",
    "\n",
    "num=int(input(\"Enter number: \"))\n",
    "print(countdown_num(num))"
   ]
  },
  {
   "cell_type": "code",
   "execution_count": null,
   "metadata": {},
   "outputs": [],
   "source": [
    "# exp_num(5,2): 50= 5* 5**2\n",
    "def exp_num(n,m):\n",
    "    if m==0:\n",
    "        return n\n",
    "    else: \n",
    "        return n*exp_num(n,m-1)\n",
    "print(exp_num(5,2))\n",
    "#5*exp(5,1)=5*5*exp(5,0)=5*5*5=125"
   ]
  },
  {
   "cell_type": "markdown",
   "metadata": {},
   "source": [
    "## Lambda function "
   ]
  },
  {
   "cell_type": "code",
   "execution_count": null,
   "metadata": {},
   "outputs": [],
   "source": [
    "# lambda argument: expression \n",
    "def area_rec(w,h):\n",
    "    return w*h\n",
    "\n",
    "x = lambda w , h : w*h\n",
    "far_to_cel = lambda far: ((far-32)*(5/9))\n",
    "cel_to_far = lambda cel: ((cel * 9/5) + 32)\n",
    "print(area_rec(20,45))\n",
    "print(x(20,45))\n",
    "print(far_to_cel(59))\n",
    "print(cel_to_far(34))"
   ]
  },
  {
   "cell_type": "code",
   "execution_count": null,
   "metadata": {},
   "outputs": [],
   "source": [
    "#def far_to_cel(far):\n",
    "#    return (far-32)*(5/9)\n",
    "x=lambda far:(far-32)*(5/9)\n",
    "#def cel_to_far(cel):\n",
    "#    return (cel*9/5)+32\n",
    "y=lambda cel:(cel*9/5)+32\n",
    "\n",
    "print(\"Welcome to temperature coversion program\")\n",
    "print(\"1. Celious to farenheit\")\n",
    "print(\"2. farenheit to celious\")\n",
    "n=int(input(\"Choise: \"))\n",
    "if(n==1): \n",
    "    a=float(input(\"Enter celious degree: \"))\n",
    "    b=x(a)\n",
    "    print(f\"The farenheit degree at {a} celious degree is: {b:.3f} \")\n",
    "#elif (n==2):v"
   ]
  },
  {
   "cell_type": "code",
   "execution_count": null,
   "metadata": {},
   "outputs": [],
   "source": []
  }
 ],
 "metadata": {
  "kernelspec": {
   "display_name": "Python 3",
   "language": "python",
   "name": "python3"
  },
  "language_info": {
   "codemirror_mode": {
    "name": "ipython",
    "version": 3
   },
   "file_extension": ".py",
   "mimetype": "text/x-python",
   "name": "python",
   "nbconvert_exporter": "python",
   "pygments_lexer": "ipython3",
   "version": "3.9.7"
  }
 },
 "nbformat": 4,
 "nbformat_minor": 4
}
