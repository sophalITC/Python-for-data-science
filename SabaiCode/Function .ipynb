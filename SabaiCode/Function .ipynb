{
 "cells": [
  {
   "cell_type": "markdown",
   "id": "e23ad209",
   "metadata": {},
   "source": [
    "## Return function\n",
    "have keyword return "
   ]
  },
  {
   "cell_type": "code",
   "execution_count": 1,
   "id": "0a8bfab7",
   "metadata": {},
   "outputs": [],
   "source": [
    "def sum_3_num(a, b, c):\n",
    "    return a+b+c"
   ]
  },
  {
   "cell_type": "code",
   "execution_count": 2,
   "id": "f28a08bf",
   "metadata": {},
   "outputs": [
    {
     "name": "stdout",
     "output_type": "stream",
     "text": [
      "190\n"
     ]
    }
   ],
   "source": [
    "print(sum_3_num(34,67,89))"
   ]
  },
  {
   "cell_type": "code",
   "execution_count": 3,
   "id": "6c8c1f69",
   "metadata": {},
   "outputs": [],
   "source": [
    "#build return funtion to find area of Triangle \n",
    "#argument vs parameter \n",
    "def tri_area(a,b):\n",
    "    return 0.5*a*b\n"
   ]
  },
  {
   "cell_type": "code",
   "execution_count": 4,
   "id": "e4cecbd2",
   "metadata": {},
   "outputs": [
    {
     "name": "stdout",
     "output_type": "stream",
     "text": [
      "750.0\n"
     ]
    }
   ],
   "source": [
    "a=tri_area(50,30)\n",
    "print(a)"
   ]
  },
  {
   "cell_type": "code",
   "execution_count": 8,
   "id": "0936f8f5",
   "metadata": {},
   "outputs": [
    {
     "name": "stdout",
     "output_type": "stream",
     "text": [
      "Enter Farenheit temperature: 100\n",
      "100.0 degree farenheit = 37.78 degree celius\n",
      "100.0  degree farenheit =   37.778  degree celius\n"
     ]
    }
   ],
   "source": [
    "a=float(input(\"Enter Farenheit temperature: \")) \n",
    "def far_to_cel(far):\n",
    "    return (far-32)*(5/9)\n",
    "b=far_to_cel(a)\n",
    "print(f\"{a} degree farenheit = {b:.2f} degree celius\")\n",
    "print(a,\" degree farenheit =  \",round(b,2), \" degree celius\")"
   ]
  },
  {
   "cell_type": "code",
   "execution_count": 9,
   "id": "6736a60d",
   "metadata": {},
   "outputs": [
    {
     "name": "stdout",
     "output_type": "stream",
     "text": [
      "Welcome to temperature coversion program\n",
      "1. Celious to farenheit\n",
      "2. farenheit to celious\n"
     ]
    }
   ],
   "source": [
    "print(\"Welcome to temperature coversion program\")\n",
    "print(\"1. Celious to farenheit\")\n",
    "print(\"2. farenheit to celious\")"
   ]
  },
  {
   "cell_type": "code",
   "execution_count": 10,
   "id": "c3eab8af",
   "metadata": {},
   "outputs": [
    {
     "ename": "IndentationError",
     "evalue": "unexpected indent (Temp/ipykernel_37452/2144449100.py, line 2)",
     "output_type": "error",
     "traceback": [
      "\u001b[1;36m  File \u001b[1;32m\"C:\\Users\\User\\AppData\\Local\\Temp/ipykernel_37452/2144449100.py\"\u001b[1;36m, line \u001b[1;32m2\u001b[0m\n\u001b[1;33m    print(\"1. Celious to farenheit\")\u001b[0m\n\u001b[1;37m    ^\u001b[0m\n\u001b[1;31mIndentationError\u001b[0m\u001b[1;31m:\u001b[0m unexpected indent\n"
     ]
    }
   ],
   "source": [
    "#\n",
    "#\n",
    "print(\"Welcome to temperature coversion program\")\n",
    "    print(\"1. Celious to farenheit\")\n",
    "    print(\"2. farenheit to celious\")\n",
    "    n=int(input(\"Choise: \"))\n",
    "    if(n==1): \n",
    "        a=float(input(\"Enter celious degree: \"))\n",
    "        b=cel_to_far(a)\n",
    "        print(f\"The farenheit degree at {a} celious degree is: {b}\")\n",
    "    elif (n==2):\n",
    "        x=float(input(\"Enter farenheit degree:\"))\n",
    "        y=far_to_cel(x)\n",
    "        print(f\"The farenheit degree at {x} celious degree is: {y}\")"
   ]
  },
  {
   "cell_type": "code",
   "execution_count": 14,
   "id": "03308633",
   "metadata": {},
   "outputs": [],
   "source": [
    "def far_to_cel(far):\n",
    "    return (far-32)*(5/9)\n",
    "def cel_to_far(cel):\n",
    "    return (cel*9/5)+32\n",
    "def main():\n",
    "    print(\"Welcome to temperature coversion program\")\n",
    "    print(\"1. Celious to farenheit\")\n",
    "    print(\"2. farenheit to celious\")\n",
    "    n=int(input(\"Choise: \"))\n",
    "    if(n==1): \n",
    "        a=float(input(\"Enter celious degree: \"))\n",
    "        b=cel_to_far(a)\n",
    "        print(f\"The farenheit degree at {a} celious degree is: {b}\")\n",
    "    elif (n==2):\n",
    "        x=float(input(\"Enter farenheit degree:\"))\n",
    "        y=far_to_cel(x)\n",
    "        print(f\"The farenheit degree at {x} celious degree is: {y}\")\n",
    "    while True:\n",
    "        print('Do You Want To Continue? (y/n)')\n",
    "        n=input('')\n",
    "        if n=='y':\n",
    "            main()\n",
    "        elif n=='n': \n",
    "            break\n"
   ]
  },
  {
   "cell_type": "code",
   "execution_count": 15,
   "id": "baf2009c",
   "metadata": {},
   "outputs": [
    {
     "name": "stdout",
     "output_type": "stream",
     "text": [
      "Welcome to temperature coversion program\n",
      "1. Celious to farenheit\n",
      "2. farenheit to celious\n",
      "Choise: 2\n",
      "Enter farenheit degree:100\n",
      "The farenheit degree at 100.0 celious degree is: 37.77777777777778\n",
      "Do You Want To Continue? (y/n)\n",
      "n\n"
     ]
    }
   ],
   "source": [
    "main()"
   ]
  },
  {
   "cell_type": "code",
   "execution_count": 16,
   "id": "e3c84dde",
   "metadata": {},
   "outputs": [
    {
     "name": "stdout",
     "output_type": "stream",
     "text": [
      "Enter your money $: 10000\n",
      "Enter a yearly rate: 5\n",
      "Enter number of years: 10\n",
      "year 1 : $10500.00\n",
      "year 2 : $11025.00\n",
      "year 3 : $11576.25\n",
      "year 4 : $12155.06\n",
      "year 5 : $12762.82\n",
      "year 6 : $13400.96\n",
      "year 7 : $14071.00\n",
      "year 8 : $14774.55\n",
      "year 9 : $15513.28\n",
      "year 10 : $16288.95\n"
     ]
    }
   ],
   "source": [
    "def invest_fv(pv,rate,years):\n",
    "    for i in range(1,years+1):\n",
    "        pv=pv*(1+rate/100)\n",
    "        print(f\"year {i} : ${pv:.2f}\")\n",
    "    \n",
    "pv=int(input(\"Enter your money $: \"))\n",
    "rate=float(input(\"Enter a yearly rate: \"))\n",
    "years=int(input(\"Enter number of years: \"))\n",
    "\n",
    "invest_fv(pv,rate,years)"
   ]
  },
  {
   "cell_type": "code",
   "execution_count": null,
   "id": "a4e01046",
   "metadata": {},
   "outputs": [],
   "source": []
  },
  {
   "cell_type": "code",
   "execution_count": null,
   "id": "f6e76592",
   "metadata": {},
   "outputs": [],
   "source": []
  },
  {
   "cell_type": "code",
   "execution_count": null,
   "id": "b49143f0",
   "metadata": {},
   "outputs": [],
   "source": []
  },
  {
   "cell_type": "code",
   "execution_count": null,
   "id": "c775c6ca",
   "metadata": {},
   "outputs": [],
   "source": []
  },
  {
   "cell_type": "code",
   "execution_count": null,
   "id": "37cff655",
   "metadata": {},
   "outputs": [],
   "source": []
  }
 ],
 "metadata": {
  "kernelspec": {
   "display_name": "Python 3",
   "language": "python",
   "name": "python3"
  },
  "language_info": {
   "codemirror_mode": {
    "name": "ipython",
    "version": 3
   },
   "file_extension": ".py",
   "mimetype": "text/x-python",
   "name": "python",
   "nbconvert_exporter": "python",
   "pygments_lexer": "ipython3",
   "version": "3.9.7"
  }
 },
 "nbformat": 4,
 "nbformat_minor": 5
}
