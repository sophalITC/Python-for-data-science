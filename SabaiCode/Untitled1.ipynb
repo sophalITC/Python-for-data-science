{
 "cells": [
  {
   "cell_type": "markdown",
   "id": "57f3a624",
   "metadata": {},
   "source": [
    "### Sophal Chan, Python for Data Scienc\n",
    "\n",
    "# Python for Data Science \n",
    "The couse is mainly provided in to main three parts:  \n",
    "1. General term of data scince \n",
    "2. Python introduction \n",
    "3. Library for data science  \n",
    "## 1. General term of data science \n",
    "This section is mainly forcused on the nvironment setup for data science work, the way to used anaconda markdown and anaconda \n",
    "tool.  \n",
    "## 2. Python Introduction \n",
    "This section is described the general term of python programming include:  \n",
    "i. Python variable and data tyoe  \n",
    "ii.  Python control structure (selection structure and repetition structure)   \n",
    "iii. python function (1. Built-in, 2. recursion, 3. Lambda and 4. usr define function) \n",
    "## 3. Library for data science \n",
    "This section various library has pickd up for the discuusion:   \n",
    "i. Numpy   \n",
    "ii. Pandas   \n",
    "iii. Matplotlib   "
   ]
  },
  {
   "cell_type": "markdown",
   "id": "f959f8d7",
   "metadata": {},
   "source": [
    "## 2. Python Introduction\n",
    "### i. Python variable and data types"
   ]
  },
  {
   "cell_type": "code",
   "execution_count": 2,
   "id": "26b6a098",
   "metadata": {},
   "outputs": [
    {
     "name": "stdout",
     "output_type": "stream",
     "text": [
      "7\n",
      "10\n",
      "Cambodia\n"
     ]
    }
   ],
   "source": [
    "#int vairable \n",
    "X=7\n",
    "x=10\n",
    "print(X)\n",
    "print(x)\n",
    "nam23e2=\"Cambodia\"\n",
    "print(nam23e2)"
   ]
  },
  {
   "cell_type": "code",
   "execution_count": 3,
   "id": "5063bee6",
   "metadata": {},
   "outputs": [
    {
     "name": "stdout",
     "output_type": "stream",
     "text": [
      "2123219562064\n",
      "<class 'int'>\n",
      "42\n"
     ]
    }
   ],
   "source": [
    "age =42\n",
    "print(id(age)) #identify\n",
    "print(type(age)) #type \n",
    "print(age) #value "
   ]
  },
  {
   "cell_type": "code",
   "execution_count": 4,
   "id": "024601cd",
   "metadata": {},
   "outputs": [
    {
     "name": "stdout",
     "output_type": "stream",
     "text": [
      " My Contry is \"Cambodia\" \n",
      "I like coding I like Math \n"
     ]
    }
   ],
   "source": [
    "str_name= \"\"\" My Contry is \"Cambodia\" \"\"\"\n",
    "print(str_name)\n",
    "name1='I like coding '\n",
    "name2=\"I like Math \" # string concate \n",
    "print(name1 + name2)"
   ]
  },
  {
   "cell_type": "code",
   "execution_count": 5,
   "id": "82eca02a",
   "metadata": {},
   "outputs": [
    {
     "name": "stdout",
     "output_type": "stream",
     "text": [
      "2123301160832\n",
      "2123301160832\n"
     ]
    }
   ],
   "source": [
    "mylist = [\"apple\", \"banana\", \"cherry\"] #index [0] array\n",
    "print(id(mylist))\n",
    "mylist.append('Durian') #mylist=[\"apple\", \"banana\", \"cherry\", durian]\n",
    "print(id(mylist))"
   ]
  },
  {
   "cell_type": "code",
   "execution_count": 6,
   "id": "499cb141",
   "metadata": {},
   "outputs": [
    {
     "name": "stdout",
     "output_type": "stream",
     "text": [
      "2123300853744\n",
      "2123300855216\n"
     ]
    }
   ],
   "source": [
    "name1='23 '\n",
    "print(id(name1))\n",
    "name1='I like Math '\n",
    "print(id(name1))"
   ]
  },
  {
   "cell_type": "code",
   "execution_count": 7,
   "id": "6dee4a92",
   "metadata": {},
   "outputs": [
    {
     "name": "stdout",
     "output_type": "stream",
     "text": [
      "['Cambodia', ' Thailand', ' Vieatnam', ' Laos', ' Malaysia', ' Japan']\n"
     ]
    }
   ],
   "source": [
    "# data type of sequencial type: List, string, tupple, set , dictionaries\n",
    "# list [ .....],(contained diferent data types), order, changable, duplicate value \n",
    "country= ['Cambodia', \" Thailand\", \" Vieatnam\", \" Laos\", \" Malaysia\", \" Japan\"]\n",
    "print(country)"
   ]
  },
  {
   "cell_type": "code",
   "execution_count": 8,
   "id": "3f502307",
   "metadata": {},
   "outputs": [
    {
     "name": "stdout",
     "output_type": "stream",
     "text": [
      "[' Thailand', ' Vieatnam', ' Laos']\n"
     ]
    }
   ],
   "source": [
    "print(country[1:4]) # 4 not count "
   ]
  },
  {
   "cell_type": "code",
   "execution_count": 9,
   "id": "e1258003",
   "metadata": {},
   "outputs": [
    {
     "name": "stdout",
     "output_type": "stream",
     "text": [
      "6\n"
     ]
    }
   ],
   "source": [
    "print(len(country))"
   ]
  },
  {
   "cell_type": "code",
   "execution_count": 10,
   "id": "a613184c",
   "metadata": {},
   "outputs": [
    {
     "name": "stdout",
     "output_type": "stream",
     "text": [
      " Japan\n"
     ]
    }
   ],
   "source": [
    "print(country[-1]) "
   ]
  },
  {
   "cell_type": "code",
   "execution_count": 11,
   "id": "6ae49ec7",
   "metadata": {},
   "outputs": [
    {
     "name": "stdout",
     "output_type": "stream",
     "text": [
      " Thailand\n",
      "[' Laos', ' Malaysia', ' Japan']\n"
     ]
    }
   ],
   "source": [
    "print(country[-5]) \n",
    "print(country[3:])"
   ]
  },
  {
   "cell_type": "code",
   "execution_count": 12,
   "id": "ffe852c9",
   "metadata": {},
   "outputs": [
    {
     "name": "stdout",
     "output_type": "stream",
     "text": [
      " Japan\n"
     ]
    }
   ],
   "source": [
    "print(country[-1])"
   ]
  },
  {
   "cell_type": "code",
   "execution_count": 13,
   "id": "95b7e013",
   "metadata": {},
   "outputs": [
    {
     "name": "stdout",
     "output_type": "stream",
     "text": [
      "['Cambodia', 'French', ' England', ' Laos', ' Malaysia', ' Japan']\n"
     ]
    }
   ],
   "source": [
    "country[1:3]=[\"French\", \" England\"]\n",
    "print(country)"
   ]
  },
  {
   "cell_type": "code",
   "execution_count": 14,
   "id": "71d9a346",
   "metadata": {},
   "outputs": [
    {
     "name": "stdout",
     "output_type": "stream",
     "text": [
      "['Cambodia', 'French', ' England', ' Laos', ['Cambodia'], ' Japan']\n"
     ]
    }
   ],
   "source": [
    "country[4]=[\"Cambodia\"]\n",
    "print(country)"
   ]
  },
  {
   "cell_type": "code",
   "execution_count": 15,
   "id": "4bd1c935",
   "metadata": {},
   "outputs": [
    {
     "name": "stdout",
     "output_type": "stream",
     "text": [
      "['Cambodia', 'French', ' England', ' Laos', ['Cambodia'], ' Japan', 'Russia']\n"
     ]
    }
   ],
   "source": [
    "# append add item to the last index\n",
    "country.append(\"Russia\")\n",
    "print(country)"
   ]
  },
  {
   "cell_type": "code",
   "execution_count": 16,
   "id": "2f0ea130",
   "metadata": {},
   "outputs": [
    {
     "name": "stdout",
     "output_type": "stream",
     "text": [
      "['Cambodia', 'French', 'Swiss', ' England', ' Laos', ['Cambodia'], ' Japan', 'Russia']\n"
     ]
    }
   ],
   "source": [
    "#insert specific index \n",
    "country.insert(2, \"Swiss\")\n",
    "print(country)"
   ]
  },
  {
   "cell_type": "code",
   "execution_count": 17,
   "id": "0ba218f5",
   "metadata": {},
   "outputs": [
    {
     "name": "stdout",
     "output_type": "stream",
     "text": [
      "['Cambodia', 'French', 'Swiss', ' England', ' Laos', ['Cambodia'], ' Japan', 'Russia', 'Mango', ' Cherry', 'potato']\n"
     ]
    }
   ],
   "source": [
    "#extend concate two list (conbine 2 lists) \n",
    "fruit=[\"Mango\", \" Cherry\", \"potato\"]\n",
    "country.extend(fruit)\n",
    "print(country)"
   ]
  },
  {
   "cell_type": "code",
   "execution_count": 18,
   "id": "bbf368d2",
   "metadata": {},
   "outputs": [
    {
     "name": "stdout",
     "output_type": "stream",
     "text": [
      "['Cambodia', 'French', 'Swiss', ' England', ' Laos', 'Cambodia', ' Japan', 'Russia', 'Mango', ' Cherry', 'potato']\n"
     ]
    }
   ],
   "source": [
    "country[5]= \"Cambodia\"\n",
    "print(country)"
   ]
  },
  {
   "cell_type": "code",
   "execution_count": 19,
   "id": "f3b00255",
   "metadata": {},
   "outputs": [
    {
     "name": "stdout",
     "output_type": "stream",
     "text": [
      "['Cambodia', 'French', 'Swiss', ' England', ' Laos', 'Cambodia', ' Japan', 'Russia', ' Cherry', 'potato']\n"
     ]
    }
   ],
   "source": [
    "#removed item from list: remove, pop(), del()\n",
    "country.remove(\"Mango\")\n",
    "print(country)"
   ]
  },
  {
   "cell_type": "code",
   "execution_count": 20,
   "id": "8d693e08",
   "metadata": {},
   "outputs": [
    {
     "name": "stdout",
     "output_type": "stream",
     "text": [
      "['Cambodia', 'French', 'Swiss', ' England', ' Laos', ' Japan', 'Russia', ' Cherry', 'potato']\n"
     ]
    }
   ],
   "source": [
    "country.pop(5)#index \n",
    "print(country)"
   ]
  },
  {
   "cell_type": "code",
   "execution_count": 21,
   "id": "00657d85",
   "metadata": {},
   "outputs": [
    {
     "name": "stdout",
     "output_type": "stream",
     "text": [
      "['Cambodia', 'French', 'Swiss', ' England', ' Laos', ' Japan', 'Russia', ' Cherry']\n"
     ]
    }
   ],
   "source": [
    "del country[8]\n",
    "print(country)"
   ]
  },
  {
   "cell_type": "code",
   "execution_count": 22,
   "id": "f61cae9d",
   "metadata": {},
   "outputs": [
    {
     "name": "stdout",
     "output_type": "stream",
     "text": [
      "['Cambodia', ' England', ' Laos', ' Japan', 'Russia']\n"
     ]
    }
   ],
   "source": [
    "#indentation \n",
    "newlist=[]\n",
    "for x in country:\n",
    "    if \"a\" in x:\n",
    "        newlist.append(x)\n",
    "print(newlist)"
   ]
  },
  {
   "cell_type": "code",
   "execution_count": 23,
   "id": "6dff758f",
   "metadata": {},
   "outputs": [
    {
     "name": "stdout",
     "output_type": "stream",
     "text": [
      "[' Cherry', ' England', ' Japan', ' Laos', 'Cambodia', 'French', 'Russia', 'Swiss']\n"
     ]
    }
   ],
   "source": [
    "# sort \n",
    "country.sort()\n",
    "print(country)"
   ]
  },
  {
   "cell_type": "code",
   "execution_count": 24,
   "id": "78340bb4",
   "metadata": {},
   "outputs": [
    {
     "name": "stdout",
     "output_type": "stream",
     "text": [
      "[45, 78, 1, 45, 67, 9, 3]\n",
      "[1, 3, 9, 45, 45, 67, 78]\n"
     ]
    }
   ],
   "source": [
    "num=[45,78,1,45,67,9,3]\n",
    "print(num)\n",
    "num.sort()\n",
    "print(num)"
   ]
  },
  {
   "cell_type": "markdown",
   "id": "29c57131",
   "metadata": {},
   "source": [
    "### String"
   ]
  },
  {
   "cell_type": "code",
   "execution_count": 25,
   "id": "cc78512f",
   "metadata": {},
   "outputs": [
    {
     "name": "stdout",
     "output_type": "stream",
     "text": [
      " I love Cambodia!\n"
     ]
    }
   ],
   "source": [
    "# string can store: ' ', \" \" , \"\"\" \"\"\"\n",
    "name= \" I love Cambodia!\"\n",
    "print(name)"
   ]
  },
  {
   "cell_type": "code",
   "execution_count": 26,
   "id": "e739ddb0",
   "metadata": {},
   "outputs": [
    {
     "name": "stdout",
     "output_type": "stream",
     "text": [
      "I love\n"
     ]
    }
   ],
   "source": [
    "print(name[1:7])"
   ]
  },
  {
   "cell_type": "code",
   "execution_count": 27,
   "id": "30e1a616",
   "metadata": {},
   "outputs": [
    {
     "name": "stdout",
     "output_type": "stream",
     "text": [
      " I LOVE CAMBODIA!\n"
     ]
    }
   ],
   "source": [
    "# modify (upper() and lower())\n",
    "print(name.upper())"
   ]
  },
  {
   "cell_type": "code",
   "execution_count": 28,
   "id": "95421066",
   "metadata": {},
   "outputs": [
    {
     "name": "stdout",
     "output_type": "stream",
     "text": [
      " I lWve CambWdia!\n"
     ]
    }
   ],
   "source": [
    "#replace() build-in \n",
    "print(name.replace(\"o\", \"W\"))"
   ]
  },
  {
   "cell_type": "code",
   "execution_count": 29,
   "id": "585c66f4",
   "metadata": {},
   "outputs": [
    {
     "name": "stdout",
     "output_type": "stream",
     "text": [
      " I love Cambodia! I love coding\n"
     ]
    }
   ],
   "source": [
    "#combine 2 strings \n",
    "name1=\" I love coding\"\n",
    "me=name+name1\n",
    "print(me)"
   ]
  },
  {
   "cell_type": "code",
   "execution_count": 30,
   "id": "e1cbb5bf",
   "metadata": {},
   "outputs": [
    {
     "name": "stdout",
     "output_type": "stream",
     "text": [
      "2320\n",
      "<class 'str'>\n",
      "<class 'int'>\n",
      "53\n"
     ]
    }
   ],
   "source": [
    "a=\"23\"\n",
    "b1=\"20\"\n",
    "d1=a+b1# 2320\n",
    "print(d1)\n",
    "print(type(a))\n",
    "b=int(a)\n",
    "c=30\n",
    "d=b+c\n",
    "print(type(b))\n",
    "print(d)"
   ]
  },
  {
   "cell_type": "markdown",
   "id": "dd744d1e",
   "metadata": {},
   "source": [
    "### Tuple, set and dictionary "
   ]
  },
  {
   "cell_type": "code",
   "execution_count": 31,
   "id": "87deb263",
   "metadata": {},
   "outputs": [
    {
     "name": "stdout",
     "output_type": "stream",
     "text": [
      "('Cambodia', 'French', 'Swiss', ' England', ' Laos', ' Japan', 'Russia')\n"
     ]
    }
   ],
   "source": [
    "# list [ .....],(contained diferent data types), order, changable, allow duplicate value \n",
    "# tuple (......), (contained different tada type), order, Unchange, allow duplicate valu # index (start 0) \n",
    "# set {.....}, (contained different tada type), unorder, Unchange,unidex\n",
    "# Dictionary in key:value pairs, ordered, changeable and do not allow duplicates.\n",
    "\n",
    "country= (\"Cambodia\", 'French', 'Swiss', ' England', ' Laos', ' Japan', 'Russia')\n",
    "\n",
    "print(country)"
   ]
  },
  {
   "cell_type": "code",
   "execution_count": 32,
   "id": "b47bc115",
   "metadata": {},
   "outputs": [
    {
     "name": "stdout",
     "output_type": "stream",
     "text": [
      "Swiss\n"
     ]
    }
   ],
   "source": [
    "print(country[2])\n",
    "#-3\n",
    "# 2==>5 "
   ]
  },
  {
   "cell_type": "code",
   "execution_count": 33,
   "id": "8f1b3ad8",
   "metadata": {},
   "outputs": [
    {
     "name": "stdout",
     "output_type": "stream",
     "text": [
      "('Cambodia', 'French', 'Swiss', ' England', 'Brunei', ' Japan', 'Russia')\n"
     ]
    }
   ],
   "source": [
    "#update tuple \n",
    "My_country_li= list(country)\n",
    "My_country_li[4]= \"Brunei\"\n",
    "country=tuple(My_country_li)\n",
    "print(country)"
   ]
  },
  {
   "cell_type": "code",
   "execution_count": 34,
   "id": "86c5843a",
   "metadata": {},
   "outputs": [],
   "source": [
    "#unpack \n",
    "(Romdol,a,b,v,n,h,o) = country "
   ]
  },
  {
   "cell_type": "code",
   "execution_count": 35,
   "id": "0a98cd26",
   "metadata": {},
   "outputs": [
    {
     "name": "stdout",
     "output_type": "stream",
     "text": [
      "Cambodia\n"
     ]
    }
   ],
   "source": [
    "print(Romdol)"
   ]
  },
  {
   "cell_type": "code",
   "execution_count": 37,
   "id": "06028ddd",
   "metadata": {},
   "outputs": [
    {
     "name": "stdout",
     "output_type": "stream",
     "text": [
      "Cambodia\n",
      "Swiss\n",
      "Brunei\n",
      "Russia\n"
     ]
    }
   ],
   "source": [
    "i=0\n",
    "while i<len(country):\n",
    "    print(country[i])\n",
    "    i +=2"
   ]
  },
  {
   "cell_type": "markdown",
   "id": "5c04fb3a",
   "metadata": {},
   "source": [
    "# Set"
   ]
  },
  {
   "cell_type": "code",
   "execution_count": 38,
   "id": "8be79fd7",
   "metadata": {},
   "outputs": [
    {
     "name": "stdout",
     "output_type": "stream",
     "text": [
      "{'Mein Kampf', 'Being happy', '7 habbits', 8, 'Follow your heart', 'Think and grow rich'}\n"
     ]
    }
   ],
   "source": [
    "book = {\"Mein Kampf\", \"Think and grow rich\", \"Follow your heart\", \"Being happy\", \"7 habbits\", 8}\n",
    "print(book)"
   ]
  },
  {
   "cell_type": "code",
   "execution_count": 39,
   "id": "5e478fb1",
   "metadata": {},
   "outputs": [
    {
     "name": "stdout",
     "output_type": "stream",
     "text": [
      "{'Mein Kampf', 'Being happy', '7 habbits', 8, 'Follow your heart', 'Think and grow rich'}\n"
     ]
    }
   ],
   "source": [
    "book = {\"Mein Kampf\", \"Think and grow rich\", \"Follow your heart\", \"Being happy\", \"7 habbits\", 8}\n",
    "print(book)"
   ]
  },
  {
   "cell_type": "code",
   "execution_count": 40,
   "id": "ab69cc86",
   "metadata": {},
   "outputs": [
    {
     "name": "stdout",
     "output_type": "stream",
     "text": [
      "{'Mein Kampf', 'Being happy', '7 habbits', 8, 'Follow your heart', 'Think and grow rich'}\n",
      "{'Mein Kampf', 'Being happy', '7 habbits', 8, 'Follow your heart', 'Think and grow rich'}\n"
     ]
    }
   ],
   "source": [
    "book = {\"Mein Kampf\", \"Think and grow rich\", \"Follow your heart\", \"Being happy\", \"7 habbits\", 8}\n",
    "print(book)\n",
    "print(book)"
   ]
  },
  {
   "cell_type": "markdown",
   "id": "841a080a",
   "metadata": {},
   "source": [
    "# Dictionary "
   ]
  },
  {
   "cell_type": "code",
   "execution_count": 42,
   "id": "f3b97d2f",
   "metadata": {},
   "outputs": [
    {
     "name": "stdout",
     "output_type": "stream",
     "text": [
      "{'Hello': 'សូស្តី', 'Love': 'ស្រលាញ់', 'Age': 20}\n"
     ]
    }
   ],
   "source": [
    "dict={ \n",
    "  \"Hello\":\"សូស្តី\", \n",
    "  \"Love\" :\"ស្រលាញ់\",\n",
    "  \"Age\" : 20}\n",
    "print(dict)"
   ]
  },
  {
   "cell_type": "code",
   "execution_count": 43,
   "id": "7edcdbe4",
   "metadata": {},
   "outputs": [
    {
     "name": "stdout",
     "output_type": "stream",
     "text": [
      "សូស្តី\n"
     ]
    }
   ],
   "source": [
    "print(dict[\"Hello\"])"
   ]
  },
  {
   "cell_type": "code",
   "execution_count": 44,
   "id": "3e14a5f2",
   "metadata": {},
   "outputs": [
    {
     "name": "stdout",
     "output_type": "stream",
     "text": [
      "Hello\n",
      "Love\n",
      "Age\n"
     ]
    }
   ],
   "source": [
    "for key in dict :\n",
    "    print (key)"
   ]
  },
  {
   "cell_type": "code",
   "execution_count": 45,
   "id": "b13d17c2",
   "metadata": {},
   "outputs": [
    {
     "name": "stdout",
     "output_type": "stream",
     "text": [
      "20\n"
     ]
    }
   ],
   "source": [
    "t=dict[\"Age\"]#20\n",
    "print(t)"
   ]
  },
  {
   "cell_type": "code",
   "execution_count": 46,
   "id": "72b7c342",
   "metadata": {},
   "outputs": [
    {
     "name": "stdout",
     "output_type": "stream",
     "text": [
      "dict_keys(['Hello', 'Love', 'Age'])\n"
     ]
    }
   ],
   "source": [
    "k=dict.keys()\n",
    "print(k)"
   ]
  },
  {
   "cell_type": "code",
   "execution_count": 47,
   "id": "d8403532",
   "metadata": {},
   "outputs": [
    {
     "name": "stdout",
     "output_type": "stream",
     "text": [
      "{'Hello': 'សូស្តី', 'Love': 'ស្រលាញ់', 'Age': 20, 'Like': 'ចូលចិត្ត'}\n"
     ]
    }
   ],
   "source": [
    "dict[\"Like\"] =\"ចូលចិត្ត\"\n",
    "print(dict)"
   ]
  },
  {
   "cell_type": "code",
   "execution_count": 48,
   "id": "8bd309ba",
   "metadata": {},
   "outputs": [
    {
     "name": "stdout",
     "output_type": "stream",
     "text": [
      "{'Hello': 'សូស្តី', 'Love': 'ស្រលាញ់', 'Like': 'ចូលចិត្ត'}\n"
     ]
    }
   ],
   "source": [
    "#data structure : link-list, array, #algorithm: sorting \n",
    "#pop\n",
    "dict.pop(\"Age\")\n",
    "print(dict)\n",
    "#popitem\n",
    "#del "
   ]
  },
  {
   "cell_type": "code",
   "execution_count": 49,
   "id": "27460417",
   "metadata": {},
   "outputs": [
    {
     "name": "stdout",
     "output_type": "stream",
     "text": [
      "{}\n"
     ]
    }
   ],
   "source": [
    "dict.clear()\n",
    "print(dict)"
   ]
  },
  {
   "cell_type": "markdown",
   "id": "0f286540",
   "metadata": {},
   "source": [
    "### ii. Control structure \n",
    "In this section the control struture in Python will be disccussed on:  \n",
    "a. repetition structure (for)     \n",
    "b. selection structure (if, if/elif)"
   ]
  },
  {
   "cell_type": "markdown",
   "id": "f982b4ab",
   "metadata": {},
   "source": [
    "#### Repetition structure "
   ]
  },
  {
   "cell_type": "code",
   "execution_count": 50,
   "id": "f65b15bb",
   "metadata": {},
   "outputs": [
    {
     "name": "stdout",
     "output_type": "stream",
     "text": [
      "apple\n",
      "banana\n",
      "cherry\n"
     ]
    }
   ],
   "source": [
    "#for ... in ...(string, list,tuple, dictionary, set, Array,...)\n",
    "#for ... in range(0,11)  #for(i=0; i<=10,i++)\n",
    "fruits = [\"apple\", \"banana\", \"cherry\"]\n",
    "for x in fruits:\n",
    "  print(x)"
   ]
  },
  {
   "cell_type": "code",
   "execution_count": 51,
   "id": "ac302e2b",
   "metadata": {},
   "outputs": [
    {
     "name": "stdout",
     "output_type": "stream",
     "text": [
      "banana\n",
      "apple\n",
      "cherry\n"
     ]
    }
   ],
   "source": [
    "fruits = {\"apple\", \"banana\", \"cherry\"}\n",
    "for x in fruits:\n",
    "  print(x)"
   ]
  },
  {
   "cell_type": "code",
   "execution_count": 52,
   "id": "4e121927",
   "metadata": {},
   "outputs": [
    {
     "name": "stdout",
     "output_type": "stream",
     "text": [
      "apple\n",
      "banana\n",
      "cherry\n"
     ]
    }
   ],
   "source": [
    "fruits = (\"apple\", \"banana\", \"cherry\")\n",
    "for x in fruits:\n",
    "  print(x)"
   ]
  },
  {
   "cell_type": "code",
   "execution_count": 53,
   "id": "3a4e0bc6",
   "metadata": {},
   "outputs": [
    {
     "name": "stdout",
     "output_type": "stream",
     "text": [
      "0\n",
      "1\n",
      "2\n",
      "3\n",
      "4\n",
      "5\n",
      "6\n",
      "7\n",
      "8\n",
      "9\n",
      "10\n"
     ]
    }
   ],
   "source": [
    "for x in range(0,11):\n",
    "  print(x)"
   ]
  },
  {
   "cell_type": "code",
   "execution_count": 54,
   "id": "4c74e3cc",
   "metadata": {},
   "outputs": [
    {
     "name": "stdout",
     "output_type": "stream",
     "text": [
      "0\n",
      "2\n",
      "4\n",
      "6\n",
      "8\n",
      "10\n"
     ]
    }
   ],
   "source": [
    "for x in range(0,11,2):  #for(i=0,i<=10,i=i+2)\n",
    "  print(x)"
   ]
  },
  {
   "cell_type": "code",
   "execution_count": 73,
   "id": "ef4832dc",
   "metadata": {},
   "outputs": [
    {
     "name": "stdout",
     "output_type": "stream",
     "text": [
      "1 2 3 4 5 6 7 8 9 11 12 13 14 15 16 17 18 19 21 22 23 24 25 26 27 28 29 30 31 32 33 34 35 36 37 38 39 40 41 42 43 44 45 46 47 48 49 50 51 52 53 54 55 56 57 58 59 60 61 62 63 64 65 66 67 68 69 70 71 72 73 74 75 76 77 78 79 80 81 82 83 84 85 86 87 88 89 90 91 92 93 94 95 96 97 98 99 100 "
     ]
    }
   ],
   "source": [
    "for i in range (1,101):\n",
    "    if (i ==10 or i ==20):\n",
    "        continue\n",
    "    print(i,end=' ')"
   ]
  },
  {
   "cell_type": "code",
   "execution_count": 74,
   "id": "6c222faf",
   "metadata": {},
   "outputs": [
    {
     "name": "stdout",
     "output_type": "stream",
     "text": [
      "1 2 3 4 5 6 7 8 9 10 11 "
     ]
    }
   ],
   "source": [
    "for i in range (1,101):\n",
    "    print(i,end=' ')\n",
    "    if (i ==11):\n",
    "        break;"
   ]
  },
  {
   "cell_type": "markdown",
   "id": "2b586663",
   "metadata": {},
   "source": [
    "#### Selection structure "
   ]
  },
  {
   "cell_type": "code",
   "execution_count": 56,
   "id": "1e3275e0",
   "metadata": {},
   "outputs": [],
   "source": [
    "fruits = [\"apple\", \"banana\", \"cherry\",12,78,\"Cambodia\"]\n",
    "for x in fruits:\n",
    "  if x ==  12:# skip banana \n",
    "    continue\n",
    "    print(x)"
   ]
  },
  {
   "cell_type": "code",
   "execution_count": 57,
   "id": "4912f33d",
   "metadata": {},
   "outputs": [
    {
     "name": "stdout",
     "output_type": "stream",
     "text": [
      "34\n"
     ]
    }
   ],
   "source": [
    "name=[\"LALA\",\"Baba\",\"toto\",34,18,'ee']\n",
    "for x in name:\n",
    " if x== 34:\n",
    "    print(x)"
   ]
  },
  {
   "cell_type": "code",
   "execution_count": 58,
   "id": "f4d5d894",
   "metadata": {},
   "outputs": [
    {
     "name": "stdout",
     "output_type": "stream",
     "text": [
      "ee\n"
     ]
    }
   ],
   "source": [
    "name=[\"LALA\",\"Baba\",\"toto\",34,18,'ee']\n",
    "for x in name:\n",
    " if x== \"ee\":\n",
    "    print(x)"
   ]
  },
  {
   "cell_type": "code",
   "execution_count": 59,
   "id": "3c3a5974",
   "metadata": {},
   "outputs": [
    {
     "name": "stdout",
     "output_type": "stream",
     "text": [
      "LALA\n",
      "Baba\n",
      "toto\n"
     ]
    }
   ],
   "source": [
    "name=[\"LALA\",\"Baba\",\"toto\",34,18,'ee']\n",
    "for x in name:#last value ee\n",
    " if x== 34:\n",
    "    break\n",
    " print(x)"
   ]
  },
  {
   "cell_type": "code",
   "execution_count": 60,
   "id": "10ce1239",
   "metadata": {},
   "outputs": [
    {
     "name": "stdout",
     "output_type": "stream",
     "text": [
      "A<B\n"
     ]
    }
   ],
   "source": [
    "a=2001\n",
    "b=2002\n",
    "if a>b: \n",
    "    print(\"A>B\")\n",
    "if a<b: \n",
    "    print(\"A<B\")"
   ]
  },
  {
   "cell_type": "code",
   "execution_count": 61,
   "id": "833d5d03",
   "metadata": {},
   "outputs": [
    {
     "name": "stdout",
     "output_type": "stream",
     "text": [
      "A = B\n"
     ]
    }
   ],
   "source": [
    "a=2001\n",
    "b=2001\n",
    "if a>b: \n",
    "    print(\"A>B\")\n",
    "elif a<b: \n",
    "    print(\"A<B\")\n",
    "else: \n",
    "    print(\"A = B\")"
   ]
  },
  {
   "cell_type": "code",
   "execution_count": 62,
   "id": "7b7e809b",
   "metadata": {},
   "outputs": [
    {
     "name": "stdout",
     "output_type": "stream",
     "text": [
      "A>=B\n"
     ]
    }
   ],
   "source": [
    "a=2001\n",
    "b=2001\n",
    "if a>=b: \n",
    "    print(\"A>=B\")\n",
    "else: \n",
    "    print(\"A<B\")"
   ]
  },
  {
   "cell_type": "code",
   "execution_count": 63,
   "id": "7c44a618",
   "metadata": {},
   "outputs": [
    {
     "name": "stdout",
     "output_type": "stream",
     "text": [
      "1\n",
      "2\n",
      "3\n",
      "4\n",
      "5\n",
      "i is no longer less than 6\n"
     ]
    }
   ],
   "source": [
    "i = 1 #int i=1\n",
    "while i < 6: #while(i<6){  }\n",
    "  print(i)\n",
    "  i += 1\n",
    "else:\n",
    "  print(\"i is no longer less than 6\")"
   ]
  },
  {
   "cell_type": "markdown",
   "id": "ebbaae8f",
   "metadata": {},
   "source": [
    "## Some important projects\n",
    "### password Authentication using python"
   ]
  },
  {
   "cell_type": "code",
   "execution_count": 64,
   "id": "ac14c7d3",
   "metadata": {},
   "outputs": [
    {
     "name": "stdout",
     "output_type": "stream",
     "text": [
      "Enter username: sophal\n",
      "Enter password: ········\n",
      "Enter password again: ········\n",
      "loged in!!\n"
     ]
    }
   ],
   "source": [
    "import getpass\n",
    "database = {\"sophal\":\"1234\", \"senglay\":\"6789\",\"rith\":\"asdfg\"}# key:value \n",
    "username = input(\"Enter username: \") # sophal\n",
    "password = getpass.getpass(\"Enter password: \") #12345678\n",
    "for i in database.keys():\n",
    " if username == i: \n",
    "    while password != database.get(i):\n",
    "        password = getpass.getpass(\"Enter password again: \")\n",
    "    break\n",
    "print(\"loged in!!\")"
   ]
  },
  {
   "cell_type": "markdown",
   "id": "729b4aee",
   "metadata": {},
   "source": [
    "### iii. Python function \n",
    "There are four main function type in python:  \n",
    "1. Built-in function, refers to the function that already has in python programing  \n",
    "2. User defined function  \n",
    "3. Recursion function \n",
    "4. Lambda function"
   ]
  },
  {
   "cell_type": "markdown",
   "id": "5b8b812b",
   "metadata": {},
   "source": [
    "### User defined function"
   ]
  },
  {
   "cell_type": "code",
   "execution_count": 66,
   "id": "90d13db3",
   "metadata": {},
   "outputs": [
    {
     "name": "stdout",
     "output_type": "stream",
     "text": [
      "100\n"
     ]
    }
   ],
   "source": [
    "#function def (return function = fruitful function  )\n",
    "def rectangle(w,h):\n",
    "    return w*h\n",
    "\n",
    "area=rectangle(20,5) #20*5\n",
    "#enter from user \n",
    "print(area)"
   ]
  },
  {
   "cell_type": "code",
   "execution_count": 67,
   "id": "d30bfd69",
   "metadata": {},
   "outputs": [
    {
     "name": "stdout",
     "output_type": "stream",
     "text": [
      "My name is Messi\n",
      "My phone number is 09876541\n"
     ]
    }
   ],
   "source": [
    "# void function \n",
    "def myself(name,p_number):\n",
    "    print(\"My name is \" + name)\n",
    "    print(\"My phone number is \"+ p_number)\n",
    "    \n",
    "myself(\"Messi\", \"09876541\")"
   ]
  },
  {
   "cell_type": "code",
   "execution_count": 71,
   "id": "071631b1",
   "metadata": {},
   "outputs": [
    {
     "name": "stdout",
     "output_type": "stream",
     "text": [
      "The value of watt is  60\n"
     ]
    }
   ],
   "source": [
    "#watt = amp * volt \n",
    "\n",
    "\n",
    "def watt(amp, volt): #None \n",
    "    return amp * volt \n",
    "a=67\n",
    "b=30\n",
    "#input amp\n",
    "#input volt\n",
    "print(\"The value of watt is \", watt(30,2))"
   ]
  },
  {
   "cell_type": "code",
   "execution_count": null,
   "id": "b2435bec",
   "metadata": {},
   "outputs": [],
   "source": [
    "##Do by yourself\n",
    "#watt= amp * volt // key argument \n",
    "solv(watt=None, amp=None,volt=None):\n",
    "    watt=None, return amp*volt\n",
    "    amp=None, return watt/volt\n",
    "    volt=None, return watt/amp\n",
    "\n",
    "***Which parameter do you want to find?***\n",
    "1.find watt \n",
    "2.find amp\n",
    "3.find volt \n",
    "chice: 1\n",
    "    enter amp: \n",
    "    enter volt: \n",
    "    watt=??"
   ]
  },
  {
   "cell_type": "code",
   "execution_count": 75,
   "id": "c7cd0a61",
   "metadata": {},
   "outputs": [
    {
     "name": "stdout",
     "output_type": "stream",
     "text": [
      "Enter Farenheit temperature: 4\n",
      "4.0 degree farenheit = -15.56 degree celius\n",
      "4.0  degree farenheit =   -15.556  degree celius\n"
     ]
    }
   ],
   "source": [
    "#return function have keyword return \n",
    "#paramednter vs argument \n",
    "def sum_3_num(a, b, c):\n",
    "    return a+b+c\n",
    "\n",
    "#print(sum_3_num(45,6,7))\n",
    "\n",
    "def triangle_area(a,b):\n",
    "    area=0.5 *a*b\n",
    "    return area\n",
    "a =triangle_area(6,9)\n",
    "#print(a)\n",
    "\n",
    "def far_to_cel(far):\n",
    "    return (far-32)*(5/9)\n",
    "\n",
    "a=float(input(\"Enter Farenheit temperature: \"))\n",
    "temp_cel=far_to_cel(a)\n",
    "\n",
    "print(f\"{a} degree farenheit = {temp_cel:.2f} degree celius\")\n",
    "print(a,\" degree farenheit =  \",round(temp_cel,3), \" degree celius\")\n",
    "\n",
    "\n",
    "#3 return function : circle area, Multiple of 3 number, Fahrenheit to celcius\n"
   ]
  },
  {
   "cell_type": "code",
   "execution_count": 76,
   "id": "cb7410f5",
   "metadata": {},
   "outputs": [
    {
     "name": "stdout",
     "output_type": "stream",
     "text": [
      "Enter your money $: 567800\n",
      "Enter a yearly rate: 23\n",
      "Enter number of years: 5\n",
      "year 1 : $698394.00\n",
      "year 2 : $859024.62\n",
      "year 3 : $1056600.28\n",
      "year 4 : $1299618.35\n",
      "year 5 : $1598530.57\n"
     ]
    }
   ],
   "source": [
    "def invest_fv(pv,rate,years):\n",
    "    for i in range(1,years+1):\n",
    "        pv=pv*(1+rate/100)\n",
    "        print(f\"year {i} : ${pv:.2f}\")\n",
    "    \n",
    "pv=int(input(\"Enter your money $: \"))\n",
    "rate=float(input(\"Enter a yearly rate: \"))\n",
    "years=int(input(\"Enter number of years: \"))\n",
    "\n",
    "invest_fv(pv,rate,years)"
   ]
  },
  {
   "cell_type": "markdown",
   "id": "b143cfbe",
   "metadata": {},
   "source": [
    "### Lambda function"
   ]
  },
  {
   "cell_type": "code",
   "execution_count": 72,
   "id": "7491e6e6",
   "metadata": {},
   "outputs": [
    {
     "name": "stdout",
     "output_type": "stream",
     "text": [
      "hi\n",
      "48\n",
      "45\n",
      "25.0\n",
      "33\n",
      "67.0\n"
     ]
    }
   ],
   "source": [
    "def rectangle(b,h):\n",
    "    return b * h \n",
    "\n",
    "rec = lambda b,h:b*h\n",
    "triangle = lambda b,h:0.5 * b * h \n",
    "\n",
    "def area(func,b,h):\n",
    "    return func(b,h) \n",
    "\n",
    "if __name__==\"__main__\":#double underscore \n",
    "    print(\"hi\")\n",
    "    print(rectangle(6,8))\n",
    "    print(rec(5,9))\n",
    "    print(triangle(5,10))\n",
    "    print(area(rec,11,3))\n",
    "    print(area(triangle,67,2))"
   ]
  },
  {
   "cell_type": "code",
   "execution_count": 77,
   "id": "765f404d",
   "metadata": {},
   "outputs": [
    {
     "name": "stdout",
     "output_type": "stream",
     "text": [
      "900\n",
      "900\n",
      "15.0\n",
      "93.2\n"
     ]
    }
   ],
   "source": [
    "# lambda argument: expression \n",
    "def area_rec(w,h):\n",
    "    return w*h\n",
    "\n",
    "x = lambda w , h : w*h\n",
    "far_to_cel = lambda far: ((far-32)*(5/9))\n",
    "cel_to_far = lambda cel: ((cel * 9/5) + 32)\n",
    "print(area_rec(20,45))\n",
    "print(x(20,45))\n",
    "print(far_to_cel(59))\n",
    "print(cel_to_far(34))"
   ]
  },
  {
   "cell_type": "code",
   "execution_count": 78,
   "id": "4967c0a1",
   "metadata": {},
   "outputs": [
    {
     "name": "stdout",
     "output_type": "stream",
     "text": [
      "Welcome to temperature coversion program\n",
      "1. Celious to farenheit\n",
      "2. farenheit to celious\n",
      "Choise: 1\n",
      "Enter celious degree: 56\n",
      "The farenheit degree at 56.0 celious degree is: 13.333 \n"
     ]
    }
   ],
   "source": [
    "#def far_to_cel(far):\n",
    "#    return (far-32)*(5/9)\n",
    "x=lambda far:(far-32)*(5/9)\n",
    "#def cel_to_far(cel):\n",
    "#    return (cel*9/5)+32\n",
    "y=lambda cel:(cel*9/5)+32\n",
    "\n",
    "print(\"Welcome to temperature coversion program\")\n",
    "print(\"1. Celious to farenheit\")\n",
    "print(\"2. farenheit to celious\")\n",
    "n=int(input(\"Choise: \"))\n",
    "if(n==1): \n",
    "    a=float(input(\"Enter celious degree: \"))\n",
    "    b=x(a)\n",
    "    print(f\"The farenheit degree at {a} celious degree is: {b:.3f} \")\n",
    "#elif (n==2):v"
   ]
  },
  {
   "cell_type": "markdown",
   "id": "0e7f67d7",
   "metadata": {},
   "source": [
    "### Recursion function"
   ]
  },
  {
   "cell_type": "code",
   "execution_count": 79,
   "id": "b2769a5d",
   "metadata": {},
   "outputs": [
    {
     "name": "stdout",
     "output_type": "stream",
     "text": [
      "24\n"
     ]
    }
   ],
   "source": [
    "#4!=4*3*2*1 \n",
    "#f(n)=f(n-1)*f(n-2)*f(n-3)*...*f(1)\n",
    "def factory(n):\n",
    "    if n<0:\n",
    "        return \"Error: only possitive accepted\"\n",
    "    elif n==0:\n",
    "        return 1\n",
    "    else: \n",
    "        return n *factory(n-1) #4*f(3)=4*3*f(2)=4*3*2*f(1)=4*3*2*1*f(0)=4*3*2*1*1\n",
    "    \n",
    "print(factory(4))"
   ]
  },
  {
   "cell_type": "code",
   "execution_count": 80,
   "id": "b8654541",
   "metadata": {},
   "outputs": [
    {
     "name": "stdout",
     "output_type": "stream",
     "text": [
      "Enter number: 8\n",
      "8\n",
      "7\n",
      "6\n",
      "5\n",
      "4\n",
      "3\n",
      "2\n",
      "1\n",
      "0\n"
     ]
    }
   ],
   "source": [
    "def countdown_num(n):\n",
    "    if n==0: \n",
    "        return 0\n",
    "    elif n<0: #-10+1\n",
    "        print(n)\n",
    "        return countdown_num(n+1)\n",
    "    else: \n",
    "        print(n)\n",
    "        return countdown_num(n-1)\n",
    "\n",
    "num=int(input(\"Enter number: \"))\n",
    "print(countdown_num(num))"
   ]
  },
  {
   "cell_type": "code",
   "execution_count": 81,
   "id": "a15a433d",
   "metadata": {},
   "outputs": [
    {
     "name": "stdout",
     "output_type": "stream",
     "text": [
      "125\n"
     ]
    }
   ],
   "source": [
    "# exp_num(5,2): 50= 5* 5**2\n",
    "def exp_num(n,m):\n",
    "    if m==0:\n",
    "        return n\n",
    "    else: \n",
    "        return n*exp_num(n,m-1)\n",
    "print(exp_num(5,2))\n",
    "#5*exp(5,1)=5*5*exp(5,0)=5*5*5=125"
   ]
  },
  {
   "cell_type": "markdown",
   "id": "1f7da0d1",
   "metadata": {},
   "source": [
    "### some important tips: \n",
    "1. python zip()\n",
    "2. python filer()\n",
    "3. python map()"
   ]
  },
  {
   "cell_type": "markdown",
   "id": "bebd6fae",
   "metadata": {},
   "source": [
    "#### python zip()"
   ]
  },
  {
   "cell_type": "code",
   "execution_count": 82,
   "id": "0e6e9686",
   "metadata": {},
   "outputs": [
    {
     "name": "stdout",
     "output_type": "stream",
     "text": [
      "[24.65483235 24.22145329 29.38475666 23.03004535 30.24691358]\n"
     ]
    }
   ],
   "source": [
    "#BMI = w/(h/100)**2 by using ndarray \n",
    "def test(): \n",
    "    import numpy as np\n",
    "    w=np.array([60,70,80,65,98])\n",
    "    h=np.array([156,170,165,168,180])\n",
    "    BMI=w/(h/100)**2\n",
    "    print(BMI)\n",
    "    \n",
    "test()"
   ]
  },
  {
   "cell_type": "code",
   "execution_count": 83,
   "id": "bfe4f33e",
   "metadata": {},
   "outputs": [
    {
     "name": "stdout",
     "output_type": "stream",
     "text": [
      "[24.654832347140037, 24.221453287197235, 29.384756657483933, 23.030045351473927, 30.24691358024691]\n"
     ]
    }
   ],
   "source": [
    "#BMI=[] by using (list comprehesion)\n",
    "def test1():\n",
    "    w=[60,70,80,65,98]\n",
    "    h=[156,170,165,168,180]\n",
    "    bmi=[]\n",
    "    for i in range(len(w)):\n",
    "        bmi.append(w[i]/(h[i]/100)**2)\n",
    "    return bmi\n",
    "\n",
    "print(test1())"
   ]
  },
  {
   "cell_type": "code",
   "execution_count": 84,
   "id": "818db6ea",
   "metadata": {},
   "outputs": [
    {
     "name": "stdout",
     "output_type": "stream",
     "text": [
      "[24.654832347140037, 24.221453287197235, 29.384756657483933, 23.030045351473927, 30.24691358024691]\n"
     ]
    }
   ],
   "source": [
    "#by using zip() \n",
    "def test2():\n",
    "    weight=[60,70,80,65,98]\n",
    "    height=[156,170,165,168,180]\n",
    "    bmi=[]\n",
    "    for w,h in zip(weight,  height):\n",
    "        bmi.append(w/(h/100)**2)\n",
    "    return bmi\n",
    "\n",
    "#float_arr=np.array(test2())\n",
    "#np.set_printoptions(precision=2)\n",
    "#print(float_arr)\n",
    "print(test2()) "
   ]
  },
  {
   "cell_type": "code",
   "execution_count": 85,
   "id": "d657af83",
   "metadata": {},
   "outputs": [
    {
     "name": "stdout",
     "output_type": "stream",
     "text": [
      "[24.654832347140037, 24.221453287197235, 29.384756657483933, 23.030045351473927, 30.24691358024691]\n"
     ]
    }
   ],
   "source": [
    "def test3():\n",
    "    weight=[60,70,80,65,98]\n",
    "    height=[156,170,165,168,180]\n",
    "    bmi=[]\n",
    "    return [ w/(h/100)**2 for w,h in zip(weight,  height)]\n",
    "\n",
    "print(test3())"
   ]
  },
  {
   "cell_type": "code",
   "execution_count": 86,
   "id": "5840fd77",
   "metadata": {},
   "outputs": [
    {
     "name": "stdout",
     "output_type": "stream",
     "text": [
      "[{'Dara': 24.654832347140037}, {'Pisey': 24.221453287197235}, {'Theary': 29.384756657483933}, {'Piseth': 23.030045351473927}, {'Vireakbot': 30.24691358024691}]\n"
     ]
    }
   ],
   "source": [
    "def test4():\n",
    "    weight=[60,70,80,65,98]\n",
    "    height=[156,170,165,168,180]\n",
    "    name=[\"Dara\",\"Pisey\",\"Theary\",\"Piseth\",\"Vireakbot\"]\n",
    "    bmi=[]\n",
    "    return [{n:w/(h/100)**2} for w,h,n in zip(weight,height,name)]\n",
    "\n",
    "print(test4())"
   ]
  },
  {
   "cell_type": "code",
   "execution_count": 87,
   "id": "879d6ced",
   "metadata": {},
   "outputs": [
    {
     "name": "stdout",
     "output_type": "stream",
     "text": [
      "[{'Dara': 24.654832347140037}, {'Piseth': 23.030045351473927}, {'Vireakbot': 30.24691358024691}]\n"
     ]
    }
   ],
   "source": [
    "def test5():\n",
    "    weight=[60,70,80,65,98]\n",
    "    height=[156,170,165,168,180]\n",
    "    name=[\"Dara\",\"Pisey\",\"Theary\",\"Piseth\",\"Vireakbot\"]\n",
    "    gender=['M','F','F','M','M']\n",
    "    return [{n:w/(h/100)**2} for w,h,n,g in zip(weight,height,name, gender) if g=='M']\n",
    "\n",
    "print(test5())"
   ]
  },
  {
   "cell_type": "markdown",
   "id": "91560dda",
   "metadata": {},
   "source": [
    "#### Python map()"
   ]
  },
  {
   "cell_type": "code",
   "execution_count": 88,
   "id": "bd2aad71",
   "metadata": {},
   "outputs": [
    {
     "name": "stdout",
     "output_type": "stream",
     "text": [
      "['jasmine', 'lutus', 'lily', 'sunflower', 'rose']\n",
      "['Jasmine', 'Lutus', 'Lily', 'Sunflower', 'Rose']\n"
     ]
    }
   ],
   "source": [
    "def map_sample():\n",
    "    flower=['jasmine','lutus','lily','sunflower','rose']\n",
    "    flower1=list(map(str.capitalize,flower))\n",
    "    print(flower)\n",
    "    print(flower1)\n",
    "    \n",
    "map_sample()"
   ]
  },
  {
   "cell_type": "code",
   "execution_count": 89,
   "id": "107fd9bb",
   "metadata": {},
   "outputs": [
    {
     "name": "stdout",
     "output_type": "stream",
     "text": [
      "[224000, 356000, 92000, 268000, 120000]\n",
      "[224000, 356000, 92000, 268000, 120000]\n"
     ]
    }
   ],
   "source": [
    "def usd_2_riel(usd):\n",
    "    return usd*4000\n",
    "def map_sample1():\n",
    "    price_usd=[56,89,23,67,30]\n",
    "    price_riel=list(map(usd_2_riel,price_usd))\n",
    "    price_riel1=[x*4000 for x in price_usd]\n",
    "    print(price_riel)\n",
    "    print(price_riel1)\n",
    "\n",
    "map_sample1()"
   ]
  },
  {
   "cell_type": "code",
   "execution_count": 91,
   "id": "599a032b",
   "metadata": {},
   "outputs": [
    {
     "name": "stdout",
     "output_type": "stream",
     "text": [
      "Hexta-Ah-meter : 12-4-9\n",
      "124009\n"
     ]
    }
   ],
   "source": [
    "# 1 hexta= 10000m^2\n",
    "#1 Ah=1000m^2\n",
    "#hexta-Ah-Meter: 5-3-20 (5*10000+ 3*1000+20)\n",
    "def area():\n",
    "    s=input(\"Hexta-Ah-meter : \").split('-')\n",
    "    #print(s)\n",
    "    hexta,ah,meter=list(map(int,s))\n",
    "    total_area=hexta*10000+ah*1000+meter\n",
    "    print(total_area)\n",
    "    \n",
    "area()"
   ]
  },
  {
   "cell_type": "code",
   "execution_count": 92,
   "id": "23ca252f",
   "metadata": {},
   "outputs": [
    {
     "name": "stdout",
     "output_type": "stream",
     "text": [
      "Hexta-Ah-Meter : 34-6-1\n"
     ]
    },
    {
     "data": {
      "text/plain": [
       "346001"
      ]
     },
     "execution_count": 92,
     "metadata": {},
     "output_type": "execute_result"
    }
   ],
   "source": [
    "def area1():\n",
    "    hexta,ah,meter=list(map(int, input(\"Hexta-Ah-Meter : \").split('-')))\n",
    "    return hexta*10000+ah*1000+meter\n",
    "\n",
    "area1()"
   ]
  },
  {
   "cell_type": "markdown",
   "id": "23d5fcb4",
   "metadata": {},
   "source": [
    "#### Python filter()"
   ]
  },
  {
   "cell_type": "code",
   "execution_count": 93,
   "id": "b16e9e49",
   "metadata": {},
   "outputs": [
    {
     "name": "stdout",
     "output_type": "stream",
     "text": [
      "<class 'filter'>\n",
      "<filter object at 0x000001EE5EA82820>\n",
      "[10, 34, 78]\n"
     ]
    }
   ],
   "source": [
    "#funt test() has list age =[10,34,55,23,78,77,45], age_e=filter()\n",
    "def test():\n",
    "    age=[10,34,55,23,78,77,45]\n",
    "    age_e=filter(lambda x:x%2==0,age)\n",
    "    print(type(age_e))\n",
    "    print(age_e)\n",
    "    print(list(age_e))\n",
    "\n",
    "test()"
   ]
  },
  {
   "cell_type": "code",
   "execution_count": 94,
   "id": "53c363cf",
   "metadata": {},
   "outputs": [
    {
     "name": "stdout",
     "output_type": "stream",
     "text": [
      "[55, 23, 77, 45]\n"
     ]
    }
   ],
   "source": [
    "def test1():\n",
    "    age=[10,34,55,23,78,77,45]\n",
    "    age1=lambda x:x%2 ==0 \n",
    "    age2=lambda x:x%2 !=0\n",
    "    age_o=filter(age2,age)\n",
    "    print(list(age_o))\n",
    "test1()"
   ]
  },
  {
   "cell_type": "code",
   "execution_count": 95,
   "id": "8faa697b",
   "metadata": {},
   "outputs": [
    {
     "name": "stdout",
     "output_type": "stream",
     "text": [
      "['Malaysia', 'Indonesia']\n"
     ]
    }
   ],
   "source": [
    "#list country =['Cambodia','Lao','Malaysia','Indonesia','Singapore','Qata','Brunei'] filter country which has 's'\n",
    "def test2():\n",
    "    country =['Cambodia','Lao','Malaysia','Indonesia','Singapore','Qata','Brunei']\n",
    "    country1=filter(lambda x:'s' in x ,country)\n",
    "    print(list(country1))\n",
    "test2()"
   ]
  },
  {
   "cell_type": "code",
   "execution_count": 96,
   "id": "0e673d5b",
   "metadata": {},
   "outputs": [
    {
     "name": "stdout",
     "output_type": "stream",
     "text": [
      "[['Cambodia', 49], ['Laos', 40], ['Indonesia', 53]]\n",
      "[['Laos', 40], ['Qata', 70]]\n",
      "[['Laos', 40], ['Qata', 70]]\n",
      "['Cambodia', 'Malaysia', 'Indonesia', 'Singapore', 'Brunei']\n"
     ]
    }
   ],
   "source": [
    "#test3() country =[['Cambodia',49],['Lao',40],['Malaysia',60],['Indonesia',53],['Singapore',65],['Qata',70],['Brunei',60]] \n",
    "#filter country which has english score less than 60\n",
    "def test3():\n",
    "    country =[['Cambodia',49],['Laos',40],['Malaysia',60],['Indonesia',53],['Singapore',65],['Qata',70],['Brunei',60]]\n",
    "    country_low_score=filter(lambda x:x[1]<60,country)\n",
    "    country2=filter(lambda x:len(x[0])<5,country)\n",
    "    l = [x for x in country if(len(x[0]) <5)]\n",
    "    l1 =[x[0] for x in country if (len(x[0])>5)]\n",
    "    print(list(country_low_score))\n",
    "    print(list(country2))\n",
    "    print(l)\n",
    "    print(l1)\n",
    "    \n",
    "test3()"
   ]
  },
  {
   "cell_type": "markdown",
   "id": "a9249444",
   "metadata": {},
   "source": [
    "## 3. Library for data science \n",
    "1. Numpy\n",
    "2. Pandas \n",
    "3. Matplotlib"
   ]
  },
  {
   "cell_type": "code",
   "execution_count": null,
   "id": "4e45fa08",
   "metadata": {},
   "outputs": [],
   "source": []
  }
 ],
 "metadata": {
  "kernelspec": {
   "display_name": "Python 3 (ipykernel)",
   "language": "python",
   "name": "python3"
  },
  "language_info": {
   "codemirror_mode": {
    "name": "ipython",
    "version": 3
   },
   "file_extension": ".py",
   "mimetype": "text/x-python",
   "name": "python",
   "nbconvert_exporter": "python",
   "pygments_lexer": "ipython3",
   "version": "3.9.7"
  }
 },
 "nbformat": 4,
 "nbformat_minor": 5
}
