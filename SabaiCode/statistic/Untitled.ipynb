{
 "cells": [
  {
   "cell_type": "code",
   "execution_count": null,
   "id": "08092c96",
   "metadata": {},
   "outputs": [],
   "source": [
    "#Qualitative Data: “Data Associated with the quality in different categories\n",
    "#1. Ordinal data\n",
    "# [“Grade are given to students according to their score on the exam”]\n",
    "#ex: percentage: <40 : fail, 40-50 => second class, 51-60 => First class, >=60 => Congrate you are perfect\n",
    "\n",
    "marks=int(input(\"Enter your percentage\"))\n",
    "\n",
    "if(marks<=40):\n",
    "    print(\"Fail\")\n",
    "elif((marks>40)&(marks<=50)):\n",
    "    print(\"Second Class\")\n",
    "elif((marks>50)&(marks<=60)):\n",
    "    print(\"First Class\")\n",
    "elif(marks>=60):\n",
    "    print(\"Congratulations!! you are perfect\")"
   ]
  },
  {
   "cell_type": "code",
   "execution_count": null,
   "id": "30e8d87a",
   "metadata": {},
   "outputs": [],
   "source": [
    "#2. norminal data : Name only--Gender, hair color, ethnicity\n",
    "#[“Girls and boys are differentiated based on the answer given by them.]\n",
    "\n",
    "#q1: \"Would you like to go for shopping? if yes then type Y / y else N/n\"\n",
    "#q2: \"Do you love talking on any topic? if yes then type Y / y else N/n\"\n",
    "#bothe yes: Welcome to girls club\n",
    "#Sorry boys, you can not join the club\n",
    "ans1=input(\"Would you like to go for shopping? if yes then type Y / y else N/n\")\n",
    "ans2=input(\"Do you love talking on any topic? if yes then type Y / y else N/n\")\n",
    "\n",
    "if(((ans1=='Y')|(ans1=='y'))&((ans2=='Y')|(ans2=='y'))):\n",
    "    print(\"Welcome to girls club\")\n",
    "else:\n",
    "    print(\"Sorry boys, you can not join the club\")"
   ]
  },
  {
   "cell_type": "code",
   "execution_count": null,
   "id": "6ab74345",
   "metadata": {},
   "outputs": [],
   "source": [
    "#Quantitative Data : “Data associated with Quantity which can be measured”\n",
    "#(a). Discrete Data : Product_List(in fixed quantity)\n",
    "#list: sumsung:300, \"Apple\":70, Oppo:350, Vivo: 200, pixel: 60\n",
    "\n",
    "Product_List = {\"sumsung\":300, \"Apple\":70, \"Oppo\":350} \n",
    "print(Product_List)\n",
    "\n",
    "# (b). Continuous Data = Weight of Patients(in Kg)\n",
    "Patients_Weight = {\"P_ID001\":86.5, \"P_ID002\":91.3, \"P_ID003\":45.8, \"P_ID004\":78.2, \"P_ID005\":80.3}\n",
    "print(Patients_Weight)"
   ]
  },
  {
   "cell_type": "code",
   "execution_count": null,
   "id": "337b98ea",
   "metadata": {},
   "outputs": [],
   "source": [
    "import numpy as np\n",
    "\n",
    "x=[2,4,6,7,20,10,22]\n",
    "x1=[45,78,23,98,190,34,56,78]\n",
    "x2=[450,78,203,938,190,314,560,278,450,600,340,450]\n",
    "#find mean, mod, and median of each dataset x,x1,x2 "
   ]
  }
 ],
 "metadata": {
  "kernelspec": {
   "display_name": "Python 3 (ipykernel)",
   "language": "python",
   "name": "python3"
  },
  "language_info": {
   "codemirror_mode": {
    "name": "ipython",
    "version": 3
   },
   "file_extension": ".py",
   "mimetype": "text/x-python",
   "name": "python",
   "nbconvert_exporter": "python",
   "pygments_lexer": "ipython3",
   "version": "3.9.7"
  }
 },
 "nbformat": 4,
 "nbformat_minor": 5
}
