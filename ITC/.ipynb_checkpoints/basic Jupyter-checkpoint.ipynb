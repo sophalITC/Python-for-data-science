{
 "cells": [
  {
   "cell_type": "markdown",
   "metadata": {},
   "source": [
    "# Heading 1\n",
    "## Heading 2\n",
    "###### Heading 6"
   ]
  },
  {
   "cell_type": "markdown",
   "metadata": {},
   "source": [
    "* Basic python \n",
    "* OOP\n",
    "* Basic sttistic "
   ]
  },
  {
   "cell_type": "markdown",
   "metadata": {},
   "source": [
    "1. coffee\n",
    "2. Milk \n",
    "3. Green Tea"
   ]
  },
  {
   "cell_type": "markdown",
   "metadata": {},
   "source": [
    "## Python for DS\n",
    "1. Basic Python \n",
    "    * Variable \n",
    "        * int \n",
    "        * float \n",
    "        * boolean \n",
    "    * Control Structure \n",
    "        * if \n",
    "        * if/else \n",
    "    * Loop\n",
    "    * Function \n",
    "    \n",
    "2. Python OOP \n",
    "3. Statistic "
   ]
  },
  {
   "cell_type": "markdown",
   "metadata": {},
   "source": [
    "Cambodia  \n",
    "Thailand  \n",
    "Lao"
   ]
  },
  {
   "cell_type": "markdown",
   "metadata": {},
   "source": [
    "I <span style=color:red>love </span> *coding*  \n",
    "I <span style=color:blue;font-size:150%> like </span> **Mathematic**  \n",
    "you can't ***save the world alone.*** \n",
    "I don't like ~~statistic ~~\n"
   ]
  },
  {
   "cell_type": "code",
   "execution_count": null,
   "metadata": {},
   "outputs": [],
   "source": [
    "~"
   ]
  }
 ],
 "metadata": {
  "kernelspec": {
   "display_name": "Python 3 (ipykernel)",
   "language": "python",
   "name": "python3"
  },
  "language_info": {
   "codemirror_mode": {
    "name": "ipython",
    "version": 3
   },
   "file_extension": ".py",
   "mimetype": "text/x-python",
   "name": "python",
   "nbconvert_exporter": "python",
   "pygments_lexer": "ipython3",
   "version": "3.9.7"
  }
 },
 "nbformat": 4,
 "nbformat_minor": 4
}
