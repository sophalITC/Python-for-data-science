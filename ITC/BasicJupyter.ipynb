{
 "cells": [
  {
   "cell_type": "markdown",
   "metadata": {},
   "source": [
    "# Heading1\n",
    "## Heading 2\n",
    "###### Heading 6"
   ]
  },
  {
   "cell_type": "markdown",
   "metadata": {},
   "source": [
    "* Coffee\n",
    "* Milk \n",
    "* Tea"
   ]
  },
  {
   "cell_type": "markdown",
   "metadata": {},
   "source": [
    "## Python for DS \n",
    "1. Variable \n",
    "    * int\n",
    "        * long int \n",
    "        * short int\n",
    "    * float \n",
    "    * bolean \n",
    "    * Char and string \n",
    "2. Control structure\n",
    "    * if \n",
    "    * if/else\n",
    "3. Loop\n",
    "    * for \n",
    "    * while \n",
    "4. Function\n",
    "    * function\n",
    "        * one argument \n",
    "        * multiple argument \n",
    "    * recursion function \n",
    "    * lamda \n",
    "5. Data structure\n",
    "    * Dict \n",
    "    * set \n",
    "    * tuple \n",
    "    * Array (numpy) \n",
    "    * List \n"
   ]
  },
  {
   "cell_type": "markdown",
   "metadata": {},
   "source": [
    "Cambodia  \n",
    "Thailand   \n",
    "Malaysia"
   ]
  },
  {
   "cell_type": "markdown",
   "metadata": {},
   "source": [
    "I live in <span style=color:red>*Cambodia* </span>  \n",
    "I love this <span style=color:red;font-size:150%>**country**</span>    \n",
    "***The Kingdom of wonder*** is Cambodia\n",
    "I don't like ~~apple~~"
   ]
  },
  {
   "cell_type": "markdown",
   "metadata": {},
   "source": [
    "### Hyperlink "
   ]
  },
  {
   "cell_type": "markdown",
   "metadata": {},
   "source": [
    "https://www.youtube.com/"
   ]
  },
  {
   "cell_type": "markdown",
   "metadata": {},
   "source": [
    "## [Click here>> ](https://www.youtube.com)"
   ]
  },
  {
   "cell_type": "code",
   "execution_count": null,
   "metadata": {},
   "outputs": [],
   "source": []
  }
 ],
 "metadata": {
  "kernelspec": {
   "display_name": "Python 3",
   "language": "python",
   "name": "python3"
  },
  "language_info": {
   "codemirror_mode": {
    "name": "ipython",
    "version": 3
   },
   "file_extension": ".py",
   "mimetype": "text/x-python",
   "name": "python",
   "nbconvert_exporter": "python",
   "pygments_lexer": "ipython3",
   "version": "3.8.5"
  }
 },
 "nbformat": 4,
 "nbformat_minor": 4
}
