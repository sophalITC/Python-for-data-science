{
 "cells": [
  {
   "cell_type": "markdown",
   "metadata": {},
   "source": [
    " \n",
    "# "
   ]
  },
  {
   "cell_type": "code",
   "execution_count": 12,
   "metadata": {},
   "outputs": [
    {
     "name": "stdout",
     "output_type": "stream",
     "text": [
      "7\n",
      "10\n"
     ]
    }
   ],
   "source": [
    "X=7\n",
    "x=10\n",
    "print(X)\n",
    "print(x)\n",
    "nam23e2=\"Cambodia\""
   ]
  },
  {
   "cell_type": "code",
   "execution_count": 13,
   "metadata": {},
   "outputs": [
    {
     "name": "stdout",
     "output_type": "stream",
     "text": [
      "140723892333632\n",
      "<class 'int'>\n",
      "42\n"
     ]
    }
   ],
   "source": [
    "age =42\n",
    "print(id(age)) #identify\n",
    "print(type(age)) #type \n",
    "print(age) #value \n"
   ]
  },
  {
   "cell_type": "code",
   "execution_count": 20,
   "metadata": {},
   "outputs": [
    {
     "name": "stdout",
     "output_type": "stream",
     "text": [
      " My Contry is \"Cambodia\" \n",
      "I like coding I like Math \n"
     ]
    }
   ],
   "source": [
    "str_name= \"\"\" My Contry is \"Cambodia\" \"\"\"\n",
    "print(str_name)\n",
    "name1='I like coding '\n",
    "name2=\"I like Math \" # string concate \n",
    "print(name1 + name2)"
   ]
  },
  {
   "cell_type": "code",
   "execution_count": 24,
   "metadata": {},
   "outputs": [
    {
     "name": "stdout",
     "output_type": "stream",
     "text": [
      "1815105427904\n",
      "1815105427904\n"
     ]
    }
   ],
   "source": [
    "mylist = [\"apple\", \"banana\", \"cherry\"] #index [0] array\n",
    "print(id(mylist))\n",
    "mylist.append('Durian') #mylist=[\"apple\", \"banana\", \"cherry\", durian]\n",
    "print(id(mylist))\n",
    "\n"
   ]
  },
  {
   "cell_type": "code",
   "execution_count": 26,
   "metadata": {},
   "outputs": [
    {
     "name": "stdout",
     "output_type": "stream",
     "text": [
      "1815105441328\n",
      "1815105441520\n"
     ]
    }
   ],
   "source": [
    "name1='23 '\n",
    "print(id(name1))\n",
    "name1='I like Math '\n",
    "print(id(name1))"
   ]
  },
  {
   "cell_type": "markdown",
   "metadata": {},
   "source": [
    "# sequence type \n",
    " List, string, tupple, set , dictionaries \n",
    " "
   ]
  },
  {
   "cell_type": "code",
   "execution_count": 45,
   "metadata": {},
   "outputs": [
    {
     "name": "stdout",
     "output_type": "stream",
     "text": [
      "['Cambodia', ' Thailand', ' Vieatnam', ' Laos', ' Malaysia', ' Japan']\n"
     ]
    }
   ],
   "source": [
    "# list [ .....],(contained diferent data types), order, changable, duplicate value \n",
    "country= ['Cambodia', \" Thailand\", \" Vieatnam\", \" Laos\", \" Malaysia\", \" Japan\"]\n",
    "print(country)"
   ]
  },
  {
   "cell_type": "code",
   "execution_count": 46,
   "metadata": {},
   "outputs": [
    {
     "name": "stdout",
     "output_type": "stream",
     "text": [
      "[' Thailand', ' Vieatnam', ' Laos']\n"
     ]
    }
   ],
   "source": [
    "print(country[1:4]) # 4 not count "
   ]
  },
  {
   "cell_type": "code",
   "execution_count": 47,
   "metadata": {},
   "outputs": [
    {
     "name": "stdout",
     "output_type": "stream",
     "text": [
      "6\n"
     ]
    }
   ],
   "source": [
    "print(len(country))"
   ]
  },
  {
   "cell_type": "code",
   "execution_count": 48,
   "metadata": {},
   "outputs": [
    {
     "name": "stdout",
     "output_type": "stream",
     "text": [
      " Japan\n"
     ]
    }
   ],
   "source": [
    "print(country[-1]) "
   ]
  },
  {
   "cell_type": "code",
   "execution_count": 49,
   "metadata": {},
   "outputs": [
    {
     "name": "stdout",
     "output_type": "stream",
     "text": [
      " Thailand\n",
      "[' Laos', ' Malaysia', ' Japan']\n"
     ]
    }
   ],
   "source": [
    "print(country[-5]) \n",
    "print(country[3:])"
   ]
  },
  {
   "cell_type": "code",
   "execution_count": 50,
   "metadata": {},
   "outputs": [
    {
     "name": "stdout",
     "output_type": "stream",
     "text": [
      " Japan\n"
     ]
    }
   ],
   "source": [
    "print(country[-1])"
   ]
  },
  {
   "cell_type": "code",
   "execution_count": 51,
   "metadata": {},
   "outputs": [
    {
     "name": "stdout",
     "output_type": "stream",
     "text": [
      "['Cambodia', 'French', ' England', ' Laos', ' Malaysia', ' Japan']\n"
     ]
    }
   ],
   "source": [
    "country[1:3]=[\"French\", \" England\"]\n",
    "print(country)"
   ]
  },
  {
   "cell_type": "code",
   "execution_count": 52,
   "metadata": {},
   "outputs": [
    {
     "name": "stdout",
     "output_type": "stream",
     "text": [
      "['Cambodia', 'French', ' England', ' Laos', ['Cambodia'], ' Japan']\n"
     ]
    }
   ],
   "source": [
    "country[4]=[\"Cambodia\"]\n",
    "print(country)"
   ]
  },
  {
   "cell_type": "code",
   "execution_count": 53,
   "metadata": {},
   "outputs": [
    {
     "name": "stdout",
     "output_type": "stream",
     "text": [
      "['Cambodia', 'French', ' England', ' Laos', ['Cambodia'], ' Japan', 'Russia']\n"
     ]
    }
   ],
   "source": [
    "# append add item to the last index\n",
    "country.append(\"Russia\")\n",
    "print(country)"
   ]
  },
  {
   "cell_type": "code",
   "execution_count": 54,
   "metadata": {},
   "outputs": [
    {
     "name": "stdout",
     "output_type": "stream",
     "text": [
      "['Cambodia', 'French', 'Swiss', ' England', ' Laos', ['Cambodia'], ' Japan', 'Russia']\n"
     ]
    }
   ],
   "source": [
    "#insert specific index \n",
    "country.insert(2, \"Swiss\")\n",
    "print(country)\n"
   ]
  },
  {
   "cell_type": "code",
   "execution_count": 55,
   "metadata": {},
   "outputs": [
    {
     "name": "stdout",
     "output_type": "stream",
     "text": [
      "['Cambodia', 'French', 'Swiss', ' England', ' Laos', ['Cambodia'], ' Japan', 'Russia', 'Mango', ' Cherry', 'potato']\n"
     ]
    }
   ],
   "source": [
    "#extend concate two list (conbine 2 lists) \n",
    "fruit=[\"Mango\", \" Cherry\", \"potato\"]\n",
    "country.extend(fruit)\n",
    "print(country)"
   ]
  },
  {
   "cell_type": "code",
   "execution_count": 56,
   "metadata": {},
   "outputs": [
    {
     "name": "stdout",
     "output_type": "stream",
     "text": [
      "['Cambodia', 'French', 'Swiss', ' England', ' Laos', 'Cambodia', ' Japan', 'Russia', 'Mango', ' Cherry', 'potato']\n"
     ]
    }
   ],
   "source": [
    "country[5]= \"Cambodia\"\n",
    "print(country)"
   ]
  },
  {
   "cell_type": "code",
   "execution_count": 57,
   "metadata": {},
   "outputs": [
    {
     "name": "stdout",
     "output_type": "stream",
     "text": [
      "['Cambodia', 'French', 'Swiss', ' England', ' Laos', 'Cambodia', ' Japan', 'Russia', ' Cherry', 'potato']\n"
     ]
    }
   ],
   "source": [
    "#removed item from list: remove, pop(), del()\n",
    "country.remove(\"Mango\")\n",
    "print(country)"
   ]
  },
  {
   "cell_type": "code",
   "execution_count": 58,
   "metadata": {},
   "outputs": [
    {
     "name": "stdout",
     "output_type": "stream",
     "text": [
      "['Cambodia', 'French', 'Swiss', ' England', ' Laos', ' Japan', 'Russia', ' Cherry', 'potato']\n"
     ]
    }
   ],
   "source": [
    "country.pop(5)#index \n",
    "print(country)"
   ]
  },
  {
   "cell_type": "code",
   "execution_count": 59,
   "metadata": {},
   "outputs": [
    {
     "name": "stdout",
     "output_type": "stream",
     "text": [
      "['Cambodia', 'French', 'Swiss', ' England', ' Laos', ' Japan', 'Russia', ' Cherry']\n"
     ]
    }
   ],
   "source": [
    "del country[8]\n",
    "print(country)\n"
   ]
  },
  {
   "cell_type": "code",
   "execution_count": 63,
   "metadata": {},
   "outputs": [
    {
     "name": "stdout",
     "output_type": "stream",
     "text": [
      "['Cambodia', ' England', ' Laos', ' Japan', 'Russia']\n"
     ]
    }
   ],
   "source": [
    "#indentation \n",
    "#list comprehension \n",
    "newlist=[]\n",
    "for x in country:\n",
    "    if \"a\" in x:\n",
    "        newlist.append(x)\n",
    "print(newlist)"
   ]
  },
  {
   "cell_type": "code",
   "execution_count": 67,
   "metadata": {},
   "outputs": [
    {
     "name": "stdout",
     "output_type": "stream",
     "text": [
      "[' Cherry', ' England', ' Japan', ' Laos', 'Cambodia', 'French', 'Russia', 'Swiss']\n"
     ]
    }
   ],
   "source": [
    "# sort \n",
    "country.sort()\n",
    "print(country)"
   ]
  },
  {
   "cell_type": "code",
   "execution_count": 66,
   "metadata": {},
   "outputs": [
    {
     "name": "stdout",
     "output_type": "stream",
     "text": [
      "[45, 78, 1, 45, 67, 9, 3]\n",
      "[1, 3, 9, 45, 45, 67, 78]\n"
     ]
    }
   ],
   "source": [
    "num=[45,78,1,45,67,9,3]\n",
    "print(num)\n",
    "num.sort()\n",
    "print(num)"
   ]
  },
  {
   "cell_type": "markdown",
   "metadata": {},
   "source": [
    "## string "
   ]
  },
  {
   "cell_type": "code",
   "execution_count": 68,
   "metadata": {},
   "outputs": [
    {
     "name": "stdout",
     "output_type": "stream",
     "text": [
      " I love Cambodia!\n"
     ]
    }
   ],
   "source": [
    "# string can store: ' ', \" \" , \"\"\" \"\"\"\n",
    "name= \" I love Cambodia!\"\n",
    "print(name)"
   ]
  },
  {
   "cell_type": "code",
   "execution_count": 70,
   "metadata": {},
   "outputs": [
    {
     "name": "stdout",
     "output_type": "stream",
     "text": [
      "I love\n"
     ]
    }
   ],
   "source": [
    "print(name[1:7])#"
   ]
  },
  {
   "cell_type": "code",
   "execution_count": 71,
   "metadata": {},
   "outputs": [
    {
     "name": "stdout",
     "output_type": "stream",
     "text": [
      " I LOVE CAMBODIA!\n"
     ]
    }
   ],
   "source": [
    "# modify (upper() and lower())\n",
    "print(name.upper())"
   ]
  },
  {
   "cell_type": "code",
   "execution_count": 72,
   "metadata": {},
   "outputs": [
    {
     "name": "stdout",
     "output_type": "stream",
     "text": [
      " I lWve CambWdia!\n"
     ]
    }
   ],
   "source": [
    "#replace() build-in \n",
    "print(name.replace(\"o\", \"W\"))"
   ]
  },
  {
   "cell_type": "code",
   "execution_count": 73,
   "metadata": {},
   "outputs": [
    {
     "name": "stdout",
     "output_type": "stream",
     "text": [
      " I love Cambodia! I love coding\n"
     ]
    }
   ],
   "source": [
    "#combine 2 strings \n",
    "name1=\" I love coding\"\n",
    "me=name+name1\n",
    "print(me)"
   ]
  },
  {
   "cell_type": "code",
   "execution_count": 77,
   "metadata": {},
   "outputs": [
    {
     "name": "stdout",
     "output_type": "stream",
     "text": [
      "2320\n",
      "<class 'str'>\n",
      "<class 'int'>\n",
      "53\n"
     ]
    }
   ],
   "source": [
    "a=\"23\"\n",
    "b1=\"20\"\n",
    "d1=a+b1# 2320\n",
    "print(d1)\n",
    "print(type(a))\n",
    "b=int(a)\n",
    "c=30\n",
    "d=b+c\n",
    "print(type(b))\n",
    "print(d)"
   ]
  },
  {
   "cell_type": "markdown",
   "metadata": {},
   "source": [
    "## tuple, set and Dictionary "
   ]
  },
  {
   "cell_type": "code",
   "execution_count": 3,
   "metadata": {},
   "outputs": [
    {
     "name": "stdout",
     "output_type": "stream",
     "text": [
      "('Cambodia', 'French', 'Swiss', ' England', ' Laos', ' Japan', 'Russia')\n"
     ]
    }
   ],
   "source": [
    "# list [ .....],(contained diferent data types), order, changable, allow duplicate value \n",
    "# tuple (......), (contained different tada type), order, Unchange, allow duplicate valu # index (start 0) \n",
    "# set {.....}, (contained different tada type), unorder, Unchange,unidex\n",
    "# Dictionary in key:value pairs, ordered, changeable and do not allow duplicates.\n",
    "\n",
    "country= (\"Cambodia\", 'French', 'Swiss', ' England', ' Laos', ' Japan', 'Russia')\n",
    "\n",
    "print(country)\n"
   ]
  },
  {
   "cell_type": "code",
   "execution_count": 4,
   "metadata": {},
   "outputs": [
    {
     "name": "stdout",
     "output_type": "stream",
     "text": [
      "Swiss\n"
     ]
    }
   ],
   "source": [
    "print(country[2])\n",
    "#-3\n",
    "# 2==>5 "
   ]
  },
  {
   "cell_type": "code",
   "execution_count": 5,
   "metadata": {},
   "outputs": [
    {
     "name": "stdout",
     "output_type": "stream",
     "text": [
      "('Cambodia', 'French', 'Swiss', ' England', 'Brunei', ' Japan', 'Russia')\n"
     ]
    }
   ],
   "source": [
    "#update tuple \n",
    "My_country_li= list(country)\n",
    "My_country_li[4]= \"Brunei\"\n",
    "country=tuple(My_country_li)\n",
    "print(country)"
   ]
  },
  {
   "cell_type": "code",
   "execution_count": 10,
   "metadata": {},
   "outputs": [],
   "source": [
    "#unpack \n",
    "(Romdol,a,b,v,n,h,o) = country "
   ]
  },
  {
   "cell_type": "code",
   "execution_count": 11,
   "metadata": {},
   "outputs": [
    {
     "name": "stdout",
     "output_type": "stream",
     "text": [
      "Cambodia\n"
     ]
    }
   ],
   "source": [
    "print(Romdol)"
   ]
  },
  {
   "cell_type": "code",
   "execution_count": 17,
   "metadata": {},
   "outputs": [
    {
     "name": "stdout",
     "output_type": "stream",
     "text": [
      "['Brunei', ' Japan', 'Russia']\n"
     ]
    }
   ],
   "source": [
    "print(SunFlower)"
   ]
  },
  {
   "cell_type": "code",
   "execution_count": 27,
   "metadata": {},
   "outputs": [
    {
     "name": "stdout",
     "output_type": "stream",
     "text": [
      "Cambodia\n",
      "Swiss\n",
      "Brunei\n",
      "Russia\n"
     ]
    }
   ],
   "source": [
    "i=0\n",
    "while i<len(country):\n",
    "    print(country[i])\n",
    "    i +=2"
   ]
  },
  {
   "cell_type": "markdown",
   "metadata": {},
   "source": [
    "## set"
   ]
  },
  {
   "cell_type": "code",
   "execution_count": 32,
   "metadata": {},
   "outputs": [
    {
     "name": "stdout",
     "output_type": "stream",
     "text": [
      "{'Think and grow rich', 'Mein Kampf', 8, '7 habbits', 'Being happy', 'Follow your heart'}\n"
     ]
    }
   ],
   "source": [
    "book = {\"Mein Kampf\", \"Think and grow rich\", \"Follow your heart\", \"Being happy\", \"7 habbits\", 8}\n",
    "print(book)"
   ]
  },
  {
   "cell_type": "code",
   "execution_count": 33,
   "metadata": {},
   "outputs": [
    {
     "name": "stdout",
     "output_type": "stream",
     "text": [
      "{'Think and grow rich', 'Mein Kampf', 8, '7 habbits', 'Being happy', 'Follow your heart'}\n"
     ]
    }
   ],
   "source": [
    "book = {\"Mein Kampf\", \"Think and grow rich\", \"Follow your heart\", \"Being happy\", \"7 habbits\", 8}\n",
    "print(book)"
   ]
  },
  {
   "cell_type": "code",
   "execution_count": 37,
   "metadata": {},
   "outputs": [
    {
     "name": "stdout",
     "output_type": "stream",
     "text": [
      "{'Think and grow rich', 'Mein Kampf', 8, '7 habbits', 'Being happy', 'Follow your heart'}\n",
      "{'Think and grow rich', 'Mein Kampf', 8, '7 habbits', 'Being happy', 'Follow your heart'}\n"
     ]
    }
   ],
   "source": [
    "book = {\"Mein Kampf\", \"Think and grow rich\", \"Follow your heart\", \"Being happy\", \"7 habbits\", 8}\n",
    "print(book)\n",
    "print(book)"
   ]
  },
  {
   "cell_type": "code",
   "execution_count": 36,
   "metadata": {},
   "outputs": [
    {
     "name": "stdout",
     "output_type": "stream",
     "text": [
      "{'Think and grow rich', 'Mein Kampf', 8, '7 habbits', 'Being happy', 'Follow your heart'}\n",
      "{'Think and grow rich', 'Mein Kampf', 8, '7 habbits', 'Being happy', 'Follow your heart'}\n"
     ]
    }
   ],
   "source": [
    "print(book)\n",
    "print(book)"
   ]
  },
  {
   "cell_type": "markdown",
   "metadata": {},
   "source": [
    "#diction \n"
   ]
  },
  {
   "cell_type": "markdown",
   "metadata": {},
   "source": [
    "## dictionary"
   ]
  },
  {
   "cell_type": "code",
   "execution_count": 2,
   "metadata": {},
   "outputs": [],
   "source": [
    "dict={ \n",
    "  \"Hello\":\"សូស្តី\", \n",
    "  \"Love\" :\"ស្រលាញ់\",\n",
    "  \"Age\" : 20}"
   ]
  },
  {
   "cell_type": "code",
   "execution_count": 3,
   "metadata": {},
   "outputs": [
    {
     "name": "stdout",
     "output_type": "stream",
     "text": [
      "{'Hello': 'សូស្តី', 'Love': 'ស្រលាញ់', 'Age': 20}\n"
     ]
    }
   ],
   "source": [
    "print(dict)"
   ]
  },
  {
   "cell_type": "code",
   "execution_count": 4,
   "metadata": {},
   "outputs": [
    {
     "name": "stdout",
     "output_type": "stream",
     "text": [
      "សូស្តី\n"
     ]
    }
   ],
   "source": [
    "print(dict[\"Hello\"])"
   ]
  },
  {
   "cell_type": "code",
   "execution_count": 6,
   "metadata": {},
   "outputs": [
    {
     "name": "stdout",
     "output_type": "stream",
     "text": [
      "Hello\n",
      "Love\n",
      "Age\n"
     ]
    }
   ],
   "source": [
    "for key in dict :\n",
    "    print (key)"
   ]
  },
  {
   "cell_type": "code",
   "execution_count": 7,
   "metadata": {},
   "outputs": [
    {
     "name": "stdout",
     "output_type": "stream",
     "text": [
      "20\n"
     ]
    }
   ],
   "source": [
    "t=dict[\"Age\"]#20\n",
    "print(t)\n",
    "    "
   ]
  },
  {
   "cell_type": "code",
   "execution_count": 8,
   "metadata": {},
   "outputs": [
    {
     "name": "stdout",
     "output_type": "stream",
     "text": [
      "dict_keys(['Hello', 'Love', 'Age'])\n"
     ]
    }
   ],
   "source": [
    "k=dict.keys()\n",
    "print(k)"
   ]
  },
  {
   "cell_type": "code",
   "execution_count": 9,
   "metadata": {},
   "outputs": [
    {
     "name": "stdout",
     "output_type": "stream",
     "text": [
      "{'Hello': 'សូស្តី', 'Love': 'ស្រលាញ់', 'Age': 20, 'Like': 'ចូលចិត្ត'}\n"
     ]
    }
   ],
   "source": [
    "dict[\"Like\"] =\"ចូលចិត្ត\"\n",
    "print(dict)"
   ]
  },
  {
   "cell_type": "code",
   "execution_count": 11,
   "metadata": {},
   "outputs": [
    {
     "ename": "KeyError",
     "evalue": "'Age'",
     "output_type": "error",
     "traceback": [
      "\u001b[1;31m---------------------------------------------------------------------------\u001b[0m",
      "\u001b[1;31mKeyError\u001b[0m                                  Traceback (most recent call last)",
      "\u001b[1;32m<ipython-input-11-95ceefd9093a>\u001b[0m in \u001b[0;36m<module>\u001b[1;34m\u001b[0m\n\u001b[0;32m      1\u001b[0m \u001b[1;31m#data structure : link-list, array, #algorithm: sorting\u001b[0m\u001b[1;33m\u001b[0m\u001b[1;33m\u001b[0m\u001b[1;33m\u001b[0m\u001b[0m\n\u001b[0;32m      2\u001b[0m \u001b[1;31m#pop\u001b[0m\u001b[1;33m\u001b[0m\u001b[1;33m\u001b[0m\u001b[1;33m\u001b[0m\u001b[0m\n\u001b[1;32m----> 3\u001b[1;33m \u001b[0mdict\u001b[0m\u001b[1;33m.\u001b[0m\u001b[0mpop\u001b[0m\u001b[1;33m(\u001b[0m\u001b[1;34m\"Age\"\u001b[0m\u001b[1;33m)\u001b[0m\u001b[1;33m\u001b[0m\u001b[1;33m\u001b[0m\u001b[0m\n\u001b[0m\u001b[0;32m      4\u001b[0m \u001b[0mprint\u001b[0m\u001b[1;33m(\u001b[0m\u001b[0mdict\u001b[0m\u001b[1;33m)\u001b[0m\u001b[1;33m\u001b[0m\u001b[1;33m\u001b[0m\u001b[0m\n\u001b[0;32m      5\u001b[0m \u001b[1;31m#popitem\u001b[0m\u001b[1;33m\u001b[0m\u001b[1;33m\u001b[0m\u001b[1;33m\u001b[0m\u001b[0m\n",
      "\u001b[1;31mKeyError\u001b[0m: 'Age'"
     ]
    }
   ],
   "source": [
    "#data structure : link-list, array, #algorithm: sorting \n",
    "#pop\n",
    "dict.pop(\"Age\")\n",
    "print(dict)\n",
    "#popitem\n",
    "#del "
   ]
  },
  {
   "cell_type": "code",
   "execution_count": 12,
   "metadata": {},
   "outputs": [
    {
     "name": "stdout",
     "output_type": "stream",
     "text": [
      "{}\n"
     ]
    }
   ],
   "source": [
    "dict.clear()\n",
    "print(dict)"
   ]
  },
  {
   "cell_type": "markdown",
   "metadata": {},
   "source": [
    "## loop "
   ]
  },
  {
   "cell_type": "code",
   "execution_count": 14,
   "metadata": {},
   "outputs": [
    {
     "name": "stdout",
     "output_type": "stream",
     "text": [
      "apple\n",
      "banana\n",
      "cherry\n"
     ]
    }
   ],
   "source": [
    "#for ... in ...(string, list,tuple, dictionary, set, Array,...)\n",
    "#for ... in range(0,11)  #for(i=0; i<=10,i++)\n",
    "fruits = [\"apple\", \"banana\", \"cherry\"]\n",
    "for x in fruits:\n",
    "  print(x)"
   ]
  },
  {
   "cell_type": "code",
   "execution_count": 15,
   "metadata": {},
   "outputs": [
    {
     "name": "stdout",
     "output_type": "stream",
     "text": [
      "apple\n",
      "banana\n",
      "cherry\n"
     ]
    }
   ],
   "source": [
    "fruits = {\"apple\", \"banana\", \"cherry\"}\n",
    "for x in fruits:\n",
    "  print(x)"
   ]
  },
  {
   "cell_type": "code",
   "execution_count": 16,
   "metadata": {},
   "outputs": [
    {
     "name": "stdout",
     "output_type": "stream",
     "text": [
      "apple\n",
      "banana\n",
      "cherry\n"
     ]
    }
   ],
   "source": [
    "fruits = (\"apple\", \"banana\", \"cherry\")\n",
    "for x in fruits:\n",
    "  print(x)"
   ]
  },
  {
   "cell_type": "code",
   "execution_count": 18,
   "metadata": {},
   "outputs": [
    {
     "name": "stdout",
     "output_type": "stream",
     "text": [
      "0\n",
      "1\n",
      "2\n",
      "3\n",
      "4\n",
      "5\n",
      "6\n",
      "7\n",
      "8\n",
      "9\n",
      "10\n"
     ]
    }
   ],
   "source": [
    "for x in range(0,11):\n",
    "  print(x)"
   ]
  },
  {
   "cell_type": "code",
   "execution_count": 19,
   "metadata": {},
   "outputs": [
    {
     "name": "stdout",
     "output_type": "stream",
     "text": [
      "0\n",
      "2\n",
      "4\n",
      "6\n",
      "8\n",
      "10\n"
     ]
    }
   ],
   "source": [
    "for x in range(0,11,2):  #for(i=0,i<=10,i=i+2)\n",
    "  print(x)"
   ]
  },
  {
   "cell_type": "code",
   "execution_count": 1,
   "metadata": {},
   "outputs": [],
   "source": [
    "fruits = [\"apple\", \"banana\", \"cherry\",12,78,\"Cambodia\"]\n",
    "for x in fruits:\n",
    "  if x ==  12:# skip banana \n",
    "    continue\n",
    "    print(x)\n"
   ]
  },
  {
   "cell_type": "code",
   "execution_count": 29,
   "metadata": {},
   "outputs": [
    {
     "name": "stdout",
     "output_type": "stream",
     "text": [
      "34\n"
     ]
    }
   ],
   "source": [
    "name=[\"LALA\",\"Baba\",\"toto\",34,18,'ee']\n",
    "for x in name:\n",
    " if x== 34:\n",
    "    print(x)"
   ]
  },
  {
   "cell_type": "code",
   "execution_count": 30,
   "metadata": {},
   "outputs": [
    {
     "name": "stdout",
     "output_type": "stream",
     "text": [
      "ee\n"
     ]
    }
   ],
   "source": [
    "name=[\"LALA\",\"Baba\",\"toto\",34,18,'ee']\n",
    "for x in name:\n",
    " if x== \"ee\":\n",
    "    print(x)"
   ]
  },
  {
   "cell_type": "code",
   "execution_count": 33,
   "metadata": {},
   "outputs": [
    {
     "name": "stdout",
     "output_type": "stream",
     "text": [
      "LALA\n",
      "Baba\n",
      "toto\n"
     ]
    }
   ],
   "source": [
    "name=[\"LALA\",\"Baba\",\"toto\",34,18,'ee']\n",
    "for x in name:#last value ee\n",
    " if x== 34:\n",
    "    break\n",
    " print(x)"
   ]
  },
  {
   "cell_type": "markdown",
   "metadata": {},
   "source": [
    "If/else\n",
    "Equals: a == b\n",
    "Not Equals: a != b\n",
    "Less than: a < b\n",
    "Less than or equal to: a <= b\n",
    "Greater than: a > b\n",
    "Greater than or equal to: a >= b"
   ]
  },
  {
   "cell_type": "code",
   "execution_count": 34,
   "metadata": {},
   "outputs": [
    {
     "name": "stdout",
     "output_type": "stream",
     "text": [
      "A<B\n"
     ]
    }
   ],
   "source": [
    "a=2001\n",
    "b=2002\n",
    "if a>b: \n",
    "    print(\"A>B\")\n",
    "if a<b: \n",
    "    print(\"A<B\")"
   ]
  },
  {
   "cell_type": "code",
   "execution_count": 35,
   "metadata": {},
   "outputs": [
    {
     "name": "stdout",
     "output_type": "stream",
     "text": [
      "A = B\n"
     ]
    }
   ],
   "source": [
    "a=2001\n",
    "b=2001\n",
    "if a>b: \n",
    "    print(\"A>B\")\n",
    "elif a<b: \n",
    "    print(\"A<B\")\n",
    "else: \n",
    "    print(\"A = B\")"
   ]
  },
  {
   "cell_type": "code",
   "execution_count": null,
   "metadata": {},
   "outputs": [],
   "source": [
    "a=2001\n",
    "b=2001\n",
    "if a>=b: \n",
    "    print(\"A>=B\")\n",
    "else: \n",
    "    print(\"A<B\")"
   ]
  },
  {
   "cell_type": "code",
   "execution_count": 36,
   "metadata": {},
   "outputs": [
    {
     "name": "stdout",
     "output_type": "stream",
     "text": [
      "1\n",
      "2\n",
      "3\n",
      "4\n",
      "5\n",
      "i is no longer less than 6\n"
     ]
    }
   ],
   "source": [
    "i = 1 #int i=1\n",
    "while i < 6: #while(i<6){  }\n",
    "  print(i)\n",
    "  i += 1\n",
    "else:\n",
    "  print(\"i is no longer less than 6\")"
   ]
  },
  {
   "cell_type": "markdown",
   "metadata": {},
   "source": [
    " ## password Authentication using python"
   ]
  },
  {
   "cell_type": "code",
   "execution_count": 11,
   "metadata": {},
   "outputs": [
    {
     "name": "stdout",
     "output_type": "stream",
     "text": [
      "Enter username: sophal\n",
      "Enter password: ········\n",
      "loged in!!\n"
     ]
    }
   ],
   "source": [
    "import getpass\n",
    "database = {\"sophal\":\"1234\", \"senglay\":\"6789\",\"rith\":\"asdfg\"}# key:value \n",
    "username = input(\"Enter username: \") # sophal\n",
    "password = getpass.getpass(\"Enter password: \") #12345678\n",
    "for i in database.keys():\n",
    " if username == i: \n",
    "    while password != database.get(i):\n",
    "        password = getpass.getpass(\"Enter password again: \")\n",
    "    break\n",
    "print(\"loged in!!\")"
   ]
  },
  {
   "cell_type": "markdown",
   "metadata": {},
   "source": [
    "# function \n"
   ]
  },
  {
   "cell_type": "code",
   "execution_count": 12,
   "metadata": {},
   "outputs": [
    {
     "name": "stdout",
     "output_type": "stream",
     "text": [
      "100\n"
     ]
    }
   ],
   "source": [
    "#function def (return function = fruitful function  )\n",
    "def rectangle(w,h):\n",
    "    return w*h\n",
    "\n",
    "#area=rectangle(20,5) #20*5\n",
    "#enter from user \n",
    "print(area)"
   ]
  },
  {
   "cell_type": "code",
   "execution_count": 13,
   "metadata": {},
   "outputs": [
    {
     "name": "stdout",
     "output_type": "stream",
     "text": [
      "My name is Messi\n",
      "My phone number is 09876541\n"
     ]
    }
   ],
   "source": [
    "# void function \n",
    "def myself(name,p_number):\n",
    "    print(\"My name is \" + name)\n",
    "    print(\"My phone number is \"+ p_number)\n",
    "    \n",
    "myself(\"Messi\", \"09876541\")"
   ]
  },
  {
   "cell_type": "code",
   "execution_count": null,
   "metadata": {},
   "outputs": [],
   "source": [
    "#watt = amp * volt \n",
    "\n",
    "\n",
    "def watt(amp, volt): #None \n",
    "    return amp * volt \n",
    "\n",
    "#input amp\n",
    "#input volt\n",
    "print(\"The value of watt is \"+ watt())"
   ]
  },
  {
   "cell_type": "code",
   "execution_count": null,
   "metadata": {},
   "outputs": [],
   "source": [
    "#watt= amp * volt // key argument \n",
    "solv(watt=None, amp=None,volt=None):\n",
    "    watt=None, return amp*volt\n",
    "    amp=None, return watt/volt\n",
    "    volt=None, return watt/amp\n",
    "\n",
    "***Which parameter do you want to find?***\n",
    "1.find watt \n",
    "2.find amp\n",
    "3.find volt \n",
    "chice: 1\n",
    "    enter amp: \n",
    "    enter volt: \n",
    "    watt=??\n"
   ]
  },
  {
   "cell_type": "code",
   "execution_count": 9,
   "metadata": {},
   "outputs": [
    {
     "name": "stdout",
     "output_type": "stream",
     "text": [
      "hi\n",
      "48\n",
      "45\n",
      "25.0\n",
      "33\n",
      "67.0\n"
     ]
    }
   ],
   "source": [
    "def rectangle(b,h):\n",
    "    return b * h \n",
    "\n",
    "rec = lambda b,h:b*h\n",
    "triangle = lambda b,h:0.5 * b * h \n",
    "\n",
    "def area(func,b,h):\n",
    "    return func(b,h) \n",
    "\n",
    "if __name__==\"__main__\":#double underscore \n",
    "    print(\"hi\")\n",
    "    print(rectangle(6,8))\n",
    "    print(rec(5,9))\n",
    "    print(triangle(5,10))\n",
    "    print(area(rec,11,3))\n",
    "    print(area(triangle,67,2))\n",
    "    "
   ]
  },
  {
   "cell_type": "markdown",
   "metadata": {},
   "source": [
    "def usd_Kh(us):\n",
    "    return us*4000\n",
    "def exchange(func,price)\n",
    "    return func(price)\n",
    "1.usd to riel\n",
    "2. riel to usd \n",
    "3. bath to riel \n",
    "4. rieel to bath \n",
    "5. M. Rangit to riel \n",
    "6. riel to M.rangit\n",
    "print(exchange(usdToRiel,40)"
   ]
  },
  {
   "cell_type": "code",
   "execution_count": 12,
   "metadata": {},
   "outputs": [
    {
     "name": "stdout",
     "output_type": "stream",
     "text": [
      "\n",
      "\n",
      "Recursion Example Results\n",
      "1\n",
      "3\n",
      "6\n",
      "10\n",
      "15\n",
      "21\n"
     ]
    },
    {
     "data": {
      "text/plain": [
       "21"
      ]
     },
     "execution_count": 12,
     "metadata": {},
     "output_type": "execute_result"
    }
   ],
   "source": [
    "#recursive \n",
    "def tri_recursion(k):\n",
    "  if(k > 0):\n",
    "    result = k + tri_recursion(k + 1) #function call its self \n",
    "    tri(k)= k+ tri(k+1)\n",
    "    print(result)\n",
    "def tri_recursion(k):\n",
    "  if(k > 0):\n",
    "    result = -k + tri_recursion(k - 1) #function call its self \n",
    "    print(result)\n",
    "  else:\n",
    "    result = 0 #tri_recursion(0)=0\n",
    "  return result \n",
    "\n",
    "print(\"\\n\\nRecursion Example Results\")\n",
    "tri_recursion(6) # 0,1,2,3,4,5,\n"
   ]
  },
  {
   "cell_type": "markdown",
   "metadata": {},
   "source": [
    "## Numpy "
   ]
  },
  {
   "cell_type": "code",
   "execution_count": 2,
   "metadata": {},
   "outputs": [],
   "source": [
    "import numpy as np"
   ]
  },
  {
   "cell_type": "code",
   "execution_count": 11,
   "metadata": {},
   "outputs": [
    {
     "data": {
      "text/plain": [
       "array([1, 2, 3, 4, 5, 6, 7, 8, 9])"
      ]
     },
     "execution_count": 11,
     "metadata": {},
     "output_type": "execute_result"
    }
   ],
   "source": [
    "a = np.array([1,2,3,4,5,6,7,8,9])\n",
    "a"
   ]
  },
  {
   "cell_type": "code",
   "execution_count": 4,
   "metadata": {},
   "outputs": [
    {
     "data": {
      "text/plain": [
       "array([[1, 2, 3],\n",
       "       [4, 5, 6],\n",
       "       [7, 8, 9]])"
      ]
     },
     "execution_count": 4,
     "metadata": {},
     "output_type": "execute_result"
    }
   ],
   "source": [
    "b=a.reshape((3,3))\n",
    "b"
   ]
  },
  {
   "cell_type": "code",
   "execution_count": 5,
   "metadata": {},
   "outputs": [
    {
     "data": {
      "text/plain": [
       "array([[ 3,  5,  7],\n",
       "       [ 9, 11, 13],\n",
       "       [15, 17, 19]])"
      ]
     },
     "execution_count": 5,
     "metadata": {},
     "output_type": "execute_result"
    }
   ],
   "source": [
    "b*2+1\n"
   ]
  },
  {
   "cell_type": "code",
   "execution_count": 13,
   "metadata": {},
   "outputs": [
    {
     "data": {
      "text/plain": [
       "array([ 0,  1,  2,  3,  4,  5,  6,  7,  8,  9, 10, 11, 12, 13, 14])"
      ]
     },
     "execution_count": 13,
     "metadata": {},
     "output_type": "execute_result"
    }
   ],
   "source": [
    "x=np.arange(15)\n",
    "x"
   ]
  },
  {
   "cell_type": "code",
   "execution_count": 18,
   "metadata": {},
   "outputs": [
    {
     "data": {
      "text/plain": [
       "array([[ 0,  1,  2,  3,  4],\n",
       "       [ 5,  6,  7,  8,  9],\n",
       "       [10, 11, 12, 13, 14]])"
      ]
     },
     "execution_count": 18,
     "metadata": {},
     "output_type": "execute_result"
    }
   ],
   "source": [
    "y=x.reshape((3,5))\n",
    "y"
   ]
  },
  {
   "cell_type": "code",
   "execution_count": 20,
   "metadata": {},
   "outputs": [
    {
     "data": {
      "text/plain": [
       "array([[ 0,  1,  2],\n",
       "       [ 3,  4,  5],\n",
       "       [ 6,  7,  8],\n",
       "       [ 9, 10, 11],\n",
       "       [12, 13, 14]])"
      ]
     },
     "execution_count": 20,
     "metadata": {},
     "output_type": "execute_result"
    }
   ],
   "source": [
    "z=x.reshape((5,3))\n",
    "z"
   ]
  },
  {
   "cell_type": "code",
   "execution_count": 22,
   "metadata": {},
   "outputs": [
    {
     "data": {
      "text/plain": [
       "array([0, 1, 2])"
      ]
     },
     "execution_count": 22,
     "metadata": {},
     "output_type": "execute_result"
    }
   ],
   "source": [
    "t=np.arange(3)\n",
    "t"
   ]
  },
  {
   "cell_type": "code",
   "execution_count": 24,
   "metadata": {},
   "outputs": [
    {
     "data": {
      "text/plain": [
       "dtype('int32')"
      ]
     },
     "execution_count": 24,
     "metadata": {},
     "output_type": "execute_result"
    }
   ],
   "source": [
    "t.dtype"
   ]
  },
  {
   "cell_type": "code",
   "execution_count": 25,
   "metadata": {},
   "outputs": [
    {
     "data": {
      "text/plain": [
       "dtype('int32')"
      ]
     },
     "execution_count": 25,
     "metadata": {},
     "output_type": "execute_result"
    }
   ],
   "source": [
    "d = np.array([1,2,3])\n",
    "d.dtype"
   ]
  },
  {
   "cell_type": "code",
   "execution_count": 26,
   "metadata": {},
   "outputs": [
    {
     "data": {
      "text/plain": [
       "dtype('float64')"
      ]
     },
     "execution_count": 26,
     "metadata": {},
     "output_type": "execute_result"
    }
   ],
   "source": [
    "f = np.array([1,2,3.89])\n",
    "f.dtype"
   ]
  },
  {
   "cell_type": "code",
   "execution_count": 31,
   "metadata": {},
   "outputs": [
    {
     "data": {
      "text/plain": [
       "array([0.        , 0.33333333, 0.66666667, 1.        ])"
      ]
     },
     "execution_count": 31,
     "metadata": {},
     "output_type": "execute_result"
    }
   ],
   "source": [
    "np.linspace(0,1,4)"
   ]
  },
  {
   "cell_type": "code",
   "execution_count": 33,
   "metadata": {},
   "outputs": [
    {
     "data": {
      "text/plain": [
       "array([[0., 0., 0., 0., 0.],\n",
       "       [0., 0., 0., 0., 0.],\n",
       "       [0., 0., 0., 0., 0.]])"
      ]
     },
     "execution_count": 33,
     "metadata": {},
     "output_type": "execute_result"
    }
   ],
   "source": [
    "np.zeros((3,5))"
   ]
  },
  {
   "cell_type": "code",
   "execution_count": 34,
   "metadata": {},
   "outputs": [
    {
     "data": {
      "text/plain": [
       "array([[1., 1., 1., 1., 1.],\n",
       "       [1., 1., 1., 1., 1.],\n",
       "       [1., 1., 1., 1., 1.]])"
      ]
     },
     "execution_count": 34,
     "metadata": {},
     "output_type": "execute_result"
    }
   ],
   "source": [
    "np.ones((3,5))"
   ]
  },
  {
   "cell_type": "code",
   "execution_count": 35,
   "metadata": {},
   "outputs": [
    {
     "data": {
      "text/plain": [
       "array([[1., 0., 0., 0., 0.],\n",
       "       [0., 1., 0., 0., 0.],\n",
       "       [0., 0., 1., 0., 0.],\n",
       "       [0., 0., 0., 1., 0.],\n",
       "       [0., 0., 0., 0., 1.]])"
      ]
     },
     "execution_count": 35,
     "metadata": {},
     "output_type": "execute_result"
    }
   ],
   "source": [
    "np.identity(5)"
   ]
  },
  {
   "cell_type": "code",
   "execution_count": 36,
   "metadata": {},
   "outputs": [
    {
     "data": {
      "text/plain": [
       "array([[1., 0., 0., 0., 0.],\n",
       "       [0., 1., 0., 0., 0.],\n",
       "       [0., 0., 1., 0., 0.],\n",
       "       [0., 0., 0., 1., 0.],\n",
       "       [0., 0., 0., 0., 1.]])"
      ]
     },
     "execution_count": 36,
     "metadata": {},
     "output_type": "execute_result"
    }
   ],
   "source": [
    "np.eye(5)"
   ]
  },
  {
   "cell_type": "code",
   "execution_count": 38,
   "metadata": {},
   "outputs": [
    {
     "data": {
      "text/plain": [
       "array([[ 1,  0,  0,  0,  0],\n",
       "       [ 0,  2,  0,  0,  0],\n",
       "       [ 0,  0,  3,  0,  0],\n",
       "       [ 0,  0,  0, 45,  0],\n",
       "       [ 0,  0,  0,  0,  6]])"
      ]
     },
     "execution_count": 38,
     "metadata": {},
     "output_type": "execute_result"
    }
   ],
   "source": [
    "np.diag([1,2,3,45,6])"
   ]
  },
  {
   "cell_type": "code",
   "execution_count": 39,
   "metadata": {},
   "outputs": [],
   "source": [
    " \n",
    "b = "
   ]
  },
  {
   "cell_type": "code",
   "execution_count": 48,
   "metadata": {},
   "outputs": [
    {
     "data": {
      "text/plain": [
       "42.483899100000144"
      ]
     },
     "execution_count": 48,
     "metadata": {},
     "output_type": "execute_result"
    }
   ],
   "source": [
    "import timeit\n",
    "timeit.timeit(\"import numpy as np; np.identity(5)\",number=10000000)"
   ]
  },
  {
   "cell_type": "code",
   "execution_count": 51,
   "metadata": {},
   "outputs": [
    {
     "data": {
      "text/plain": [
       "0.1413511999999173"
      ]
     },
     "execution_count": 51,
     "metadata": {},
     "output_type": "execute_result"
    }
   ],
   "source": [
    "import timeit\n",
    "timeit.timeit(\"import numpy as np; np.arange(9)\",number=100000)"
   ]
  },
  {
   "cell_type": "code",
   "execution_count": 52,
   "metadata": {},
   "outputs": [
    {
     "data": {
      "text/plain": [
       "array([[ 0,  1,  2,  3,  4],\n",
       "       [ 5,  6,  7,  8,  9],\n",
       "       [10, 11, 12, 13, 14]])"
      ]
     },
     "execution_count": 52,
     "metadata": {},
     "output_type": "execute_result"
    }
   ],
   "source": [
    "test=np.arange(15)\n",
    "x=test.reshape((3,5))\n",
    "x"
   ]
  },
  {
   "cell_type": "code",
   "execution_count": 55,
   "metadata": {},
   "outputs": [
    {
     "data": {
      "text/plain": [
       "array([[2, 3, 4],\n",
       "       [7, 8, 9]])"
      ]
     },
     "execution_count": 55,
     "metadata": {},
     "output_type": "execute_result"
    }
   ],
   "source": [
    "x[0:2,2:5]"
   ]
  },
  {
   "cell_type": "code",
   "execution_count": 56,
   "metadata": {},
   "outputs": [
    {
     "data": {
      "text/plain": [
       "array([[ 0,  3],\n",
       "       [ 5,  8],\n",
       "       [10, 13]])"
      ]
     },
     "execution_count": 56,
     "metadata": {},
     "output_type": "execute_result"
    }
   ],
   "source": [
    "x[:,::3]"
   ]
  },
  {
   "cell_type": "code",
   "execution_count": 64,
   "metadata": {},
   "outputs": [
    {
     "data": {
      "text/plain": [
       "array([[ 0,  2,  4],\n",
       "       [10, 12, 14]])"
      ]
     },
     "execution_count": 64,
     "metadata": {},
     "output_type": "execute_result"
    }
   ],
   "source": [
    "x[::2,::2]"
   ]
  },
  {
   "cell_type": "code",
   "execution_count": 16,
   "metadata": {},
   "outputs": [],
   "source": [
    "import numpy as np"
   ]
  },
  {
   "cell_type": "code",
   "execution_count": 19,
   "metadata": {},
   "outputs": [
    {
     "data": {
      "text/plain": [
       "array([[ 1,  2,  3,  4],\n",
       "       [ 5,  6,  7,  8],\n",
       "       [ 9, 10, 11, 12]])"
      ]
     },
     "execution_count": 19,
     "metadata": {},
     "output_type": "execute_result"
    }
   ],
   "source": [
    "a= np.array([[1,2,3,4], [5,6,7,8], [9,10,11,12]])\n",
    "a"
   ]
  },
  {
   "cell_type": "code",
   "execution_count": 20,
   "metadata": {},
   "outputs": [
    {
     "data": {
      "text/plain": [
       "array([[2, 3]])"
      ]
     },
     "execution_count": 20,
     "metadata": {},
     "output_type": "execute_result"
    }
   ],
   "source": [
    "x=a[:1,1:3]\n",
    "x\n"
   ]
  },
  {
   "cell_type": "code",
   "execution_count": 21,
   "metadata": {},
   "outputs": [
    {
     "data": {
      "text/plain": [
       "array([[2, 3],\n",
       "       [6, 7]])"
      ]
     },
     "execution_count": 21,
     "metadata": {},
     "output_type": "execute_result"
    }
   ],
   "source": [
    "x=a[:2,1:3]\n",
    "x"
   ]
  },
  {
   "cell_type": "code",
   "execution_count": 22,
   "metadata": {},
   "outputs": [
    {
     "data": {
      "text/plain": [
       "array([[2, 3, 4]])"
      ]
     },
     "execution_count": 22,
     "metadata": {},
     "output_type": "execute_result"
    }
   ],
   "source": [
    "x=a[:1,1:4]\n",
    "x"
   ]
  },
  {
   "cell_type": "code",
   "execution_count": 23,
   "metadata": {},
   "outputs": [
    {
     "data": {
      "text/plain": [
       "array([[ 1,  2,  3],\n",
       "       [ 5,  6,  7],\n",
       "       [ 9, 10, 11]])"
      ]
     },
     "execution_count": 23,
     "metadata": {},
     "output_type": "execute_result"
    }
   ],
   "source": [
    "x=a[:3,0:3]\n",
    "x"
   ]
  },
  {
   "cell_type": "code",
   "execution_count": 24,
   "metadata": {},
   "outputs": [
    {
     "name": "stdout",
     "output_type": "stream",
     "text": [
      "11\n"
     ]
    }
   ],
   "source": [
    "print(a[2,2])"
   ]
  },
  {
   "cell_type": "code",
   "execution_count": 25,
   "metadata": {},
   "outputs": [
    {
     "data": {
      "text/plain": [
       "array([[ 1,  2,  3,  4],\n",
       "       [ 5,  6,  7,  8],\n",
       "       [ 9, 10, 11, 12]])"
      ]
     },
     "execution_count": 25,
     "metadata": {},
     "output_type": "execute_result"
    }
   ],
   "source": [
    "a"
   ]
  },
  {
   "cell_type": "code",
   "execution_count": 26,
   "metadata": {},
   "outputs": [
    {
     "data": {
      "text/plain": [
       "array([[ 1,  2,  3,  4],\n",
       "       [ 5, 60,  7,  8],\n",
       "       [ 9, 10, 11, 12]])"
      ]
     },
     "execution_count": 26,
     "metadata": {},
     "output_type": "execute_result"
    }
   ],
   "source": [
    "a[1,1]=60\n",
    "a"
   ]
  },
  {
   "cell_type": "code",
   "execution_count": 27,
   "metadata": {},
   "outputs": [],
   "source": [
    "#BMI = body mass index \n",
    "w1=60\n",
    "w2=70\n",
    "w3=50\n",
    "w4=60\n",
    "w5=90\n",
    "#mean \n",
    "#varian \n",
    "#std=standard deviation "
   ]
  },
  {
   "cell_type": "code",
   "execution_count": 28,
   "metadata": {},
   "outputs": [
    {
     "data": {
      "text/plain": [
       "66.0"
      ]
     },
     "execution_count": 28,
     "metadata": {},
     "output_type": "execute_result"
    }
   ],
   "source": [
    "(w1+w2+w3+w4+w5)/5"
   ]
  },
  {
   "cell_type": "code",
   "execution_count": 29,
   "metadata": {},
   "outputs": [
    {
     "data": {
      "text/plain": [
       "array([60, 70, 50, 60, 90])"
      ]
     },
     "execution_count": 29,
     "metadata": {},
     "output_type": "execute_result"
    }
   ],
   "source": [
    "w=np.array([60,70,50,60,90])\n",
    "w"
   ]
  },
  {
   "cell_type": "code",
   "execution_count": 30,
   "metadata": {},
   "outputs": [
    {
     "data": {
      "text/plain": [
       "66.0"
      ]
     },
     "execution_count": 30,
     "metadata": {},
     "output_type": "execute_result"
    }
   ],
   "source": [
    "(w[0]+w[1]+w[2]+w[3]+w[4])/5"
   ]
  },
  {
   "cell_type": "code",
   "execution_count": 31,
   "metadata": {},
   "outputs": [
    {
     "data": {
      "text/plain": [
       "330"
      ]
     },
     "execution_count": 31,
     "metadata": {},
     "output_type": "execute_result"
    }
   ],
   "source": [
    "np.sum(w)"
   ]
  },
  {
   "cell_type": "code",
   "execution_count": 32,
   "metadata": {},
   "outputs": [
    {
     "data": {
      "text/plain": [
       "66.0"
      ]
     },
     "execution_count": 32,
     "metadata": {},
     "output_type": "execute_result"
    }
   ],
   "source": [
    "np.mean(w)"
   ]
  },
  {
   "cell_type": "code",
   "execution_count": 33,
   "metadata": {},
   "outputs": [
    {
     "data": {
      "text/plain": [
       "13.564659966250536"
      ]
     },
     "execution_count": 33,
     "metadata": {},
     "output_type": "execute_result"
    }
   ],
   "source": [
    "np.std(w)"
   ]
  },
  {
   "cell_type": "code",
   "execution_count": 36,
   "metadata": {},
   "outputs": [
    {
     "data": {
      "text/plain": [
       "array([23.4375    , 25.90945695, 20.81165453, 21.0076678 , 28.40550436])"
      ]
     },
     "execution_count": 36,
     "metadata": {},
     "output_type": "execute_result"
    }
   ],
   "source": [
    "#BMI = w/(h/100) **2\n",
    "w=np.array([60,74,50,60,90])\n",
    "h=np.array([160,169,155,169,178])\n",
    "BMI = w/(h/100) **2\n",
    "BMI"
   ]
  },
  {
   "cell_type": "code",
   "execution_count": 40,
   "metadata": {},
   "outputs": [
    {
     "data": {
      "text/plain": [
       "array([     0,      1,      4,      9,     16,     25,     36,     49,\n",
       "           64,     81,    100,    121,    144,    169,    196,    225,\n",
       "          256,    289,    324,    361,    400,    441,    484,    529,\n",
       "          576,    625,    676,    729,    784,    841,    900,    961,\n",
       "         1024,   1089,   1156,   1225,   1296,   1369,   1444,   1521,\n",
       "         1600,   1681,   1764,   1849,   1936,   2025,   2116,   2209,\n",
       "         2304,   2401,   2500,   2601,   2704,   2809,   2916,   3025,\n",
       "         3136,   3249,   3364,   3481,   3600,   3721,   3844,   3969,\n",
       "         4096,   4225,   4356,   4489,   4624,   4761,   4900,   5041,\n",
       "         5184,   5329,   5476,   5625,   5776,   5929,   6084,   6241,\n",
       "         6400,   6561,   6724,   6889,   7056,   7225,   7396,   7569,\n",
       "         7744,   7921,   8100,   8281,   8464,   8649,   8836,   9025,\n",
       "         9216,   9409,   9604,   9801,  10000,  10201,  10404,  10609,\n",
       "        10816,  11025,  11236,  11449,  11664,  11881,  12100,  12321,\n",
       "        12544,  12769,  12996,  13225,  13456,  13689,  13924,  14161,\n",
       "        14400,  14641,  14884,  15129,  15376,  15625,  15876,  16129,\n",
       "        16384,  16641,  16900,  17161,  17424,  17689,  17956,  18225,\n",
       "        18496,  18769,  19044,  19321,  19600,  19881,  20164,  20449,\n",
       "        20736,  21025,  21316,  21609,  21904,  22201,  22500,  22801,\n",
       "        23104,  23409,  23716,  24025,  24336,  24649,  24964,  25281,\n",
       "        25600,  25921,  26244,  26569,  26896,  27225,  27556,  27889,\n",
       "        28224,  28561,  28900,  29241,  29584,  29929,  30276,  30625,\n",
       "        30976,  31329,  31684,  32041,  32400,  32761,  33124,  33489,\n",
       "        33856,  34225,  34596,  34969,  35344,  35721,  36100,  36481,\n",
       "        36864,  37249,  37636,  38025,  38416,  38809,  39204,  39601,\n",
       "        40000,  40401,  40804,  41209,  41616,  42025,  42436,  42849,\n",
       "        43264,  43681,  44100,  44521,  44944,  45369,  45796,  46225,\n",
       "        46656,  47089,  47524,  47961,  48400,  48841,  49284,  49729,\n",
       "        50176,  50625,  51076,  51529,  51984,  52441,  52900,  53361,\n",
       "        53824,  54289,  54756,  55225,  55696,  56169,  56644,  57121,\n",
       "        57600,  58081,  58564,  59049,  59536,  60025,  60516,  61009,\n",
       "        61504,  62001,  62500,  63001,  63504,  64009,  64516,  65025,\n",
       "        65536,  66049,  66564,  67081,  67600,  68121,  68644,  69169,\n",
       "        69696,  70225,  70756,  71289,  71824,  72361,  72900,  73441,\n",
       "        73984,  74529,  75076,  75625,  76176,  76729,  77284,  77841,\n",
       "        78400,  78961,  79524,  80089,  80656,  81225,  81796,  82369,\n",
       "        82944,  83521,  84100,  84681,  85264,  85849,  86436,  87025,\n",
       "        87616,  88209,  88804,  89401,  90000,  90601,  91204,  91809,\n",
       "        92416,  93025,  93636,  94249,  94864,  95481,  96100,  96721,\n",
       "        97344,  97969,  98596,  99225,  99856, 100489, 101124, 101761,\n",
       "       102400, 103041, 103684, 104329, 104976, 105625, 106276, 106929,\n",
       "       107584, 108241, 108900, 109561, 110224, 110889, 111556, 112225,\n",
       "       112896, 113569, 114244, 114921, 115600, 116281, 116964, 117649,\n",
       "       118336, 119025, 119716, 120409, 121104, 121801, 122500, 123201,\n",
       "       123904, 124609, 125316, 126025, 126736, 127449, 128164, 128881,\n",
       "       129600, 130321, 131044, 131769, 132496, 133225, 133956, 134689,\n",
       "       135424, 136161, 136900, 137641, 138384, 139129, 139876, 140625,\n",
       "       141376, 142129, 142884, 143641, 144400, 145161, 145924, 146689,\n",
       "       147456, 148225, 148996, 149769, 150544, 151321, 152100, 152881,\n",
       "       153664, 154449, 155236, 156025, 156816, 157609, 158404, 159201,\n",
       "       160000, 160801, 161604, 162409, 163216, 164025, 164836, 165649,\n",
       "       166464, 167281, 168100, 168921, 169744, 170569, 171396, 172225,\n",
       "       173056, 173889, 174724, 175561, 176400, 177241, 178084, 178929,\n",
       "       179776, 180625, 181476, 182329, 183184, 184041, 184900, 185761,\n",
       "       186624, 187489, 188356, 189225, 190096, 190969, 191844, 192721,\n",
       "       193600, 194481, 195364, 196249, 197136, 198025, 198916, 199809,\n",
       "       200704, 201601, 202500, 203401, 204304, 205209, 206116, 207025,\n",
       "       207936, 208849, 209764, 210681, 211600, 212521, 213444, 214369,\n",
       "       215296, 216225, 217156, 218089, 219024, 219961, 220900, 221841,\n",
       "       222784, 223729, 224676, 225625, 226576, 227529, 228484, 229441,\n",
       "       230400, 231361, 232324, 233289, 234256, 235225, 236196, 237169,\n",
       "       238144, 239121, 240100, 241081, 242064, 243049, 244036, 245025,\n",
       "       246016, 247009, 248004, 249001, 250000, 251001, 252004, 253009,\n",
       "       254016, 255025, 256036, 257049, 258064, 259081, 260100, 261121,\n",
       "       262144, 263169, 264196, 265225, 266256, 267289, 268324, 269361,\n",
       "       270400, 271441, 272484, 273529, 274576, 275625, 276676, 277729,\n",
       "       278784, 279841, 280900, 281961, 283024, 284089, 285156, 286225,\n",
       "       287296, 288369, 289444, 290521, 291600, 292681, 293764, 294849,\n",
       "       295936, 297025, 298116, 299209, 300304, 301401, 302500, 303601,\n",
       "       304704, 305809, 306916, 308025, 309136, 310249, 311364, 312481,\n",
       "       313600, 314721, 315844, 316969, 318096, 319225, 320356, 321489,\n",
       "       322624, 323761, 324900, 326041, 327184, 328329, 329476, 330625,\n",
       "       331776, 332929, 334084, 335241, 336400, 337561, 338724, 339889,\n",
       "       341056, 342225, 343396, 344569, 345744, 346921, 348100, 349281,\n",
       "       350464, 351649, 352836, 354025, 355216, 356409, 357604, 358801,\n",
       "       360000, 361201, 362404, 363609, 364816, 366025, 367236, 368449,\n",
       "       369664, 370881, 372100, 373321, 374544, 375769, 376996, 378225,\n",
       "       379456, 380689, 381924, 383161, 384400, 385641, 386884, 388129,\n",
       "       389376, 390625, 391876, 393129, 394384, 395641, 396900, 398161,\n",
       "       399424, 400689, 401956, 403225, 404496, 405769, 407044, 408321,\n",
       "       409600, 410881, 412164, 413449, 414736, 416025, 417316, 418609,\n",
       "       419904, 421201, 422500, 423801, 425104, 426409, 427716, 429025,\n",
       "       430336, 431649, 432964, 434281, 435600, 436921, 438244, 439569,\n",
       "       440896, 442225, 443556, 444889, 446224, 447561, 448900, 450241,\n",
       "       451584, 452929, 454276, 455625, 456976, 458329, 459684, 461041,\n",
       "       462400, 463761, 465124, 466489, 467856, 469225, 470596, 471969,\n",
       "       473344, 474721, 476100, 477481, 478864, 480249, 481636, 483025,\n",
       "       484416, 485809, 487204, 488601, 490000, 491401, 492804, 494209,\n",
       "       495616, 497025, 498436, 499849, 501264, 502681, 504100, 505521,\n",
       "       506944, 508369, 509796, 511225, 512656, 514089, 515524, 516961,\n",
       "       518400, 519841, 521284, 522729, 524176, 525625, 527076, 528529,\n",
       "       529984, 531441, 532900, 534361, 535824, 537289, 538756, 540225,\n",
       "       541696, 543169, 544644, 546121, 547600, 549081, 550564, 552049,\n",
       "       553536, 555025, 556516, 558009, 559504, 561001, 562500, 564001,\n",
       "       565504, 567009, 568516, 570025, 571536, 573049, 574564, 576081,\n",
       "       577600, 579121, 580644, 582169, 583696, 585225, 586756, 588289,\n",
       "       589824, 591361, 592900, 594441, 595984, 597529, 599076, 600625,\n",
       "       602176, 603729, 605284, 606841, 608400, 609961, 611524, 613089,\n",
       "       614656, 616225, 617796, 619369, 620944, 622521, 624100, 625681,\n",
       "       627264, 628849, 630436, 632025, 633616, 635209, 636804, 638401,\n",
       "       640000, 641601, 643204, 644809, 646416, 648025, 649636, 651249,\n",
       "       652864, 654481, 656100, 657721, 659344, 660969, 662596, 664225,\n",
       "       665856, 667489, 669124, 670761, 672400, 674041, 675684, 677329,\n",
       "       678976, 680625, 682276, 683929, 685584, 687241, 688900, 690561,\n",
       "       692224, 693889, 695556, 697225, 698896, 700569, 702244, 703921,\n",
       "       705600, 707281, 708964, 710649, 712336, 714025, 715716, 717409,\n",
       "       719104, 720801, 722500, 724201, 725904, 727609, 729316, 731025,\n",
       "       732736, 734449, 736164, 737881, 739600, 741321, 743044, 744769,\n",
       "       746496, 748225, 749956, 751689, 753424, 755161, 756900, 758641,\n",
       "       760384, 762129, 763876, 765625, 767376, 769129, 770884, 772641,\n",
       "       774400, 776161, 777924, 779689, 781456, 783225, 784996, 786769,\n",
       "       788544, 790321, 792100, 793881, 795664, 797449, 799236, 801025,\n",
       "       802816, 804609, 806404, 808201, 810000, 811801, 813604, 815409,\n",
       "       817216, 819025, 820836, 822649, 824464, 826281, 828100, 829921,\n",
       "       831744, 833569, 835396, 837225, 839056, 840889, 842724, 844561,\n",
       "       846400, 848241, 850084, 851929, 853776, 855625, 857476, 859329,\n",
       "       861184, 863041, 864900, 866761, 868624, 870489, 872356, 874225,\n",
       "       876096, 877969, 879844, 881721, 883600, 885481, 887364, 889249,\n",
       "       891136, 893025, 894916, 896809, 898704, 900601, 902500, 904401,\n",
       "       906304, 908209, 910116, 912025, 913936, 915849, 917764, 919681,\n",
       "       921600, 923521, 925444, 927369, 929296, 931225, 933156, 935089,\n",
       "       937024, 938961, 940900, 942841, 944784, 946729, 948676, 950625,\n",
       "       952576, 954529, 956484, 958441, 960400, 962361, 964324, 966289,\n",
       "       968256, 970225, 972196, 974169, 976144, 978121, 980100, 982081,\n",
       "       984064, 986049, 988036, 990025, 992016, 994009, 996004, 998001],\n",
       "      dtype=int32)"
      ]
     },
     "execution_count": 40,
     "metadata": {},
     "output_type": "execute_result"
    }
   ],
   "source": [
    "#SPEED \n",
    "n=1000\n",
    "np.arange(n)**2"
   ]
  },
  {
   "cell_type": "code",
   "execution_count": 41,
   "metadata": {},
   "outputs": [
    {
     "data": {
      "text/plain": [
       "[0,\n",
       " 1,\n",
       " 4,\n",
       " 9,\n",
       " 16,\n",
       " 25,\n",
       " 36,\n",
       " 49,\n",
       " 64,\n",
       " 81,\n",
       " 100,\n",
       " 121,\n",
       " 144,\n",
       " 169,\n",
       " 196,\n",
       " 225,\n",
       " 256,\n",
       " 289,\n",
       " 324,\n",
       " 361,\n",
       " 400,\n",
       " 441,\n",
       " 484,\n",
       " 529,\n",
       " 576,\n",
       " 625,\n",
       " 676,\n",
       " 729,\n",
       " 784,\n",
       " 841,\n",
       " 900,\n",
       " 961,\n",
       " 1024,\n",
       " 1089,\n",
       " 1156,\n",
       " 1225,\n",
       " 1296,\n",
       " 1369,\n",
       " 1444,\n",
       " 1521,\n",
       " 1600,\n",
       " 1681,\n",
       " 1764,\n",
       " 1849,\n",
       " 1936,\n",
       " 2025,\n",
       " 2116,\n",
       " 2209,\n",
       " 2304,\n",
       " 2401,\n",
       " 2500,\n",
       " 2601,\n",
       " 2704,\n",
       " 2809,\n",
       " 2916,\n",
       " 3025,\n",
       " 3136,\n",
       " 3249,\n",
       " 3364,\n",
       " 3481,\n",
       " 3600,\n",
       " 3721,\n",
       " 3844,\n",
       " 3969,\n",
       " 4096,\n",
       " 4225,\n",
       " 4356,\n",
       " 4489,\n",
       " 4624,\n",
       " 4761,\n",
       " 4900,\n",
       " 5041,\n",
       " 5184,\n",
       " 5329,\n",
       " 5476,\n",
       " 5625,\n",
       " 5776,\n",
       " 5929,\n",
       " 6084,\n",
       " 6241,\n",
       " 6400,\n",
       " 6561,\n",
       " 6724,\n",
       " 6889,\n",
       " 7056,\n",
       " 7225,\n",
       " 7396,\n",
       " 7569,\n",
       " 7744,\n",
       " 7921,\n",
       " 8100,\n",
       " 8281,\n",
       " 8464,\n",
       " 8649,\n",
       " 8836,\n",
       " 9025,\n",
       " 9216,\n",
       " 9409,\n",
       " 9604,\n",
       " 9801,\n",
       " 10000,\n",
       " 10201,\n",
       " 10404,\n",
       " 10609,\n",
       " 10816,\n",
       " 11025,\n",
       " 11236,\n",
       " 11449,\n",
       " 11664,\n",
       " 11881,\n",
       " 12100,\n",
       " 12321,\n",
       " 12544,\n",
       " 12769,\n",
       " 12996,\n",
       " 13225,\n",
       " 13456,\n",
       " 13689,\n",
       " 13924,\n",
       " 14161,\n",
       " 14400,\n",
       " 14641,\n",
       " 14884,\n",
       " 15129,\n",
       " 15376,\n",
       " 15625,\n",
       " 15876,\n",
       " 16129,\n",
       " 16384,\n",
       " 16641,\n",
       " 16900,\n",
       " 17161,\n",
       " 17424,\n",
       " 17689,\n",
       " 17956,\n",
       " 18225,\n",
       " 18496,\n",
       " 18769,\n",
       " 19044,\n",
       " 19321,\n",
       " 19600,\n",
       " 19881,\n",
       " 20164,\n",
       " 20449,\n",
       " 20736,\n",
       " 21025,\n",
       " 21316,\n",
       " 21609,\n",
       " 21904,\n",
       " 22201,\n",
       " 22500,\n",
       " 22801,\n",
       " 23104,\n",
       " 23409,\n",
       " 23716,\n",
       " 24025,\n",
       " 24336,\n",
       " 24649,\n",
       " 24964,\n",
       " 25281,\n",
       " 25600,\n",
       " 25921,\n",
       " 26244,\n",
       " 26569,\n",
       " 26896,\n",
       " 27225,\n",
       " 27556,\n",
       " 27889,\n",
       " 28224,\n",
       " 28561,\n",
       " 28900,\n",
       " 29241,\n",
       " 29584,\n",
       " 29929,\n",
       " 30276,\n",
       " 30625,\n",
       " 30976,\n",
       " 31329,\n",
       " 31684,\n",
       " 32041,\n",
       " 32400,\n",
       " 32761,\n",
       " 33124,\n",
       " 33489,\n",
       " 33856,\n",
       " 34225,\n",
       " 34596,\n",
       " 34969,\n",
       " 35344,\n",
       " 35721,\n",
       " 36100,\n",
       " 36481,\n",
       " 36864,\n",
       " 37249,\n",
       " 37636,\n",
       " 38025,\n",
       " 38416,\n",
       " 38809,\n",
       " 39204,\n",
       " 39601,\n",
       " 40000,\n",
       " 40401,\n",
       " 40804,\n",
       " 41209,\n",
       " 41616,\n",
       " 42025,\n",
       " 42436,\n",
       " 42849,\n",
       " 43264,\n",
       " 43681,\n",
       " 44100,\n",
       " 44521,\n",
       " 44944,\n",
       " 45369,\n",
       " 45796,\n",
       " 46225,\n",
       " 46656,\n",
       " 47089,\n",
       " 47524,\n",
       " 47961,\n",
       " 48400,\n",
       " 48841,\n",
       " 49284,\n",
       " 49729,\n",
       " 50176,\n",
       " 50625,\n",
       " 51076,\n",
       " 51529,\n",
       " 51984,\n",
       " 52441,\n",
       " 52900,\n",
       " 53361,\n",
       " 53824,\n",
       " 54289,\n",
       " 54756,\n",
       " 55225,\n",
       " 55696,\n",
       " 56169,\n",
       " 56644,\n",
       " 57121,\n",
       " 57600,\n",
       " 58081,\n",
       " 58564,\n",
       " 59049,\n",
       " 59536,\n",
       " 60025,\n",
       " 60516,\n",
       " 61009,\n",
       " 61504,\n",
       " 62001,\n",
       " 62500,\n",
       " 63001,\n",
       " 63504,\n",
       " 64009,\n",
       " 64516,\n",
       " 65025,\n",
       " 65536,\n",
       " 66049,\n",
       " 66564,\n",
       " 67081,\n",
       " 67600,\n",
       " 68121,\n",
       " 68644,\n",
       " 69169,\n",
       " 69696,\n",
       " 70225,\n",
       " 70756,\n",
       " 71289,\n",
       " 71824,\n",
       " 72361,\n",
       " 72900,\n",
       " 73441,\n",
       " 73984,\n",
       " 74529,\n",
       " 75076,\n",
       " 75625,\n",
       " 76176,\n",
       " 76729,\n",
       " 77284,\n",
       " 77841,\n",
       " 78400,\n",
       " 78961,\n",
       " 79524,\n",
       " 80089,\n",
       " 80656,\n",
       " 81225,\n",
       " 81796,\n",
       " 82369,\n",
       " 82944,\n",
       " 83521,\n",
       " 84100,\n",
       " 84681,\n",
       " 85264,\n",
       " 85849,\n",
       " 86436,\n",
       " 87025,\n",
       " 87616,\n",
       " 88209,\n",
       " 88804,\n",
       " 89401,\n",
       " 90000,\n",
       " 90601,\n",
       " 91204,\n",
       " 91809,\n",
       " 92416,\n",
       " 93025,\n",
       " 93636,\n",
       " 94249,\n",
       " 94864,\n",
       " 95481,\n",
       " 96100,\n",
       " 96721,\n",
       " 97344,\n",
       " 97969,\n",
       " 98596,\n",
       " 99225,\n",
       " 99856,\n",
       " 100489,\n",
       " 101124,\n",
       " 101761,\n",
       " 102400,\n",
       " 103041,\n",
       " 103684,\n",
       " 104329,\n",
       " 104976,\n",
       " 105625,\n",
       " 106276,\n",
       " 106929,\n",
       " 107584,\n",
       " 108241,\n",
       " 108900,\n",
       " 109561,\n",
       " 110224,\n",
       " 110889,\n",
       " 111556,\n",
       " 112225,\n",
       " 112896,\n",
       " 113569,\n",
       " 114244,\n",
       " 114921,\n",
       " 115600,\n",
       " 116281,\n",
       " 116964,\n",
       " 117649,\n",
       " 118336,\n",
       " 119025,\n",
       " 119716,\n",
       " 120409,\n",
       " 121104,\n",
       " 121801,\n",
       " 122500,\n",
       " 123201,\n",
       " 123904,\n",
       " 124609,\n",
       " 125316,\n",
       " 126025,\n",
       " 126736,\n",
       " 127449,\n",
       " 128164,\n",
       " 128881,\n",
       " 129600,\n",
       " 130321,\n",
       " 131044,\n",
       " 131769,\n",
       " 132496,\n",
       " 133225,\n",
       " 133956,\n",
       " 134689,\n",
       " 135424,\n",
       " 136161,\n",
       " 136900,\n",
       " 137641,\n",
       " 138384,\n",
       " 139129,\n",
       " 139876,\n",
       " 140625,\n",
       " 141376,\n",
       " 142129,\n",
       " 142884,\n",
       " 143641,\n",
       " 144400,\n",
       " 145161,\n",
       " 145924,\n",
       " 146689,\n",
       " 147456,\n",
       " 148225,\n",
       " 148996,\n",
       " 149769,\n",
       " 150544,\n",
       " 151321,\n",
       " 152100,\n",
       " 152881,\n",
       " 153664,\n",
       " 154449,\n",
       " 155236,\n",
       " 156025,\n",
       " 156816,\n",
       " 157609,\n",
       " 158404,\n",
       " 159201,\n",
       " 160000,\n",
       " 160801,\n",
       " 161604,\n",
       " 162409,\n",
       " 163216,\n",
       " 164025,\n",
       " 164836,\n",
       " 165649,\n",
       " 166464,\n",
       " 167281,\n",
       " 168100,\n",
       " 168921,\n",
       " 169744,\n",
       " 170569,\n",
       " 171396,\n",
       " 172225,\n",
       " 173056,\n",
       " 173889,\n",
       " 174724,\n",
       " 175561,\n",
       " 176400,\n",
       " 177241,\n",
       " 178084,\n",
       " 178929,\n",
       " 179776,\n",
       " 180625,\n",
       " 181476,\n",
       " 182329,\n",
       " 183184,\n",
       " 184041,\n",
       " 184900,\n",
       " 185761,\n",
       " 186624,\n",
       " 187489,\n",
       " 188356,\n",
       " 189225,\n",
       " 190096,\n",
       " 190969,\n",
       " 191844,\n",
       " 192721,\n",
       " 193600,\n",
       " 194481,\n",
       " 195364,\n",
       " 196249,\n",
       " 197136,\n",
       " 198025,\n",
       " 198916,\n",
       " 199809,\n",
       " 200704,\n",
       " 201601,\n",
       " 202500,\n",
       " 203401,\n",
       " 204304,\n",
       " 205209,\n",
       " 206116,\n",
       " 207025,\n",
       " 207936,\n",
       " 208849,\n",
       " 209764,\n",
       " 210681,\n",
       " 211600,\n",
       " 212521,\n",
       " 213444,\n",
       " 214369,\n",
       " 215296,\n",
       " 216225,\n",
       " 217156,\n",
       " 218089,\n",
       " 219024,\n",
       " 219961,\n",
       " 220900,\n",
       " 221841,\n",
       " 222784,\n",
       " 223729,\n",
       " 224676,\n",
       " 225625,\n",
       " 226576,\n",
       " 227529,\n",
       " 228484,\n",
       " 229441,\n",
       " 230400,\n",
       " 231361,\n",
       " 232324,\n",
       " 233289,\n",
       " 234256,\n",
       " 235225,\n",
       " 236196,\n",
       " 237169,\n",
       " 238144,\n",
       " 239121,\n",
       " 240100,\n",
       " 241081,\n",
       " 242064,\n",
       " 243049,\n",
       " 244036,\n",
       " 245025,\n",
       " 246016,\n",
       " 247009,\n",
       " 248004,\n",
       " 249001,\n",
       " 250000,\n",
       " 251001,\n",
       " 252004,\n",
       " 253009,\n",
       " 254016,\n",
       " 255025,\n",
       " 256036,\n",
       " 257049,\n",
       " 258064,\n",
       " 259081,\n",
       " 260100,\n",
       " 261121,\n",
       " 262144,\n",
       " 263169,\n",
       " 264196,\n",
       " 265225,\n",
       " 266256,\n",
       " 267289,\n",
       " 268324,\n",
       " 269361,\n",
       " 270400,\n",
       " 271441,\n",
       " 272484,\n",
       " 273529,\n",
       " 274576,\n",
       " 275625,\n",
       " 276676,\n",
       " 277729,\n",
       " 278784,\n",
       " 279841,\n",
       " 280900,\n",
       " 281961,\n",
       " 283024,\n",
       " 284089,\n",
       " 285156,\n",
       " 286225,\n",
       " 287296,\n",
       " 288369,\n",
       " 289444,\n",
       " 290521,\n",
       " 291600,\n",
       " 292681,\n",
       " 293764,\n",
       " 294849,\n",
       " 295936,\n",
       " 297025,\n",
       " 298116,\n",
       " 299209,\n",
       " 300304,\n",
       " 301401,\n",
       " 302500,\n",
       " 303601,\n",
       " 304704,\n",
       " 305809,\n",
       " 306916,\n",
       " 308025,\n",
       " 309136,\n",
       " 310249,\n",
       " 311364,\n",
       " 312481,\n",
       " 313600,\n",
       " 314721,\n",
       " 315844,\n",
       " 316969,\n",
       " 318096,\n",
       " 319225,\n",
       " 320356,\n",
       " 321489,\n",
       " 322624,\n",
       " 323761,\n",
       " 324900,\n",
       " 326041,\n",
       " 327184,\n",
       " 328329,\n",
       " 329476,\n",
       " 330625,\n",
       " 331776,\n",
       " 332929,\n",
       " 334084,\n",
       " 335241,\n",
       " 336400,\n",
       " 337561,\n",
       " 338724,\n",
       " 339889,\n",
       " 341056,\n",
       " 342225,\n",
       " 343396,\n",
       " 344569,\n",
       " 345744,\n",
       " 346921,\n",
       " 348100,\n",
       " 349281,\n",
       " 350464,\n",
       " 351649,\n",
       " 352836,\n",
       " 354025,\n",
       " 355216,\n",
       " 356409,\n",
       " 357604,\n",
       " 358801,\n",
       " 360000,\n",
       " 361201,\n",
       " 362404,\n",
       " 363609,\n",
       " 364816,\n",
       " 366025,\n",
       " 367236,\n",
       " 368449,\n",
       " 369664,\n",
       " 370881,\n",
       " 372100,\n",
       " 373321,\n",
       " 374544,\n",
       " 375769,\n",
       " 376996,\n",
       " 378225,\n",
       " 379456,\n",
       " 380689,\n",
       " 381924,\n",
       " 383161,\n",
       " 384400,\n",
       " 385641,\n",
       " 386884,\n",
       " 388129,\n",
       " 389376,\n",
       " 390625,\n",
       " 391876,\n",
       " 393129,\n",
       " 394384,\n",
       " 395641,\n",
       " 396900,\n",
       " 398161,\n",
       " 399424,\n",
       " 400689,\n",
       " 401956,\n",
       " 403225,\n",
       " 404496,\n",
       " 405769,\n",
       " 407044,\n",
       " 408321,\n",
       " 409600,\n",
       " 410881,\n",
       " 412164,\n",
       " 413449,\n",
       " 414736,\n",
       " 416025,\n",
       " 417316,\n",
       " 418609,\n",
       " 419904,\n",
       " 421201,\n",
       " 422500,\n",
       " 423801,\n",
       " 425104,\n",
       " 426409,\n",
       " 427716,\n",
       " 429025,\n",
       " 430336,\n",
       " 431649,\n",
       " 432964,\n",
       " 434281,\n",
       " 435600,\n",
       " 436921,\n",
       " 438244,\n",
       " 439569,\n",
       " 440896,\n",
       " 442225,\n",
       " 443556,\n",
       " 444889,\n",
       " 446224,\n",
       " 447561,\n",
       " 448900,\n",
       " 450241,\n",
       " 451584,\n",
       " 452929,\n",
       " 454276,\n",
       " 455625,\n",
       " 456976,\n",
       " 458329,\n",
       " 459684,\n",
       " 461041,\n",
       " 462400,\n",
       " 463761,\n",
       " 465124,\n",
       " 466489,\n",
       " 467856,\n",
       " 469225,\n",
       " 470596,\n",
       " 471969,\n",
       " 473344,\n",
       " 474721,\n",
       " 476100,\n",
       " 477481,\n",
       " 478864,\n",
       " 480249,\n",
       " 481636,\n",
       " 483025,\n",
       " 484416,\n",
       " 485809,\n",
       " 487204,\n",
       " 488601,\n",
       " 490000,\n",
       " 491401,\n",
       " 492804,\n",
       " 494209,\n",
       " 495616,\n",
       " 497025,\n",
       " 498436,\n",
       " 499849,\n",
       " 501264,\n",
       " 502681,\n",
       " 504100,\n",
       " 505521,\n",
       " 506944,\n",
       " 508369,\n",
       " 509796,\n",
       " 511225,\n",
       " 512656,\n",
       " 514089,\n",
       " 515524,\n",
       " 516961,\n",
       " 518400,\n",
       " 519841,\n",
       " 521284,\n",
       " 522729,\n",
       " 524176,\n",
       " 525625,\n",
       " 527076,\n",
       " 528529,\n",
       " 529984,\n",
       " 531441,\n",
       " 532900,\n",
       " 534361,\n",
       " 535824,\n",
       " 537289,\n",
       " 538756,\n",
       " 540225,\n",
       " 541696,\n",
       " 543169,\n",
       " 544644,\n",
       " 546121,\n",
       " 547600,\n",
       " 549081,\n",
       " 550564,\n",
       " 552049,\n",
       " 553536,\n",
       " 555025,\n",
       " 556516,\n",
       " 558009,\n",
       " 559504,\n",
       " 561001,\n",
       " 562500,\n",
       " 564001,\n",
       " 565504,\n",
       " 567009,\n",
       " 568516,\n",
       " 570025,\n",
       " 571536,\n",
       " 573049,\n",
       " 574564,\n",
       " 576081,\n",
       " 577600,\n",
       " 579121,\n",
       " 580644,\n",
       " 582169,\n",
       " 583696,\n",
       " 585225,\n",
       " 586756,\n",
       " 588289,\n",
       " 589824,\n",
       " 591361,\n",
       " 592900,\n",
       " 594441,\n",
       " 595984,\n",
       " 597529,\n",
       " 599076,\n",
       " 600625,\n",
       " 602176,\n",
       " 603729,\n",
       " 605284,\n",
       " 606841,\n",
       " 608400,\n",
       " 609961,\n",
       " 611524,\n",
       " 613089,\n",
       " 614656,\n",
       " 616225,\n",
       " 617796,\n",
       " 619369,\n",
       " 620944,\n",
       " 622521,\n",
       " 624100,\n",
       " 625681,\n",
       " 627264,\n",
       " 628849,\n",
       " 630436,\n",
       " 632025,\n",
       " 633616,\n",
       " 635209,\n",
       " 636804,\n",
       " 638401,\n",
       " 640000,\n",
       " 641601,\n",
       " 643204,\n",
       " 644809,\n",
       " 646416,\n",
       " 648025,\n",
       " 649636,\n",
       " 651249,\n",
       " 652864,\n",
       " 654481,\n",
       " 656100,\n",
       " 657721,\n",
       " 659344,\n",
       " 660969,\n",
       " 662596,\n",
       " 664225,\n",
       " 665856,\n",
       " 667489,\n",
       " 669124,\n",
       " 670761,\n",
       " 672400,\n",
       " 674041,\n",
       " 675684,\n",
       " 677329,\n",
       " 678976,\n",
       " 680625,\n",
       " 682276,\n",
       " 683929,\n",
       " 685584,\n",
       " 687241,\n",
       " 688900,\n",
       " 690561,\n",
       " 692224,\n",
       " 693889,\n",
       " 695556,\n",
       " 697225,\n",
       " 698896,\n",
       " 700569,\n",
       " 702244,\n",
       " 703921,\n",
       " 705600,\n",
       " 707281,\n",
       " 708964,\n",
       " 710649,\n",
       " 712336,\n",
       " 714025,\n",
       " 715716,\n",
       " 717409,\n",
       " 719104,\n",
       " 720801,\n",
       " 722500,\n",
       " 724201,\n",
       " 725904,\n",
       " 727609,\n",
       " 729316,\n",
       " 731025,\n",
       " 732736,\n",
       " 734449,\n",
       " 736164,\n",
       " 737881,\n",
       " 739600,\n",
       " 741321,\n",
       " 743044,\n",
       " 744769,\n",
       " 746496,\n",
       " 748225,\n",
       " 749956,\n",
       " 751689,\n",
       " 753424,\n",
       " 755161,\n",
       " 756900,\n",
       " 758641,\n",
       " 760384,\n",
       " 762129,\n",
       " 763876,\n",
       " 765625,\n",
       " 767376,\n",
       " 769129,\n",
       " 770884,\n",
       " 772641,\n",
       " 774400,\n",
       " 776161,\n",
       " 777924,\n",
       " 779689,\n",
       " 781456,\n",
       " 783225,\n",
       " 784996,\n",
       " 786769,\n",
       " 788544,\n",
       " 790321,\n",
       " 792100,\n",
       " 793881,\n",
       " 795664,\n",
       " 797449,\n",
       " 799236,\n",
       " 801025,\n",
       " 802816,\n",
       " 804609,\n",
       " 806404,\n",
       " 808201,\n",
       " 810000,\n",
       " 811801,\n",
       " 813604,\n",
       " 815409,\n",
       " 817216,\n",
       " 819025,\n",
       " 820836,\n",
       " 822649,\n",
       " 824464,\n",
       " 826281,\n",
       " 828100,\n",
       " 829921,\n",
       " 831744,\n",
       " 833569,\n",
       " 835396,\n",
       " 837225,\n",
       " 839056,\n",
       " 840889,\n",
       " 842724,\n",
       " 844561,\n",
       " 846400,\n",
       " 848241,\n",
       " 850084,\n",
       " 851929,\n",
       " 853776,\n",
       " 855625,\n",
       " 857476,\n",
       " 859329,\n",
       " 861184,\n",
       " 863041,\n",
       " 864900,\n",
       " 866761,\n",
       " 868624,\n",
       " 870489,\n",
       " 872356,\n",
       " 874225,\n",
       " 876096,\n",
       " 877969,\n",
       " 879844,\n",
       " 881721,\n",
       " 883600,\n",
       " 885481,\n",
       " 887364,\n",
       " 889249,\n",
       " 891136,\n",
       " 893025,\n",
       " 894916,\n",
       " 896809,\n",
       " 898704,\n",
       " 900601,\n",
       " 902500,\n",
       " 904401,\n",
       " 906304,\n",
       " 908209,\n",
       " 910116,\n",
       " 912025,\n",
       " 913936,\n",
       " 915849,\n",
       " 917764,\n",
       " 919681,\n",
       " 921600,\n",
       " 923521,\n",
       " 925444,\n",
       " 927369,\n",
       " 929296,\n",
       " 931225,\n",
       " 933156,\n",
       " 935089,\n",
       " 937024,\n",
       " 938961,\n",
       " 940900,\n",
       " 942841,\n",
       " 944784,\n",
       " 946729,\n",
       " 948676,\n",
       " 950625,\n",
       " 952576,\n",
       " 954529,\n",
       " 956484,\n",
       " 958441,\n",
       " 960400,\n",
       " 962361,\n",
       " 964324,\n",
       " 966289,\n",
       " 968256,\n",
       " 970225,\n",
       " 972196,\n",
       " 974169,\n",
       " 976144,\n",
       " 978121,\n",
       " 980100,\n",
       " 982081,\n",
       " 984064,\n",
       " 986049,\n",
       " 988036,\n",
       " 990025,\n",
       " 992016,\n",
       " 994009,\n",
       " 996004,\n",
       " 998001]"
      ]
     },
     "execution_count": 41,
     "metadata": {},
     "output_type": "execute_result"
    }
   ],
   "source": [
    "[v**2 for v in range(n)]"
   ]
  },
  {
   "cell_type": "code",
   "execution_count": 46,
   "metadata": {},
   "outputs": [
    {
     "name": "stdout",
     "output_type": "stream",
     "text": [
      "263 µs ± 22.6 µs per loop (mean ± std. dev. of 7 runs, 1000 loops each)\n"
     ]
    }
   ],
   "source": [
    "%timeit -n1000 np.arange(100000)**2"
   ]
  },
  {
   "cell_type": "code",
   "execution_count": 48,
   "metadata": {},
   "outputs": [
    {
     "name": "stdout",
     "output_type": "stream",
     "text": [
      "395 µs ± 40.2 µs per loop (mean ± std. dev. of 7 runs, 1000 loops each)\n"
     ]
    }
   ],
   "source": [
    "%timeit -n1000 [v**2 for v in range(1000)]"
   ]
  },
  {
   "cell_type": "code",
   "execution_count": 49,
   "metadata": {},
   "outputs": [],
   "source": [
    "#list function map(), zip(),filter()\n",
    "#numpy \n",
    "import matplotlib as plt"
   ]
  },
  {
   "cell_type": "markdown",
   "metadata": {},
   "source": [
    "### zip()"
   ]
  },
  {
   "cell_type": "code",
   "execution_count": 1,
   "metadata": {},
   "outputs": [
    {
     "data": {
      "text/plain": [
       "array([23.4375    , 25.90945695, 20.81165453, 21.0076678 , 28.40550436])"
      ]
     },
     "execution_count": 1,
     "metadata": {},
     "output_type": "execute_result"
    }
   ],
   "source": [
    "#BMI = w/(h/100) **2\n",
    "import numpy as np\n",
    "w=np.array([60,74,50,60,90])\n",
    "h=np.array([160,169,155,169,178])\n",
    "BMI = w/(h/100) **2\n",
    "BMI"
   ]
  },
  {
   "cell_type": "code",
   "execution_count": 11,
   "metadata": {},
   "outputs": [
    {
     "name": "stdout",
     "output_type": "stream",
     "text": [
      "[23.437499999999996, 25.909456951787405, 20.811654526534856, 21.007667798746546, 28.40550435551067]\n"
     ]
    }
   ],
   "source": [
    "#list \n",
    "def test1():\n",
    "    w  = [60,74,50,60,90]\n",
    "    h = [160,169,155,169,178]\n",
    "    bmi=[]\n",
    "    for i in range(len(w)):\n",
    "        bmi.append(w[i]/(h[i]/100)**2)\n",
    "    return bmi\n",
    "\n",
    "\n",
    "print(test1())\n",
    "    "
   ]
  },
  {
   "cell_type": "code",
   "execution_count": 17,
   "metadata": {},
   "outputs": [
    {
     "name": "stdout",
     "output_type": "stream",
     "text": [
      "[23.44 25.91 20.81 21.01 28.41]\n"
     ]
    }
   ],
   "source": [
    "#zip()\n",
    "def test2(): \n",
    "    weight  = [60,74,50,60,90]\n",
    "    height = [160,169,155,169,178]\n",
    "    bmi=[]\n",
    "    for w, h in zip(weight, height):\n",
    "        bmi.append(w/(h/100)**2)\n",
    "    return bmi\n",
    "\n",
    "floats_array = np.array(test2())\n",
    "np.set_printoptions(precision=2)\n",
    "\n",
    "print(floats_array)\n",
    "    "
   ]
  },
  {
   "cell_type": "code",
   "execution_count": 20,
   "metadata": {},
   "outputs": [
    {
     "name": "stdout",
     "output_type": "stream",
     "text": [
      "[23.437499999999996, 25.909456951787405, 20.811654526534856, 21.007667798746546, 28.40550435551067]\n"
     ]
    }
   ],
   "source": [
    "#list comprehesion with zip()\n",
    "def test3():\n",
    "    weight  = [60,74,50,60,90]\n",
    "    height = [160,169,155,169,178]\n",
    "    bmi=[]\n",
    "    return [w/(h/100)**2 for w, h in zip(weight, height)]\n",
    "\n",
    "print(test3())"
   ]
  },
  {
   "cell_type": "code",
   "execution_count": 22,
   "metadata": {},
   "outputs": [
    {
     "name": "stdout",
     "output_type": "stream",
     "text": [
      "[{'lay': 23.437499999999996}, {'ly': 25.909456951787405}, {'rit': 20.811654526534856}, {'dy': 21.007667798746546}, {'da': 28.40550435551067}]\n"
     ]
    }
   ],
   "source": [
    "def test4():\n",
    "    weight  = [60,74,50,60,90]\n",
    "    height = [160,169,155,169,178]\n",
    "    name =[\"lay\",\"ly\",\"rit\",\"dy\",\"da\"]\n",
    "    bmi=[]\n",
    "    return [{n:w/(h/100)**2} for w, h, n in zip(weight, height, name)]\n",
    "    \n",
    "print(test4())"
   ]
  },
  {
   "cell_type": "code",
   "execution_count": 24,
   "metadata": {},
   "outputs": [
    {
     "name": "stdout",
     "output_type": "stream",
     "text": [
      "[{'lay': 23.437499999999996}, {'rit': 20.811654526534856}, {'da': 28.40550435551067}]\n"
     ]
    }
   ],
   "source": [
    "def test5():\n",
    "    weight  = [60,74,50,60,90]\n",
    "    height = [160,169,155,169,178]\n",
    "    name =[\"lay\",\"ly\",\"rit\",\"dy\",\"da\"]\n",
    "    gender= [\"M\",\"F\",\"M\",\"F\",\"M\"]\n",
    "    bmi=[]\n",
    "    return [{n:w/(h/100)**2} for w, h, n, g in zip(weight, height, name,gender) if g==\"M\"]\n",
    "\n",
    "print(test5())"
   ]
  },
  {
   "cell_type": "markdown",
   "metadata": {},
   "source": [
    "### map() function "
   ]
  },
  {
   "cell_type": "code",
   "execution_count": 27,
   "metadata": {},
   "outputs": [
    {
     "name": "stdout",
     "output_type": "stream",
     "text": [
      "['Jasmine', 'Lutus', 'Lily', 'Orchid', 'Rose']\n",
      "['Jasmine', 'Lutus', 'Lily', 'Orchid', 'Rose']\n"
     ]
    }
   ],
   "source": [
    "def mtest():\n",
    "    flower = ['jasmine','lutus','lily','orchid','rose']\n",
    "    flower1= list(map(str.capitalize,flower))\n",
    "    flower2=[f.capitalize() for f in flower]\n",
    "    print(flower1)\n",
    "    print(flower2)\n",
    "\n",
    "mtest()"
   ]
  },
  {
   "cell_type": "code",
   "execution_count": 29,
   "metadata": {},
   "outputs": [
    {
     "name": "stdout",
     "output_type": "stream",
     "text": [
      "[120000, 188000, 104000, 40000, 160000]\n",
      "[120000, 188000, 104000, 40000, 160000]\n"
     ]
    }
   ],
   "source": [
    "#currency_exchange\n",
    "def usd_2_reil(usd):\n",
    "    return usd*4000\n",
    "\n",
    "def mtest1():\n",
    "    price_usd=[30,47,26,10,40]\n",
    "    price_riel=[u*4000 for u in price_usd]\n",
    "    price_riel1=list(map(usd_2_reil,price_usd)) #map()\n",
    "    #lamda \n",
    "    print(price_riel)\n",
    "    print(price_riel1)\n",
    "    \n",
    "mtest1()"
   ]
  },
  {
   "cell_type": "code",
   "execution_count": 10,
   "metadata": {},
   "outputs": [
    {
     "name": "stdout",
     "output_type": "stream",
     "text": [
      "Hexta-Ah-meter : 3-4-90\n",
      "['3', '4', '90']\n",
      "3\n",
      "34090\n"
     ]
    }
   ],
   "source": [
    "#1 hexta=10000 m^2 \n",
    "#1 Ah= 1000 m^2\n",
    "def area():\n",
    "    s=input(\"Hexta-Ah-meter : \").split('-')\n",
    "    print(s)\n",
    "    hexta,ah,meter=list(map(int,s))\n",
    "    \n",
    "    total=hexta*10000 + ah*1000 + meter\n",
    "    print(total)\n",
    "    \n",
    "area()"
   ]
  },
  {
   "cell_type": "code",
   "execution_count": 12,
   "metadata": {},
   "outputs": [
    {
     "name": "stdout",
     "output_type": "stream",
     "text": [
      "Hexta-Ah-meter : 4-5-30\n"
     ]
    },
    {
     "data": {
      "text/plain": [
       "45030"
      ]
     },
     "execution_count": 12,
     "metadata": {},
     "output_type": "execute_result"
    }
   ],
   "source": [
    "def area_1():\n",
    "    hexta,ah,meter=list(map(int,input(\"Hexta-Ah-meter : \").split('-')))\n",
    "    return hexta*10000 + ah*1000 + meter\n",
    "area_1()"
   ]
  },
  {
   "cell_type": "markdown",
   "metadata": {},
   "source": [
    "### filter "
   ]
  },
  {
   "cell_type": "code",
   "execution_count": 15,
   "metadata": {},
   "outputs": [
    {
     "name": "stdout",
     "output_type": "stream",
     "text": [
      "<class 'filter'>\n",
      "<filter object at 0x0000017FE8B21430>\n",
      "[10, 30, 60, 8, 20]\n"
     ]
    }
   ],
   "source": [
    "def test():\n",
    "    age=[10,30,60,8,20,45,55]\n",
    "    age_e=filter(lambda i:i %2==0, age)\n",
    "    print(type(age_e))\n",
    "    print(age_e)\n",
    "    print(list(age_e))\n",
    "    \n",
    "test()"
   ]
  },
  {
   "cell_type": "code",
   "execution_count": 16,
   "metadata": {},
   "outputs": [
    {
     "name": "stdout",
     "output_type": "stream",
     "text": [
      "[45, 55]\n"
     ]
    }
   ],
   "source": [
    "def test1():\n",
    "    age=[10,30,60,8,20,45,55]\n",
    "    v1=lambda i:i %2==0\n",
    "    v2=lambda i:i %2!=0\n",
    "    f1=filter(v2,age)\n",
    "    print(list(f1))\n",
    "    \n",
    "test1()"
   ]
  },
  {
   "cell_type": "code",
   "execution_count": 7,
   "metadata": {},
   "outputs": [
    {
     "name": "stdout",
     "output_type": "stream",
     "text": [
      "['Malaysia', 'Indonesia']\n"
     ]
    }
   ],
   "source": [
    "def test3():\n",
    "    country=['Cambodia','Lao','Malaysia','Indonesia','Singapore','Brunei','Qata']\n",
    "    c1=filter(lambda t:'s' in t,country)\n",
    "    print(list(c1))\n",
    "    \n",
    "test3()"
   ]
  },
  {
   "cell_type": "code",
   "execution_count": 29,
   "metadata": {},
   "outputs": [
    {
     "name": "stdout",
     "output_type": "stream",
     "text": [
      "[['Cambodia', 40], ['Lao', 35], ['Thailand', 40]]\n",
      "[['Lao', 35], ['Qata', 65]]\n",
      "[['Lao', 35], ['Qata', 65]]\n",
      "['Cambodia', 'Malaysia', 'Indonesia', 'Singapore', 'Brunei', 'Thailand']\n"
     ]
    }
   ],
   "source": [
    "def test4():\n",
    "    country=[['Cambodia', 40],['Lao',35],['Malaysia',55],['Indonesia',50],['Singapore',70],['Brunei',60],['Qata',65],['Thailand',40]]\n",
    "    c1=filter(lambda t:t[1]<50 ,country)\n",
    "    print(list(c1))\n",
    "    c2=filter(lambda t:len(t[0])<5,country)\n",
    "    print(list(c2))\n",
    "    l=[t for t in country  if(len(t[0])<5)]\n",
    "    print(l)\n",
    "    l1=[t[0] for t in country  if(len(t[0])>5)]\n",
    "    print(l1)\n",
    "\n",
    "test4()"
   ]
  },
  {
   "cell_type": "code",
   "execution_count": 2,
   "metadata": {},
   "outputs": [
    {
     "name": "stdout",
     "output_type": "stream",
     "text": [
      "numpy version = 1.18.5\n"
     ]
    },
    {
     "data": {
      "text/plain": [
       "array([6, 7, 9, 7, 2])"
      ]
     },
     "execution_count": 2,
     "metadata": {},
     "output_type": "execute_result"
    }
   ],
   "source": [
    "import numpy as np\n",
    "print(f'numpy version = {np.__version__}')\n",
    "np.random.seed(9)\n",
    "x=np.random.randint(1, 11, 5)\n",
    "x"
   ]
  },
  {
   "cell_type": "markdown",
   "metadata": {},
   "source": [
    "### ndarray vs list\n"
   ]
  },
  {
   "cell_type": "code",
   "execution_count": 3,
   "metadata": {},
   "outputs": [
    {
     "name": "stdout",
     "output_type": "stream",
     "text": [
      "NumPy version = 1.18.5\n"
     ]
    }
   ],
   "source": [
    "import numpy as np\n",
    "print(f'NumPy version = {np.__version__}')"
   ]
  },
  {
   "cell_type": "code",
   "execution_count": 4,
   "metadata": {},
   "outputs": [
    {
     "data": {
      "text/plain": [
       "array([ 45,  67,  89, 120])"
      ]
     },
     "execution_count": 4,
     "metadata": {},
     "output_type": "execute_result"
    }
   ],
   "source": [
    "b=np.array([45,67,89,120])\n",
    "b"
   ]
  },
  {
   "cell_type": "code",
   "execution_count": 5,
   "metadata": {},
   "outputs": [],
   "source": [
    "x=[34,67,80,92]"
   ]
  },
  {
   "cell_type": "code",
   "execution_count": 6,
   "metadata": {},
   "outputs": [
    {
     "data": {
      "text/plain": [
       "array([34, 67, 80, 92])"
      ]
     },
     "execution_count": 6,
     "metadata": {},
     "output_type": "execute_result"
    }
   ],
   "source": [
    "y=np.array(x)\n",
    "y"
   ]
  },
  {
   "cell_type": "code",
   "execution_count": 7,
   "metadata": {},
   "outputs": [
    {
     "data": {
      "text/plain": [
       "['Cambodia', 60, 181035, 45.89]"
      ]
     },
     "execution_count": 7,
     "metadata": {},
     "output_type": "execute_result"
    }
   ],
   "source": [
    "t=[\"Cambodia\",60,181035, 45.89]\n",
    "t"
   ]
  },
  {
   "cell_type": "code",
   "execution_count": 9,
   "metadata": {},
   "outputs": [
    {
     "data": {
      "text/plain": [
       "array(['45', '67.9', 'f'], dtype='<U32')"
      ]
     },
     "execution_count": 9,
     "metadata": {},
     "output_type": "execute_result"
    }
   ],
   "source": [
    "u=np.array([45,67.9,'f'])\n",
    "u"
   ]
  },
  {
   "cell_type": "code",
   "execution_count": 12,
   "metadata": {},
   "outputs": [
    {
     "data": {
      "text/plain": [
       "array([[ 34.,  67.,  89., 123.],\n",
       "       [ 34.,  67.,  89., 345.]])"
      ]
     },
     "execution_count": 12,
     "metadata": {},
     "output_type": "execute_result"
    }
   ],
   "source": [
    "c=np.array([[34,67,89,123], [34,67,89,345]], dtype='float')\n",
    "c"
   ]
  },
  {
   "cell_type": "code",
   "execution_count": 13,
   "metadata": {},
   "outputs": [
    {
     "data": {
      "text/plain": [
       "(2, 4)"
      ]
     },
     "execution_count": 13,
     "metadata": {},
     "output_type": "execute_result"
    }
   ],
   "source": [
    "c.shape"
   ]
  },
  {
   "cell_type": "code",
   "execution_count": 14,
   "metadata": {},
   "outputs": [
    {
     "data": {
      "text/plain": [
       "2"
      ]
     },
     "execution_count": 14,
     "metadata": {},
     "output_type": "execute_result"
    }
   ],
   "source": [
    "c.ndim"
   ]
  },
  {
   "cell_type": "code",
   "execution_count": 16,
   "metadata": {},
   "outputs": [
    {
     "data": {
      "text/plain": [
       "array([[0., 0., 0., 0.],\n",
       "       [0., 0., 0., 0.]])"
      ]
     },
     "execution_count": 16,
     "metadata": {},
     "output_type": "execute_result"
    }
   ],
   "source": [
    "c*0"
   ]
  },
  {
   "cell_type": "code",
   "execution_count": 17,
   "metadata": {},
   "outputs": [
    {
     "data": {
      "text/plain": [
       "array([ 1,  2,  3,  4,  5,  6,  7,  8,  9, 10, 11, 12, 13, 14, 15, 16, 17,\n",
       "       18, 19, 20, 21, 22, 23, 24, 25, 26, 27, 28, 29, 30, 31])"
      ]
     },
     "execution_count": 17,
     "metadata": {},
     "output_type": "execute_result"
    }
   ],
   "source": [
    "k=np.arange(1,32)\n",
    "k"
   ]
  },
  {
   "cell_type": "code",
   "execution_count": 18,
   "metadata": {},
   "outputs": [
    {
     "data": {
      "text/plain": [
       "array([ 1,  3,  5,  7,  9, 11, 13, 15, 17, 19, 21, 23, 25, 27, 29, 31])"
      ]
     },
     "execution_count": 18,
     "metadata": {},
     "output_type": "execute_result"
    }
   ],
   "source": [
    "k=np.arange(1,32,2)\n",
    "k"
   ]
  },
  {
   "cell_type": "code",
   "execution_count": 19,
   "metadata": {},
   "outputs": [
    {
     "data": {
      "text/plain": [
       "array([ 1.  ,  8.25, 15.5 , 22.75, 30.  ])"
      ]
     },
     "execution_count": 19,
     "metadata": {},
     "output_type": "execute_result"
    }
   ],
   "source": [
    "l=np.linspace(1,30,5)\n",
    "l"
   ]
  },
  {
   "cell_type": "code",
   "execution_count": 23,
   "metadata": {},
   "outputs": [
    {
     "data": {
      "text/plain": [
       "array([ 32. ,  33.8,  35.6,  37.4,  39.2,  41. ,  42.8,  44.6,  46.4,\n",
       "        48.2,  50. ,  51.8,  53.6,  55.4,  57.2,  59. ,  60.8,  62.6,\n",
       "        64.4,  66.2,  68. ,  69.8,  71.6,  73.4,  75.2,  77. ,  78.8,\n",
       "        80.6,  82.4,  84.2,  86. ,  87.8,  89.6,  91.4,  93.2,  95. ,\n",
       "        96.8,  98.6, 100.4, 102.2, 104. , 105.8, 107.6, 109.4, 111.2,\n",
       "       113. , 114.8, 116.6, 118.4, 120.2, 122. , 123.8, 125.6, 127.4,\n",
       "       129.2, 131. , 132.8, 134.6, 136.4, 138.2, 140. , 141.8, 143.6,\n",
       "       145.4, 147.2, 149. , 150.8, 152.6, 154.4, 156.2, 158. , 159.8,\n",
       "       161.6, 163.4, 165.2, 167. , 168.8, 170.6, 172.4, 174.2, 176. ,\n",
       "       177.8, 179.6, 181.4, 183.2, 185. , 186.8, 188.6, 190.4, 192.2,\n",
       "       194. , 195.8, 197.6, 199.4, 201.2, 203. , 204.8, 206.6, 208.4,\n",
       "       210.2, 212. ])"
      ]
     },
     "execution_count": 23,
     "metadata": {},
     "output_type": "execute_result"
    }
   ],
   "source": [
    "cel=np.arange(101)\n",
    "far= (cel * 9/5) + 32\n",
    "far"
   ]
  },
  {
   "cell_type": "code",
   "execution_count": 25,
   "metadata": {},
   "outputs": [
    {
     "data": {
      "text/plain": [
       "[32.0,\n",
       " 33.8,\n",
       " 35.6,\n",
       " 37.4,\n",
       " 39.2,\n",
       " 41.0,\n",
       " 42.8,\n",
       " 44.6,\n",
       " 46.4,\n",
       " 48.2,\n",
       " 50.0,\n",
       " 51.8,\n",
       " 53.6,\n",
       " 55.4,\n",
       " 57.2,\n",
       " 59.0,\n",
       " 60.8,\n",
       " 62.6,\n",
       " 64.4,\n",
       " 66.2,\n",
       " 68.0,\n",
       " 69.8,\n",
       " 71.6,\n",
       " 73.4,\n",
       " 75.2,\n",
       " 77.0,\n",
       " 78.8,\n",
       " 80.6,\n",
       " 82.4,\n",
       " 84.2,\n",
       " 86.0,\n",
       " 87.8,\n",
       " 89.6,\n",
       " 91.4,\n",
       " 93.2,\n",
       " 95.0,\n",
       " 96.8,\n",
       " 98.6,\n",
       " 100.4,\n",
       " 102.2,\n",
       " 104.0,\n",
       " 105.8,\n",
       " 107.6,\n",
       " 109.4,\n",
       " 111.2,\n",
       " 113.0,\n",
       " 114.8,\n",
       " 116.6,\n",
       " 118.4,\n",
       " 120.2,\n",
       " 122.0,\n",
       " 123.8,\n",
       " 125.6,\n",
       " 127.4,\n",
       " 129.2,\n",
       " 131.0,\n",
       " 132.8,\n",
       " 134.6,\n",
       " 136.4,\n",
       " 138.2,\n",
       " 140.0,\n",
       " 141.8,\n",
       " 143.6,\n",
       " 145.4,\n",
       " 147.2,\n",
       " 149.0,\n",
       " 150.8,\n",
       " 152.6,\n",
       " 154.4,\n",
       " 156.2,\n",
       " 158.0,\n",
       " 159.8,\n",
       " 161.6,\n",
       " 163.4,\n",
       " 165.2,\n",
       " 167.0,\n",
       " 168.8,\n",
       " 170.6,\n",
       " 172.4,\n",
       " 174.2,\n",
       " 176.0,\n",
       " 177.8,\n",
       " 179.6,\n",
       " 181.4,\n",
       " 183.2,\n",
       " 185.0,\n",
       " 186.8,\n",
       " 188.6,\n",
       " 190.4,\n",
       " 192.2,\n",
       " 194.0,\n",
       " 195.8,\n",
       " 197.6,\n",
       " 199.4,\n",
       " 201.2,\n",
       " 203.0,\n",
       " 204.8,\n",
       " 206.6,\n",
       " 208.4,\n",
       " 210.2,\n",
       " 212.0]"
      ]
     },
     "execution_count": 25,
     "metadata": {},
     "output_type": "execute_result"
    }
   ],
   "source": [
    "g=[c *9/5 +32 for c in range(101)]\n",
    "g"
   ]
  },
  {
   "cell_type": "code",
   "execution_count": 26,
   "metadata": {},
   "outputs": [
    {
     "name": "stdout",
     "output_type": "stream",
     "text": [
      "11.5 µs ± 2.05 µs per loop (mean ± std. dev. of 7 runs, 1000 loops each)\n"
     ]
    }
   ],
   "source": [
    "%timeit -n1000 np.arange(101)*9/5 +32"
   ]
  },
  {
   "cell_type": "code",
   "execution_count": 27,
   "metadata": {},
   "outputs": [
    {
     "name": "stdout",
     "output_type": "stream",
     "text": [
      "33.4 µs ± 4.47 µs per loop (mean ± std. dev. of 7 runs, 1000 loops each)\n"
     ]
    }
   ],
   "source": [
    "%timeit -n1000 [c *9/5+32 for c in range(101)]"
   ]
  },
  {
   "cell_type": "code",
   "execution_count": 28,
   "metadata": {},
   "outputs": [],
   "source": [
    "km=[23.5,56,78,29.7]"
   ]
  },
  {
   "cell_type": "code",
   "execution_count": 29,
   "metadata": {},
   "outputs": [
    {
     "data": {
      "text/plain": [
       "[23500.0, 56000, 78000, 29700.0]"
      ]
     },
     "execution_count": 29,
     "metadata": {},
     "output_type": "execute_result"
    }
   ],
   "source": [
    "#loop\n",
    "m=[]\n",
    "for k in km: \n",
    "    m.append(k*1000)\n",
    "m"
   ]
  },
  {
   "cell_type": "code",
   "execution_count": 31,
   "metadata": {},
   "outputs": [
    {
     "data": {
      "text/plain": [
       "[23500.0, 56000, 78000, 29700.0]"
      ]
     },
     "execution_count": 31,
     "metadata": {},
     "output_type": "execute_result"
    }
   ],
   "source": [
    "# list comprehension \n",
    "m1=[k *1000 for k in km]\n",
    "m1"
   ]
  },
  {
   "cell_type": "code",
   "execution_count": 32,
   "metadata": {},
   "outputs": [
    {
     "data": {
      "text/plain": [
       "[23500.0, 56000, 78000, 29700.0]"
      ]
     },
     "execution_count": 32,
     "metadata": {},
     "output_type": "execute_result"
    }
   ],
   "source": [
    "#map() lambda\n",
    "m2=list(map(lambda k:k*1000,km))\n",
    "m2"
   ]
  },
  {
   "cell_type": "code",
   "execution_count": 33,
   "metadata": {},
   "outputs": [
    {
     "data": {
      "text/plain": [
       "array([23500., 56000., 78000., 29700.])"
      ]
     },
     "execution_count": 33,
     "metadata": {},
     "output_type": "execute_result"
    }
   ],
   "source": [
    "#ndarray\n",
    "m3=np.array(km)*1000\n",
    "m3"
   ]
  },
  {
   "cell_type": "code",
   "execution_count": 35,
   "metadata": {},
   "outputs": [
    {
     "data": {
      "text/plain": [
       "array([   36,   156,   309,   516,  3684, 18732, 43932])"
      ]
     },
     "execution_count": 35,
     "metadata": {},
     "output_type": "execute_result"
    }
   ],
   "source": [
    "#matplotlib vs seaborn \n",
    "x=np.array([2,6,9,12,34,78,120])\n",
    "# y =ax^2+bx+c \n",
    "a,b,c =(3,6,12)\n",
    "y=a*x**2 +b*x + c\n",
    "y"
   ]
  },
  {
   "cell_type": "code",
   "execution_count": 36,
   "metadata": {},
   "outputs": [],
   "source": [
    "import matplotlib.pyplot as plt \n",
    "%matplotlib inline \n"
   ]
  },
  {
   "cell_type": "code",
   "execution_count": 37,
   "metadata": {},
   "outputs": [
    {
     "data": {
      "text/plain": [
       "[<matplotlib.lines.Line2D at 0x19014e5d3a0>]"
      ]
     },
     "execution_count": 37,
     "metadata": {},
     "output_type": "execute_result"
    },
    {
     "data": {
      "image/png": "[encoded data removed]",
      "text/plain": [
       "<Figure size 432x288 with 1 Axes>"
      ]
     },
     "metadata": {
      "needs_background": "light"
     },
     "output_type": "display_data"
    }
   ],
   "source": [
    "plt.plot(y)"
   ]
  },
  {
   "cell_type": "markdown",
   "metadata": {},
   "source": [
    "### basic calculation of ndarray"
   ]
  },
  {
   "cell_type": "code",
   "execution_count": 45,
   "metadata": {},
   "outputs": [
    {
     "data": {
      "text/plain": [
       "array([ 34,  67,  89, 120,  10])"
      ]
     },
     "execution_count": 45,
     "metadata": {},
     "output_type": "execute_result"
    }
   ],
   "source": [
    "w=np.array([34,67,89,120,10])\n",
    "w"
   ]
  },
  {
   "cell_type": "code",
   "execution_count": 39,
   "metadata": {},
   "outputs": [
    {
     "data": {
      "text/plain": [
       "array([ 340,  670,  890, 1200])"
      ]
     },
     "execution_count": 39,
     "metadata": {},
     "output_type": "execute_result"
    }
   ],
   "source": [
    "w*10"
   ]
  },
  {
   "cell_type": "code",
   "execution_count": 40,
   "metadata": {},
   "outputs": [
    {
     "data": {
      "text/plain": [
       "array([ 37,  70,  92, 123])"
      ]
     },
     "execution_count": 40,
     "metadata": {},
     "output_type": "execute_result"
    }
   ],
   "source": [
    "w+3"
   ]
  },
  {
   "cell_type": "code",
   "execution_count": 41,
   "metadata": {},
   "outputs": [
    {
     "data": {
      "text/plain": [
       "array([ 1156,  4489,  7921, 14400], dtype=int32)"
      ]
     },
     "execution_count": 41,
     "metadata": {},
     "output_type": "execute_result"
    }
   ],
   "source": [
    "w**2"
   ]
  },
  {
   "cell_type": "code",
   "execution_count": 42,
   "metadata": {},
   "outputs": [
    {
     "data": {
      "text/plain": [
       "array([ 69, 135, 179, 241])"
      ]
     },
     "execution_count": 42,
     "metadata": {},
     "output_type": "execute_result"
    }
   ],
   "source": [
    "2*w+1"
   ]
  },
  {
   "cell_type": "code",
   "execution_count": 46,
   "metadata": {},
   "outputs": [
    {
     "data": {
      "text/plain": [
       "[<matplotlib.lines.Line2D at 0x19015245b50>]"
      ]
     },
     "execution_count": 46,
     "metadata": {},
     "output_type": "execute_result"
    },
    {
     "data": {
      "image/png": "[encoded data removed]",
      "text/plain": [
       "<Figure size 432x288 with 1 Axes>"
      ]
     },
     "metadata": {
      "needs_background": "light"
     },
     "output_type": "display_data"
    }
   ],
   "source": [
    "plt.plot(w)"
   ]
  },
  {
   "cell_type": "code",
   "execution_count": 47,
   "metadata": {},
   "outputs": [
    {
     "data": {
      "text/plain": [
       "[<matplotlib.lines.Line2D at 0x190152a9400>]"
      ]
     },
     "execution_count": 47,
     "metadata": {},
     "output_type": "execute_result"
    },
    {
     "data": {
      "image/png": "[encoded data removed]",
      "text/plain": [
       "<Figure size 432x288 with 1 Axes>"
      ]
     },
     "metadata": {
      "needs_background": "light"
     },
     "output_type": "display_data"
    }
   ],
   "source": [
    "plt.plot(2*w+2)"
   ]
  },
  {
   "cell_type": "markdown",
   "metadata": {},
   "source": [
    "### 2 dimension array "
   ]
  },
  {
   "cell_type": "code",
   "execution_count": 53,
   "metadata": {},
   "outputs": [],
   "source": [
    "z=np.array([[5,7,2],[3,9,6]])\n"
   ]
  },
  {
   "cell_type": "code",
   "execution_count": null,
   "metadata": {},
   "outputs": [],
   "source": [
    "z*5"
   ]
  },
  {
   "cell_type": "code",
   "execution_count": null,
   "metadata": {},
   "outputs": [],
   "source": [
    "z**3"
   ]
  },
  {
   "cell_type": "code",
   "execution_count": null,
   "metadata": {},
   "outputs": [],
   "source": [
    "5*z-2"
   ]
  },
  {
   "cell_type": "code",
   "execution_count": null,
   "metadata": {},
   "outputs": [],
   "source": [
    "q=np.array([[1,3,2],[4,5,6]])"
   ]
  },
  {
   "cell_type": "code",
   "execution_count": null,
   "metadata": {},
   "outputs": [],
   "source": [
    "z+q"
   ]
  },
  {
   "cell_type": "code",
   "execution_count": null,
   "metadata": {},
   "outputs": [],
   "source": [
    "z-q"
   ]
  },
  {
   "cell_type": "code",
   "execution_count": null,
   "metadata": {},
   "outputs": [],
   "source": [
    "z/q\n",
    "z//q\n",
    "z%q"
   ]
  },
  {
   "cell_type": "code",
   "execution_count": null,
   "metadata": {},
   "outputs": [],
   "source": [
    "np.sqrt(z)"
   ]
  }
 ],
 "metadata": {
  "kernelspec": {
   "display_name": "Python 3 (ipykernel)",
   "language": "python",
   "name": "python3"
  },
  "language_info": {
   "codemirror_mode": {
    "name": "ipython",
    "version": 3
   },
   "file_extension": ".py",
   "mimetype": "text/x-python",
   "name": "python",
   "nbconvert_exporter": "python",
   "pygments_lexer": "ipython3",
   "version": "3.11.5"
  }
 },
 "nbformat": 4,
 "nbformat_minor": 4
}
