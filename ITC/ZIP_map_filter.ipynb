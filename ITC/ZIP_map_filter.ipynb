{
 "cells": [
  {
   "cell_type": "markdown",
   "metadata": {},
   "source": [
    "## ZIP"
   ]
  },
  {
   "cell_type": "code",
   "execution_count": 1,
   "metadata": {},
   "outputs": [
    {
     "name": "stdout",
     "output_type": "stream",
     "text": [
      "[{'Leo': 24.221453287197235}, {'Ben': 19.591836734693878}, {'Peter': 18.517804097064154}]\n"
     ]
    }
   ],
   "source": [
    "def demo1():\n",
    "    weight = [70, 60, 48]\n",
    "    height = [170, 175, 161]\n",
    "    bmi = []\n",
    "    for i in range(len(weight)):\n",
    "        bmi.append(weight[i] / (height[i] / 100) ** 2)\n",
    "    return bmi\n",
    "\n",
    "\n",
    "def demo2():\n",
    "    weight = [70, 60, 48]\n",
    "    height = [170, 175, 161]\n",
    "    bmi = []\n",
    "    for w, h in zip(weight, height):\n",
    "        # print(w, h)\n",
    "        bmi.append(w / (h / 100) ** 2)\n",
    "    return bmi\n",
    "\n",
    "\n",
    "def demo3():\n",
    "    weight = [70, 60, 48]\n",
    "    height = [170, 175, 161]\n",
    "    return [w / (h / 100) ** 2 for w, h in zip(weight, height)]\n",
    "\n",
    "\n",
    "def demo4():\n",
    "    weight = [70, 60, 48]\n",
    "    height = [170, 175, 161]\n",
    "    name = [\"Leo\", \"Ben\", \"Peter\"]\n",
    "    return [{n: w / (h / 100) ** 2} for w, h, n in zip(weight, height, name)]\n",
    "\n",
    "\n",
    "def demo5():\n",
    "    weight = [70, 60, 48]\n",
    "    height = [170, 175, 161]\n",
    "    name = [\"Leo\", \"Jane\", \"Peter\"]\n",
    "    gender = [\"M\", \"F\", \"M\"]\n",
    "    return [{n: w / (h / 100) ** 2} for w, h, n, g in zip(weight, height, name, gender) if\n",
    "            g == \"M\"]\n",
    "print(demo4())"
   ]
  },
  {
   "cell_type": "markdown",
   "metadata": {},
   "source": [
    "## MAP"
   ]
  },
  {
   "cell_type": "code",
   "execution_count": 3,
   "metadata": {},
   "outputs": [
    {
     "name": "stdout",
     "output_type": "stream",
     "text": [
      "['Lily', 'Carnation', 'Jasmine', 'Rose', 'Tulip']\n",
      "['Lily', 'Carnation', 'Jasmine', 'Rose', 'Tulip']\n",
      "[330, 990, 2310, 3300]\n",
      "[330, 990, 2310, 3300]\n",
      "[330, 990, 2310, 3300]\n"
     ]
    }
   ],
   "source": [
    "def demo1():\n",
    "    flowers = ['lily', 'carnation', 'jasmine', 'rose', 'tulip']\n",
    "    flowers2 = list(map(str.capitalize, flowers))\n",
    "    flowers3 = [f.capitalize() for f in flowers]\n",
    "    print(flowers2)\n",
    "    print(flowers3)\n",
    "\n",
    "\n",
    "def thb2usd(thb):\n",
    "    return thb * 33\n",
    "\n",
    "\n",
    "def demo2():\n",
    "    price_usd = [10, 30, 70, 100]\n",
    "    price_thb = [n * 33 for n in price_usd]\n",
    "    price_thb2 = list(map(lambda n: n * 33, price_usd))\n",
    "    price_thb3 = list(map(thb2usd, price_usd))\n",
    "    print(price_thb)\n",
    "    print(price_thb2)\n",
    "    print(price_thb3)\n",
    "\n",
    "\n",
    "def area():\n",
    "    # 2-3-70\n",
    "    s = input(\"rai-ngan-sqwah: \").split('-')\n",
    "    print(s)\n",
    "    # lst_n = list(map(int, s))\n",
    "    # print(lst_n)\n",
    "    rai, ngan, sqwah = list(map(int, s))\n",
    "    print(rai, ngan, sqwah)\n",
    "    total_sqwah = rai * 400 + ngan * 100 + sqwah\n",
    "    print(total_sqwah)\n",
    "\n",
    "\n",
    "def area2():\n",
    "    rai, ngan, sqwah = list(map(int, input(\"rai-ngan-sqwah: \").split('-')))\n",
    "    return rai * 400 + ngan * 100 + sqwah\n",
    "\n",
    "\n",
    "if __name__ == '__main__':\n",
    "    demo1()\n",
    "    demo2()\n",
    "\n",
    "https://www.youtube.com/watch?v=pgQqvRcKf24"
   ]
  },
  {
   "cell_type": "markdown",
   "metadata": {},
   "source": [
    "#### filter"
   ]
  },
  {
   "cell_type": "code",
   "execution_count": 4,
   "metadata": {},
   "outputs": [
    {
     "name": "stdout",
     "output_type": "stream",
     "text": [
      "[['lily', 40], ['sakura', 30], ['carnation', 25]]\n",
      "[['sakura', 30], ['carnation', 25], ['jasmine', 20]]\n",
      "[['sakura', 30], ['carnation', 25], ['jasmine', 20]]\n",
      "['sakura', 'carnation', 'jasmine']\n"
     ]
    }
   ],
   "source": [
    "def demo1():\n",
    "    numbers=[10, 15, 7, 8, 2, 9, 4]\n",
    "    r1=filter(lambda v: v % 2 == 0, numbers)\n",
    "    print(type(r1))\n",
    "    print(r1)\n",
    "    print(list(r1))\n",
    "\n",
    "def demo2():\n",
    "    numbers=[10, 15, 7, 8, 2, 9, 4]\n",
    "    func=lambda v: v % 2 == 0\n",
    "    func2=lambda v: v % 2 == 1\n",
    "    r1=filter(func2, numbers)\n",
    "    print(type(r1))\n",
    "    print(r1)\n",
    "    print(list(r1))\n",
    "\n",
    "def demo3():\n",
    "    flowers=['lily', 'rose', 'sakura', 'carnation', 'jasmine']\n",
    "    r1=filter(lambda v: 's' in v, flowers)\n",
    "    print(list(r1))\n",
    "\n",
    "def demo4():\n",
    "    flowers=[['lily', 40], ['rose', 15], ['sakura', 30], ['carnation', 25], ['jasmine', 20]]\n",
    "    r1=filter(lambda v: v[1] > 20, flowers)\n",
    "    print(list(r1))\n",
    "    r2=filter(lambda v: len(v[0]) > 4, flowers)\n",
    "    print(list(r2))\n",
    "    l=[v for v in flowers if (len(v[0]) > 4)]\n",
    "    print(l)\n",
    "    l2=[v[0] for v in flowers if (len(v[0]) > 4)]\n",
    "    print(l2)\n",
    "\n",
    "if __name__ == \"__main__\":\n",
    "    # demo1()\n",
    "    # demo2()\n",
    "    # demo3()\n",
    "    demo4()\n",
    "    \n",
    "https://www.youtube.com/watch?v=KtvYqmQNRfs"
   ]
  },
  {
   "cell_type": "markdown",
   "metadata": {},
   "source": [
    "### list vs numpy"
   ]
  },
  {
   "cell_type": "code",
   "execution_count": null,
   "metadata": {},
   "outputs": [],
   "source": []
  }
 ],
 "metadata": {
  "kernelspec": {
   "display_name": "Python 3",
   "language": "python",
   "name": "python3"
  },
  "language_info": {
   "codemirror_mode": {
    "name": "ipython",
    "version": 3
   },
   "file_extension": ".py",
   "mimetype": "text/x-python",
   "name": "python",
   "nbconvert_exporter": "python",
   "pygments_lexer": "ipython3",
   "version": "3.8.5"
  }
 },
 "nbformat": 4,
 "nbformat_minor": 4
}
