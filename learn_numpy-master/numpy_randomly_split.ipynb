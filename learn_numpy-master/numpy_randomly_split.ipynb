{
 "cells": [
  {
   "cell_type": "markdown",
   "metadata": {},
   "source": [
    "## randomly split rows into training and test data set"
   ]
  },
  {
   "cell_type": "code",
   "execution_count": 1,
   "metadata": {},
   "outputs": [],
   "source": [
    "import numpy as np"
   ]
  },
  {
   "cell_type": "code",
   "execution_count": 2,
   "metadata": {},
   "outputs": [
    {
     "data": {
      "text/plain": [
       "array([ 1,  2,  3,  4,  5,  6,  7,  8,  9, 10])"
      ]
     },
     "execution_count": 2,
     "metadata": {},
     "output_type": "execute_result"
    }
   ],
   "source": [
    "team=np.arange(1, 11)\n",
    "team"
   ]
  },
  {
   "cell_type": "code",
   "execution_count": 3,
   "metadata": {},
   "outputs": [
    {
     "data": {
      "text/plain": [
       "array([ 5,  2,  9,  6,  4,  1,  7, 10,  8,  3])"
      ]
     },
     "execution_count": 3,
     "metadata": {},
     "output_type": "execute_result"
    }
   ],
   "source": [
    "np.random.shuffle(team)\n",
    "team"
   ]
  },
  {
   "cell_type": "code",
   "execution_count": 4,
   "metadata": {},
   "outputs": [
    {
     "name": "stdout",
     "output_type": "stream",
     "text": [
      "[5 2 9 6 4 1 7]\n",
      "[10  8  3]\n"
     ]
    }
   ],
   "source": [
    "training, test=team[:7], team[7:]\n",
    "print(training)\n",
    "print(test)"
   ]
  },
  {
   "cell_type": "markdown",
   "metadata": {},
   "source": [
    "### method 1: shuffle rows -> slice"
   ]
  },
  {
   "cell_type": "code",
   "execution_count": 5,
   "metadata": {},
   "outputs": [
    {
     "data": {
      "text/plain": [
       "array([[257, 218, 319, 231],\n",
       "       [353, 325, 397, 394],\n",
       "       [108, 256, 293, 252],\n",
       "       [104, 144, 141, 265],\n",
       "       [195, 387, 169, 248],\n",
       "       [285, 347, 119, 237],\n",
       "       [330, 243, 153, 321],\n",
       "       [169, 365, 309, 332],\n",
       "       [383, 108, 109, 329],\n",
       "       [188, 102, 197, 132]])"
      ]
     },
     "execution_count": 5,
     "metadata": {},
     "output_type": "execute_result"
    }
   ],
   "source": [
    "d=np.random.randint(100, 400, size=(10, 4))\n",
    "d"
   ]
  },
  {
   "cell_type": "code",
   "execution_count": 6,
   "metadata": {},
   "outputs": [
    {
     "data": {
      "text/plain": [
       "array([[285, 347, 119, 237],\n",
       "       [330, 243, 153, 321],\n",
       "       [104, 144, 141, 265],\n",
       "       [383, 108, 109, 329],\n",
       "       [195, 387, 169, 248],\n",
       "       [188, 102, 197, 132],\n",
       "       [257, 218, 319, 231],\n",
       "       [169, 365, 309, 332],\n",
       "       [108, 256, 293, 252],\n",
       "       [353, 325, 397, 394]])"
      ]
     },
     "execution_count": 6,
     "metadata": {},
     "output_type": "execute_result"
    }
   ],
   "source": [
    "np.random.shuffle(d)\n",
    "d"
   ]
  },
  {
   "cell_type": "code",
   "execution_count": 7,
   "metadata": {},
   "outputs": [],
   "source": [
    "# training (70% or 7 rows or row 0 to 6), test (30% or 3 rows or row 7 to 9)\n",
    "training, test = d[:7], d[7:]"
   ]
  },
  {
   "cell_type": "code",
   "execution_count": 8,
   "metadata": {},
   "outputs": [
    {
     "data": {
      "text/plain": [
       "array([[285, 347, 119, 237],\n",
       "       [330, 243, 153, 321],\n",
       "       [104, 144, 141, 265],\n",
       "       [383, 108, 109, 329],\n",
       "       [195, 387, 169, 248],\n",
       "       [188, 102, 197, 132],\n",
       "       [257, 218, 319, 231]])"
      ]
     },
     "execution_count": 8,
     "metadata": {},
     "output_type": "execute_result"
    }
   ],
   "source": [
    "training"
   ]
  },
  {
   "cell_type": "code",
   "execution_count": 9,
   "metadata": {},
   "outputs": [
    {
     "data": {
      "text/plain": [
       "array([[169, 365, 309, 332],\n",
       "       [108, 256, 293, 252],\n",
       "       [353, 325, 397, 394]])"
      ]
     },
     "execution_count": 9,
     "metadata": {},
     "output_type": "execute_result"
    }
   ],
   "source": [
    "test"
   ]
  },
  {
   "cell_type": "markdown",
   "metadata": {},
   "source": [
    "### method 2: random choice (n rows)"
   ]
  },
  {
   "cell_type": "code",
   "execution_count": 10,
   "metadata": {},
   "outputs": [
    {
     "data": {
      "text/plain": [
       "array([[106, 101, 282, 349],\n",
       "       [187, 232, 255, 368],\n",
       "       [341, 372, 246, 215],\n",
       "       [312, 136, 250, 109],\n",
       "       [257, 136, 281, 103],\n",
       "       [394, 223, 326, 147],\n",
       "       [249, 249, 365, 378],\n",
       "       [182, 123, 318, 126],\n",
       "       [228, 355, 129, 264],\n",
       "       [264, 367, 357, 293]])"
      ]
     },
     "execution_count": 10,
     "metadata": {},
     "output_type": "execute_result"
    }
   ],
   "source": [
    "d=np.random.randint(100, 400, size=(10, 4))\n",
    "d"
   ]
  },
  {
   "cell_type": "code",
   "execution_count": 11,
   "metadata": {},
   "outputs": [
    {
     "data": {
      "text/plain": [
       "array([2, 3, 7, 6, 1, 9, 0])"
      ]
     },
     "execution_count": 11,
     "metadata": {},
     "output_type": "execute_result"
    }
   ],
   "source": [
    "# split 70:30\n",
    "r1=np.random.choice(np.arange(d.shape[0]), size=7, replace=False)\n",
    "r1"
   ]
  },
  {
   "cell_type": "code",
   "execution_count": 12,
   "metadata": {},
   "outputs": [
    {
     "data": {
      "text/plain": [
       "array([[341, 372, 246, 215],\n",
       "       [312, 136, 250, 109],\n",
       "       [182, 123, 318, 126],\n",
       "       [249, 249, 365, 378],\n",
       "       [187, 232, 255, 368],\n",
       "       [264, 367, 357, 293],\n",
       "       [106, 101, 282, 349]])"
      ]
     },
     "execution_count": 12,
     "metadata": {},
     "output_type": "execute_result"
    }
   ],
   "source": [
    "training=d[r1] # training data set 70% or 7 rows\n",
    "training"
   ]
  },
  {
   "cell_type": "code",
   "execution_count": 13,
   "metadata": {},
   "outputs": [
    {
     "data": {
      "text/plain": [
       "array([4, 5, 8])"
      ]
     },
     "execution_count": 13,
     "metadata": {},
     "output_type": "execute_result"
    }
   ],
   "source": [
    "np.setdiff1d(np.arange(d.shape[0]), r1)"
   ]
  },
  {
   "cell_type": "code",
   "execution_count": 14,
   "metadata": {},
   "outputs": [
    {
     "data": {
      "text/plain": [
       "array([[257, 136, 281, 103],\n",
       "       [394, 223, 326, 147],\n",
       "       [228, 355, 129, 264]])"
      ]
     },
     "execution_count": 14,
     "metadata": {},
     "output_type": "execute_result"
    }
   ],
   "source": [
    "test=d[np.setdiff1d(np.arange(d.shape[0]), r1)] # test data set 30% or 3 rows\n",
    "test"
   ]
  },
  {
   "cell_type": "code",
   "execution_count": null,
   "metadata": {},
   "outputs": [],
   "source": []
  }
 ],
 "metadata": {
  "kernelspec": {
   "display_name": "Python 3",
   "language": "python",
   "name": "python3"
  },
  "language_info": {
   "codemirror_mode": {
    "name": "ipython",
    "version": 3
   },
   "file_extension": ".py",
   "mimetype": "text/x-python",
   "name": "python",
   "nbconvert_exporter": "python",
   "pygments_lexer": "ipython3",
   "version": "3.8.5"
  }
 },
 "nbformat": 4,
 "nbformat_minor": 2
}
