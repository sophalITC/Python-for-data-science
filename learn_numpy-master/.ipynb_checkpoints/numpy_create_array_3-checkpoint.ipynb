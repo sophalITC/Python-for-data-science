{
 "cells": [
  {
   "cell_type": "markdown",
   "metadata": {},
   "source": [
    "# Create ndarray"
   ]
  },
  {
   "cell_type": "code",
   "execution_count": 41,
   "metadata": {
    "scrolled": false
   },
   "outputs": [
    {
     "name": "stdout",
     "output_type": "stream",
     "text": [
      "NumPy version = 1.14.4\n"
     ]
    }
   ],
   "source": [
    "import numpy as np\n",
    "print(f'NumPy version = {np.__version__}')"
   ]
  },
  {
   "cell_type": "code",
   "execution_count": 2,
   "metadata": {},
   "outputs": [
    {
     "data": {
      "text/plain": [
       "array([  5,  10, 100])"
      ]
     },
     "execution_count": 2,
     "metadata": {},
     "output_type": "execute_result"
    }
   ],
   "source": [
    "a = np.array([5, 10, 100])\n",
    "a"
   ]
  },
  {
   "cell_type": "code",
   "execution_count": 3,
   "metadata": {},
   "outputs": [],
   "source": [
    "v = [170, 168, 155]"
   ]
  },
  {
   "cell_type": "code",
   "execution_count": 4,
   "metadata": {},
   "outputs": [
    {
     "data": {
      "text/plain": [
       "array([170, 168, 155])"
      ]
     },
     "execution_count": 4,
     "metadata": {},
     "output_type": "execute_result"
    }
   ],
   "source": [
    "b = np.array(v)\n",
    "b"
   ]
  },
  {
   "cell_type": "code",
   "execution_count": 5,
   "metadata": {
    "scrolled": false
   },
   "outputs": [
    {
     "data": {
      "text/plain": [
       "array([[ 4., 10., 25.],\n",
       "       [20., 47., 58.]])"
      ]
     },
     "execution_count": 5,
     "metadata": {},
     "output_type": "execute_result"
    }
   ],
   "source": [
    "c = np.array([[4, 10, 25], [20, 47, 58]], dtype='float')\n",
    "c"
   ]
  },
  {
   "cell_type": "code",
   "execution_count": 6,
   "metadata": {},
   "outputs": [
    {
     "data": {
      "text/plain": [
       "dtype('float64')"
      ]
     },
     "execution_count": 6,
     "metadata": {},
     "output_type": "execute_result"
    }
   ],
   "source": [
    "c.dtype"
   ]
  },
  {
   "cell_type": "code",
   "execution_count": 7,
   "metadata": {},
   "outputs": [
    {
     "data": {
      "text/plain": [
       "2"
      ]
     },
     "execution_count": 7,
     "metadata": {},
     "output_type": "execute_result"
    }
   ],
   "source": [
    "c.ndim"
   ]
  },
  {
   "cell_type": "code",
   "execution_count": 8,
   "metadata": {
    "scrolled": true
   },
   "outputs": [
    {
     "data": {
      "text/plain": [
       "(2, 3)"
      ]
     },
     "execution_count": 8,
     "metadata": {},
     "output_type": "execute_result"
    }
   ],
   "source": [
    "c.shape"
   ]
  },
  {
   "cell_type": "code",
   "execution_count": 9,
   "metadata": {
    "scrolled": true
   },
   "outputs": [
    {
     "data": {
      "text/plain": [
       "6"
      ]
     },
     "execution_count": 9,
     "metadata": {},
     "output_type": "execute_result"
    }
   ],
   "source": [
    "c.size"
   ]
  },
  {
   "cell_type": "code",
   "execution_count": 10,
   "metadata": {},
   "outputs": [
    {
     "data": {
      "text/plain": [
       "array(['tulip', 'jasmine', 'rose'], dtype='<U7')"
      ]
     },
     "execution_count": 10,
     "metadata": {},
     "output_type": "execute_result"
    }
   ],
   "source": [
    "d = np.array(['tulip', 'jasmine', 'rose'])\n",
    "d"
   ]
  },
  {
   "cell_type": "code",
   "execution_count": 11,
   "metadata": {},
   "outputs": [
    {
     "data": {
      "text/plain": [
       "array(['coffee', '45', 'tea', '25'], dtype='<U6')"
      ]
     },
     "execution_count": 11,
     "metadata": {},
     "output_type": "execute_result"
    }
   ],
   "source": [
    "e = np.array(['coffee', 45, 'tea', 25])\n",
    "e"
   ]
  },
  {
   "cell_type": "code",
   "execution_count": 12,
   "metadata": {},
   "outputs": [
    {
     "data": {
      "text/plain": [
       "array([['coffee', 'tea'],\n",
       "       ['45', '25']], dtype='<U6')"
      ]
     },
     "execution_count": 12,
     "metadata": {},
     "output_type": "execute_result"
    }
   ],
   "source": [
    "f = np.array([['coffee', 'tea'], [45, 25]])\n",
    "f"
   ]
  },
  {
   "cell_type": "code",
   "execution_count": 13,
   "metadata": {},
   "outputs": [
    {
     "data": {
      "text/plain": [
       "dtype('<U6')"
      ]
     },
     "execution_count": 13,
     "metadata": {},
     "output_type": "execute_result"
    }
   ],
   "source": [
    "f.dtype"
   ]
  },
  {
   "cell_type": "code",
   "execution_count": 14,
   "metadata": {},
   "outputs": [
    {
     "data": {
      "text/plain": [
       "2"
      ]
     },
     "execution_count": 14,
     "metadata": {},
     "output_type": "execute_result"
    }
   ],
   "source": [
    "f.ndim"
   ]
  },
  {
   "cell_type": "code",
   "execution_count": 15,
   "metadata": {},
   "outputs": [
    {
     "data": {
      "text/plain": [
       "4"
      ]
     },
     "execution_count": 15,
     "metadata": {},
     "output_type": "execute_result"
    }
   ],
   "source": [
    "f.size"
   ]
  },
  {
   "cell_type": "code",
   "execution_count": 16,
   "metadata": {},
   "outputs": [
    {
     "data": {
      "text/plain": [
       "(2, 2)"
      ]
     },
     "execution_count": 16,
     "metadata": {},
     "output_type": "execute_result"
    }
   ],
   "source": [
    "f.shape"
   ]
  },
  {
   "cell_type": "code",
   "execution_count": 17,
   "metadata": {
    "scrolled": false
   },
   "outputs": [
    {
     "data": {
      "text/plain": [
       "array([[0., 0.],\n",
       "       [0., 0.],\n",
       "       [0., 0.],\n",
       "       [0., 0.]])"
      ]
     },
     "execution_count": 17,
     "metadata": {},
     "output_type": "execute_result"
    }
   ],
   "source": [
    "np.zeros((4, 2))"
   ]
  },
  {
   "cell_type": "code",
   "execution_count": 18,
   "metadata": {
    "scrolled": true
   },
   "outputs": [
    {
     "data": {
      "text/plain": [
       "array([[1., 1.],\n",
       "       [1., 1.],\n",
       "       [1., 1.],\n",
       "       [1., 1.]])"
      ]
     },
     "execution_count": 18,
     "metadata": {},
     "output_type": "execute_result"
    }
   ],
   "source": [
    "np.ones((4, 2))"
   ]
  },
  {
   "cell_type": "code",
   "execution_count": 19,
   "metadata": {
    "scrolled": true
   },
   "outputs": [],
   "source": [
    "y = np.ones((4, 2))"
   ]
  },
  {
   "cell_type": "code",
   "execution_count": 20,
   "metadata": {},
   "outputs": [
    {
     "data": {
      "text/plain": [
       "array([[5., 5.],\n",
       "       [5., 5.],\n",
       "       [5., 5.],\n",
       "       [5., 5.]])"
      ]
     },
     "execution_count": 20,
     "metadata": {},
     "output_type": "execute_result"
    }
   ],
   "source": [
    "y[:]=5\n",
    "y"
   ]
  },
  {
   "cell_type": "code",
   "execution_count": 21,
   "metadata": {},
   "outputs": [
    {
     "data": {
      "text/plain": [
       "array([[1., 0., 0., 0.],\n",
       "       [0., 1., 0., 0.],\n",
       "       [0., 0., 1., 0.],\n",
       "       [0., 0., 0., 1.]])"
      ]
     },
     "execution_count": 21,
     "metadata": {},
     "output_type": "execute_result"
    }
   ],
   "source": [
    "np.identity(4)"
   ]
  },
  {
   "cell_type": "code",
   "execution_count": 22,
   "metadata": {
    "scrolled": true
   },
   "outputs": [
    {
     "data": {
      "text/plain": [
       "array([[1., 0., 0., 0., 0.],\n",
       "       [0., 1., 0., 0., 0.],\n",
       "       [0., 0., 1., 0., 0.],\n",
       "       [0., 0., 0., 1., 0.],\n",
       "       [0., 0., 0., 0., 1.]])"
      ]
     },
     "execution_count": 22,
     "metadata": {},
     "output_type": "execute_result"
    }
   ],
   "source": [
    "np.eye(5)"
   ]
  },
  {
   "cell_type": "code",
   "execution_count": 23,
   "metadata": {},
   "outputs": [
    {
     "data": {
      "text/plain": [
       "array([ 1,  2,  3,  4,  5,  6,  7,  8,  9, 10, 11, 12, 13, 14, 15, 16, 17,\n",
       "       18, 19, 20, 21, 22, 23, 24, 25, 26, 27, 28, 29, 30, 31, 32, 33, 34,\n",
       "       35, 36, 37, 38, 39, 40])"
      ]
     },
     "execution_count": 23,
     "metadata": {},
     "output_type": "execute_result"
    }
   ],
   "source": [
    "k = np.arange(1, 41)\n",
    "k"
   ]
  },
  {
   "cell_type": "code",
   "execution_count": 24,
   "metadata": {},
   "outputs": [
    {
     "data": {
      "text/plain": [
       "array([[ 1,  2,  3,  4,  5,  6,  7,  8,  9, 10],\n",
       "       [11, 12, 13, 14, 15, 16, 17, 18, 19, 20],\n",
       "       [21, 22, 23, 24, 25, 26, 27, 28, 29, 30],\n",
       "       [31, 32, 33, 34, 35, 36, 37, 38, 39, 40]])"
      ]
     },
     "execution_count": 24,
     "metadata": {},
     "output_type": "execute_result"
    }
   ],
   "source": [
    "k1 = np.reshape(k, (4, 10))\n",
    "k1"
   ]
  },
  {
   "cell_type": "code",
   "execution_count": 25,
   "metadata": {},
   "outputs": [
    {
     "data": {
      "text/plain": [
       "2"
      ]
     },
     "execution_count": 25,
     "metadata": {},
     "output_type": "execute_result"
    }
   ],
   "source": [
    "k1.ndim"
   ]
  },
  {
   "cell_type": "code",
   "execution_count": 26,
   "metadata": {
    "scrolled": true
   },
   "outputs": [
    {
     "data": {
      "text/plain": [
       "(4, 10)"
      ]
     },
     "execution_count": 26,
     "metadata": {},
     "output_type": "execute_result"
    }
   ],
   "source": [
    "k1.shape"
   ]
  },
  {
   "cell_type": "code",
   "execution_count": 27,
   "metadata": {},
   "outputs": [
    {
     "data": {
      "text/plain": [
       "array([0, 1, 2, 3, 4, 5, 6, 7, 8, 9])"
      ]
     },
     "execution_count": 27,
     "metadata": {},
     "output_type": "execute_result"
    }
   ],
   "source": [
    "g = np.arange(10)\n",
    "g"
   ]
  },
  {
   "cell_type": "code",
   "execution_count": 28,
   "metadata": {},
   "outputs": [
    {
     "data": {
      "text/plain": [
       "array([ 1,  2,  3,  4,  5,  6,  7,  8,  9, 10])"
      ]
     },
     "execution_count": 28,
     "metadata": {},
     "output_type": "execute_result"
    }
   ],
   "source": [
    "g1 = np.arange(1, 11, 1)\n",
    "g1"
   ]
  },
  {
   "cell_type": "code",
   "execution_count": 29,
   "metadata": {},
   "outputs": [
    {
     "data": {
      "text/plain": [
       "array([1, 3, 5, 7, 9])"
      ]
     },
     "execution_count": 29,
     "metadata": {},
     "output_type": "execute_result"
    }
   ],
   "source": [
    "g1 = np.arange(1, 11, 2)\n",
    "g1"
   ]
  },
  {
   "cell_type": "code",
   "execution_count": 30,
   "metadata": {},
   "outputs": [
    {
     "data": {
      "text/plain": [
       "array([ 5, 15, 25, 35, 45, 55, 65, 75, 85, 95])"
      ]
     },
     "execution_count": 30,
     "metadata": {},
     "output_type": "execute_result"
    }
   ],
   "source": [
    "h = np.arange(5, 100, 10)\n",
    "h"
   ]
  },
  {
   "cell_type": "code",
   "execution_count": 31,
   "metadata": {},
   "outputs": [
    {
     "data": {
      "text/plain": [
       "array([ 1.  ,  5.75, 10.5 , 15.25, 20.  ])"
      ]
     },
     "execution_count": 31,
     "metadata": {},
     "output_type": "execute_result"
    }
   ],
   "source": [
    "h1 = np.linspace(1, 20, 5)\n",
    "h1"
   ]
  },
  {
   "cell_type": "code",
   "execution_count": 32,
   "metadata": {
    "scrolled": true
   },
   "outputs": [
    {
     "data": {
      "text/plain": [
       "array([0.        , 0.34906585, 0.6981317 , 1.04719755, 1.3962634 ,\n",
       "       1.74532925, 2.0943951 , 2.44346095, 2.7925268 , 3.14159265])"
      ]
     },
     "execution_count": 32,
     "metadata": {},
     "output_type": "execute_result"
    }
   ],
   "source": [
    "h2 = np.linspace(0, np.pi, 10)\n",
    "h2"
   ]
  },
  {
   "cell_type": "code",
   "execution_count": 42,
   "metadata": {
    "scrolled": true
   },
   "outputs": [
    {
     "data": {
      "text/plain": [
       "array([ 32. ,  33.8,  35.6,  37.4,  39.2,  41. ,  42.8,  44.6,  46.4,\n",
       "        48.2,  50. ,  51.8,  53.6,  55.4,  57.2,  59. ,  60.8,  62.6,\n",
       "        64.4,  66.2,  68. ,  69.8,  71.6,  73.4,  75.2,  77. ,  78.8,\n",
       "        80.6,  82.4,  84.2,  86. ,  87.8,  89.6,  91.4,  93.2,  95. ,\n",
       "        96.8,  98.6, 100.4, 102.2, 104. , 105.8, 107.6, 109.4, 111.2,\n",
       "       113. , 114.8, 116.6, 118.4, 120.2, 122. , 123.8, 125.6, 127.4,\n",
       "       129.2, 131. , 132.8, 134.6, 136.4, 138.2, 140. , 141.8, 143.6,\n",
       "       145.4, 147.2, 149. , 150.8, 152.6, 154.4, 156.2, 158. , 159.8,\n",
       "       161.6, 163.4, 165.2, 167. , 168.8, 170.6, 172.4, 174.2, 176. ,\n",
       "       177.8, 179.6, 181.4, 183.2, 185. , 186.8, 188.6, 190.4, 192.2,\n",
       "       194. , 195.8, 197.6, 199.4, 201.2, 203. , 204.8, 206.6, 208.4,\n",
       "       210.2, 212. ])"
      ]
     },
     "execution_count": 42,
     "metadata": {},
     "output_type": "execute_result"
    }
   ],
   "source": [
    "celsius = np.arange(101)\n",
    "fahrenheit = celsius * 1.8 + 32\n",
    "fahrenheit"
   ]
  },
  {
   "cell_type": "code",
   "execution_count": 52,
   "metadata": {
    "scrolled": true
   },
   "outputs": [
    {
     "data": {
      "text/plain": [
       "array([[  0. ,  32. ],\n",
       "       [  1. ,  33.8],\n",
       "       [  2. ,  35.6],\n",
       "       [  3. ,  37.4],\n",
       "       [  4. ,  39.2],\n",
       "       [  5. ,  41. ],\n",
       "       [  6. ,  42.8],\n",
       "       [  7. ,  44.6],\n",
       "       [  8. ,  46.4],\n",
       "       [  9. ,  48.2],\n",
       "       [ 10. ,  50. ],\n",
       "       [ 11. ,  51.8],\n",
       "       [ 12. ,  53.6],\n",
       "       [ 13. ,  55.4],\n",
       "       [ 14. ,  57.2],\n",
       "       [ 15. ,  59. ],\n",
       "       [ 16. ,  60.8],\n",
       "       [ 17. ,  62.6],\n",
       "       [ 18. ,  64.4],\n",
       "       [ 19. ,  66.2],\n",
       "       [ 20. ,  68. ],\n",
       "       [ 21. ,  69.8],\n",
       "       [ 22. ,  71.6],\n",
       "       [ 23. ,  73.4],\n",
       "       [ 24. ,  75.2],\n",
       "       [ 25. ,  77. ],\n",
       "       [ 26. ,  78.8],\n",
       "       [ 27. ,  80.6],\n",
       "       [ 28. ,  82.4],\n",
       "       [ 29. ,  84.2],\n",
       "       [ 30. ,  86. ],\n",
       "       [ 31. ,  87.8],\n",
       "       [ 32. ,  89.6],\n",
       "       [ 33. ,  91.4],\n",
       "       [ 34. ,  93.2],\n",
       "       [ 35. ,  95. ],\n",
       "       [ 36. ,  96.8],\n",
       "       [ 37. ,  98.6],\n",
       "       [ 38. , 100.4],\n",
       "       [ 39. , 102.2],\n",
       "       [ 40. , 104. ],\n",
       "       [ 41. , 105.8],\n",
       "       [ 42. , 107.6],\n",
       "       [ 43. , 109.4],\n",
       "       [ 44. , 111.2],\n",
       "       [ 45. , 113. ],\n",
       "       [ 46. , 114.8],\n",
       "       [ 47. , 116.6],\n",
       "       [ 48. , 118.4],\n",
       "       [ 49. , 120.2],\n",
       "       [ 50. , 122. ],\n",
       "       [ 51. , 123.8],\n",
       "       [ 52. , 125.6],\n",
       "       [ 53. , 127.4],\n",
       "       [ 54. , 129.2],\n",
       "       [ 55. , 131. ],\n",
       "       [ 56. , 132.8],\n",
       "       [ 57. , 134.6],\n",
       "       [ 58. , 136.4],\n",
       "       [ 59. , 138.2],\n",
       "       [ 60. , 140. ],\n",
       "       [ 61. , 141.8],\n",
       "       [ 62. , 143.6],\n",
       "       [ 63. , 145.4],\n",
       "       [ 64. , 147.2],\n",
       "       [ 65. , 149. ],\n",
       "       [ 66. , 150.8],\n",
       "       [ 67. , 152.6],\n",
       "       [ 68. , 154.4],\n",
       "       [ 69. , 156.2],\n",
       "       [ 70. , 158. ],\n",
       "       [ 71. , 159.8],\n",
       "       [ 72. , 161.6],\n",
       "       [ 73. , 163.4],\n",
       "       [ 74. , 165.2],\n",
       "       [ 75. , 167. ],\n",
       "       [ 76. , 168.8],\n",
       "       [ 77. , 170.6],\n",
       "       [ 78. , 172.4],\n",
       "       [ 79. , 174.2],\n",
       "       [ 80. , 176. ],\n",
       "       [ 81. , 177.8],\n",
       "       [ 82. , 179.6],\n",
       "       [ 83. , 181.4],\n",
       "       [ 84. , 183.2],\n",
       "       [ 85. , 185. ],\n",
       "       [ 86. , 186.8],\n",
       "       [ 87. , 188.6],\n",
       "       [ 88. , 190.4],\n",
       "       [ 89. , 192.2],\n",
       "       [ 90. , 194. ],\n",
       "       [ 91. , 195.8],\n",
       "       [ 92. , 197.6],\n",
       "       [ 93. , 199.4],\n",
       "       [ 94. , 201.2],\n",
       "       [ 95. , 203. ],\n",
       "       [ 96. , 204.8],\n",
       "       [ 97. , 206.6],\n",
       "       [ 98. , 208.4],\n",
       "       [ 99. , 210.2],\n",
       "       [100. , 212. ]])"
      ]
     },
     "execution_count": 52,
     "metadata": {},
     "output_type": "execute_result"
    }
   ],
   "source": [
    "t = np.stack((celsius, fahrenheit), axis=1)\n",
    "t"
   ]
  },
  {
   "cell_type": "code",
   "execution_count": 57,
   "metadata": {},
   "outputs": [],
   "source": [
    "np.savetxt(\"temperature.csv\", t, fmt='%.1f', delimiter=',', header='celsius,fahrenheit', comments='')"
   ]
  },
  {
   "cell_type": "code",
   "execution_count": 34,
   "metadata": {
    "scrolled": true
   },
   "outputs": [
    {
     "data": {
      "text/plain": [
       "[32.0,\n",
       " 33.8,\n",
       " 35.6,\n",
       " 37.4,\n",
       " 39.2,\n",
       " 41.0,\n",
       " 42.8,\n",
       " 44.6,\n",
       " 46.4,\n",
       " 48.2,\n",
       " 50.0,\n",
       " 51.8,\n",
       " 53.6,\n",
       " 55.400000000000006,\n",
       " 57.2,\n",
       " 59.0,\n",
       " 60.8,\n",
       " 62.6,\n",
       " 64.4,\n",
       " 66.2,\n",
       " 68.0,\n",
       " 69.80000000000001,\n",
       " 71.6,\n",
       " 73.4,\n",
       " 75.2,\n",
       " 77.0,\n",
       " 78.80000000000001,\n",
       " 80.6,\n",
       " 82.4,\n",
       " 84.2,\n",
       " 86.0,\n",
       " 87.80000000000001,\n",
       " 89.6,\n",
       " 91.4,\n",
       " 93.2,\n",
       " 95.0,\n",
       " 96.8,\n",
       " 98.60000000000001,\n",
       " 100.4,\n",
       " 102.2,\n",
       " 104.0,\n",
       " 105.8,\n",
       " 107.60000000000001,\n",
       " 109.4,\n",
       " 111.2,\n",
       " 113.0,\n",
       " 114.8,\n",
       " 116.60000000000001,\n",
       " 118.4,\n",
       " 120.2,\n",
       " 122.0,\n",
       " 123.8,\n",
       " 125.60000000000001,\n",
       " 127.4,\n",
       " 129.2,\n",
       " 131.0,\n",
       " 132.8,\n",
       " 134.60000000000002,\n",
       " 136.4,\n",
       " 138.2,\n",
       " 140.0,\n",
       " 141.8,\n",
       " 143.60000000000002,\n",
       " 145.4,\n",
       " 147.2,\n",
       " 149.0,\n",
       " 150.8,\n",
       " 152.60000000000002,\n",
       " 154.4,\n",
       " 156.2,\n",
       " 158.0,\n",
       " 159.8,\n",
       " 161.6,\n",
       " 163.4,\n",
       " 165.20000000000002,\n",
       " 167.0,\n",
       " 168.8,\n",
       " 170.6,\n",
       " 172.4,\n",
       " 174.20000000000002,\n",
       " 176.0,\n",
       " 177.8,\n",
       " 179.6,\n",
       " 181.4,\n",
       " 183.20000000000002,\n",
       " 185.0,\n",
       " 186.8,\n",
       " 188.6,\n",
       " 190.4,\n",
       " 192.20000000000002,\n",
       " 194.0,\n",
       " 195.8,\n",
       " 197.6,\n",
       " 199.4,\n",
       " 201.20000000000002,\n",
       " 203.0,\n",
       " 204.8,\n",
       " 206.6,\n",
       " 208.4,\n",
       " 210.20000000000002,\n",
       " 212.0]"
      ]
     },
     "execution_count": 34,
     "metadata": {},
     "output_type": "execute_result"
    }
   ],
   "source": [
    "f = [c * 1.8 + 32 for c in range(101)]\n",
    "f"
   ]
  },
  {
   "cell_type": "code",
   "execution_count": null,
   "metadata": {},
   "outputs": [],
   "source": []
  },
  {
   "cell_type": "code",
   "execution_count": 35,
   "metadata": {},
   "outputs": [
    {
     "name": "stdout",
     "output_type": "stream",
     "text": [
      "6.69 µs ± 1.24 µs per loop (mean ± std. dev. of 7 runs, 5000 loops each)\n"
     ]
    }
   ],
   "source": [
    "%timeit -n5000 np.arange(101) * 1.8 + 32"
   ]
  },
  {
   "cell_type": "code",
   "execution_count": 36,
   "metadata": {},
   "outputs": [
    {
     "name": "stdout",
     "output_type": "stream",
     "text": [
      "9.98 µs ± 586 ns per loop (mean ± std. dev. of 7 runs, 5000 loops each)\n"
     ]
    }
   ],
   "source": [
    "%timeit -n5000 [c * 1.8 + 32 for c in range(101)]"
   ]
  },
  {
   "cell_type": "markdown",
   "metadata": {},
   "source": [
    "### load data from text file into ndarray"
   ]
  },
  {
   "cell_type": "markdown",
   "metadata": {},
   "source": [
    "## shoe size\n",
    "https://en.wikipedia.org/wiki/Shoe_size#Size_conversion"
   ]
  },
  {
   "cell_type": "code",
   "execution_count": 38,
   "metadata": {
    "scrolled": true
   },
   "outputs": [
    {
     "data": {
      "text/plain": [
       "array([[ 34. , 215. ,   3. ],\n",
       "       [ 34.5, 215. ,   3.5],\n",
       "       [ 35. , 220. ,   4. ],\n",
       "       [ 35.5, 225. ,   4.5],\n",
       "       [ 36. , 225. ,   5. ],\n",
       "       [ 36.5, 230. ,   5. ],\n",
       "       [ 37. , 235. ,   5.5],\n",
       "       [ 37.5, 235. ,   6. ],\n",
       "       [ 38. , 240. ,   6.5],\n",
       "       [ 38.5, 245. ,   6.5],\n",
       "       [ 39. , 245. ,   7. ],\n",
       "       [ 39.5, 250. ,   7.5],\n",
       "       [ 40. , 255. ,   8. ],\n",
       "       [ 40.5, 255. ,   8.5],\n",
       "       [ 41. , 260. ,   8.5],\n",
       "       [ 41.5, 265. ,   9. ],\n",
       "       [ 42. , 265. ,   9.5],\n",
       "       [ 42.5, 270. ,  10. ],\n",
       "       [ 43. , 275. ,  10.5],\n",
       "       [ 43.5, 275. ,  10.5],\n",
       "       [ 44. , 280. ,  11. ],\n",
       "       [ 44.5, 285. ,  11.5],\n",
       "       [ 45. , 285. ,  12. ],\n",
       "       [ 45.5, 290. ,  12.5],\n",
       "       [ 46. , 295. ,  12.5],\n",
       "       [ 46.5, 295. ,  13. ],\n",
       "       [ 47. , 300. ,  13.5],\n",
       "       [ 47.5, 305. ,  14. ],\n",
       "       [ 48. , 305. ,  14. ],\n",
       "       [ 48.5, 310. ,  14.5],\n",
       "       [ 49. , 315. ,  15. ],\n",
       "       [ 49.5, 315. ,  15.5],\n",
       "       [ 50. , 320. ,  16. ]])"
      ]
     },
     "execution_count": 38,
     "metadata": {},
     "output_type": "execute_result"
    }
   ],
   "source": [
    "s=np.loadtxt('shoe_size.csv', delimiter=',', skiprows=1, usecols=(0, 1, 3))\n",
    "s"
   ]
  },
  {
   "cell_type": "code",
   "execution_count": null,
   "metadata": {},
   "outputs": [],
   "source": []
  }
 ],
 "metadata": {
  "kernelspec": {
   "display_name": "Python 3",
   "language": "python",
   "name": "python3"
  },
  "language_info": {
   "codemirror_mode": {
    "name": "ipython",
    "version": 3
   },
   "file_extension": ".py",
   "mimetype": "text/x-python",
   "name": "python",
   "nbconvert_exporter": "python",
   "pygments_lexer": "ipython3",
   "version": "3.8.5"
  }
 },
 "nbformat": 4,
 "nbformat_minor": 2
}
