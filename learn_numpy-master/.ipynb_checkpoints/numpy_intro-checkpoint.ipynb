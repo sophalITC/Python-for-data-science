{
 "cells": [
  {
   "cell_type": "markdown",
   "metadata": {},
   "source": [
    "# Intro to NumPy (Numeric Python)"
   ]
  },
  {
   "cell_type": "markdown",
   "metadata": {},
   "source": [
    "NumPy creator: https://twitter.com/teoliphant"
   ]
  },
  {
   "cell_type": "markdown",
   "metadata": {},
   "source": [
    "## installation"
   ]
  },
  {
   "cell_type": "code",
   "execution_count": null,
   "metadata": {},
   "outputs": [],
   "source": [
    "# pip install numpy\n",
    "# conda install numpy"
   ]
  },
  {
   "cell_type": "code",
   "execution_count": 1,
   "metadata": {},
   "outputs": [],
   "source": [
    "import numpy as np"
   ]
  },
  {
   "cell_type": "markdown",
   "metadata": {},
   "source": [
    "## currency conversion"
   ]
  },
  {
   "cell_type": "code",
   "execution_count": 2,
   "metadata": {},
   "outputs": [],
   "source": [
    "usd = [29, 70, 100]"
   ]
  },
  {
   "cell_type": "code",
   "execution_count": 17,
   "metadata": {
    "collapsed": true
   },
   "outputs": [
    {
     "data": {
      "text/plain": [
       "[29,\n",
       " 70,\n",
       " 100,\n",
       " 29,\n",
       " 70,\n",
       " 100,\n",
       " 29,\n",
       " 70,\n",
       " 100,\n",
       " 29,\n",
       " 70,\n",
       " 100,\n",
       " 29,\n",
       " 70,\n",
       " 100,\n",
       " 29,\n",
       " 70,\n",
       " 100,\n",
       " 29,\n",
       " 70,\n",
       " 100,\n",
       " 29,\n",
       " 70,\n",
       " 100,\n",
       " 29,\n",
       " 70,\n",
       " 100,\n",
       " 29,\n",
       " 70,\n",
       " 100,\n",
       " 29,\n",
       " 70,\n",
       " 100,\n",
       " 29,\n",
       " 70,\n",
       " 100,\n",
       " 29,\n",
       " 70,\n",
       " 100,\n",
       " 29,\n",
       " 70,\n",
       " 100,\n",
       " 29,\n",
       " 70,\n",
       " 100,\n",
       " 29,\n",
       " 70,\n",
       " 100,\n",
       " 29,\n",
       " 70,\n",
       " 100,\n",
       " 29,\n",
       " 70,\n",
       " 100,\n",
       " 29,\n",
       " 70,\n",
       " 100,\n",
       " 29,\n",
       " 70,\n",
       " 100,\n",
       " 29,\n",
       " 70,\n",
       " 100,\n",
       " 29,\n",
       " 70,\n",
       " 100,\n",
       " 29,\n",
       " 70,\n",
       " 100,\n",
       " 29,\n",
       " 70,\n",
       " 100,\n",
       " 29,\n",
       " 70,\n",
       " 100,\n",
       " 29,\n",
       " 70,\n",
       " 100,\n",
       " 29,\n",
       " 70,\n",
       " 100,\n",
       " 29,\n",
       " 70,\n",
       " 100,\n",
       " 29,\n",
       " 70,\n",
       " 100,\n",
       " 29,\n",
       " 70,\n",
       " 100,\n",
       " 29,\n",
       " 70,\n",
       " 100,\n",
       " 29,\n",
       " 70,\n",
       " 100,\n",
       " 29,\n",
       " 70,\n",
       " 100,\n",
       " 29,\n",
       " 70,\n",
       " 100,\n",
       " 29,\n",
       " 70,\n",
       " 100]"
      ]
     },
     "execution_count": 17,
     "metadata": {},
     "output_type": "execute_result"
    }
   ],
   "source": [
    "usd * 35"
   ]
  },
  {
   "cell_type": "code",
   "execution_count": 5,
   "metadata": {},
   "outputs": [
    {
     "data": {
      "text/plain": [
       "[1015, 2450, 3500]"
      ]
     },
     "execution_count": 5,
     "metadata": {},
     "output_type": "execute_result"
    }
   ],
   "source": [
    "t = []\n",
    "for u in usd:\n",
    "    t.append(u * 35)\n",
    "t"
   ]
  },
  {
   "cell_type": "code",
   "execution_count": 24,
   "metadata": {},
   "outputs": [
    {
     "data": {
      "text/plain": [
       "[1015, 2450, 3500]"
      ]
     },
     "execution_count": 24,
     "metadata": {},
     "output_type": "execute_result"
    }
   ],
   "source": [
    "thb = [n * 35 for n in usd]\n",
    "thb"
   ]
  },
  {
   "cell_type": "code",
   "execution_count": 4,
   "metadata": {},
   "outputs": [
    {
     "data": {
      "text/plain": [
       "[1015, 2450, 3500]"
      ]
     },
     "execution_count": 4,
     "metadata": {},
     "output_type": "execute_result"
    }
   ],
   "source": [
    "list(map(lambda e: e * 35, usd))"
   ]
  },
  {
   "cell_type": "code",
   "execution_count": 25,
   "metadata": {},
   "outputs": [],
   "source": [
    "usd_a = np.array(usd)"
   ]
  },
  {
   "cell_type": "code",
   "execution_count": 26,
   "metadata": {},
   "outputs": [
    {
     "data": {
      "text/plain": [
       "array([1015, 2450, 3500])"
      ]
     },
     "execution_count": 26,
     "metadata": {},
     "output_type": "execute_result"
    }
   ],
   "source": [
    "usd_a * 35"
   ]
  },
  {
   "cell_type": "code",
   "execution_count": 23,
   "metadata": {},
   "outputs": [
    {
     "data": {
      "text/plain": [
       "6965"
      ]
     },
     "execution_count": 23,
     "metadata": {},
     "output_type": "execute_result"
    }
   ],
   "source": [
    "thb_a = usd_a * 35\n",
    "np.sum(thb_a)"
   ]
  },
  {
   "cell_type": "markdown",
   "metadata": {},
   "source": [
    "## quadratic equation"
   ]
  },
  {
   "cell_type": "code",
   "execution_count": 6,
   "metadata": {},
   "outputs": [],
   "source": [
    "x = np.array([1, 2, 3, 4, 5])\n",
    "a, b, c = (2, 7, 3)"
   ]
  },
  {
   "cell_type": "code",
   "execution_count": 7,
   "metadata": {},
   "outputs": [
    {
     "data": {
      "text/plain": [
       "array([12, 25, 42, 63, 88])"
      ]
     },
     "execution_count": 7,
     "metadata": {},
     "output_type": "execute_result"
    }
   ],
   "source": [
    "y = a * x**2 + b * x + c\n",
    "y"
   ]
  },
  {
   "cell_type": "code",
   "execution_count": 8,
   "metadata": {},
   "outputs": [],
   "source": [
    "import matplotlib.pyplot as plt\n",
    "%matplotlib inline"
   ]
  },
  {
   "cell_type": "code",
   "execution_count": 9,
   "metadata": {
    "scrolled": true
   },
   "outputs": [
    {
     "data": {
      "text/plain": [
       "[<matplotlib.lines.Line2D at 0x11094c550>]"
      ]
     },
     "execution_count": 9,
     "metadata": {},
     "output_type": "execute_result"
    },
    {
     "data": {
      "image/png": "[encoded data removed]",
      "text/plain": [
       "<Figure size 432x288 with 1 Axes>"
      ]
     },
     "metadata": {},
     "output_type": "display_data"
    }
   ],
   "source": [
    "plt.plot(y)"
   ]
  },
  {
   "cell_type": "markdown",
   "metadata": {},
   "source": [
    "## BMI"
   ]
  },
  {
   "cell_type": "code",
   "execution_count": 11,
   "metadata": {},
   "outputs": [],
   "source": [
    "w = [70, 60, 65, 90, 48]\n",
    "h = [170, 165, 175, 180, 167]"
   ]
  },
  {
   "cell_type": "code",
   "execution_count": 15,
   "metadata": {},
   "outputs": [
    {
     "data": {
      "text/plain": [
       "[24.221453287197235,\n",
       " 22.03856749311295,\n",
       " 21.224489795918366,\n",
       " 27.777777777777775,\n",
       " 17.21108680841909]"
      ]
     },
     "execution_count": 15,
     "metadata": {},
     "output_type": "execute_result"
    }
   ],
   "source": [
    "bmi = [weight / (height / 100) ** 2 for weight, height in zip(w, h)]\n",
    "bmi"
   ]
  },
  {
   "cell_type": "code",
   "execution_count": 16,
   "metadata": {},
   "outputs": [
    {
     "data": {
      "text/plain": [
       "array([24.22145329, 22.03856749, 21.2244898 , 27.77777778, 17.21108681])"
      ]
     },
     "execution_count": 16,
     "metadata": {},
     "output_type": "execute_result"
    }
   ],
   "source": [
    "w_a = np.array(w)\n",
    "h_a = np.array(h)\n",
    "bmi_a = w_a / (h_a / 100) ** 2\n",
    "bmi_a"
   ]
  },
  {
   "cell_type": "code",
   "execution_count": 13,
   "metadata": {},
   "outputs": [
    {
     "data": {
      "text/plain": [
       "array([ True,  True,  True, False,  True])"
      ]
     },
     "execution_count": 13,
     "metadata": {},
     "output_type": "execute_result"
    }
   ],
   "source": [
    "bmi < 25"
   ]
  },
  {
   "cell_type": "code",
   "execution_count": 14,
   "metadata": {},
   "outputs": [
    {
     "data": {
      "text/plain": [
       "array([24.22145329, 22.03856749, 21.2244898 , 17.21108681])"
      ]
     },
     "execution_count": 14,
     "metadata": {},
     "output_type": "execute_result"
    }
   ],
   "source": [
    "bmi[bmi < 25]"
   ]
  },
  {
   "cell_type": "code",
   "execution_count": null,
   "metadata": {},
   "outputs": [],
   "source": []
  }
 ],
 "metadata": {
  "kernelspec": {
   "display_name": "Python 3",
   "language": "python",
   "name": "python3"
  },
  "language_info": {
   "codemirror_mode": {
    "name": "ipython",
    "version": 3
   },
   "file_extension": ".py",
   "mimetype": "text/x-python",
   "name": "python",
   "nbconvert_exporter": "python",
   "pygments_lexer": "ipython3",
   "version": "3.8.5"
  }
 },
 "nbformat": 4,
 "nbformat_minor": 2
}
