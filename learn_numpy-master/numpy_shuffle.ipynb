{
 "cells": [
  {
   "cell_type": "markdown",
   "metadata": {},
   "source": [
    "# shuffle and hsplit array"
   ]
  },
  {
   "cell_type": "code",
   "execution_count": 1,
   "metadata": {},
   "outputs": [
    {
     "name": "stdout",
     "output_type": "stream",
     "text": [
      "numpy version = 1.14.5\n"
     ]
    }
   ],
   "source": [
    "import numpy as np\n",
    "print(f'numpy version = {np.__version__}')"
   ]
  },
  {
   "cell_type": "code",
   "execution_count": 2,
   "metadata": {},
   "outputs": [
    {
     "data": {
      "text/plain": [
       "array([ 1,  2,  3,  4,  5,  6,  7,  8,  9, 10, 11, 12, 13, 14, 15, 16, 17,\n",
       "       18, 19, 20, 21, 22, 23, 24, 25, 26, 27, 28, 29, 30, 31, 32])"
      ]
     },
     "execution_count": 2,
     "metadata": {},
     "output_type": "execute_result"
    }
   ],
   "source": [
    "a=np.arange(1, 33)\n",
    "a"
   ]
  },
  {
   "cell_type": "code",
   "execution_count": 3,
   "metadata": {},
   "outputs": [
    {
     "data": {
      "text/plain": [
       "array([30,  1,  5, 19, 21,  4, 22,  3, 20, 31, 26, 11,  6, 16,  8, 12, 28,\n",
       "       24, 32,  9,  7,  2, 10, 13, 27, 17, 25, 15, 18, 29, 14, 23])"
      ]
     },
     "execution_count": 3,
     "metadata": {},
     "output_type": "execute_result"
    }
   ],
   "source": [
    "np.random.shuffle(a) # inplace\n",
    "a"
   ]
  },
  {
   "cell_type": "code",
   "execution_count": 4,
   "metadata": {},
   "outputs": [
    {
     "data": {
      "text/plain": [
       "[array([30,  1,  5, 19]),\n",
       " array([21,  4, 22,  3]),\n",
       " array([20, 31, 26, 11]),\n",
       " array([ 6, 16,  8, 12]),\n",
       " array([28, 24, 32,  9]),\n",
       " array([ 7,  2, 10, 13]),\n",
       " array([27, 17, 25, 15]),\n",
       " array([18, 29, 14, 23])]"
      ]
     },
     "execution_count": 4,
     "metadata": {},
     "output_type": "execute_result"
    }
   ],
   "source": [
    "b=np.hsplit(a, 8)\n",
    "b"
   ]
  },
  {
   "cell_type": "code",
   "execution_count": 5,
   "metadata": {},
   "outputs": [
    {
     "data": {
      "text/plain": [
       "array([30,  1,  5, 19])"
      ]
     },
     "execution_count": 5,
     "metadata": {},
     "output_type": "execute_result"
    }
   ],
   "source": [
    "b[0]"
   ]
  },
  {
   "cell_type": "code",
   "execution_count": 6,
   "metadata": {},
   "outputs": [
    {
     "data": {
      "text/plain": [
       "array([21,  4, 22,  3])"
      ]
     },
     "execution_count": 6,
     "metadata": {},
     "output_type": "execute_result"
    }
   ],
   "source": [
    "b[1]"
   ]
  },
  {
   "cell_type": "markdown",
   "metadata": {},
   "source": [
    "### 2018 FIFA World Cup qualification"
   ]
  },
  {
   "cell_type": "code",
   "execution_count": 7,
   "metadata": {},
   "outputs": [
    {
     "data": {
      "text/plain": [
       "array(['Russia', 'Brazil', 'Iran', 'Japan', 'Mexico', 'Belgium',\n",
       "       'South Korea', 'Saudi Arabia', 'Germany', 'England', 'Spain',\n",
       "       'Nigeria', 'Costa Rica', 'Poland', 'Egypt', 'Iceland', 'Serbia',\n",
       "       'Portugal', 'France', 'Uruguay', 'Argentina', 'Colombia', 'Panama',\n",
       "       'Senegal', 'Morocco', 'Tunisia', 'Switzerland', 'Croatia',\n",
       "       'Sweden', 'Denmark', 'Australia', 'Peru'], dtype='<U12')"
      ]
     },
     "execution_count": 7,
     "metadata": {},
     "output_type": "execute_result"
    }
   ],
   "source": [
    "t=np.loadtxt('worldcup2018teams.txt',\n",
    "             dtype='U', delimiter='\\n')\n",
    "t"
   ]
  },
  {
   "cell_type": "code",
   "execution_count": 8,
   "metadata": {},
   "outputs": [
    {
     "data": {
      "text/plain": [
       "array(['Spain', 'Switzerland', 'Senegal', 'Mexico', 'England', 'Denmark',\n",
       "       'Japan', 'Argentina', 'South Korea', 'Portugal', 'Brazil',\n",
       "       'Tunisia', 'Australia', 'Saudi Arabia', 'Nigeria', 'Egypt', 'Peru',\n",
       "       'Germany', 'Iceland', 'Iran', 'Uruguay', 'Serbia', 'Panama',\n",
       "       'Costa Rica', 'Belgium', 'France', 'Russia', 'Croatia', 'Colombia',\n",
       "       'Morocco', 'Sweden', 'Poland'], dtype='<U12')"
      ]
     },
     "execution_count": 8,
     "metadata": {},
     "output_type": "execute_result"
    }
   ],
   "source": [
    "np.random.shuffle(t) # inplace shuffle\n",
    "t"
   ]
  },
  {
   "cell_type": "code",
   "execution_count": 9,
   "metadata": {},
   "outputs": [
    {
     "data": {
      "text/plain": [
       "[array(['Spain', 'Switzerland', 'Senegal', 'Mexico'], dtype='<U12'),\n",
       " array(['England', 'Denmark', 'Japan', 'Argentina'], dtype='<U12'),\n",
       " array(['South Korea', 'Portugal', 'Brazil', 'Tunisia'], dtype='<U12'),\n",
       " array(['Australia', 'Saudi Arabia', 'Nigeria', 'Egypt'], dtype='<U12'),\n",
       " array(['Peru', 'Germany', 'Iceland', 'Iran'], dtype='<U12'),\n",
       " array(['Uruguay', 'Serbia', 'Panama', 'Costa Rica'], dtype='<U12'),\n",
       " array(['Belgium', 'France', 'Russia', 'Croatia'], dtype='<U12'),\n",
       " array(['Colombia', 'Morocco', 'Sweden', 'Poland'], dtype='<U12')]"
      ]
     },
     "execution_count": 9,
     "metadata": {},
     "output_type": "execute_result"
    }
   ],
   "source": [
    "grp=np.hsplit(t, 8) # split into 8 groups\n",
    "grp"
   ]
  },
  {
   "cell_type": "code",
   "execution_count": 10,
   "metadata": {},
   "outputs": [
    {
     "data": {
      "text/plain": [
       "array(['Spain', 'Switzerland', 'Senegal', 'Mexico'], dtype='<U12')"
      ]
     },
     "execution_count": 10,
     "metadata": {},
     "output_type": "execute_result"
    }
   ],
   "source": [
    "grp[0]"
   ]
  },
  {
   "cell_type": "code",
   "execution_count": 11,
   "metadata": {},
   "outputs": [
    {
     "data": {
      "text/plain": [
       "array(['England', 'Denmark', 'Japan', 'Argentina'], dtype='<U12')"
      ]
     },
     "execution_count": 11,
     "metadata": {},
     "output_type": "execute_result"
    }
   ],
   "source": [
    "grp[1]"
   ]
  },
  {
   "cell_type": "code",
   "execution_count": 12,
   "metadata": {},
   "outputs": [
    {
     "name": "stdout",
     "output_type": "stream",
     "text": [
      "['Spain' 'Switzerland' 'Senegal' 'Mexico']\n",
      "['England' 'Denmark' 'Japan' 'Argentina']\n",
      "['South Korea' 'Portugal' 'Brazil' 'Tunisia']\n",
      "['Australia' 'Saudi Arabia' 'Nigeria' 'Egypt']\n",
      "['Peru' 'Germany' 'Iceland' 'Iran']\n",
      "['Uruguay' 'Serbia' 'Panama' 'Costa Rica']\n",
      "['Belgium' 'France' 'Russia' 'Croatia']\n",
      "['Colombia' 'Morocco' 'Sweden' 'Poland']\n"
     ]
    }
   ],
   "source": [
    "for g in grp:\n",
    "    print(g)"
   ]
  },
  {
   "cell_type": "code",
   "execution_count": 13,
   "metadata": {},
   "outputs": [
    {
     "name": "stdout",
     "output_type": "stream",
     "text": [
      "group A: ['Spain' 'Switzerland' 'Senegal' 'Mexico']\n",
      "group B: ['England' 'Denmark' 'Japan' 'Argentina']\n",
      "group C: ['South Korea' 'Portugal' 'Brazil' 'Tunisia']\n",
      "group D: ['Australia' 'Saudi Arabia' 'Nigeria' 'Egypt']\n",
      "group E: ['Peru' 'Germany' 'Iceland' 'Iran']\n",
      "group F: ['Uruguay' 'Serbia' 'Panama' 'Costa Rica']\n",
      "group G: ['Belgium' 'France' 'Russia' 'Croatia']\n",
      "group H: ['Colombia' 'Morocco' 'Sweden' 'Poland']\n"
     ]
    }
   ],
   "source": [
    "for i, g in enumerate(grp):\n",
    "    print(f'group {chr(65+i)}: {g}') # note chr(65) = 'A'"
   ]
  },
  {
   "cell_type": "code",
   "execution_count": 14,
   "metadata": {},
   "outputs": [
    {
     "data": {
      "text/plain": [
       "array(['Japan', 'Denmark'], dtype='<U12')"
      ]
     },
     "execution_count": 14,
     "metadata": {},
     "output_type": "execute_result"
    }
   ],
   "source": [
    "np.random.choice(grp[1], size=2, replace=False) # randomly choose 2 teams from grp[1]"
   ]
  },
  {
   "cell_type": "code",
   "execution_count": 15,
   "metadata": {},
   "outputs": [
    {
     "name": "stdout",
     "output_type": "stream",
     "text": [
      "['Switzerland' 'Spain']\n",
      "['Japan' 'Argentina']\n",
      "['Tunisia' 'Brazil']\n",
      "['Saudi Arabia' 'Australia']\n",
      "['Iceland' 'Peru']\n",
      "['Uruguay' 'Serbia']\n",
      "['Croatia' 'France']\n",
      "['Morocco' 'Poland']\n"
     ]
    }
   ],
   "source": [
    "for g in grp: # choose 2 teams from each group\n",
    "    print(np.random.choice(g, size=2, replace=False))"
   ]
  },
  {
   "cell_type": "code",
   "execution_count": 16,
   "metadata": {},
   "outputs": [
    {
     "name": "stdout",
     "output_type": "stream",
     "text": [
      "group A: ['Mexico' 'Switzerland']\n",
      "group B: ['Denmark' 'Argentina']\n",
      "group C: ['Tunisia' 'South Korea']\n",
      "group D: ['Egypt' 'Australia']\n",
      "group E: ['Germany' 'Peru']\n",
      "group F: ['Serbia' 'Costa Rica']\n",
      "group G: ['Russia' 'Belgium']\n",
      "group H: ['Sweden' 'Poland']\n"
     ]
    }
   ],
   "source": [
    "for i, g in enumerate(grp):\n",
    "    print(f'group {chr(65+i)}: {np.random.choice(g, size=2, replace=False)}')"
   ]
  },
  {
   "cell_type": "code",
   "execution_count": null,
   "metadata": {},
   "outputs": [],
   "source": []
  }
 ],
 "metadata": {
  "kernelspec": {
   "display_name": "Python 3",
   "language": "python",
   "name": "python3"
  },
  "language_info": {
   "codemirror_mode": {
    "name": "ipython",
    "version": 3
   },
   "file_extension": ".py",
   "mimetype": "text/x-python",
   "name": "python",
   "nbconvert_exporter": "python",
   "pygments_lexer": "ipython3",
   "version": "3.6.5"
  }
 },
 "nbformat": 4,
 "nbformat_minor": 2
}
