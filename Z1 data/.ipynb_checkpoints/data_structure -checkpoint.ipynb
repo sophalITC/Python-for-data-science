{
 "cells": [
  {
   "cell_type": "markdown",
   "metadata": {},
   "source": [
    "***Author: Sophal Chan***  \n",
    "  \n",
    "\n",
    "### Data Structure \n",
    "1. list [ .....],(contained diferent data types), order, changable, allow duplicate value \n",
    "2. tuple (......), (contained different tada type), order, Unchange, allow duplicate valu # index (start 0) \n",
    "3. set {.....}, (contained different tada type), unorder, Unchange,unidex\n",
    "4. Dictionary in {key:value} pairs, ordered, changeable and do not allow duplicates."
   ]
  },
  {
   "cell_type": "markdown",
   "metadata": {},
   "source": [
    "#### List"
   ]
  },
  {
   "cell_type": "code",
   "execution_count": null,
   "metadata": {},
   "outputs": [],
   "source": [
    "country= ['Cambodia', \" Thailand\", \" Vieatnam\", \" Laos\", \" Malaysia\", \" Japan\"]\n",
    "print(country)"
   ]
  },
  {
   "cell_type": "code",
   "execution_count": null,
   "metadata": {},
   "outputs": [],
   "source": [
    "print(country[1:4]) # 4 not count "
   ]
  },
  {
   "cell_type": "code",
   "execution_count": null,
   "metadata": {},
   "outputs": [],
   "source": [
    "print(len(country))"
   ]
  },
  {
   "cell_type": "code",
   "execution_count": null,
   "metadata": {},
   "outputs": [],
   "source": [
    "print(country[-1]) "
   ]
  },
  {
   "cell_type": "code",
   "execution_count": null,
   "metadata": {},
   "outputs": [],
   "source": [
    "print(country[-5]) "
   ]
  },
  {
   "cell_type": "code",
   "execution_count": null,
   "metadata": {},
   "outputs": [],
   "source": [
    "print(country[3:])"
   ]
  },
  {
   "cell_type": "code",
   "execution_count": null,
   "metadata": {},
   "outputs": [],
   "source": [
    "country[1:3]=[\"French\", \" England\"]\n",
    "print(country)"
   ]
  },
  {
   "cell_type": "code",
   "execution_count": null,
   "metadata": {},
   "outputs": [],
   "source": [
    "country[4]=\"Cambodia\"\n",
    "print(country)"
   ]
  },
  {
   "cell_type": "code",
   "execution_count": null,
   "metadata": {},
   "outputs": [],
   "source": [
    "country.append(\"Russia\")\n",
    "print(country)"
   ]
  },
  {
   "cell_type": "code",
   "execution_count": null,
   "metadata": {},
   "outputs": [],
   "source": [
    "country.insert(2, \"Swiss\")\n",
    "print(country)"
   ]
  },
  {
   "cell_type": "code",
   "execution_count": null,
   "metadata": {},
   "outputs": [],
   "source": [
    "#extend concate two list (conbine 2 lists) \n",
    "fruit=[\"Mango\", \" Cherry\", \"potato\"]\n",
    "country.extend(fruit)\n",
    "print(country)"
   ]
  },
  {
   "cell_type": "code",
   "execution_count": null,
   "metadata": {},
   "outputs": [],
   "source": [
    "country[5]= \"Cambodia\"\n",
    "print(country)"
   ]
  },
  {
   "cell_type": "code",
   "execution_count": null,
   "metadata": {},
   "outputs": [],
   "source": [
    "#removed item from list: remove, pop(), del()\n",
    "country.remove(\"Mango\")\n",
    "print(country)"
   ]
  },
  {
   "cell_type": "code",
   "execution_count": null,
   "metadata": {},
   "outputs": [],
   "source": [
    "country.pop(5)#index \n",
    "print(country)"
   ]
  },
  {
   "cell_type": "code",
   "execution_count": null,
   "metadata": {},
   "outputs": [],
   "source": [
    "del country[8]\n",
    "print(country)"
   ]
  },
  {
   "cell_type": "code",
   "execution_count": null,
   "metadata": {},
   "outputs": [],
   "source": [
    "#indentation \n",
    "newlist=[]\n",
    "for x in country:\n",
    "    if \"a\" in x:\n",
    "        newlist.append(x)\n",
    "print(newlist)"
   ]
  },
  {
   "cell_type": "code",
   "execution_count": null,
   "metadata": {},
   "outputs": [],
   "source": [
    "# sort \n",
    "country.sort()\n",
    "print(country)"
   ]
  },
  {
   "cell_type": "code",
   "execution_count": null,
   "metadata": {},
   "outputs": [],
   "source": [
    "num=[45,78,1,45,67,9,3]\n",
    "print(num)\n",
    "num.sort()\n",
    "print(num)"
   ]
  },
  {
   "cell_type": "code",
   "execution_count": null,
   "metadata": {},
   "outputs": [],
   "source": [
    "adj=[\"red\",\"big\", \"tasty\"]\n",
    "fruit= [ \"Apple\", \"Banana\", \"Dorian\"]\n",
    "\n",
    "for i in adj: #red #big #tasty\n",
    "    for j in fruit:\n",
    "        print(i,j)#red Apple, red Banana, red Durian #Big Apple, big Banaana, Big Durian\n",
    "def nested_loop():\n",
    "    for i in range (2, 4):\n",
    "        for j in range(1,11):\n",
    "            print(\"    {}  x  {}      =   {} \".format(i,j,i*j))\n",
    "        print(\"_\"*30)"
   ]
  },
  {
   "cell_type": "code",
   "execution_count": null,
   "metadata": {},
   "outputs": [],
   "source": [
    "adj=[\"red\",\"big\", \"tasty\"]\n",
    "fruit= [ \"Apple\", \"Banana\", \"Dorian\"]\n",
    "\n",
    "for i in adj: #red #big #tasty\n",
    "    for j in fruit:\n",
    "        print(i,j)#red Apple, red Banana, red Durian #Big Apple, big Banaana, Big Durian\n",
    "def nested_loop():\n",
    "    for i in range (2, 4):\n",
    "        for j in range(1,11):\n",
    "            print(f\"{i}x{j:6}\")\n",
    "        print(\"_\"*30)"
   ]
  },
  {
   "cell_type": "code",
   "execution_count": null,
   "metadata": {},
   "outputs": [],
   "source": [
    "li = [3, 1, 4, 2, 5]\n",
    "li.sort()\n",
    "print (li) # [1, 2, 3, 4, 5]\n",
    " \n",
    "li = [3, 1, 4, 2, 5]\n",
    "print (sorted(li)) # [1, 2, 3, 4, 5]\n",
    "print (li) # [3, 1, 4, 2, 5]"
   ]
  },
  {
   "cell_type": "markdown",
   "metadata": {},
   "source": [
    "### Set\n",
    "set {...}, contained different data type, unorder, unchangeable, unindexing "
   ]
  },
  {
   "cell_type": "code",
   "execution_count": null,
   "metadata": {},
   "outputs": [],
   "source": [
    "book={\"Mein Kampf\",\"Think and grow rich\", \"Follow your heart\",\"7 habbit\",9}\n",
    "book"
   ]
  },
  {
   "cell_type": "code",
   "execution_count": null,
   "metadata": {},
   "outputs": [],
   "source": [
    "#loop \n",
    "for i in book:\n",
    "    print(i)"
   ]
  },
  {
   "cell_type": "code",
   "execution_count": null,
   "metadata": {},
   "outputs": [],
   "source": [
    "book.add(\"Cambodia\")\n",
    "book"
   ]
  },
  {
   "cell_type": "markdown",
   "metadata": {},
   "source": [
    "### tuple()\n",
    "tuple (...),contain differrent tatype, order, unchangeable, allow dublicated item"
   ]
  },
  {
   "cell_type": "code",
   "execution_count": null,
   "metadata": {},
   "outputs": [],
   "source": [
    "cou=(\"Cambodia\",\"Thailand\",\"Brunei\",34,67.901,\"Brunei\")\n",
    "print(cou[0])\n",
    "print(cou[2])\n",
    "print(cou[5])"
   ]
  },
  {
   "cell_type": "code",
   "execution_count": null,
   "metadata": {},
   "outputs": [],
   "source": [
    "#update tuple \n",
    "count1=list(cou)#convert from tuple to list\n",
    "count1[3]=23 #change value \n",
    "cou=tuple(count1)\n",
    "print(cou)"
   ]
  },
  {
   "cell_type": "code",
   "execution_count": null,
   "metadata": {},
   "outputs": [],
   "source": [
    "x=('Brunei', 'Cambodia', 'Japan', 'Lao')\n",
    "print(x)"
   ]
  },
  {
   "cell_type": "code",
   "execution_count": null,
   "metadata": {},
   "outputs": [],
   "source": [
    "#unpack\n",
    "(Lotus,Romdul,Sakura,Champa) = x"
   ]
  },
  {
   "cell_type": "code",
   "execution_count": null,
   "metadata": {},
   "outputs": [],
   "source": [
    "print(Lotus)"
   ]
  },
  {
   "cell_type": "code",
   "execution_count": null,
   "metadata": {},
   "outputs": [],
   "source": [
    "a=(\"y\",\"s\",\"t\")\n",
    "b=(1,5,8)\n",
    "c=a+b\n",
    "print(c)"
   ]
  },
  {
   "cell_type": "code",
   "execution_count": null,
   "metadata": {},
   "outputs": [],
   "source": [
    "x=('Brunei', 'Cambodia', 'Japan', 'Lao')\n",
    "y=x*2\n",
    "print(y)"
   ]
  },
  {
   "cell_type": "code",
   "execution_count": null,
   "metadata": {},
   "outputs": [],
   "source": [
    "d=(3,6,8)\n",
    "f=d*2\n",
    "print(f)"
   ]
  },
  {
   "cell_type": "markdown",
   "metadata": {},
   "source": [
    "### Dictionary {key:value} \n",
    "dictionary {ky:value}, order, changable , and do not allow for dublicated key "
   ]
  },
  {
   "cell_type": "code",
   "execution_count": null,
   "metadata": {},
   "outputs": [],
   "source": [
    "dict={\n",
    "    \"Hi\":\"សួរស្តី\", \n",
    "    \"Cambodia\":\"កម្ពុជា\",\n",
    "    \"Love\":\"ស្រលាញ់\",\n",
    "    \"Age\":28}"
   ]
  },
  {
   "cell_type": "code",
   "execution_count": null,
   "metadata": {},
   "outputs": [],
   "source": [
    "print(dict[\"Hi\"])"
   ]
  },
  {
   "cell_type": "code",
   "execution_count": null,
   "metadata": {},
   "outputs": [],
   "source": [
    "for x in dict: \n",
    "    print(x)"
   ]
  },
  {
   "cell_type": "code",
   "execution_count": null,
   "metadata": {},
   "outputs": [],
   "source": [
    "print(dict[\"Age\"])"
   ]
  },
  {
   "cell_type": "code",
   "execution_count": null,
   "metadata": {},
   "outputs": [],
   "source": [
    "l=dict.keys()\n",
    "print(l)"
   ]
  },
  {
   "cell_type": "code",
   "execution_count": null,
   "metadata": {},
   "outputs": [],
   "source": [
    "dict[\"Age\"]=38\n",
    "dict"
   ]
  },
  {
   "cell_type": "code",
   "execution_count": null,
   "metadata": {},
   "outputs": [],
   "source": [
    "dict.update({\"age\":48})"
   ]
  },
  {
   "cell_type": "code",
   "execution_count": null,
   "metadata": {},
   "outputs": [],
   "source": [
    "dict"
   ]
  },
  {
   "cell_type": "code",
   "execution_count": null,
   "metadata": {},
   "outputs": [],
   "source": [
    "dict[\"Job\"]=\"Data Scientist\"\n",
    "dict"
   ]
  },
  {
   "cell_type": "code",
   "execution_count": null,
   "metadata": {},
   "outputs": [],
   "source": [
    "dict.pop(\"age\")\n",
    "dict"
   ]
  },
  {
   "cell_type": "code",
   "execution_count": null,
   "metadata": {},
   "outputs": [],
   "source": [
    "score={'color':'green','point':100}\n",
    "print('You have earned '+str(score['color'])+\" color, you will get \"+str(score['point']))"
   ]
  },
  {
   "cell_type": "code",
   "execution_count": null,
   "metadata": {},
   "outputs": [],
   "source": [
    "#nested dictionaary \n",
    "#a={key: {key1:vlue1, key2:value2}}\n",
    "family={\n",
    "    \"kid1\":{\n",
    "        'name':'Dara' ,\n",
    "        'sex': 'M',\n",
    "        'year':1990\n",
    "    },\n",
    "    \"Kid2\":{\n",
    "        'name': 'Dary',\n",
    "        \"Sex\" : 'M',\n",
    "        'year':1995\n",
    "    }\n",
    "}"
   ]
  },
  {
   "cell_type": "code",
   "execution_count": null,
   "metadata": {},
   "outputs": [],
   "source": [
    "print(family[\"kid1\"])"
   ]
  },
  {
   "cell_type": "markdown",
   "metadata": {},
   "source": [
    "### Thnak you!"
   ]
  }
 ],
 "metadata": {
  "kernelspec": {
   "display_name": "Python 3 (ipykernel)",
   "language": "python",
   "name": "python3"
  },
  "language_info": {
   "codemirror_mode": {
    "name": "ipython",
    "version": 3
   },
   "file_extension": ".py",
   "mimetype": "text/x-python",
   "name": "python",
   "nbconvert_exporter": "python",
   "pygments_lexer": "ipython3",
   "version": "3.9.7"
  }
 },
 "nbformat": 4,
 "nbformat_minor": 4
}
