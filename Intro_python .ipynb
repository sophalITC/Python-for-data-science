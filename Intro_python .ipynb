{
 "cells": [
  {
   "cell_type": "code",
   "execution_count": 1,
   "id": "0cc232cc",
   "metadata": {},
   "outputs": [
    {
     "name": "stdout",
     "output_type": "stream",
     "text": [
      "Hello\n"
     ]
    }
   ],
   "source": [
    "print('Hello') "
   ]
  },
  {
   "cell_type": "code",
   "execution_count": 2,
   "id": "b3f997be",
   "metadata": {},
   "outputs": [
    {
     "data": {
      "text/plain": [
       "9"
      ]
     },
     "execution_count": 2,
     "metadata": {},
     "output_type": "execute_result"
    }
   ],
   "source": [
    "3+6"
   ]
  },
  {
   "cell_type": "code",
   "execution_count": 3,
   "id": "a3643dac",
   "metadata": {},
   "outputs": [
    {
     "name": "stdout",
     "output_type": "stream",
     "text": [
      "12 2 64\n"
     ]
    }
   ],
   "source": [
    "a=5+7\n",
    "b=8%3\n",
    "c=8**2\n",
    "print(a,b,c)"
   ]
  },
  {
   "cell_type": "markdown",
   "id": "f68aa5a9",
   "metadata": {},
   "source": [
    "## Control strucutre\n",
    "1. Sequencial \n",
    "2. Conditional \n",
    "3. Repeatition"
   ]
  },
  {
   "cell_type": "markdown",
   "id": "cdaafa88",
   "metadata": {},
   "source": [
    "### conditional Structure\n",
    "1. if\n",
    "2. if/else\n",
    "3. if/elif "
   ]
  },
  {
   "cell_type": "code",
   "execution_count": 8,
   "id": "7fb66fe7",
   "metadata": {},
   "outputs": [
    {
     "name": "stdout",
     "output_type": "stream",
     "text": [
      "48  is even number\n"
     ]
    }
   ],
   "source": [
    "a=48\n",
    "if(a%2==0):\n",
    "    print(a,\" is even number\")\n",
    "if(a%2!=0):\n",
    "    print(a,'is odd number')\n",
    "    "
   ]
  },
  {
   "cell_type": "code",
   "execution_count": 10,
   "id": "f580f5c6",
   "metadata": {},
   "outputs": [
    {
     "name": "stdout",
     "output_type": "stream",
     "text": [
      "Enter Number: 2346\n",
      "2346  is even number\n"
     ]
    }
   ],
   "source": [
    "a=int(input(\"Enter Number: \"))\n",
    "if(a%2==0):\n",
    "    print(a,\" is even number\")\n",
    "if(a%2!=0):\n",
    "    print(a,'is odd number')"
   ]
  },
  {
   "cell_type": "code",
   "execution_count": 12,
   "id": "8b4378e0",
   "metadata": {},
   "outputs": [
    {
     "name": "stdout",
     "output_type": "stream",
     "text": [
      "Enter number: 57\n",
      "57 is odd number\n"
     ]
    }
   ],
   "source": [
    "b=int(input(\"Enter number: \"))\n",
    "if(b%2==0):\n",
    "    print(b,\"is ven number \")\n",
    "else: \n",
    "    print(b,\"is odd number\")"
   ]
  },
  {
   "cell_type": "code",
   "execution_count": 14,
   "id": "e576c255",
   "metadata": {},
   "outputs": [
    {
     "name": "stdout",
     "output_type": "stream",
     "text": [
      "correct\n"
     ]
    }
   ],
   "source": [
    "if 56>23 and 45<60:\n",
    "    print(\"correct\")\n",
    "else:\n",
    "    print(\"wrong\")"
   ]
  },
  {
   "cell_type": "code",
   "execution_count": 19,
   "id": "8033da41",
   "metadata": {},
   "outputs": [
    {
     "name": "stdout",
     "output_type": "stream",
     "text": [
      "Enter score: 1\n",
      "Grade F\n"
     ]
    }
   ],
   "source": [
    "#90 ==>100 Grade A\n",
    "#80 ==>89 Grade B\n",
    "#70 ==>79 Grade C\n",
    "#60 ==>69 Grade D \n",
    "#50 ==>59 Grade E\n",
    "#0 ==> 49 Grade F\n",
    "#other incorrect score \n",
    "score=int(input(\"Enter score: \"))\n",
    "if score>=90 and score<=100: \n",
    "    print(\"Grade A\")\n",
    "elif score>=80 and score<=89:\n",
    "    print(\"Grade B\")\n",
    "elif score>=70 and score<=79:\n",
    "    print(\"Grade C\")\n",
    "elif score>=60 and score<=69:\n",
    "    print(\"Grade D\")\n",
    "elif score>=50 and score<=59:\n",
    "    print(\"Grade E\")\n",
    "elif score>=0 and score<=49:\n",
    "    print(\"Grade F\")\n",
    "else: \n",
    "    print('Incorrect score')"
   ]
  },
  {
   "cell_type": "markdown",
   "id": "e538f10c",
   "metadata": {},
   "source": [
    "### Repeatition structure \n",
    "1. for loop\n",
    "2. while loop (do/while loop) "
   ]
  },
  {
   "cell_type": "code",
   "execution_count": 26,
   "id": "55ed7fa6",
   "metadata": {},
   "outputs": [
    {
     "name": "stdout",
     "output_type": "stream",
     "text": [
      "0\n",
      "1\n",
      "2\n",
      "3\n",
      "4\n",
      "5\n",
      "6\n"
     ]
    }
   ],
   "source": [
    "for i in range(7):\n",
    "    print(i)"
   ]
  },
  {
   "cell_type": "code",
   "execution_count": 27,
   "id": "f8865739",
   "metadata": {},
   "outputs": [
    {
     "name": "stdout",
     "output_type": "stream",
     "text": [
      "3\n",
      "4\n",
      "5\n",
      "6\n",
      "7\n"
     ]
    }
   ],
   "source": [
    "for i in range(3,8):\n",
    "    print(i)"
   ]
  },
  {
   "cell_type": "code",
   "execution_count": 28,
   "id": "0909ffc6",
   "metadata": {},
   "outputs": [
    {
     "name": "stdout",
     "output_type": "stream",
     "text": [
      "3\n",
      "5\n",
      "7\n",
      "9\n"
     ]
    }
   ],
   "source": [
    "for i in range (3,10,2):\n",
    "    print(i)"
   ]
  },
  {
   "cell_type": "code",
   "execution_count": 29,
   "id": "0cdf1b5b",
   "metadata": {},
   "outputs": [
    {
     "name": "stdout",
     "output_type": "stream",
     "text": [
      "0 is even number\n",
      "1 is odd number\n",
      "2 is even number\n",
      "3 is odd number\n",
      "4 is even number\n",
      "5 is odd number\n",
      "6 is even number\n",
      "7 is odd number\n",
      "8 is even number\n"
     ]
    }
   ],
   "source": [
    "for i in range (0,9):\n",
    "    if i%2==0:\n",
    "        print(i,'is even number')\n",
    "    else: \n",
    "        print(i,'is odd number')"
   ]
  },
  {
   "cell_type": "code",
   "execution_count": 32,
   "id": "e9317350",
   "metadata": {},
   "outputs": [
    {
     "name": "stdout",
     "output_type": "stream",
     "text": [
      "100 102 104 106 108 110 112 114 116 118 120 122 124 126 128 130 132 134 136 138 140 142 144 146 148 150 152 154 156 158 160 162 164 166 168 170 172 174 176 178 180 182 184 186 188 190 192 194 196 198 200 202 204 206 208 210 212 214 216 218 220 222 224 226 228 230 232 234 236 238 240 242 244 246 248 250 252 254 256 258 260 262 264 266 268 270 272 274 276 278 280 282 284 286 288 290 292 294 296 298 300 302 304 306 308 310 312 314 316 318 320 322 324 326 328 330 332 334 336 338 340 342 344 346 348 350 352 354 356 358 360 362 364 366 368 370 372 374 376 378 380 382 384 386 388 390 392 394 396 398 400 402 404 406 408 410 412 414 416 418 420 422 424 426 428 430 432 434 436 438 440 442 444 446 448 450 452 454 456 458 460 462 464 466 468 470 472 474 476 478 480 482 484 486 488 490 492 494 496 498 500 "
     ]
    }
   ],
   "source": [
    "#display even number from 100 to 1000 \n",
    "for i in range(100,501):\n",
    "    if i%2==0:\n",
    "        print(i, end=' ')"
   ]
  },
  {
   "cell_type": "code",
   "execution_count": 34,
   "id": "00272c35",
   "metadata": {},
   "outputs": [
    {
     "name": "stdout",
     "output_type": "stream",
     "text": [
      "105\n",
      "210\n",
      "315\n",
      "420\n"
     ]
    }
   ],
   "source": [
    "for i in range (100,501):\n",
    "    if i%3==0 and i%5==0 and i%7==0:\n",
    "        print(i)"
   ]
  },
  {
   "cell_type": "code",
   "execution_count": 35,
   "id": "9233773e",
   "metadata": {},
   "outputs": [
    {
     "data": {
      "text/plain": [
       "-98.0"
      ]
     },
     "execution_count": 35,
     "metadata": {},
     "output_type": "execute_result"
    }
   ],
   "source": [
    "6+4*3/2-6*31+76"
   ]
  },
  {
   "cell_type": "code",
   "execution_count": 40,
   "id": "ad41cfdc",
   "metadata": {},
   "outputs": [
    {
     "name": "stdout",
     "output_type": "stream",
     "text": [
      "1 2 3 4 5 6 7 8 9 10 11 "
     ]
    }
   ],
   "source": [
    "for i in range (1,101):\n",
    "    print(i,end=' ')\n",
    "    if (i ==11):\n",
    "        break;"
   ]
  },
  {
   "cell_type": "code",
   "execution_count": 45,
   "id": "21862e17",
   "metadata": {},
   "outputs": [
    {
     "name": "stdout",
     "output_type": "stream",
     "text": [
      "1 2 3 4 5 6 7 8 9 11 12 13 14 15 16 17 18 19 21 22 23 24 25 26 27 28 29 30 31 32 33 34 35 36 37 38 39 40 41 42 43 44 45 46 47 48 49 50 51 52 53 54 55 56 57 58 59 60 61 62 63 64 65 66 67 68 69 70 71 72 73 74 75 76 77 78 79 80 81 82 83 84 85 86 87 88 89 90 91 92 93 94 95 96 97 98 99 100 "
     ]
    }
   ],
   "source": [
    "for i in range (1,101):\n",
    "    if (i ==10 or i ==20):\n",
    "        continue\n",
    "    print(i,end=' ')"
   ]
  },
  {
   "cell_type": "code",
   "execution_count": null,
   "id": "8385f1a8",
   "metadata": {},
   "outputs": [],
   "source": []
  }
 ],
 "metadata": {
  "kernelspec": {
   "display_name": "Python 3 (ipykernel)",
   "language": "python",
   "name": "python3"
  },
  "language_info": {
   "codemirror_mode": {
    "name": "ipython",
    "version": 3
   },
   "file_extension": ".py",
   "mimetype": "text/x-python",
   "name": "python",
   "nbconvert_exporter": "python",
   "pygments_lexer": "ipython3",
   "version": "3.9.7"
  }
 },
 "nbformat": 4,
 "nbformat_minor": 5
}
